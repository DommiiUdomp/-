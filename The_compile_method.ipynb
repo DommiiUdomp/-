{
  "nbformat": 4,
  "nbformat_minor": 0,
  "metadata": {
    "colab": {
      "name": "The compile method.ipynb",
      "provenance": [],
      "authorship_tag": "ABX9TyMlJKCRmRp0abWi4f98toKu",
      "include_colab_link": true
    },
    "kernelspec": {
      "name": "python3",
      "display_name": "Python 3"
    },
    "language_info": {
      "name": "python"
    }
  },
  "cells": [
    {
      "cell_type": "markdown",
      "metadata": {
        "id": "view-in-github",
        "colab_type": "text"
      },
      "source": [
        "<a href=\"https://colab.research.google.com/github/DommiiUdomp/-/blob/main/The_compile_method.ipynb\" target=\"_parent\"><img src=\"https://colab.research.google.com/assets/colab-badge.svg\" alt=\"Open In Colab\"/></a>"
      ]
    },
    {
      "cell_type": "markdown",
      "metadata": {
        "id": "0Md3z-9t6H3W"
      },
      "source": [
        "# **Complie the model**"
      ]
    },
    {
      "cell_type": "code",
      "metadata": {
        "id": "rhqIx1Bf6Upo"
      },
      "source": [
        "import tensorflow as tf\n",
        "from tensorflow.keras.models import Sequential\n",
        "from tensorflow.keras.layers import Dense"
      ],
      "execution_count": null,
      "outputs": []
    },
    {
      "cell_type": "code",
      "metadata": {
        "id": "4o_RIcGO_nlb"
      },
      "source": [
        "model = Sequential ( [ \n",
        "                      Dense (64 , activation = 'elu' , input_shape = (32, )), \n",
        "                      Dense (1 , activation = 'sigmoid')\n",
        "])"
      ],
      "execution_count": null,
      "outputs": []
    },
    {
      "cell_type": "code",
      "metadata": {
        "colab": {
          "base_uri": "https://localhost:8080/"
        },
        "id": "iY1Kvmsu_-Bs",
        "outputId": "d83d10e8-def6-48d6-fd5d-ca6240003c73"
      },
      "source": [
        "model.summary()"
      ],
      "execution_count": null,
      "outputs": [
        {
          "output_type": "stream",
          "name": "stdout",
          "text": [
            "Model: \"sequential\"\n",
            "_________________________________________________________________\n",
            "Layer (type)                 Output Shape              Param #   \n",
            "=================================================================\n",
            "dense (Dense)                (None, 64)                2112      \n",
            "_________________________________________________________________\n",
            "dense_1 (Dense)              (None, 1)                 65        \n",
            "=================================================================\n",
            "Total params: 2,177\n",
            "Trainable params: 2,177\n",
            "Non-trainable params: 0\n",
            "_________________________________________________________________\n"
          ]
        }
      ]
    },
    {
      "cell_type": "code",
      "metadata": {
        "colab": {
          "base_uri": "https://localhost:8080/"
        },
        "id": "1dP0cWv8AAaM",
        "outputId": "a30049db-2d0c-4fe6-af73-d55ca2c250eb"
      },
      "source": [
        "model.compile (\n",
        "    optimizer = 'sgd' , \n",
        "    loss = 'binary_crossentropy' , \n",
        "    metrics = ['accuracy' , 'mae']\n",
        ")\n",
        "\n",
        "print (model.loss)\n",
        "print (model.optimizer)\n",
        "print (model.metrics)"
      ],
      "execution_count": null,
      "outputs": [
        {
          "output_type": "stream",
          "name": "stdout",
          "text": [
            "binary_crossentropy\n",
            "<keras.optimizer_v2.gradient_descent.SGD object at 0x7f9b6343dd90>\n",
            "[]\n"
          ]
        }
      ]
    },
    {
      "cell_type": "code",
      "metadata": {
        "colab": {
          "base_uri": "https://localhost:8080/"
        },
        "id": "NgbBfctnAwmg",
        "outputId": "a65a572d-9d8a-46a4-afbf-58196ef6b167"
      },
      "source": [
        "# or\n",
        "\n",
        "model2 = Sequential ( [ \n",
        "                       Dense (64, activation = 'elu' , input_shape = (32, )) , \n",
        "                       Dense (1 , activation = 'linear')\n",
        "])\n",
        "\n",
        "model2.compile (\n",
        "    optimizer = (tf.keras.optimizers.SGD (learning_rate= 0.001 , momentum = 0.9 , nesterov= True)) ,\n",
        "    loss = (tf.keras.losses.BinaryCrossentropy (from_logits=True) ) ,\n",
        "    metrics = [tf.keras.metrics.BinaryAccuracy (threshold= 0.7), tf.keras.metrics.MeanAbsoluteError()]\n",
        ")\n",
        "\n",
        "print (model2.optimizer)\n",
        "print (model2.loss)\n",
        "print (model2.metrics)"
      ],
      "execution_count": null,
      "outputs": [
        {
          "output_type": "stream",
          "name": "stdout",
          "text": [
            "<keras.optimizer_v2.gradient_descent.SGD object at 0x7f9b6366dd10>\n",
            "<keras.losses.BinaryCrossentropy object at 0x7f9b633a0610>\n",
            "[]\n"
          ]
        }
      ]
    },
    {
      "cell_type": "code",
      "metadata": {
        "colab": {
          "base_uri": "https://localhost:8080/"
        },
        "id": "u5gMNHOdCUxA",
        "outputId": "b1215eb2-4948-4381-ef2e-653771b013a3"
      },
      "source": [
        "print (model2.optimizer.lr)"
      ],
      "execution_count": null,
      "outputs": [
        {
          "output_type": "stream",
          "name": "stdout",
          "text": [
            "<tf.Variable 'learning_rate:0' shape=() dtype=float32, numpy=0.001>\n"
          ]
        }
      ]
    },
    {
      "cell_type": "code",
      "metadata": {
        "id": "oWQiOECoDYHD"
      },
      "source": [
        ""
      ],
      "execution_count": null,
      "outputs": []
    },
    {
      "cell_type": "code",
      "metadata": {
        "id": "wRb6ag-LAnWX"
      },
      "source": [
        ""
      ],
      "execution_count": null,
      "outputs": []
    }
  ]
}