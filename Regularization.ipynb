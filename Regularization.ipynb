{
  "nbformat": 4,
  "nbformat_minor": 0,
  "metadata": {
    "colab": {
      "name": "Regularization.ipynb",
      "provenance": [],
      "authorship_tag": "ABX9TyMOb1CZqDNMRS7JV3HMNb7B",
      "include_colab_link": true
    },
    "kernelspec": {
      "name": "python3",
      "display_name": "Python 3"
    },
    "language_info": {
      "name": "python"
    }
  },
  "cells": [
    {
      "cell_type": "markdown",
      "metadata": {
        "id": "view-in-github",
        "colab_type": "text"
      },
      "source": [
        "<a href=\"https://colab.research.google.com/github/DommiiUdomp/-/blob/main/Regularization.ipynb\" target=\"_parent\"><img src=\"https://colab.research.google.com/assets/colab-badge.svg\" alt=\"Open In Colab\"/></a>"
      ]
    },
    {
      "cell_type": "markdown",
      "metadata": {
        "id": "-j-20s5DhoS0"
      },
      "source": [
        "# Regularization (L1,L2 weight regularization)"
      ]
    },
    {
      "cell_type": "code",
      "metadata": {
        "id": "dTLxwSkqhxF2"
      },
      "source": [
        "#Load the data set\n",
        "import tensorflow as tf\n",
        "from sklearn.datasets import load_diabetes\n"
      ],
      "execution_count": 2,
      "outputs": []
    },
    {
      "cell_type": "code",
      "metadata": {
        "colab": {
          "base_uri": "https://localhost:8080/"
        },
        "id": "MEDayrTkjfOv",
        "outputId": "f4b6925f-ea3b-4267-b3f5-635280425272"
      },
      "source": [
        "data_diabets = load_diabetes()\n",
        "print(data_diabets.DESCR)"
      ],
      "execution_count": 3,
      "outputs": [
        {
          "output_type": "stream",
          "name": "stdout",
          "text": [
            ".. _diabetes_dataset:\n",
            "\n",
            "Diabetes dataset\n",
            "----------------\n",
            "\n",
            "Ten baseline variables, age, sex, body mass index, average blood\n",
            "pressure, and six blood serum measurements were obtained for each of n =\n",
            "442 diabetes patients, as well as the response of interest, a\n",
            "quantitative measure of disease progression one year after baseline.\n",
            "\n",
            "**Data Set Characteristics:**\n",
            "\n",
            "  :Number of Instances: 442\n",
            "\n",
            "  :Number of Attributes: First 10 columns are numeric predictive values\n",
            "\n",
            "  :Target: Column 11 is a quantitative measure of disease progression one year after baseline\n",
            "\n",
            "  :Attribute Information:\n",
            "      - Age\n",
            "      - Sex\n",
            "      - Body mass index\n",
            "      - Average blood pressure\n",
            "      - S1\n",
            "      - S2\n",
            "      - S3\n",
            "      - S4\n",
            "      - S5\n",
            "      - S6\n",
            "\n",
            "Note: Each of these 10 feature variables have been mean centered and scaled by the standard deviation times `n_samples` (i.e. the sum of squares of each column totals 1).\n",
            "\n",
            "Source URL:\n",
            "https://www4.stat.ncsu.edu/~boos/var.select/diabetes.html\n",
            "\n",
            "For more information see:\n",
            "Bradley Efron, Trevor Hastie, Iain Johnstone and Robert Tibshirani (2004) \"Least Angle Regression,\" Annals of Statistics (with discussion), 407-499.\n",
            "(https://web.stanford.edu/~hastie/Papers/LARS/LeastAngle_2002.pdf)\n"
          ]
        }
      ]
    },
    {
      "cell_type": "code",
      "metadata": {
        "colab": {
          "base_uri": "https://localhost:8080/"
        },
        "id": "NRIVJkkqjVrw",
        "outputId": "c8b8c0bc-dda5-42b9-e0e4-c2307cbe0f36"
      },
      "source": [
        "data_diabets.keys()"
      ],
      "execution_count": 4,
      "outputs": [
        {
          "output_type": "execute_result",
          "data": {
            "text/plain": [
              "dict_keys(['data', 'target', 'DESCR', 'feature_names', 'data_filename', 'target_filename'])"
            ]
          },
          "metadata": {},
          "execution_count": 4
        }
      ]
    },
    {
      "cell_type": "code",
      "metadata": {
        "id": "jTARS_nmhnrw"
      },
      "source": [
        "#save input and target variables\n",
        "data = data_diabets['data']\n",
        "target = data_diabets['target']"
      ],
      "execution_count": 5,
      "outputs": []
    },
    {
      "cell_type": "code",
      "metadata": {
        "id": "q7JlZjaRkBbP"
      },
      "source": [
        "#nomalize the target\n",
        "\n",
        "target_normalize = (target - target.mean(axis = 0)) / target.std()"
      ],
      "execution_count": 80,
      "outputs": []
    },
    {
      "cell_type": "code",
      "metadata": {
        "id": "TMhZr2FVkgv_"
      },
      "source": [
        "#slite train and test data\n",
        "from sklearn.model_selection import train_test_split\n",
        "\n",
        "train_data, test_data, train_target, test_target = train_test_split(data, target_normalize, test_size = 0.1)"
      ],
      "execution_count": 81,
      "outputs": []
    },
    {
      "cell_type": "code",
      "metadata": {
        "colab": {
          "base_uri": "https://localhost:8080/"
        },
        "id": "x7g392allpTv",
        "outputId": "3a6db82c-0a6f-43bb-8e6a-e60a98a43651"
      },
      "source": [
        "print (train_data.shape , test_data.shape , train_target.shape , test_target.shape)\n"
      ],
      "execution_count": 82,
      "outputs": [
        {
          "output_type": "stream",
          "name": "stdout",
          "text": [
            "(397, 10) (45, 10) (397,) (45,)\n"
          ]
        }
      ]
    },
    {
      "cell_type": "code",
      "metadata": {
        "id": "GTt02MR4lBIE"
      },
      "source": [
        "#Build the model \n",
        "from tensorflow.keras.models import Sequential\n",
        "from tensorflow.keras.layers import Dense, Dropout\n",
        "from tensorflow.keras import regularizers\n",
        "\n",
        "def get_regularization_model(wight_d,rate) :\n",
        "  regularization_model = Sequential ( [\n",
        "                                       Dense (128, activation = 'relu' , kernel_regularizer = regularizers.l2(wight_d), input_shape = (train_data.shape[1], )),\n",
        "                                       Dropout (rate),\n",
        "                                       Dense (128, activation = 'relu' , kernel_regularizer = regularizers.l2(wight_d)) ,\n",
        "                                       Dropout (rate),\n",
        "                                       Dense (128, activation = 'relu' , kernel_regularizer = regularizers.l2(wight_d)) ,\n",
        "                                       Dropout (rate),\n",
        "                                       Dense (128, activation = 'relu' , kernel_regularizer = regularizers.l2(wight_d)) ,\n",
        "                                       Dropout (rate),\n",
        "                                       Dense (128, activation = 'relu' , kernel_regularizer = regularizers.l2(wight_d)) ,\n",
        "                                       Dropout (rate),\n",
        "                                       Dense (128, activation = 'relu' , kernel_regularizer = regularizers.l2(wight_d)) ,\n",
        "                                       Dropout (rate),\n",
        "                                       Dense (1) ,\n",
        "  ])\n",
        "  return regularization_model\n",
        "\n"
      ],
      "execution_count": 83,
      "outputs": []
    },
    {
      "cell_type": "code",
      "metadata": {
        "colab": {
          "base_uri": "https://localhost:8080/"
        },
        "id": "3VE0C9PO1JKk",
        "outputId": "cbfc65c0-a12d-4593-da1f-073d0b08b4fb"
      },
      "source": [
        "input_shape = (train_data.shape[1], )\n",
        "input_shape"
      ],
      "execution_count": 84,
      "outputs": [
        {
          "output_type": "execute_result",
          "data": {
            "text/plain": [
              "(10,)"
            ]
          },
          "metadata": {},
          "execution_count": 84
        }
      ]
    },
    {
      "cell_type": "code",
      "metadata": {
        "id": "Zgs2QpoBohDe"
      },
      "source": [
        "#ReBuild\n",
        "\n",
        "regularization_model = get_regularization_model(0.00001,0.5)\n"
      ],
      "execution_count": 85,
      "outputs": []
    },
    {
      "cell_type": "code",
      "metadata": {
        "colab": {
          "base_uri": "https://localhost:8080/"
        },
        "id": "umM1yw9gsLhB",
        "outputId": "ff04e119-3c0e-440b-8c1f-0fb206c72507"
      },
      "source": [
        "regularization_model.summary()"
      ],
      "execution_count": 86,
      "outputs": [
        {
          "output_type": "stream",
          "name": "stdout",
          "text": [
            "Model: \"sequential_11\"\n",
            "_________________________________________________________________\n",
            "Layer (type)                 Output Shape              Param #   \n",
            "=================================================================\n",
            "dense_77 (Dense)             (None, 128)               1408      \n",
            "_________________________________________________________________\n",
            "dropout_66 (Dropout)         (None, 128)               0         \n",
            "_________________________________________________________________\n",
            "dense_78 (Dense)             (None, 128)               16512     \n",
            "_________________________________________________________________\n",
            "dropout_67 (Dropout)         (None, 128)               0         \n",
            "_________________________________________________________________\n",
            "dense_79 (Dense)             (None, 128)               16512     \n",
            "_________________________________________________________________\n",
            "dropout_68 (Dropout)         (None, 128)               0         \n",
            "_________________________________________________________________\n",
            "dense_80 (Dense)             (None, 128)               16512     \n",
            "_________________________________________________________________\n",
            "dropout_69 (Dropout)         (None, 128)               0         \n",
            "_________________________________________________________________\n",
            "dense_81 (Dense)             (None, 128)               16512     \n",
            "_________________________________________________________________\n",
            "dropout_70 (Dropout)         (None, 128)               0         \n",
            "_________________________________________________________________\n",
            "dense_82 (Dense)             (None, 128)               16512     \n",
            "_________________________________________________________________\n",
            "dropout_71 (Dropout)         (None, 128)               0         \n",
            "_________________________________________________________________\n",
            "dense_83 (Dense)             (None, 1)                 129       \n",
            "=================================================================\n",
            "Total params: 84,097\n",
            "Trainable params: 84,097\n",
            "Non-trainable params: 0\n",
            "_________________________________________________________________\n"
          ]
        }
      ]
    },
    {
      "cell_type": "code",
      "metadata": {
        "id": "lNUQIbk0qWn7"
      },
      "source": [
        "#compile\n",
        "\n",
        "regularization_model.compile (optimizer='adam' , loss= 'mse' , metrics= ['mae'])"
      ],
      "execution_count": 87,
      "outputs": []
    },
    {
      "cell_type": "code",
      "metadata": {
        "id": "AdKs3QF2rOXl"
      },
      "source": [
        "#train with fit and save to history\n",
        "\n",
        "history_reg = regularization_model.fit (train_data, train_target, validation_split=0.15, epochs=100 , batch_size=64, verbose=False)\n"
      ],
      "execution_count": 88,
      "outputs": []
    },
    {
      "cell_type": "code",
      "metadata": {
        "colab": {
          "base_uri": "https://localhost:8080/"
        },
        "id": "sXordrrBruo0",
        "outputId": "03c8c2e9-93fd-4669-9c6d-fbb65fcea574"
      },
      "source": [
        "#evaluate\n",
        "\n",
        "regularization_model.evaluate(test_data, test_target, verbose=2)"
      ],
      "execution_count": 89,
      "outputs": [
        {
          "output_type": "stream",
          "name": "stdout",
          "text": [
            "2/2 - 0s - loss: 0.4949 - mae: 0.6093\n"
          ]
        },
        {
          "output_type": "execute_result",
          "data": {
            "text/plain": [
              "[0.49491772055625916, 0.6093077659606934]"
            ]
          },
          "metadata": {},
          "execution_count": 89
        }
      ]
    },
    {
      "cell_type": "code",
      "metadata": {
        "colab": {
          "base_uri": "https://localhost:8080/",
          "height": 350
        },
        "id": "uQAozvkCr6uX",
        "outputId": "6585554d-3bf3-4248-a51e-7b5a8cd21d51"
      },
      "source": [
        "#plot\n",
        "\n",
        "import matplotlib.pyplot as plt\n",
        "\n",
        "plt.figure(figsize=(10,5))\n",
        "\n",
        "plt.plot (history_reg.history['loss'])\n",
        "plt.plot (history_reg.history['val_loss'])\n",
        "plt.title('Loss vs Epochs')\n",
        "plt.ylabel('Loss')\n",
        "plt.xlabel('Epoch')\n",
        "plt.legend(['Training' , 'Validation'], loc ='center right')\n",
        "plt.show()"
      ],
      "execution_count": 91,
      "outputs": [
        {
          "output_type": "display_data",
          "data": {
            "image/png": "[encoded data removed]",
            "text/plain": [
              "<Figure size 720x360 with 1 Axes>"
            ]
          },
          "metadata": {
            "needs_background": "light"
          }
        }
      ]
    },
    {
      "cell_type": "code",
      "metadata": {
        "id": "3bjhB8Iu29wU"
      },
      "source": [
        ""
      ],
      "execution_count": null,
      "outputs": []
    },
    {
      "cell_type": "markdown",
      "metadata": {
        "id": "cilD0bOJ3Fvr"
      },
      "source": [
        "# Try again "
      ]
    },
    {
      "cell_type": "code",
      "metadata": {
        "colab": {
          "base_uri": "https://localhost:8080/"
        },
        "id": "YpDKoLsK3IEc",
        "outputId": "fcb1f5da-eb47-4414-8a43-10650d6e8fbb"
      },
      "source": [
        "def get_regularization_model_1(wight_d_1,wight_d_2, rate_1) :\n",
        "  regularization_model_1 = Sequential ( [ \n",
        "                                         Dense (128, activation = 'relu' , kernel_regularizer = tf.keras.regularizers.l2(wight_d_1), \n",
        "                                                bias_regularizer = tf.keras.regularizers.l2(wight_d_2) ,\n",
        "                                                input_shape = (train_data.shape[1], ) ),\n",
        "                                         Dropout (rate_1) ,\n",
        "                                         Dense (128, activation = 'relu' , \n",
        "                                                kernel_regularizer = tf.keras.regularizers.l2(wight_d_1), \n",
        "                                                bias_regularizer = tf.keras.regularizers.l2(wight_d_2) ) ,\n",
        "                                         Dropout (rate_1) ,\n",
        "                                         Dense (128, activation = 'relu' , \n",
        "                                                kernel_regularizer = tf.keras.regularizers.l2(wight_d_1), \n",
        "                                                bias_regularizer = tf.keras.regularizers.l2(wight_d_2) ) ,\n",
        "                                         Dropout (rate_1) ,\n",
        "                                         Dense (128, activation = 'relu' , \n",
        "                                                kernel_regularizer = tf.keras.regularizers.l2(wight_d_1), \n",
        "                                                bias_regularizer = tf.keras.regularizers.l2(wight_d_2) ) ,\n",
        "                                         Dropout (rate_1) ,\n",
        "                                         Dense (128, activation = 'relu' , \n",
        "                                                kernel_regularizer = tf.keras.regularizers.l2(wight_d_1), \n",
        "                                                bias_regularizer = tf.keras.regularizers.l2(wight_d_2) ) ,\n",
        "                                         Dropout (rate_1) ,\n",
        "                                         Dense (128, activation = 'relu' , \n",
        "                                                kernel_regularizer = tf.keras.regularizers.l2(wight_d_1), \n",
        "                                                bias_regularizer = tf.keras.regularizers.l2(wight_d_2) ) ,\n",
        "                                         Dropout (rate_1) ,\n",
        "                                         Dense (1, activation = 'sigmoid' , name = 'output') \n",
        "  ])\n",
        "  return regularization_model_1\n",
        "\n",
        "regularization_model_1 = get_regularization_model_1(0.00001,0.005, 0.5)\n",
        "print (regularization_model_1.summary())"
      ],
      "execution_count": 94,
      "outputs": [
        {
          "output_type": "stream",
          "name": "stdout",
          "text": [
            "Model: \"sequential_12\"\n",
            "_________________________________________________________________\n",
            "Layer (type)                 Output Shape              Param #   \n",
            "=================================================================\n",
            "dense_84 (Dense)             (None, 128)               1408      \n",
            "_________________________________________________________________\n",
            "dropout_72 (Dropout)         (None, 128)               0         \n",
            "_________________________________________________________________\n",
            "dense_85 (Dense)             (None, 128)               16512     \n",
            "_________________________________________________________________\n",
            "dropout_73 (Dropout)         (None, 128)               0         \n",
            "_________________________________________________________________\n",
            "dense_86 (Dense)             (None, 128)               16512     \n",
            "_________________________________________________________________\n",
            "dropout_74 (Dropout)         (None, 128)               0         \n",
            "_________________________________________________________________\n",
            "dense_87 (Dense)             (None, 128)               16512     \n",
            "_________________________________________________________________\n",
            "dropout_75 (Dropout)         (None, 128)               0         \n",
            "_________________________________________________________________\n",
            "dense_88 (Dense)             (None, 128)               16512     \n",
            "_________________________________________________________________\n",
            "dropout_76 (Dropout)         (None, 128)               0         \n",
            "_________________________________________________________________\n",
            "dense_89 (Dense)             (None, 128)               16512     \n",
            "_________________________________________________________________\n",
            "dropout_77 (Dropout)         (None, 128)               0         \n",
            "_________________________________________________________________\n",
            "output (Dense)               (None, 1)                 129       \n",
            "=================================================================\n",
            "Total params: 84,097\n",
            "Trainable params: 84,097\n",
            "Non-trainable params: 0\n",
            "_________________________________________________________________\n",
            "None\n"
          ]
        }
      ]
    },
    {
      "cell_type": "code",
      "metadata": {
        "id": "OsbeAdLh5e0a"
      },
      "source": [
        "#compile\n",
        "regularization_model_1.compile ( optimizer='adam' , loss = 'mse' , metrics =['mae'])\n",
        "#train and save\n",
        "history_reg_1 = regularization_model_1.fit (train_data, train_target, validation_split=0.15, epochs=100, batch_size=64, verbose=False)"
      ],
      "execution_count": 95,
      "outputs": []
    },
    {
      "cell_type": "code",
      "metadata": {
        "colab": {
          "base_uri": "https://localhost:8080/"
        },
        "id": "ZFvRh_jT7tJp",
        "outputId": "2dc1ade9-e401-4ff3-dc8a-7de6505bd0c1"
      },
      "source": [
        "#evaluate\n",
        "regularization_model_1.evaluate (test_data, test_target, verbose=2)"
      ],
      "execution_count": 96,
      "outputs": [
        {
          "output_type": "stream",
          "name": "stdout",
          "text": [
            "2/2 - 0s - loss: 0.8104 - mae: 0.8113\n"
          ]
        },
        {
          "output_type": "execute_result",
          "data": {
            "text/plain": [
              "[0.8103625178337097, 0.8113487958908081]"
            ]
          },
          "metadata": {},
          "execution_count": 96
        }
      ]
    },
    {
      "cell_type": "code",
      "metadata": {
        "colab": {
          "base_uri": "https://localhost:8080/",
          "height": 350
        },
        "id": "BWTXKavY7h48",
        "outputId": "8a8dc62d-4c4f-4fdd-8705-569bef20274b"
      },
      "source": [
        "#plot\n",
        "\n",
        "plt.figure(figsize=(10,5))\n",
        "\n",
        "plt.plot (history_reg_1.history['loss'])\n",
        "plt.plot (history_reg_1.history['val_loss'])\n",
        "plt.title('Loss vs Epochs')\n",
        "plt.ylabel('Loss')\n",
        "plt.xlabel('Epoch')\n",
        "plt.legend(['Training' , 'Validation'], loc ='center right')\n",
        "plt.show()"
      ],
      "execution_count": 97,
      "outputs": [
        {
          "output_type": "display_data",
          "data": {
            "image/png": "[encoded data removed]",
            "text/plain": [
              "<Figure size 720x360 with 1 Axes>"
            ]
          },
          "metadata": {
            "needs_background": "light"
          }
        }
      ]
    }
  ]
}