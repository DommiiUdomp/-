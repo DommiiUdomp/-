{
  "nbformat": 4,
  "nbformat_minor": 0,
  "metadata": {
    "colab": {
      "name": "FitMethod.ipynb",
      "provenance": [],
      "authorship_tag": "ABX9TyNL0VwXbTkKSm1NDjB8Tnid",
      "include_colab_link": true
    },
    "kernelspec": {
      "name": "python3",
      "display_name": "Python 3"
    },
    "language_info": {
      "name": "python"
    }
  },
  "cells": [
    {
      "cell_type": "markdown",
      "metadata": {
        "id": "view-in-github",
        "colab_type": "text"
      },
      "source": [
        "<a href=\"https://colab.research.google.com/github/DommiiUdomp/-/blob/main/FitMethod.ipynb\" target=\"_parent\"><img src=\"https://colab.research.google.com/assets/colab-badge.svg\" alt=\"Open In Colab\"/></a>"
      ]
    },
    {
      "cell_type": "markdown",
      "metadata": {
        "id": "aKnBGvaWaNyW"
      },
      "source": [
        "# **The fit Model**"
      ]
    },
    {
      "cell_type": "code",
      "metadata": {
        "id": "_EruEf7ZVFXz"
      },
      "source": [
        "import tensorflow as tf\n",
        "from tensorflow.keras.preprocessing import image"
      ],
      "execution_count": 3,
      "outputs": []
    },
    {
      "cell_type": "code",
      "metadata": {
        "colab": {
          "base_uri": "https://localhost:8080/"
        },
        "id": "svhFXaIzaTZA",
        "outputId": "d8ce10f4-68e5-4b03-eb05-829dd9a19fba"
      },
      "source": [
        "# Load the Fashion-MNIST dataset\n",
        "\n",
        "data = tf.keras.datasets.fashion_mnist\n",
        "(train_images, train_labels) , (test_images , test_labels) = data.load_data()"
      ],
      "execution_count": 7,
      "outputs": [
        {
          "output_type": "stream",
          "name": "stdout",
          "text": [
            "Downloading data from https://storage.googleapis.com/tensorflow/tf-keras-datasets/train-labels-idx1-ubyte.gz\n",
            "32768/29515 [=================================] - 0s 0us/step\n",
            "40960/29515 [=========================================] - 0s 0us/step\n",
            "Downloading data from https://storage.googleapis.com/tensorflow/tf-keras-datasets/train-images-idx3-ubyte.gz\n",
            "26427392/26421880 [==============================] - 0s 0us/step\n",
            "26435584/26421880 [==============================] - 0s 0us/step\n",
            "Downloading data from https://storage.googleapis.com/tensorflow/tf-keras-datasets/t10k-labels-idx1-ubyte.gz\n",
            "16384/5148 [===============================================================================================] - 0s 0us/step\n",
            "Downloading data from https://storage.googleapis.com/tensorflow/tf-keras-datasets/t10k-images-idx3-ubyte.gz\n",
            "4423680/4422102 [==============================] - 0s 0us/step\n",
            "4431872/4422102 [==============================] - 0s 0us/step\n"
          ]
        }
      ]
    },
    {
      "cell_type": "code",
      "metadata": {
        "colab": {
          "base_uri": "https://localhost:8080/"
        },
        "id": "gdoh4sPJbi8n",
        "outputId": "69a477f7-7402-4bbe-dbf1-5b0fa77cb642"
      },
      "source": [
        "train_images.shape"
      ],
      "execution_count": 9,
      "outputs": [
        {
          "output_type": "execute_result",
          "data": {
            "text/plain": [
              "(60000, 28, 28)"
            ]
          },
          "metadata": {},
          "execution_count": 9
        }
      ]
    },
    {
      "cell_type": "code",
      "metadata": {
        "id": "lfbPVc14cCG1"
      },
      "source": [
        "#defind the labels\n",
        "\n",
        "labels = [\n",
        "    'T-shirt/top',\n",
        "    'Trouser',\n",
        "    'Pullover',\n",
        "    'Dress',\n",
        "    'Coat',\n",
        "    'Sandal',\n",
        "    'Shirt',\n",
        "    'Sneaker',\n",
        "    'Bag',\n",
        "    'Ankle boot'\n",
        "]"
      ],
      "execution_count": 10,
      "outputs": []
    },
    {
      "cell_type": "code",
      "metadata": {
        "colab": {
          "base_uri": "https://localhost:8080/"
        },
        "id": "aYWq7EMLcThP",
        "outputId": "097bc511-2d42-44ce-9fa8-8369fd9d74e0"
      },
      "source": [
        "print (train_labels[0])"
      ],
      "execution_count": 12,
      "outputs": [
        {
          "output_type": "stream",
          "name": "stdout",
          "text": [
            "9\n"
          ]
        }
      ]
    },
    {
      "cell_type": "code",
      "metadata": {
        "id": "aZgH16ZncbVD"
      },
      "source": [
        "#rescale the images so that they lie on between 0 and 1\n",
        "\n",
        "train_images = train_images / 255\n",
        "test_images = test_images / 255"
      ],
      "execution_count": 13,
      "outputs": []
    },
    {
      "cell_type": "code",
      "metadata": {
        "colab": {
          "base_uri": "https://localhost:8080/",
          "height": 282
        },
        "id": "z9b56BFWc7n7",
        "outputId": "91f05d01-5bed-4b67-f01b-217a1a7d9db5"
      },
      "source": [
        "import matplotlib.pyplot as plt\n",
        "\n",
        "#display one of the images\n",
        "\n",
        "i = 0\n",
        "img = train_images [i , : , :]\n",
        "plt.imshow(img)\n",
        "plt.show()\n",
        "print (f'label : {labels[train_labels[i] ] }')"
      ],
      "execution_count": 15,
      "outputs": [
        {
          "output_type": "display_data",
          "data": {
            "image/png": "[encoded data removed]",
            "text/plain": [
              "<Figure size 432x288 with 1 Axes>"
            ]
          },
          "metadata": {
            "needs_background": "light"
          }
        },
        {
          "output_type": "stream",
          "name": "stdout",
          "text": [
            "label : Ankle boot\n"
          ]
        }
      ]
    },
    {
      "cell_type": "code",
      "metadata": {
        "colab": {
          "base_uri": "https://localhost:8080/"
        },
        "id": "ENdPFxH8d7wa",
        "outputId": "e7f3fb6f-b0ae-4b60-b9a6-0f24f09ea324"
      },
      "source": [
        "from tensorflow.keras.models import Sequential\n",
        "from tensorflow.keras.layers import Dense, Flatten, Conv2D, MaxPooling2D\n",
        "\n",
        "#Build the model\n",
        "\n",
        "model = Sequential ( [\n",
        "                      Conv2D (16, (3,3), activation = 'relu' , input_shape = (28,28,1)) ,\n",
        "                      MaxPooling2D ((3,3) ) ,\n",
        "                      Flatten () ,\n",
        "                      Dense (10, activation ='softmax')\n",
        "])\n",
        "\n",
        "model.compile (optimizer = tf.keras.optimizers.Adam(learning_rate=0.005), \n",
        "               loss = 'sparse_categorical_crossentropy' , \n",
        "               metrics = [tf.keras.metrics.SparseCategoricalAccuracy() , tf.keras.metrics.MeanAbsoluteError()])\n",
        "\n",
        "print (model.optimizer)\n",
        "print (model.loss)\n",
        "print (model.metrics)"
      ],
      "execution_count": 27,
      "outputs": [
        {
          "output_type": "stream",
          "name": "stdout",
          "text": [
            "<keras.optimizer_v2.adam.Adam object at 0x7fa496582590>\n",
            "sparse_categorical_crossentropy\n",
            "[]\n"
          ]
        }
      ]
    },
    {
      "cell_type": "code",
      "metadata": {
        "colab": {
          "base_uri": "https://localhost:8080/"
        },
        "id": "50zmWOm2hSGo",
        "outputId": "5f4ae100-b491-4dfd-ac5b-05f1018ba69d"
      },
      "source": [
        "model.summary()"
      ],
      "execution_count": 28,
      "outputs": [
        {
          "output_type": "stream",
          "name": "stdout",
          "text": [
            "Model: \"sequential_2\"\n",
            "_________________________________________________________________\n",
            "Layer (type)                 Output Shape              Param #   \n",
            "=================================================================\n",
            "conv2d_2 (Conv2D)            (None, 26, 26, 16)        160       \n",
            "_________________________________________________________________\n",
            "max_pooling2d_2 (MaxPooling2 (None, 8, 8, 16)          0         \n",
            "_________________________________________________________________\n",
            "flatten_2 (Flatten)          (None, 1024)              0         \n",
            "_________________________________________________________________\n",
            "dense_2 (Dense)              (None, 10)                10250     \n",
            "=================================================================\n",
            "Total params: 10,410\n",
            "Trainable params: 10,410\n",
            "Non-trainable params: 0\n",
            "_________________________________________________________________\n"
          ]
        }
      ]
    },
    {
      "cell_type": "code",
      "metadata": {
        "colab": {
          "base_uri": "https://localhost:8080/"
        },
        "id": "L8PP5bgPhoVt",
        "outputId": "de67b031-3956-43d2-9c8c-d6d7c87a4bfa"
      },
      "source": [
        "#Fit the model\n",
        "#ERROR Full shape received: (None, 28, 28)\n",
        "#model.fit (train_images, train_labels , epochs= 1 , batch_size= 256)\n",
        "import numpy as np\n",
        "#solution\n",
        "history = model.fit(train_images[...,np.newaxis], train_labels , epochs= 10 , batch_size= 256)"
      ],
      "execution_count": 37,
      "outputs": [
        {
          "output_type": "stream",
          "name": "stdout",
          "text": [
            "Epoch 1/10\n",
            "235/235 [==============================] - 12s 52ms/step - loss: 0.2478 - sparse_categorical_accuracy: 0.9092 - mean_absolute_error: 4.4200\n",
            "Epoch 2/10\n",
            "235/235 [==============================] - 12s 52ms/step - loss: 0.2462 - sparse_categorical_accuracy: 0.9099 - mean_absolute_error: 4.4200\n",
            "Epoch 3/10\n",
            "235/235 [==============================] - 12s 52ms/step - loss: 0.2450 - sparse_categorical_accuracy: 0.9096 - mean_absolute_error: 4.4200\n",
            "Epoch 4/10\n",
            "235/235 [==============================] - 12s 52ms/step - loss: 0.2429 - sparse_categorical_accuracy: 0.9113 - mean_absolute_error: 4.4200\n",
            "Epoch 5/10\n",
            "235/235 [==============================] - 12s 52ms/step - loss: 0.2431 - sparse_categorical_accuracy: 0.9107 - mean_absolute_error: 4.4200\n",
            "Epoch 6/10\n",
            "235/235 [==============================] - 12s 52ms/step - loss: 0.2412 - sparse_categorical_accuracy: 0.9110 - mean_absolute_error: 4.4200\n",
            "Epoch 7/10\n",
            "235/235 [==============================] - 12s 52ms/step - loss: 0.2404 - sparse_categorical_accuracy: 0.9116 - mean_absolute_error: 4.4200\n",
            "Epoch 8/10\n",
            "235/235 [==============================] - 12s 52ms/step - loss: 0.2396 - sparse_categorical_accuracy: 0.9117 - mean_absolute_error: 4.4200\n",
            "Epoch 9/10\n",
            "235/235 [==============================] - 12s 52ms/step - loss: 0.2391 - sparse_categorical_accuracy: 0.9123 - mean_absolute_error: 4.4200\n",
            "Epoch 10/10\n",
            "235/235 [==============================] - 12s 52ms/step - loss: 0.2384 - sparse_categorical_accuracy: 0.9115 - mean_absolute_error: 4.4200\n"
          ]
        }
      ]
    },
    {
      "cell_type": "code",
      "metadata": {
        "colab": {
          "base_uri": "https://localhost:8080/",
          "height": 204
        },
        "id": "GDe13lD0aySa",
        "outputId": "bee848e3-fa91-411c-b2fd-1894d94b6527"
      },
      "source": [
        "#Load the history into a dataframe\n",
        "import pandas as pd\n",
        "\n",
        "df = pd.DataFrame(history.history)\n",
        "df.head()"
      ],
      "execution_count": 38,
      "outputs": [
        {
          "output_type": "execute_result",
          "data": {
            "text/html": [
              "<div>\n",
              "<style scoped>\n",
              "    .dataframe tbody tr th:only-of-type {\n",
              "        vertical-align: middle;\n",
              "    }\n",
              "\n",
              "    .dataframe tbody tr th {\n",
              "        vertical-align: top;\n",
              "    }\n",
              "\n",
              "    .dataframe thead th {\n",
              "        text-align: right;\n",
              "    }\n",
              "</style>\n",
              "<table border=\"1\" class=\"dataframe\">\n",
              "  <thead>\n",
              "    <tr style=\"text-align: right;\">\n",
              "      <th></th>\n",
              "      <th>loss</th>\n",
              "      <th>sparse_categorical_accuracy</th>\n",
              "      <th>mean_absolute_error</th>\n",
              "    </tr>\n",
              "  </thead>\n",
              "  <tbody>\n",
              "    <tr>\n",
              "      <th>0</th>\n",
              "      <td>0.247825</td>\n",
              "      <td>0.909183</td>\n",
              "      <td>4.420000</td>\n",
              "    </tr>\n",
              "    <tr>\n",
              "      <th>1</th>\n",
              "      <td>0.246248</td>\n",
              "      <td>0.909933</td>\n",
              "      <td>4.420000</td>\n",
              "    </tr>\n",
              "    <tr>\n",
              "      <th>2</th>\n",
              "      <td>0.244956</td>\n",
              "      <td>0.909583</td>\n",
              "      <td>4.420001</td>\n",
              "    </tr>\n",
              "    <tr>\n",
              "      <th>3</th>\n",
              "      <td>0.242913</td>\n",
              "      <td>0.911283</td>\n",
              "      <td>4.420001</td>\n",
              "    </tr>\n",
              "    <tr>\n",
              "      <th>4</th>\n",
              "      <td>0.243071</td>\n",
              "      <td>0.910700</td>\n",
              "      <td>4.420000</td>\n",
              "    </tr>\n",
              "  </tbody>\n",
              "</table>\n",
              "</div>"
            ],
            "text/plain": [
              "       loss  sparse_categorical_accuracy  mean_absolute_error\n",
              "0  0.247825                     0.909183             4.420000\n",
              "1  0.246248                     0.909933             4.420000\n",
              "2  0.244956                     0.909583             4.420001\n",
              "3  0.242913                     0.911283             4.420001\n",
              "4  0.243071                     0.910700             4.420000"
            ]
          },
          "metadata": {},
          "execution_count": 38
        }
      ]
    },
    {
      "cell_type": "code",
      "metadata": {
        "colab": {
          "base_uri": "https://localhost:8080/",
          "height": 312
        },
        "id": "DAG4gNDInwWG",
        "outputId": "3dcdcf9c-354d-4579-de3a-b5fa809f39ec"
      },
      "source": [
        "#Make a plot for loss function\n",
        "\n",
        "loss_plot = df.plot (y= 'loss' , title = 'Loss vs Epoch' , legend = False)\n",
        "loss_plot.set (xlabel = 'Epoch' , ylabel = 'Loss')"
      ],
      "execution_count": 39,
      "outputs": [
        {
          "output_type": "execute_result",
          "data": {
            "text/plain": [
              "[Text(0, 0.5, 'Loss'), Text(0.5, 0, 'Epoch')]"
            ]
          },
          "metadata": {},
          "execution_count": 39
        },
        {
          "output_type": "display_data",
          "data": {
            "image/png": "[encoded data removed]",
            "text/plain": [
              "<Figure size 432x288 with 1 Axes>"
            ]
          },
          "metadata": {
            "needs_background": "light"
          }
        }
      ]
    },
    {
      "cell_type": "code",
      "metadata": {
        "id": "vNgkpJ9roRGN"
      },
      "source": [
        ""
      ],
      "execution_count": null,
      "outputs": []
    }
  ]
}