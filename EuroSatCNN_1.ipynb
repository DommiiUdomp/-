{
  "nbformat": 4,
  "nbformat_minor": 0,
  "metadata": {
    "colab": {
      "name": "EuroSatCNN_1.ipynb",
      "provenance": [],
      "authorship_tag": "ABX9TyMdvwNdyr+KrA0sZPjmMN8p",
      "include_colab_link": true
    },
    "kernelspec": {
      "display_name": "Python 3",
      "name": "python3"
    },
    "language_info": {
      "name": "python"
    },
    "accelerator": "GPU"
  },
  "cells": [
    {
      "cell_type": "markdown",
      "metadata": {
        "id": "view-in-github",
        "colab_type": "text"
      },
      "source": [
        "<a href=\"https://colab.research.google.com/github/DommiiUdomp/-/blob/main/EuroSatCNN_1.ipynb\" target=\"_parent\"><img src=\"https://colab.research.google.com/assets/colab-badge.svg\" alt=\"Open In Colab\"/></a>"
      ]
    },
    {
      "cell_type": "markdown",
      "metadata": {
        "id": "YQ0Cxsb_yi1g"
      },
      "source": [
        "#EuroSat dataset"
      ]
    },
    {
      "cell_type": "code",
      "metadata": {
        "id": "WuwNOkDsg6km"
      },
      "source": [
        "%tensorflow_version 2.x\n",
        "import tensorflow as tf\n",
        "device_name = tf.test.gpu_device_name()\n",
        "if device_name != '/device:GPU:0':\n",
        "  raise SystemError('GPU device not found')\n",
        "print('Found GPU at: {}'.format(device_name))"
      ],
      "execution_count": null,
      "outputs": []
    },
    {
      "cell_type": "code",
      "metadata": {
        "id": "eyM2tPcmymSM"
      },
      "source": [
        "import tensorflow as tf\n",
        "from tensorflow.keras.preprocessing.image import load_img, img_to_array\n",
        "from tensorflow.keras.models import Sequential, load_model\n",
        "from tensorflow.keras.layers import Dense, Flatten, Conv2D, MaxPooling2D\n",
        "from tensorflow.keras import callbacks\n",
        "from tensorflow.keras.callbacks import ModelCheckpoint, EarlyStopping\n",
        "import os\n",
        "import numpy as np\n",
        "import pandas as pd"
      ],
      "execution_count": 1,
      "outputs": []
    },
    {
      "cell_type": "code",
      "metadata": {
        "colab": {
          "base_uri": "https://localhost:8080/"
        },
        "id": "NkztvqQpypuq",
        "outputId": "aba60187-25fa-4657-fcc9-e2d227cbf092"
      },
      "source": [
        "from google.colab import drive\n",
        "drive.mount('/content/drive')"
      ],
      "execution_count": 2,
      "outputs": [
        {
          "output_type": "stream",
          "name": "stdout",
          "text": [
            "Mounted at /content/drive\n"
          ]
        }
      ]
    },
    {
      "cell_type": "markdown",
      "metadata": {
        "id": "P2Dhv4M01q1k"
      },
      "source": [
        "\n",
        "Import the data"
      ]
    },
    {
      "cell_type": "code",
      "metadata": {
        "id": "xolcmiNL3Ou5"
      },
      "source": [
        "#if download from zip\n",
        "import zipfile\n",
        "import io\n",
        "import requests\n",
        "from PIL import Image\n",
        "\n",
        "# RGB file URL\n",
        "url = \"http://madm.dfki.de/files/sentinel/EuroSAT.zip\"\n",
        "\n",
        "# download zip\n",
        "r = requests.get(url)\n",
        "z = zipfile.ZipFile(io.BytesIO(r.content))\n",
        "\n",
        "# get file names\n",
        "txtfiles = []\n",
        "for file in z.namelist():\n",
        "  txtfiles.append(file)\n",
        "\n",
        "# keep only those containing \".jpg\"\n",
        "txtfiles = [x for x in txtfiles if \".jpg\" in x]"
      ],
      "execution_count": 3,
      "outputs": []
    },
    {
      "cell_type": "code",
      "metadata": {
        "id": "r0aT-u0z3dhW"
      },
      "source": [
        "# read images to numpy array\n",
        "XImages = np.zeros([len(txtfiles), 64, 64, 3])\n",
        "\n",
        "i = 0\n",
        "for pic in txtfiles:\n",
        "  XImages[i] = np.asarray(Image.open(z.open(pic))).astype('uint8')/255\n",
        "  print(i)\n",
        "  i += 1\n",
        "\n",
        "del r # clear memory\n",
        "del z "
      ],
      "execution_count": null,
      "outputs": []
    },
    {
      "cell_type": "code",
      "metadata": {
        "id": "F1ztvX_H3Rs-"
      },
      "source": [
        "# Get labels in numpy array as strings\n",
        "Ylabel = np.empty(len(txtfiles), dtype = 'S20')\n",
        "\n",
        "i = 0\n",
        "for label in txtfiles:\n",
        "  Ylabel[i] = label.split('/')[1]\n",
        "  i += 1"
      ],
      "execution_count": 5,
      "outputs": []
    },
    {
      "cell_type": "code",
      "metadata": {
        "id": "7R83O06e4ifA",
        "colab": {
          "base_uri": "https://localhost:8080/"
        },
        "outputId": "01d6fef4-eb96-4488-9129-4a3ca22ef063"
      },
      "source": [
        "print(XImages.shape)\n",
        "print(Ylabel.shape)"
      ],
      "execution_count": 6,
      "outputs": [
        {
          "output_type": "stream",
          "name": "stdout",
          "text": [
            "(27000, 64, 64, 3)\n",
            "(27000,)\n"
          ]
        }
      ]
    },
    {
      "cell_type": "code",
      "metadata": {
        "id": "JeFXd-w020OA",
        "colab": {
          "base_uri": "https://localhost:8080/"
        },
        "outputId": "ad7665b4-4aae-4496-a7d9-d7fcaa7325bf"
      },
      "source": [
        "# change them to integers in alphabetical order\n",
        "label_names, yLabels = np.unique(Ylabel, return_inverse=True)\n",
        "\n",
        "label_Dict = dict(zip(np.unique(yLabels), label_names))\n",
        "print(label_Dict)\n",
        "np.array(np.unique(yLabels, return_counts=True)).T"
      ],
      "execution_count": 7,
      "outputs": [
        {
          "output_type": "stream",
          "name": "stdout",
          "text": [
            "{0: b'AnnualCrop', 1: b'Forest', 2: b'HerbaceousVegetation', 3: b'Highway', 4: b'Industrial', 5: b'Pasture', 6: b'PermanentCrop', 7: b'Residential', 8: b'River', 9: b'SeaLake'}\n"
          ]
        },
        {
          "output_type": "execute_result",
          "data": {
            "text/plain": [
              "array([[   0, 3000],\n",
              "       [   1, 3000],\n",
              "       [   2, 3000],\n",
              "       [   3, 2500],\n",
              "       [   4, 2500],\n",
              "       [   5, 2000],\n",
              "       [   6, 2500],\n",
              "       [   7, 3000],\n",
              "       [   8, 2500],\n",
              "       [   9, 3000]])"
            ]
          },
          "metadata": {},
          "execution_count": 7
        }
      ]
    },
    {
      "cell_type": "code",
      "metadata": {
        "id": "7p2u9kwc94A_",
        "colab": {
          "base_uri": "https://localhost:8080/",
          "height": 302
        },
        "outputId": "caa9494f-042b-4e32-d80a-280a326c8e8a"
      },
      "source": [
        "import matplotlib.pyplot as plt\n",
        "\n",
        "# test the labels and images \n",
        "tmp = 3333\n",
        "img = XImages[tmp]\n",
        "\n",
        "print(yLabels[tmp])\n",
        "print(label_names[yLabels[tmp]])\n",
        "plt.imshow(img);"
      ],
      "execution_count": 8,
      "outputs": [
        {
          "output_type": "stream",
          "name": "stdout",
          "text": [
            "0\n",
            "b'AnnualCrop'\n"
          ]
        },
        {
          "output_type": "display_data",
          "data": {
            "image/png": "[encoded data removed]",
            "text/plain": [
              "<Figure size 432x288 with 1 Axes>"
            ]
          },
          "metadata": {
            "needs_background": "light"
          }
        }
      ]
    },
    {
      "cell_type": "code",
      "metadata": {
        "id": "t0pOd973M2Tc",
        "colab": {
          "base_uri": "https://localhost:8080/",
          "height": 156
        },
        "outputId": "5abe1621-74ac-4dcc-fba7-5ae88c77478b"
      },
      "source": [
        "#Select a random sample of images and Plot\n",
        "\n",
        "num_test_images = XImages.shape[0]\n",
        "random_inx = np.random.choice(num_test_images, 5)\n",
        "random_test_images = XImages[random_inx, ...]\n",
        "random_test_labels = Ylabel[random_inx, ...]\n",
        "\n",
        "fig, ax = plt.subplots(1, 5, figsize =(20, 2) )\n",
        "fig.subplots_adjust(hspace=0.2, wspace=0.5)\n",
        "for i in range (5) :\n",
        "  ax[i].set_axis_off()\n",
        "  ax[i].set_title(random_test_labels[i])\n",
        "  ax[i].imshow(random_test_images[i])"
      ],
      "execution_count": 9,
      "outputs": [
        {
          "output_type": "display_data",
          "data": {
            "image/png": "[encoded data removed]",
            "text/plain": [
              "<Figure size 1440x144 with 5 Axes>"
            ]
          },
          "metadata": {
            "needs_background": "light"
          }
        }
      ]
    },
    {
      "cell_type": "code",
      "metadata": {
        "id": "WtLOsia8R1xg",
        "colab": {
          "base_uri": "https://localhost:8080/"
        },
        "outputId": "64acfa67-a4f2-4a4a-d1f2-0c3763a2231b"
      },
      "source": [
        "# find the smallest class\n",
        "smallest_class = np.argmin(np.bincount(yLabels))\n",
        "smallest_class"
      ],
      "execution_count": 10,
      "outputs": [
        {
          "output_type": "execute_result",
          "data": {
            "text/plain": [
              "5"
            ]
          },
          "metadata": {},
          "execution_count": 10
        }
      ]
    },
    {
      "cell_type": "code",
      "metadata": {
        "id": "FFN7kMF1U27X",
        "colab": {
          "base_uri": "https://localhost:8080/"
        },
        "outputId": "553e68e6-cebe-4803-90fb-cbe6381f960d"
      },
      "source": [
        "from sklearn.utils import shuffle\n",
        "from sklearn.preprocessing import LabelBinarizer\n",
        "\n",
        "# number of classes\n",
        "num_classes = len(np.array(np.unique(yLabels)))\n",
        "# observations in smallest class\n",
        "smallest_class_obs = np.where(yLabels == smallest_class)[0]\n",
        "print(smallest_class_obs.shape)"
      ],
      "execution_count": 11,
      "outputs": [
        {
          "output_type": "stream",
          "name": "stdout",
          "text": [
            "(2000,)\n"
          ]
        }
      ]
    },
    {
      "cell_type": "code",
      "metadata": {
        "id": "AjWcRno6WC_J",
        "colab": {
          "base_uri": "https://localhost:8080/"
        },
        "outputId": "e7aa26d5-f705-4d33-d96a-becdf0d61d61"
      },
      "source": [
        "shuffle(np.where(yLabels == i)[0], random_state=42).shape"
      ],
      "execution_count": 12,
      "outputs": [
        {
          "output_type": "execute_result",
          "data": {
            "text/plain": [
              "(2500,)"
            ]
          },
          "metadata": {},
          "execution_count": 12
        }
      ]
    },
    {
      "cell_type": "code",
      "metadata": {
        "id": "gGCf32M_WRPp",
        "colab": {
          "base_uri": "https://localhost:8080/"
        },
        "outputId": "06e736b6-bef5-4eec-b7ed-ea802b99ef21"
      },
      "source": [
        "shuffle(np.where(yLabels == i)[0], random_state=42)[0:smallest_class_obs.shape[0]].shape"
      ],
      "execution_count": 13,
      "outputs": [
        {
          "output_type": "execute_result",
          "data": {
            "text/plain": [
              "(2000,)"
            ]
          },
          "metadata": {},
          "execution_count": 13
        }
      ]
    },
    {
      "cell_type": "code",
      "metadata": {
        "id": "GtEKEhjXVsRh"
      },
      "source": [
        "# Get 2000 observations from each class\n",
        "indBal = np.empty(0, dtype=int)\n",
        "for i in range(num_classes):\n",
        "  indTemp = shuffle(np.where(yLabels == i)[0], random_state=42)[0:smallest_class_obs.shape[0]]\n",
        "  indBal = np.concatenate([indBal, indTemp])\n",
        "\n",
        "# shuffle the balanced index\n",
        "indBal = shuffle(indBal, random_state = 42)"
      ],
      "execution_count": 14,
      "outputs": []
    },
    {
      "cell_type": "code",
      "metadata": {
        "id": "q94CIy73WhHQ",
        "colab": {
          "base_uri": "https://localhost:8080/"
        },
        "outputId": "f751fd23-80d4-42bb-a8ae-6c176b536a23"
      },
      "source": [
        "indBal.shape"
      ],
      "execution_count": 15,
      "outputs": [
        {
          "output_type": "execute_result",
          "data": {
            "text/plain": [
              "(20000,)"
            ]
          },
          "metadata": {},
          "execution_count": 15
        }
      ]
    },
    {
      "cell_type": "code",
      "metadata": {
        "id": "LHx40v4pXibn"
      },
      "source": [
        "from sklearn.model_selection import train_test_split\n",
        "#Unbalanced labels\n",
        "X_train, X_test, y_train, y_test = train_test_split(XImages, yLabels, stratify = yLabels, test_size = 0.5, random_state=42)"
      ],
      "execution_count": 16,
      "outputs": []
    },
    {
      "cell_type": "code",
      "metadata": {
        "id": "4qf5WkI0Xz2x",
        "colab": {
          "base_uri": "https://localhost:8080/",
          "height": 285
        },
        "outputId": "cdfc62e4-6499-47e8-a470-e3b6508dfa02"
      },
      "source": [
        "# test that the labels and images \n",
        "tmp = 3333\n",
        "img = X_train[tmp]\n",
        "\n",
        "print(label_names[y_train[tmp]])\n",
        "plt.imshow(img); "
      ],
      "execution_count": 17,
      "outputs": [
        {
          "output_type": "stream",
          "name": "stdout",
          "text": [
            "b'Industrial'\n"
          ]
        },
        {
          "output_type": "display_data",
          "data": {
            "image/png": "[encoded data removed]",
            "text/plain": [
              "<Figure size 432x288 with 1 Axes>"
            ]
          },
          "metadata": {
            "needs_background": "light"
          }
        }
      ]
    },
    {
      "cell_type": "code",
      "metadata": {
        "id": "wVZqAm4gU6xf",
        "colab": {
          "base_uri": "https://localhost:8080/"
        },
        "outputId": "cbf2a23f-7e01-4610-9bef-83bd6454bf0f"
      },
      "source": [
        "yBal = yLabels[indBal]\n",
        "XBal = XImages[indBal]\n",
        "\n",
        "print(yBal.shape)\n",
        "print(XBal.shape)"
      ],
      "execution_count": 18,
      "outputs": [
        {
          "output_type": "stream",
          "name": "stdout",
          "text": [
            "(20000,)\n",
            "(20000, 64, 64, 3)\n"
          ]
        }
      ]
    },
    {
      "cell_type": "code",
      "metadata": {
        "id": "67lXBaKMYWC_"
      },
      "source": [
        "#balanced labels\n",
        "X_train, X_test, y_train, y_test = train_test_split(XBal, yBal, stratify = yBal, test_size = 0.5, random_state=42)"
      ],
      "execution_count": 19,
      "outputs": []
    },
    {
      "cell_type": "code",
      "metadata": {
        "id": "x8_gcmPTYe8N",
        "colab": {
          "base_uri": "https://localhost:8080/",
          "height": 285
        },
        "outputId": "d72c1d66-d4b6-4038-9391-604896bd56c8"
      },
      "source": [
        "# test that the labels and images \n",
        "tmp = 3333\n",
        "img = X_train[tmp]\n",
        "\n",
        "print(label_names[y_train[tmp]])\n",
        "plt.imshow(img);"
      ],
      "execution_count": 20,
      "outputs": [
        {
          "output_type": "stream",
          "name": "stdout",
          "text": [
            "b'Industrial'\n"
          ]
        },
        {
          "output_type": "display_data",
          "data": {
            "image/png": "[encoded data removed]",
            "text/plain": [
              "<Figure size 432x288 with 1 Axes>"
            ]
          },
          "metadata": {
            "needs_background": "light"
          }
        }
      ]
    },
    {
      "cell_type": "code",
      "metadata": {
        "id": "5j68ZxVUheeZ"
      },
      "source": [
        "# Convert train and test images into 'float64' type\n",
        "\n",
        "# train_images = train_images.astype('float64')\n",
        "# test_images = test_images.astype('float64')\n",
        "\n",
        "# Convert train and test labels into 'int64' type\n",
        "\n",
        "y_train = y_train.astype('int64')\n",
        "y_test = y_test.astype('int64')"
      ],
      "execution_count": 21,
      "outputs": []
    },
    {
      "cell_type": "code",
      "metadata": {
        "id": "DmuePffyZcew",
        "colab": {
          "base_uri": "https://localhost:8080/"
        },
        "outputId": "261bcff1-9bf9-475e-f316-bf0354795f16"
      },
      "source": [
        "from tensorflow.keras.utils import to_categorical\n",
        "\n",
        "# class distribution for yTrain\n",
        "np.array(np.unique(y_train, return_counts=True)).T\n",
        "\n",
        "# class distribution for yTest\n",
        "np.array(np.unique(y_test, return_counts=True)).T\n",
        "\n",
        "# convert class vectors to binary class matrices\n",
        "y_class_train = to_categorical(y_train, num_classes)\n",
        "y_class_test = to_categorical(y_test, num_classes)\n",
        "\n",
        "print(X_train.shape)\n",
        "print(X_test.shape)\n",
        "print(y_class_train.shape)\n",
        "print(y_class_test.shape)"
      ],
      "execution_count": 22,
      "outputs": [
        {
          "output_type": "stream",
          "name": "stdout",
          "text": [
            "(10000, 64, 64, 3)\n",
            "(10000, 64, 64, 3)\n",
            "(10000, 10)\n",
            "(10000, 10)\n"
          ]
        }
      ]
    },
    {
      "cell_type": "code",
      "metadata": {
        "id": "QFp2dJgKerRv",
        "colab": {
          "base_uri": "https://localhost:8080/"
        },
        "outputId": "049721df-d4ed-464d-e2e6-7f7d1a59bf3e"
      },
      "source": [
        "# Initialize grayscale arrays\n",
        "X_train_BW = np.zeros([X_train.shape[0],\n",
        "                       X_train.shape[1],\n",
        "                       X_train.shape[2]])\n",
        "\n",
        "X_test_BW = np.zeros([X_test.shape[0],\n",
        "                      X_test.shape[1],\n",
        "                      X_test.shape[2]])\n",
        "print(X_train_BW.shape)\n",
        "print(X_test_BW.shape)"
      ],
      "execution_count": 23,
      "outputs": [
        {
          "output_type": "stream",
          "name": "stdout",
          "text": [
            "(10000, 64, 64)\n",
            "(10000, 64, 64)\n"
          ]
        }
      ]
    },
    {
      "cell_type": "code",
      "metadata": {
        "id": "HAnw9_fbfs3Y",
        "colab": {
          "base_uri": "https://localhost:8080/"
        },
        "outputId": "bf363900-7df4-4d41-f87d-2edb79e21443"
      },
      "source": [
        "#or\n",
        "X_train_BW = np.average(X_train, axis=-1)\n",
        "X_test_BW = np.average(X_test, axis=-1)\n",
        "print(X_train_BW.shape)\n",
        "print(X_test_BW.shape)"
      ],
      "execution_count": 24,
      "outputs": [
        {
          "output_type": "stream",
          "name": "stdout",
          "text": [
            "(10000, 64, 64)\n",
            "(10000, 64, 64)\n"
          ]
        }
      ]
    },
    {
      "cell_type": "code",
      "metadata": {
        "id": "6SYNCZ3Uggn0",
        "colab": {
          "base_uri": "https://localhost:8080/",
          "height": 302
        },
        "outputId": "cab61bea-64cf-4334-e5ac-b9a25e5a6e18"
      },
      "source": [
        "# test that the labels and images \n",
        "tmp = 3333\n",
        "img = X_train_BW[tmp]\n",
        "\n",
        "print(f' Label : {label_names[y_train[tmp]]}')\n",
        "plt.imshow(img, interpolation='nearest', cmap=plt.get_cmap('gray') )"
      ],
      "execution_count": 25,
      "outputs": [
        {
          "output_type": "stream",
          "name": "stdout",
          "text": [
            " Label : b'Industrial'\n"
          ]
        },
        {
          "output_type": "execute_result",
          "data": {
            "text/plain": [
              "<matplotlib.image.AxesImage at 0x7fde65d84390>"
            ]
          },
          "metadata": {},
          "execution_count": 25
        },
        {
          "output_type": "display_data",
          "data": {
            "image/png": "[encoded data removed]",
            "text/plain": [
              "<Figure size 432x288 with 1 Axes>"
            ]
          },
          "metadata": {
            "needs_background": "light"
          }
        }
      ]
    },
    {
      "cell_type": "code",
      "metadata": {
        "id": "dS16HVohmOaE",
        "colab": {
          "base_uri": "https://localhost:8080/"
        },
        "outputId": "7c9e86b1-0077-4c10-e44f-6f647d9624d3"
      },
      "source": [
        "# Add a dummy channel dimension\n",
        "\n",
        "my_image_train = X_train_BW[..., np.newaxis]\n",
        "my_image_test = X_test_BW[..., np.newaxis]\n",
        "\n",
        "from sklearn.preprocessing import LabelBinarizer\n",
        "\n",
        "\n",
        "# One-hot encoding of train and test labels\n",
        "\n",
        "# Convert the training and test images to grayscale by taking the average across all colour channels for each pixel. \n",
        "# Hint: retain the channel dimension, which will now have size 1.\n",
        "lb = LabelBinarizer()\n",
        "my_train_labels = lb.fit_transform(y_train)\n",
        "my_test_labels = lb.fit_transform(y_test)\n",
        "\n",
        "print(my_image_train.shape)\n",
        "print (my_image_test.shape)\n",
        "print(my_train_labels.shape)\n",
        "print(my_test_labels.shape)"
      ],
      "execution_count": 26,
      "outputs": [
        {
          "output_type": "stream",
          "name": "stdout",
          "text": [
            "(10000, 64, 64, 1)\n",
            "(10000, 64, 64, 1)\n",
            "(10000, 10)\n",
            "(10000, 10)\n"
          ]
        }
      ]
    },
    {
      "cell_type": "code",
      "metadata": {
        "id": "83gFdUHIGOz-",
        "colab": {
          "base_uri": "https://localhost:8080/",
          "height": 156
        },
        "outputId": "0c68300c-2a60-4bc3-add6-7ee5e86bda56"
      },
      "source": [
        "#Select a random sample of color images and Plot\n",
        "\n",
        "num_test_images = X_train.shape[0]\n",
        "random_inx = np.random.choice(num_test_images, 5)\n",
        "random_test_images = X_train[random_inx, ...]\n",
        "random_test_labels = y_train[random_inx, ...]\n",
        "\n",
        "fig, ax = plt.subplots(1, 5, figsize =(20, 2) )\n",
        "fig.subplots_adjust(hspace=0.2, wspace=0.5)\n",
        "for i in range (5) :\n",
        "  ax[i].set_axis_off()\n",
        "  ax[i].set_title(f'Label : {label_names[random_test_labels[i]]}')\n",
        "  ax[i].imshow(random_test_images[i])"
      ],
      "execution_count": 27,
      "outputs": [
        {
          "output_type": "display_data",
          "data": {
            "image/png": "[encoded data removed]",
            "text/plain": [
              "<Figure size 1440x144 with 5 Axes>"
            ]
          },
          "metadata": {
            "needs_background": "light"
          }
        }
      ]
    },
    {
      "cell_type": "code",
      "metadata": {
        "id": "XNd_uBiHE4lP",
        "colab": {
          "base_uri": "https://localhost:8080/",
          "height": 156
        },
        "outputId": "19cbc9c1-78c7-48ec-f72b-47201021d46e"
      },
      "source": [
        "#Select a random sample of grey images and Plot\n",
        "\n",
        "num_test_images = X_train_BW.shape[0]\n",
        "random_inx = np.random.choice(num_test_images, 5)\n",
        "random_test_images = X_train_BW[random_inx, ...]\n",
        "random_test_labels = y_train[random_inx, ...]\n",
        "\n",
        "fig, ax = plt.subplots(1, 5, figsize =(20, 2) )\n",
        "fig.subplots_adjust(hspace=0.2, wspace=0.5)\n",
        "for i in range (5) :\n",
        "  ax[i].set_axis_off()\n",
        "  ax[i].set_title(f'Label : {label_names[random_test_labels[i]]}')\n",
        "  ax[i].imshow(random_test_images[i], interpolation='nearest', cmap=plt.get_cmap('gray'))"
      ],
      "execution_count": 28,
      "outputs": [
        {
          "output_type": "display_data",
          "data": {
            "image/png": "[encoded data removed]",
            "text/plain": [
              "<Figure size 1440x144 with 5 Axes>"
            ]
          },
          "metadata": {
            "needs_background": "light"
          }
        }
      ]
    },
    {
      "cell_type": "markdown",
      "metadata": {
        "id": "aDTVZyeXdx8r"
      },
      "source": [
        "#Data for MLP model"
      ]
    },
    {
      "cell_type": "code",
      "metadata": {
        "id": "s1ODMZZrwugO",
        "colab": {
          "base_uri": "https://localhost:8080/"
        },
        "outputId": "a4f6a67a-9a5c-4425-ca96-59775015bc6a"
      },
      "source": [
        "from skimage.color import rgb2gray\n",
        "\n",
        "# convert RGB arrays to grayscale\n",
        "for i in range(X_train.shape[0]):\n",
        "  X_train_BW[i] = rgb2gray(X_train[i])\n",
        "  X_test_BW[i] = rgb2gray(X_test[i])\n",
        "\n",
        "# flatten grayscale arrays\n",
        "X_train_BW = X_train_BW.reshape(X_train_BW.shape[0],\n",
        "                                X_train_BW.shape[1] * X_train_BW.shape[2])\n",
        "\n",
        "X_test_BW = X_test_BW.reshape(X_test_BW.shape[0],\n",
        "                              X_test_BW.shape[1] * X_test_BW.shape[2])\n",
        "\n",
        "print(X_train_BW.shape)\n",
        "print(X_test_BW.shape)\n",
        "print(y_class_train.shape)\n",
        "print(y_class_test.shape)"
      ],
      "execution_count": 29,
      "outputs": [
        {
          "output_type": "stream",
          "name": "stdout",
          "text": [
            "(10000, 4096)\n",
            "(10000, 4096)\n",
            "(10000, 10)\n",
            "(10000, 10)\n"
          ]
        }
      ]
    },
    {
      "cell_type": "markdown",
      "metadata": {
        "id": "plj2_i_ZaxSw"
      },
      "source": [
        "#Build the model"
      ]
    },
    {
      "cell_type": "markdown",
      "metadata": {
        "id": "HlGhEFOzafhx"
      },
      "source": [
        "**MLP neural network classifier** "
      ]
    },
    {
      "cell_type": "markdown",
      "metadata": {
        "id": "sdajJKiJaiEw"
      },
      "source": [
        "First model"
      ]
    },
    {
      "cell_type": "code",
      "metadata": {
        "id": "mdW1NkdSf1oT"
      },
      "source": [
        "from tensorflow.keras.layers import BatchNormalization, Dropout"
      ],
      "execution_count": 31,
      "outputs": []
    },
    {
      "cell_type": "code",
      "metadata": {
        "id": "jBPHklumy4W3"
      },
      "source": [
        "def model_1(input_shape) :\n",
        "  model_1 = Sequential()\n",
        "  model_1.add(Dense(num_classes, activation = 'softmax', input_shape=(input_shape)))\n",
        "  \n",
        "  model_1.compile (optimizer = tf.keras.optimizers.Adam(learning_rate=0.0001) ,\n",
        "                 loss = tf.keras.losses.CategoricalCrossentropy(), \n",
        "                 metrics = [tf.keras.metrics.CategoricalAccuracy()])\n",
        "    \n",
        "  return model_1"
      ],
      "execution_count": 32,
      "outputs": []
    },
    {
      "cell_type": "code",
      "metadata": {
        "id": "uNGhGP69z6Ma",
        "colab": {
          "base_uri": "https://localhost:8080/"
        },
        "outputId": "a431ec14-6e57-46a8-c3ff-99b022086499"
      },
      "source": [
        "model_1 = model_1(X_train_BW[0].shape)\n",
        "model_1.summary()"
      ],
      "execution_count": 33,
      "outputs": [
        {
          "output_type": "stream",
          "name": "stdout",
          "text": [
            "Model: \"sequential\"\n",
            "_________________________________________________________________\n",
            "Layer (type)                 Output Shape              Param #   \n",
            "=================================================================\n",
            "dense (Dense)                (None, 10)                40970     \n",
            "=================================================================\n",
            "Total params: 40,970\n",
            "Trainable params: 40,970\n",
            "Non-trainable params: 0\n",
            "_________________________________________________________________\n"
          ]
        }
      ]
    },
    {
      "cell_type": "code",
      "metadata": {
        "id": "tRpXvDTY0GyE",
        "colab": {
          "base_uri": "https://localhost:8080/",
          "height": 201
        },
        "outputId": "d57320d2-1d3a-4756-e036-034794533a36"
      },
      "source": [
        "from keras.utils.vis_utils import plot_model\n",
        "plot_model(model_1, show_shapes=True, show_layer_names=True)"
      ],
      "execution_count": 34,
      "outputs": [
        {
          "output_type": "execute_result",
          "data": {
            "image/png": "[encoded data removed]",
            "text/plain": [
              "<IPython.core.display.Image object>"
            ]
          },
          "metadata": {},
          "execution_count": 34
        }
      ]
    },
    {
      "cell_type": "code",
      "metadata": {
        "id": "nJcZCabva8EU"
      },
      "source": [
        "from tensorflow.keras.callbacks import ModelCheckpoint, EarlyStopping\n",
        "from tensorflow.keras import callbacks\n",
        "\n",
        "checkpoint = ModelCheckpoint (filepath = 'checkpoint', monitor = 'val_loss',\n",
        "                              save_beat_only = True, save_freq = 'epoch', verbose = 1)"
      ],
      "execution_count": 35,
      "outputs": []
    },
    {
      "cell_type": "code",
      "metadata": {
        "id": "__5L5pbOsRS-",
        "colab": {
          "base_uri": "https://localhost:8080/"
        },
        "outputId": "deac4160-0d03-4907-9801-18de5697ac9a"
      },
      "source": [
        "history = model_1.fit(X_train_BW,y_class_train, validation_data= (X_test_BW, y_class_test) , \n",
        "                      batch_size=64, epochs=100, callbacks=[checkpoint], verbose=1)"
      ],
      "execution_count": 36,
      "outputs": [
        {
          "output_type": "stream",
          "name": "stdout",
          "text": [
            "Epoch 1/100\n",
            "157/157 [==============================] - 2s 6ms/step - loss: 2.2934 - categorical_accuracy: 0.1084 - val_loss: 2.2864 - val_categorical_accuracy: 0.1177\n",
            "\n",
            "Epoch 00001: saving model to checkpoint\n",
            "INFO:tensorflow:Assets written to: checkpoint/assets\n",
            "Epoch 2/100\n",
            "157/157 [==============================] - 1s 5ms/step - loss: 2.2628 - categorical_accuracy: 0.1315 - val_loss: 2.2552 - val_categorical_accuracy: 0.1379\n",
            "\n",
            "Epoch 00002: saving model to checkpoint\n",
            "INFO:tensorflow:Assets written to: checkpoint/assets\n",
            "Epoch 3/100\n",
            "157/157 [==============================] - 1s 5ms/step - loss: 2.2437 - categorical_accuracy: 0.1413 - val_loss: 2.2477 - val_categorical_accuracy: 0.1390\n",
            "\n",
            "Epoch 00003: saving model to checkpoint\n",
            "INFO:tensorflow:Assets written to: checkpoint/assets\n",
            "Epoch 4/100\n",
            "157/157 [==============================] - 1s 5ms/step - loss: 2.2303 - categorical_accuracy: 0.1465 - val_loss: 2.2398 - val_categorical_accuracy: 0.1528\n",
            "\n",
            "Epoch 00004: saving model to checkpoint\n",
            "INFO:tensorflow:Assets written to: checkpoint/assets\n",
            "Epoch 5/100\n",
            "157/157 [==============================] - 1s 5ms/step - loss: 2.2219 - categorical_accuracy: 0.1536 - val_loss: 2.2292 - val_categorical_accuracy: 0.1447\n",
            "\n",
            "Epoch 00005: saving model to checkpoint\n",
            "INFO:tensorflow:Assets written to: checkpoint/assets\n",
            "Epoch 6/100\n",
            "157/157 [==============================] - 1s 5ms/step - loss: 2.2103 - categorical_accuracy: 0.1553 - val_loss: 2.2072 - val_categorical_accuracy: 0.1574\n",
            "\n",
            "Epoch 00006: saving model to checkpoint\n",
            "INFO:tensorflow:Assets written to: checkpoint/assets\n",
            "Epoch 7/100\n",
            "157/157 [==============================] - 1s 5ms/step - loss: 2.2026 - categorical_accuracy: 0.1564 - val_loss: 2.2290 - val_categorical_accuracy: 0.1581\n",
            "\n",
            "Epoch 00007: saving model to checkpoint\n",
            "INFO:tensorflow:Assets written to: checkpoint/assets\n",
            "Epoch 8/100\n",
            "157/157 [==============================] - 1s 5ms/step - loss: 2.1999 - categorical_accuracy: 0.1602 - val_loss: 2.2110 - val_categorical_accuracy: 0.1543\n",
            "\n",
            "Epoch 00008: saving model to checkpoint\n",
            "INFO:tensorflow:Assets written to: checkpoint/assets\n",
            "Epoch 9/100\n",
            "157/157 [==============================] - 1s 5ms/step - loss: 2.1900 - categorical_accuracy: 0.1678 - val_loss: 2.2035 - val_categorical_accuracy: 0.1610\n",
            "\n",
            "Epoch 00009: saving model to checkpoint\n",
            "INFO:tensorflow:Assets written to: checkpoint/assets\n",
            "Epoch 10/100\n",
            "157/157 [==============================] - 1s 5ms/step - loss: 2.1880 - categorical_accuracy: 0.1676 - val_loss: 2.2111 - val_categorical_accuracy: 0.1570\n",
            "\n",
            "Epoch 00010: saving model to checkpoint\n",
            "INFO:tensorflow:Assets written to: checkpoint/assets\n",
            "Epoch 11/100\n",
            "157/157 [==============================] - 1s 5ms/step - loss: 2.1829 - categorical_accuracy: 0.1726 - val_loss: 2.2049 - val_categorical_accuracy: 0.1763\n",
            "\n",
            "Epoch 00011: saving model to checkpoint\n",
            "INFO:tensorflow:Assets written to: checkpoint/assets\n",
            "Epoch 12/100\n",
            "157/157 [==============================] - 1s 5ms/step - loss: 2.1772 - categorical_accuracy: 0.1703 - val_loss: 2.1950 - val_categorical_accuracy: 0.1523\n",
            "\n",
            "Epoch 00012: saving model to checkpoint\n",
            "INFO:tensorflow:Assets written to: checkpoint/assets\n",
            "Epoch 13/100\n",
            "157/157 [==============================] - 1s 5ms/step - loss: 2.1747 - categorical_accuracy: 0.1726 - val_loss: 2.2013 - val_categorical_accuracy: 0.1716\n",
            "\n",
            "Epoch 00013: saving model to checkpoint\n",
            "INFO:tensorflow:Assets written to: checkpoint/assets\n",
            "Epoch 14/100\n",
            "157/157 [==============================] - 1s 5ms/step - loss: 2.1685 - categorical_accuracy: 0.1816 - val_loss: 2.1888 - val_categorical_accuracy: 0.1808\n",
            "\n",
            "Epoch 00014: saving model to checkpoint\n",
            "INFO:tensorflow:Assets written to: checkpoint/assets\n",
            "Epoch 15/100\n",
            "157/157 [==============================] - 1s 5ms/step - loss: 2.1693 - categorical_accuracy: 0.1775 - val_loss: 2.1839 - val_categorical_accuracy: 0.1562\n",
            "\n",
            "Epoch 00015: saving model to checkpoint\n",
            "INFO:tensorflow:Assets written to: checkpoint/assets\n",
            "Epoch 16/100\n",
            "157/157 [==============================] - 1s 5ms/step - loss: 2.1631 - categorical_accuracy: 0.1770 - val_loss: 2.1837 - val_categorical_accuracy: 0.1938\n",
            "\n",
            "Epoch 00016: saving model to checkpoint\n",
            "INFO:tensorflow:Assets written to: checkpoint/assets\n",
            "Epoch 17/100\n",
            "157/157 [==============================] - 1s 4ms/step - loss: 2.1618 - categorical_accuracy: 0.1841 - val_loss: 2.1807 - val_categorical_accuracy: 0.1747\n",
            "\n",
            "Epoch 00017: saving model to checkpoint\n",
            "INFO:tensorflow:Assets written to: checkpoint/assets\n",
            "Epoch 18/100\n",
            "157/157 [==============================] - 1s 5ms/step - loss: 2.1549 - categorical_accuracy: 0.1860 - val_loss: 2.1769 - val_categorical_accuracy: 0.1695\n",
            "\n",
            "Epoch 00018: saving model to checkpoint\n",
            "INFO:tensorflow:Assets written to: checkpoint/assets\n",
            "Epoch 19/100\n",
            "157/157 [==============================] - 1s 4ms/step - loss: 2.1549 - categorical_accuracy: 0.1859 - val_loss: 2.1827 - val_categorical_accuracy: 0.1801\n",
            "\n",
            "Epoch 00019: saving model to checkpoint\n",
            "INFO:tensorflow:Assets written to: checkpoint/assets\n",
            "Epoch 20/100\n",
            "157/157 [==============================] - 1s 5ms/step - loss: 2.1486 - categorical_accuracy: 0.1946 - val_loss: 2.1767 - val_categorical_accuracy: 0.1673\n",
            "\n",
            "Epoch 00020: saving model to checkpoint\n",
            "INFO:tensorflow:Assets written to: checkpoint/assets\n",
            "Epoch 21/100\n",
            "157/157 [==============================] - 1s 5ms/step - loss: 2.1471 - categorical_accuracy: 0.1932 - val_loss: 2.1897 - val_categorical_accuracy: 0.1662\n",
            "\n",
            "Epoch 00021: saving model to checkpoint\n",
            "INFO:tensorflow:Assets written to: checkpoint/assets\n",
            "Epoch 22/100\n",
            "157/157 [==============================] - 1s 4ms/step - loss: 2.1489 - categorical_accuracy: 0.1905 - val_loss: 2.1746 - val_categorical_accuracy: 0.1766\n",
            "\n",
            "Epoch 00022: saving model to checkpoint\n",
            "INFO:tensorflow:Assets written to: checkpoint/assets\n",
            "Epoch 23/100\n",
            "157/157 [==============================] - 1s 5ms/step - loss: 2.1417 - categorical_accuracy: 0.1898 - val_loss: 2.1775 - val_categorical_accuracy: 0.2136\n",
            "\n",
            "Epoch 00023: saving model to checkpoint\n",
            "INFO:tensorflow:Assets written to: checkpoint/assets\n",
            "Epoch 24/100\n",
            "157/157 [==============================] - 1s 4ms/step - loss: 2.1427 - categorical_accuracy: 0.2043 - val_loss: 2.1784 - val_categorical_accuracy: 0.1622\n",
            "\n",
            "Epoch 00024: saving model to checkpoint\n",
            "INFO:tensorflow:Assets written to: checkpoint/assets\n",
            "Epoch 25/100\n",
            "157/157 [==============================] - 1s 5ms/step - loss: 2.1399 - categorical_accuracy: 0.1957 - val_loss: 2.1780 - val_categorical_accuracy: 0.1807\n",
            "\n",
            "Epoch 00025: saving model to checkpoint\n",
            "INFO:tensorflow:Assets written to: checkpoint/assets\n",
            "Epoch 26/100\n",
            "157/157 [==============================] - 1s 5ms/step - loss: 2.1387 - categorical_accuracy: 0.2093 - val_loss: 2.1705 - val_categorical_accuracy: 0.1738\n",
            "\n",
            "Epoch 00026: saving model to checkpoint\n",
            "INFO:tensorflow:Assets written to: checkpoint/assets\n",
            "Epoch 27/100\n",
            "157/157 [==============================] - 1s 5ms/step - loss: 2.1312 - categorical_accuracy: 0.2028 - val_loss: 2.1651 - val_categorical_accuracy: 0.1836\n",
            "\n",
            "Epoch 00027: saving model to checkpoint\n",
            "INFO:tensorflow:Assets written to: checkpoint/assets\n",
            "Epoch 28/100\n",
            "157/157 [==============================] - 1s 5ms/step - loss: 2.1330 - categorical_accuracy: 0.1988 - val_loss: 2.1622 - val_categorical_accuracy: 0.1854\n",
            "\n",
            "Epoch 00028: saving model to checkpoint\n",
            "INFO:tensorflow:Assets written to: checkpoint/assets\n",
            "Epoch 29/100\n",
            "157/157 [==============================] - 1s 5ms/step - loss: 2.1282 - categorical_accuracy: 0.2044 - val_loss: 2.1618 - val_categorical_accuracy: 0.1885\n",
            "\n",
            "Epoch 00029: saving model to checkpoint\n",
            "INFO:tensorflow:Assets written to: checkpoint/assets\n",
            "Epoch 30/100\n",
            "157/157 [==============================] - 1s 5ms/step - loss: 2.1277 - categorical_accuracy: 0.2091 - val_loss: 2.1672 - val_categorical_accuracy: 0.1721\n",
            "\n",
            "Epoch 00030: saving model to checkpoint\n",
            "INFO:tensorflow:Assets written to: checkpoint/assets\n",
            "Epoch 31/100\n",
            "157/157 [==============================] - 1s 5ms/step - loss: 2.1246 - categorical_accuracy: 0.2061 - val_loss: 2.1664 - val_categorical_accuracy: 0.1627\n",
            "\n",
            "Epoch 00031: saving model to checkpoint\n",
            "INFO:tensorflow:Assets written to: checkpoint/assets\n",
            "Epoch 32/100\n",
            "157/157 [==============================] - 1s 5ms/step - loss: 2.1242 - categorical_accuracy: 0.2152 - val_loss: 2.1788 - val_categorical_accuracy: 0.1748\n",
            "\n",
            "Epoch 00032: saving model to checkpoint\n",
            "INFO:tensorflow:Assets written to: checkpoint/assets\n",
            "Epoch 33/100\n",
            "157/157 [==============================] - 1s 6ms/step - loss: 2.1227 - categorical_accuracy: 0.2137 - val_loss: 2.1641 - val_categorical_accuracy: 0.1731\n",
            "\n",
            "Epoch 00033: saving model to checkpoint\n",
            "INFO:tensorflow:Assets written to: checkpoint/assets\n",
            "Epoch 34/100\n",
            "157/157 [==============================] - 1s 5ms/step - loss: 2.1156 - categorical_accuracy: 0.2192 - val_loss: 2.1693 - val_categorical_accuracy: 0.1809\n",
            "\n",
            "Epoch 00034: saving model to checkpoint\n",
            "INFO:tensorflow:Assets written to: checkpoint/assets\n",
            "Epoch 35/100\n",
            "157/157 [==============================] - 1s 5ms/step - loss: 2.1162 - categorical_accuracy: 0.2183 - val_loss: 2.1591 - val_categorical_accuracy: 0.2371\n",
            "\n",
            "Epoch 00035: saving model to checkpoint\n",
            "INFO:tensorflow:Assets written to: checkpoint/assets\n",
            "Epoch 36/100\n",
            "157/157 [==============================] - 1s 5ms/step - loss: 2.1137 - categorical_accuracy: 0.2229 - val_loss: 2.1580 - val_categorical_accuracy: 0.1762\n",
            "\n",
            "Epoch 00036: saving model to checkpoint\n",
            "INFO:tensorflow:Assets written to: checkpoint/assets\n",
            "Epoch 37/100\n",
            "157/157 [==============================] - 1s 5ms/step - loss: 2.1121 - categorical_accuracy: 0.2277 - val_loss: 2.1601 - val_categorical_accuracy: 0.2399\n",
            "\n",
            "Epoch 00037: saving model to checkpoint\n",
            "INFO:tensorflow:Assets written to: checkpoint/assets\n",
            "Epoch 38/100\n",
            "157/157 [==============================] - 1s 5ms/step - loss: 2.1117 - categorical_accuracy: 0.2224 - val_loss: 2.1664 - val_categorical_accuracy: 0.1862\n",
            "\n",
            "Epoch 00038: saving model to checkpoint\n",
            "INFO:tensorflow:Assets written to: checkpoint/assets\n",
            "Epoch 39/100\n",
            "157/157 [==============================] - 1s 5ms/step - loss: 2.1074 - categorical_accuracy: 0.2252 - val_loss: 2.1671 - val_categorical_accuracy: 0.2003\n",
            "\n",
            "Epoch 00039: saving model to checkpoint\n",
            "INFO:tensorflow:Assets written to: checkpoint/assets\n",
            "Epoch 40/100\n",
            "157/157 [==============================] - 1s 5ms/step - loss: 2.1057 - categorical_accuracy: 0.2241 - val_loss: 2.1523 - val_categorical_accuracy: 0.1826\n",
            "\n",
            "Epoch 00040: saving model to checkpoint\n",
            "INFO:tensorflow:Assets written to: checkpoint/assets\n",
            "Epoch 41/100\n",
            "157/157 [==============================] - 1s 5ms/step - loss: 2.1027 - categorical_accuracy: 0.2272 - val_loss: 2.1619 - val_categorical_accuracy: 0.1923\n",
            "\n",
            "Epoch 00041: saving model to checkpoint\n",
            "INFO:tensorflow:Assets written to: checkpoint/assets\n",
            "Epoch 42/100\n",
            "157/157 [==============================] - 1s 5ms/step - loss: 2.1024 - categorical_accuracy: 0.2296 - val_loss: 2.1585 - val_categorical_accuracy: 0.1920\n",
            "\n",
            "Epoch 00042: saving model to checkpoint\n",
            "INFO:tensorflow:Assets written to: checkpoint/assets\n",
            "Epoch 43/100\n",
            "157/157 [==============================] - 1s 5ms/step - loss: 2.1014 - categorical_accuracy: 0.2381 - val_loss: 2.1562 - val_categorical_accuracy: 0.1766\n",
            "\n",
            "Epoch 00043: saving model to checkpoint\n",
            "INFO:tensorflow:Assets written to: checkpoint/assets\n",
            "Epoch 44/100\n",
            "157/157 [==============================] - 1s 5ms/step - loss: 2.0939 - categorical_accuracy: 0.2367 - val_loss: 2.1660 - val_categorical_accuracy: 0.2247\n",
            "\n",
            "Epoch 00044: saving model to checkpoint\n",
            "INFO:tensorflow:Assets written to: checkpoint/assets\n",
            "Epoch 45/100\n",
            "157/157 [==============================] - 1s 5ms/step - loss: 2.0963 - categorical_accuracy: 0.2350 - val_loss: 2.1506 - val_categorical_accuracy: 0.1727\n",
            "\n",
            "Epoch 00045: saving model to checkpoint\n",
            "INFO:tensorflow:Assets written to: checkpoint/assets\n",
            "Epoch 46/100\n",
            "157/157 [==============================] - 1s 5ms/step - loss: 2.0920 - categorical_accuracy: 0.2442 - val_loss: 2.1556 - val_categorical_accuracy: 0.2291\n",
            "\n",
            "Epoch 00046: saving model to checkpoint\n",
            "INFO:tensorflow:Assets written to: checkpoint/assets\n",
            "Epoch 47/100\n",
            "157/157 [==============================] - 1s 5ms/step - loss: 2.0927 - categorical_accuracy: 0.2324 - val_loss: 2.1590 - val_categorical_accuracy: 0.2099\n",
            "\n",
            "Epoch 00047: saving model to checkpoint\n",
            "INFO:tensorflow:Assets written to: checkpoint/assets\n",
            "Epoch 48/100\n",
            "157/157 [==============================] - 1s 5ms/step - loss: 2.0934 - categorical_accuracy: 0.2333 - val_loss: 2.1570 - val_categorical_accuracy: 0.1990\n",
            "\n",
            "Epoch 00048: saving model to checkpoint\n",
            "INFO:tensorflow:Assets written to: checkpoint/assets\n",
            "Epoch 49/100\n",
            "157/157 [==============================] - 1s 5ms/step - loss: 2.0913 - categorical_accuracy: 0.2425 - val_loss: 2.1419 - val_categorical_accuracy: 0.1963\n",
            "\n",
            "Epoch 00049: saving model to checkpoint\n",
            "INFO:tensorflow:Assets written to: checkpoint/assets\n",
            "Epoch 50/100\n",
            "157/157 [==============================] - 1s 5ms/step - loss: 2.0867 - categorical_accuracy: 0.2422 - val_loss: 2.1604 - val_categorical_accuracy: 0.2174\n",
            "\n",
            "Epoch 00050: saving model to checkpoint\n",
            "INFO:tensorflow:Assets written to: checkpoint/assets\n",
            "Epoch 51/100\n",
            "157/157 [==============================] - 1s 5ms/step - loss: 2.0853 - categorical_accuracy: 0.2351 - val_loss: 2.1501 - val_categorical_accuracy: 0.1804\n",
            "\n",
            "Epoch 00051: saving model to checkpoint\n",
            "INFO:tensorflow:Assets written to: checkpoint/assets\n",
            "Epoch 52/100\n",
            "157/157 [==============================] - 1s 5ms/step - loss: 2.0839 - categorical_accuracy: 0.2511 - val_loss: 2.1463 - val_categorical_accuracy: 0.2049\n",
            "\n",
            "Epoch 00052: saving model to checkpoint\n",
            "INFO:tensorflow:Assets written to: checkpoint/assets\n",
            "Epoch 53/100\n",
            "157/157 [==============================] - 1s 5ms/step - loss: 2.0825 - categorical_accuracy: 0.2460 - val_loss: 2.1497 - val_categorical_accuracy: 0.2227\n",
            "\n",
            "Epoch 00053: saving model to checkpoint\n",
            "INFO:tensorflow:Assets written to: checkpoint/assets\n",
            "Epoch 54/100\n",
            "157/157 [==============================] - 1s 5ms/step - loss: 2.0788 - categorical_accuracy: 0.2508 - val_loss: 2.1368 - val_categorical_accuracy: 0.1860\n",
            "\n",
            "Epoch 00054: saving model to checkpoint\n",
            "INFO:tensorflow:Assets written to: checkpoint/assets\n",
            "Epoch 55/100\n",
            "157/157 [==============================] - 1s 5ms/step - loss: 2.0798 - categorical_accuracy: 0.2488 - val_loss: 2.1438 - val_categorical_accuracy: 0.1973\n",
            "\n",
            "Epoch 00055: saving model to checkpoint\n",
            "INFO:tensorflow:Assets written to: checkpoint/assets\n",
            "Epoch 56/100\n",
            "157/157 [==============================] - 1s 5ms/step - loss: 2.0741 - categorical_accuracy: 0.2506 - val_loss: 2.1415 - val_categorical_accuracy: 0.2423\n",
            "\n",
            "Epoch 00056: saving model to checkpoint\n",
            "INFO:tensorflow:Assets written to: checkpoint/assets\n",
            "Epoch 57/100\n",
            "157/157 [==============================] - 1s 5ms/step - loss: 2.0751 - categorical_accuracy: 0.2576 - val_loss: 2.1382 - val_categorical_accuracy: 0.2185\n",
            "\n",
            "Epoch 00057: saving model to checkpoint\n",
            "INFO:tensorflow:Assets written to: checkpoint/assets\n",
            "Epoch 58/100\n",
            "157/157 [==============================] - 1s 5ms/step - loss: 2.0733 - categorical_accuracy: 0.2601 - val_loss: 2.1359 - val_categorical_accuracy: 0.2715\n",
            "\n",
            "Epoch 00058: saving model to checkpoint\n",
            "INFO:tensorflow:Assets written to: checkpoint/assets\n",
            "Epoch 59/100\n",
            "157/157 [==============================] - 1s 5ms/step - loss: 2.0710 - categorical_accuracy: 0.2567 - val_loss: 2.1421 - val_categorical_accuracy: 0.2296\n",
            "\n",
            "Epoch 00059: saving model to checkpoint\n",
            "INFO:tensorflow:Assets written to: checkpoint/assets\n",
            "Epoch 60/100\n",
            "157/157 [==============================] - 1s 5ms/step - loss: 2.0670 - categorical_accuracy: 0.2717 - val_loss: 2.1483 - val_categorical_accuracy: 0.2075\n",
            "\n",
            "Epoch 00060: saving model to checkpoint\n",
            "INFO:tensorflow:Assets written to: checkpoint/assets\n",
            "Epoch 61/100\n",
            "157/157 [==============================] - 1s 5ms/step - loss: 2.0695 - categorical_accuracy: 0.2588 - val_loss: 2.1314 - val_categorical_accuracy: 0.2519\n",
            "\n",
            "Epoch 00061: saving model to checkpoint\n",
            "INFO:tensorflow:Assets written to: checkpoint/assets\n",
            "Epoch 62/100\n",
            "157/157 [==============================] - 1s 5ms/step - loss: 2.0630 - categorical_accuracy: 0.2637 - val_loss: 2.1378 - val_categorical_accuracy: 0.2007\n",
            "\n",
            "Epoch 00062: saving model to checkpoint\n",
            "INFO:tensorflow:Assets written to: checkpoint/assets\n",
            "Epoch 63/100\n",
            "157/157 [==============================] - 1s 5ms/step - loss: 2.0668 - categorical_accuracy: 0.2684 - val_loss: 2.1327 - val_categorical_accuracy: 0.2091\n",
            "\n",
            "Epoch 00063: saving model to checkpoint\n",
            "INFO:tensorflow:Assets written to: checkpoint/assets\n",
            "Epoch 64/100\n",
            "157/157 [==============================] - 1s 5ms/step - loss: 2.0598 - categorical_accuracy: 0.2666 - val_loss: 2.1408 - val_categorical_accuracy: 0.1849\n",
            "\n",
            "Epoch 00064: saving model to checkpoint\n",
            "INFO:tensorflow:Assets written to: checkpoint/assets\n",
            "Epoch 65/100\n",
            "157/157 [==============================] - 1s 5ms/step - loss: 2.0638 - categorical_accuracy: 0.2673 - val_loss: 2.1329 - val_categorical_accuracy: 0.2098\n",
            "\n",
            "Epoch 00065: saving model to checkpoint\n",
            "INFO:tensorflow:Assets written to: checkpoint/assets\n",
            "Epoch 66/100\n",
            "157/157 [==============================] - 1s 5ms/step - loss: 2.0585 - categorical_accuracy: 0.2679 - val_loss: 2.1350 - val_categorical_accuracy: 0.2271\n",
            "\n",
            "Epoch 00066: saving model to checkpoint\n",
            "INFO:tensorflow:Assets written to: checkpoint/assets\n",
            "Epoch 67/100\n",
            "157/157 [==============================] - 1s 5ms/step - loss: 2.0581 - categorical_accuracy: 0.2753 - val_loss: 2.1412 - val_categorical_accuracy: 0.1932\n",
            "\n",
            "Epoch 00067: saving model to checkpoint\n",
            "INFO:tensorflow:Assets written to: checkpoint/assets\n",
            "Epoch 68/100\n",
            "157/157 [==============================] - 1s 6ms/step - loss: 2.0533 - categorical_accuracy: 0.2711 - val_loss: 2.1352 - val_categorical_accuracy: 0.2096\n",
            "\n",
            "Epoch 00068: saving model to checkpoint\n",
            "INFO:tensorflow:Assets written to: checkpoint/assets\n",
            "Epoch 69/100\n",
            "157/157 [==============================] - 1s 5ms/step - loss: 2.0528 - categorical_accuracy: 0.2828 - val_loss: 2.1334 - val_categorical_accuracy: 0.2132\n",
            "\n",
            "Epoch 00069: saving model to checkpoint\n",
            "INFO:tensorflow:Assets written to: checkpoint/assets\n",
            "Epoch 70/100\n",
            "157/157 [==============================] - 1s 5ms/step - loss: 2.0534 - categorical_accuracy: 0.2833 - val_loss: 2.1324 - val_categorical_accuracy: 0.2334\n",
            "\n",
            "Epoch 00070: saving model to checkpoint\n",
            "INFO:tensorflow:Assets written to: checkpoint/assets\n",
            "Epoch 71/100\n",
            "157/157 [==============================] - 1s 5ms/step - loss: 2.0493 - categorical_accuracy: 0.2792 - val_loss: 2.1258 - val_categorical_accuracy: 0.2323\n",
            "\n",
            "Epoch 00071: saving model to checkpoint\n",
            "INFO:tensorflow:Assets written to: checkpoint/assets\n",
            "Epoch 72/100\n",
            "157/157 [==============================] - 1s 5ms/step - loss: 2.0477 - categorical_accuracy: 0.2819 - val_loss: 2.1336 - val_categorical_accuracy: 0.1942\n",
            "\n",
            "Epoch 00072: saving model to checkpoint\n",
            "INFO:tensorflow:Assets written to: checkpoint/assets\n",
            "Epoch 73/100\n",
            "157/157 [==============================] - 1s 5ms/step - loss: 2.0448 - categorical_accuracy: 0.2930 - val_loss: 2.1303 - val_categorical_accuracy: 0.2488\n",
            "\n",
            "Epoch 00073: saving model to checkpoint\n",
            "INFO:tensorflow:Assets written to: checkpoint/assets\n",
            "Epoch 74/100\n",
            "157/157 [==============================] - 1s 5ms/step - loss: 2.0484 - categorical_accuracy: 0.2857 - val_loss: 2.1292 - val_categorical_accuracy: 0.2016\n",
            "\n",
            "Epoch 00074: saving model to checkpoint\n",
            "INFO:tensorflow:Assets written to: checkpoint/assets\n",
            "Epoch 75/100\n",
            "157/157 [==============================] - 1s 5ms/step - loss: 2.0457 - categorical_accuracy: 0.2770 - val_loss: 2.1211 - val_categorical_accuracy: 0.2479\n",
            "\n",
            "Epoch 00075: saving model to checkpoint\n",
            "INFO:tensorflow:Assets written to: checkpoint/assets\n",
            "Epoch 76/100\n",
            "157/157 [==============================] - 1s 5ms/step - loss: 2.0413 - categorical_accuracy: 0.2858 - val_loss: 2.1317 - val_categorical_accuracy: 0.2199\n",
            "\n",
            "Epoch 00076: saving model to checkpoint\n",
            "INFO:tensorflow:Assets written to: checkpoint/assets\n",
            "Epoch 77/100\n",
            "157/157 [==============================] - 1s 5ms/step - loss: 2.0384 - categorical_accuracy: 0.2887 - val_loss: 2.1271 - val_categorical_accuracy: 0.2084\n",
            "\n",
            "Epoch 00077: saving model to checkpoint\n",
            "INFO:tensorflow:Assets written to: checkpoint/assets\n",
            "Epoch 78/100\n",
            "157/157 [==============================] - 1s 5ms/step - loss: 2.0406 - categorical_accuracy: 0.2847 - val_loss: 2.1208 - val_categorical_accuracy: 0.2447\n",
            "\n",
            "Epoch 00078: saving model to checkpoint\n",
            "INFO:tensorflow:Assets written to: checkpoint/assets\n",
            "Epoch 79/100\n",
            "157/157 [==============================] - 1s 5ms/step - loss: 2.0351 - categorical_accuracy: 0.2958 - val_loss: 2.1247 - val_categorical_accuracy: 0.2571\n",
            "\n",
            "Epoch 00079: saving model to checkpoint\n",
            "INFO:tensorflow:Assets written to: checkpoint/assets\n",
            "Epoch 80/100\n",
            "157/157 [==============================] - 1s 5ms/step - loss: 2.0357 - categorical_accuracy: 0.2949 - val_loss: 2.1177 - val_categorical_accuracy: 0.2529\n",
            "\n",
            "Epoch 00080: saving model to checkpoint\n",
            "INFO:tensorflow:Assets written to: checkpoint/assets\n",
            "Epoch 81/100\n",
            "157/157 [==============================] - 1s 5ms/step - loss: 2.0343 - categorical_accuracy: 0.2890 - val_loss: 2.1230 - val_categorical_accuracy: 0.2582\n",
            "\n",
            "Epoch 00081: saving model to checkpoint\n",
            "INFO:tensorflow:Assets written to: checkpoint/assets\n",
            "Epoch 82/100\n",
            "157/157 [==============================] - 1s 5ms/step - loss: 2.0345 - categorical_accuracy: 0.2930 - val_loss: 2.1236 - val_categorical_accuracy: 0.2380\n",
            "\n",
            "Epoch 00082: saving model to checkpoint\n",
            "INFO:tensorflow:Assets written to: checkpoint/assets\n",
            "Epoch 83/100\n",
            "157/157 [==============================] - 1s 5ms/step - loss: 2.0308 - categorical_accuracy: 0.2930 - val_loss: 2.1183 - val_categorical_accuracy: 0.2603\n",
            "\n",
            "Epoch 00083: saving model to checkpoint\n",
            "INFO:tensorflow:Assets written to: checkpoint/assets\n",
            "Epoch 84/100\n",
            "157/157 [==============================] - 1s 5ms/step - loss: 2.0287 - categorical_accuracy: 0.2911 - val_loss: 2.1205 - val_categorical_accuracy: 0.2244\n",
            "\n",
            "Epoch 00084: saving model to checkpoint\n",
            "INFO:tensorflow:Assets written to: checkpoint/assets\n",
            "Epoch 85/100\n",
            "157/157 [==============================] - 1s 5ms/step - loss: 2.0276 - categorical_accuracy: 0.3058 - val_loss: 2.1163 - val_categorical_accuracy: 0.2408\n",
            "\n",
            "Epoch 00085: saving model to checkpoint\n",
            "INFO:tensorflow:Assets written to: checkpoint/assets\n",
            "Epoch 86/100\n",
            "157/157 [==============================] - 1s 5ms/step - loss: 2.0263 - categorical_accuracy: 0.3013 - val_loss: 2.1295 - val_categorical_accuracy: 0.2370\n",
            "\n",
            "Epoch 00086: saving model to checkpoint\n",
            "INFO:tensorflow:Assets written to: checkpoint/assets\n",
            "Epoch 87/100\n",
            "157/157 [==============================] - 1s 5ms/step - loss: 2.0241 - categorical_accuracy: 0.3055 - val_loss: 2.1301 - val_categorical_accuracy: 0.2024\n",
            "\n",
            "Epoch 00087: saving model to checkpoint\n",
            "INFO:tensorflow:Assets written to: checkpoint/assets\n",
            "Epoch 88/100\n",
            "157/157 [==============================] - 1s 5ms/step - loss: 2.0249 - categorical_accuracy: 0.2999 - val_loss: 2.1172 - val_categorical_accuracy: 0.2774\n",
            "\n",
            "Epoch 00088: saving model to checkpoint\n",
            "INFO:tensorflow:Assets written to: checkpoint/assets\n",
            "Epoch 89/100\n",
            "157/157 [==============================] - 1s 5ms/step - loss: 2.0209 - categorical_accuracy: 0.2994 - val_loss: 2.1211 - val_categorical_accuracy: 0.2542\n",
            "\n",
            "Epoch 00089: saving model to checkpoint\n",
            "INFO:tensorflow:Assets written to: checkpoint/assets\n",
            "Epoch 90/100\n",
            "157/157 [==============================] - 1s 5ms/step - loss: 2.0197 - categorical_accuracy: 0.3007 - val_loss: 2.1167 - val_categorical_accuracy: 0.2525\n",
            "\n",
            "Epoch 00090: saving model to checkpoint\n",
            "INFO:tensorflow:Assets written to: checkpoint/assets\n",
            "Epoch 91/100\n",
            "157/157 [==============================] - 1s 5ms/step - loss: 2.0182 - categorical_accuracy: 0.3036 - val_loss: 2.1176 - val_categorical_accuracy: 0.2540\n",
            "\n",
            "Epoch 00091: saving model to checkpoint\n",
            "INFO:tensorflow:Assets written to: checkpoint/assets\n",
            "Epoch 92/100\n",
            "157/157 [==============================] - 1s 6ms/step - loss: 2.0182 - categorical_accuracy: 0.3129 - val_loss: 2.1151 - val_categorical_accuracy: 0.2547\n",
            "\n",
            "Epoch 00092: saving model to checkpoint\n",
            "INFO:tensorflow:Assets written to: checkpoint/assets\n",
            "Epoch 93/100\n",
            "157/157 [==============================] - 1s 5ms/step - loss: 2.0144 - categorical_accuracy: 0.3087 - val_loss: 2.1095 - val_categorical_accuracy: 0.2822\n",
            "\n",
            "Epoch 00093: saving model to checkpoint\n",
            "INFO:tensorflow:Assets written to: checkpoint/assets\n",
            "Epoch 94/100\n",
            "157/157 [==============================] - 1s 5ms/step - loss: 2.0155 - categorical_accuracy: 0.3074 - val_loss: 2.1161 - val_categorical_accuracy: 0.2759\n",
            "\n",
            "Epoch 00094: saving model to checkpoint\n",
            "INFO:tensorflow:Assets written to: checkpoint/assets\n",
            "Epoch 95/100\n",
            "157/157 [==============================] - 1s 6ms/step - loss: 2.0143 - categorical_accuracy: 0.3021 - val_loss: 2.1182 - val_categorical_accuracy: 0.2419\n",
            "\n",
            "Epoch 00095: saving model to checkpoint\n",
            "INFO:tensorflow:Assets written to: checkpoint/assets\n",
            "Epoch 96/100\n",
            "157/157 [==============================] - 1s 5ms/step - loss: 2.0188 - categorical_accuracy: 0.2952 - val_loss: 2.1160 - val_categorical_accuracy: 0.2576\n",
            "\n",
            "Epoch 00096: saving model to checkpoint\n",
            "INFO:tensorflow:Assets written to: checkpoint/assets\n",
            "Epoch 97/100\n",
            "157/157 [==============================] - 1s 5ms/step - loss: 2.0098 - categorical_accuracy: 0.3085 - val_loss: 2.1301 - val_categorical_accuracy: 0.2079\n",
            "\n",
            "Epoch 00097: saving model to checkpoint\n",
            "INFO:tensorflow:Assets written to: checkpoint/assets\n",
            "Epoch 98/100\n",
            "157/157 [==============================] - 1s 5ms/step - loss: 2.0060 - categorical_accuracy: 0.3158 - val_loss: 2.1125 - val_categorical_accuracy: 0.2748\n",
            "\n",
            "Epoch 00098: saving model to checkpoint\n",
            "INFO:tensorflow:Assets written to: checkpoint/assets\n",
            "Epoch 99/100\n",
            "157/157 [==============================] - 1s 5ms/step - loss: 2.0076 - categorical_accuracy: 0.3149 - val_loss: 2.1144 - val_categorical_accuracy: 0.2334\n",
            "\n",
            "Epoch 00099: saving model to checkpoint\n",
            "INFO:tensorflow:Assets written to: checkpoint/assets\n",
            "Epoch 100/100\n",
            "157/157 [==============================] - 1s 5ms/step - loss: 2.0064 - categorical_accuracy: 0.3154 - val_loss: 2.1160 - val_categorical_accuracy: 0.2563\n",
            "\n",
            "Epoch 00100: saving model to checkpoint\n",
            "INFO:tensorflow:Assets written to: checkpoint/assets\n"
          ]
        }
      ]
    },
    {
      "cell_type": "code",
      "metadata": {
        "id": "68wR4liJ11Tp",
        "colab": {
          "base_uri": "https://localhost:8080/"
        },
        "outputId": "4d51b35b-273f-4f01-d8d7-5c226e79e95a"
      },
      "source": [
        "score = model_1.evaluate(X_test_BW, y_class_test, verbose=1)\n",
        "print('Test loss:', score[0])\n",
        "print('Test accuracy:', score[1])"
      ],
      "execution_count": 37,
      "outputs": [
        {
          "output_type": "stream",
          "name": "stdout",
          "text": [
            "313/313 [==============================] - 0s 1ms/step - loss: 2.1160 - categorical_accuracy: 0.2563\n",
            "Test loss: 2.1159896850585938\n",
            "Test accuracy: 0.2563000023365021\n"
          ]
        }
      ]
    },
    {
      "cell_type": "code",
      "metadata": {
        "id": "1TiasugxsX44",
        "colab": {
          "base_uri": "https://localhost:8080/",
          "height": 204
        },
        "outputId": "bfe67b10-5089-4d4f-d998-efca47dd9889"
      },
      "source": [
        "frame = pd.DataFrame(history.history)\n",
        "frame.head()"
      ],
      "execution_count": 38,
      "outputs": [
        {
          "output_type": "execute_result",
          "data": {
            "text/html": [
              "<div>\n",
              "<style scoped>\n",
              "    .dataframe tbody tr th:only-of-type {\n",
              "        vertical-align: middle;\n",
              "    }\n",
              "\n",
              "    .dataframe tbody tr th {\n",
              "        vertical-align: top;\n",
              "    }\n",
              "\n",
              "    .dataframe thead th {\n",
              "        text-align: right;\n",
              "    }\n",
              "</style>\n",
              "<table border=\"1\" class=\"dataframe\">\n",
              "  <thead>\n",
              "    <tr style=\"text-align: right;\">\n",
              "      <th></th>\n",
              "      <th>loss</th>\n",
              "      <th>categorical_accuracy</th>\n",
              "      <th>val_loss</th>\n",
              "      <th>val_categorical_accuracy</th>\n",
              "    </tr>\n",
              "  </thead>\n",
              "  <tbody>\n",
              "    <tr>\n",
              "      <th>0</th>\n",
              "      <td>2.293437</td>\n",
              "      <td>0.1084</td>\n",
              "      <td>2.286396</td>\n",
              "      <td>0.1177</td>\n",
              "    </tr>\n",
              "    <tr>\n",
              "      <th>1</th>\n",
              "      <td>2.262778</td>\n",
              "      <td>0.1315</td>\n",
              "      <td>2.255170</td>\n",
              "      <td>0.1379</td>\n",
              "    </tr>\n",
              "    <tr>\n",
              "      <th>2</th>\n",
              "      <td>2.243653</td>\n",
              "      <td>0.1413</td>\n",
              "      <td>2.247682</td>\n",
              "      <td>0.1390</td>\n",
              "    </tr>\n",
              "    <tr>\n",
              "      <th>3</th>\n",
              "      <td>2.230343</td>\n",
              "      <td>0.1465</td>\n",
              "      <td>2.239760</td>\n",
              "      <td>0.1528</td>\n",
              "    </tr>\n",
              "    <tr>\n",
              "      <th>4</th>\n",
              "      <td>2.221921</td>\n",
              "      <td>0.1536</td>\n",
              "      <td>2.229157</td>\n",
              "      <td>0.1447</td>\n",
              "    </tr>\n",
              "  </tbody>\n",
              "</table>\n",
              "</div>"
            ],
            "text/plain": [
              "       loss  categorical_accuracy  val_loss  val_categorical_accuracy\n",
              "0  2.293437                0.1084  2.286396                    0.1177\n",
              "1  2.262778                0.1315  2.255170                    0.1379\n",
              "2  2.243653                0.1413  2.247682                    0.1390\n",
              "3  2.230343                0.1465  2.239760                    0.1528\n",
              "4  2.221921                0.1536  2.229157                    0.1447"
            ]
          },
          "metadata": {},
          "execution_count": 38
        }
      ]
    },
    {
      "cell_type": "code",
      "metadata": {
        "id": "YXvgZGAy1Tfy",
        "colab": {
          "base_uri": "https://localhost:8080/",
          "height": 369
        },
        "outputId": "23a4fa5d-29ed-405b-be65-48d200002300"
      },
      "source": [
        "# Plot the learning curves for loss vs epoch and accuracy vs epoch for both training and validation sets.\n",
        "plt.figure(figsize=(10,5))\n",
        "ax1 = plt.subplot(121)\n",
        "plt.plot(history.history['loss'])\n",
        "plt.plot(history.history['val_loss'])\n",
        "plt.title('Loss vs. epochs')\n",
        "plt.ylabel('Loss')\n",
        "plt.xlabel('Epoch')\n",
        "plt.legend(['Training','Validation'],loc='lower left')\n",
        "ax2 = plt.subplot(122)\n",
        "plt.plot(history.history['categorical_accuracy'])\n",
        "plt.plot(history.history['val_categorical_accuracy'])\n",
        "plt.title('Accuracy vs. epochs')\n",
        "plt.ylabel('Accuracy')\n",
        "plt.xlabel('Epoch')\n",
        "plt.legend(['Training','Validation'],loc='lower right')\n",
        "plt.tight_layout()\n",
        "plt.show()"
      ],
      "execution_count": 39,
      "outputs": [
        {
          "output_type": "display_data",
          "data": {
            "image/png": "[encoded data removed]",
            "text/plain": [
              "<Figure size 720x360 with 2 Axes>"
            ]
          },
          "metadata": {
            "needs_background": "light"
          }
        }
      ]
    },
    {
      "cell_type": "code",
      "metadata": {
        "id": "fcVL7Nb_2EU5"
      },
      "source": [
        "y_test_true_tmp = np.argmax(y_class_test, axis = 1)\n",
        "label_count = np.unique(y_test_true_tmp, return_counts = True)[1]"
      ],
      "execution_count": 40,
      "outputs": []
    },
    {
      "cell_type": "code",
      "metadata": {
        "id": "EQLN_ohH2FJe"
      },
      "source": [
        "# Define functions for evaluating model accuracy by class and overall\n",
        "\n",
        "def eval_model_by_class(model, test_set):\n",
        "  y_test_pred = model.predict(test_set)\n",
        "  y_test_pred_tmp=np.argmax(y_test_pred,axis=1)\n",
        "\n",
        "  y_test_true = [label_Dict[x] for x in y_test_true_tmp]\n",
        "  y_test_pred = [label_Dict[x] for x in y_test_pred_tmp]\n",
        "\n",
        "  pred_df = pd.DataFrame({'y_true': y_test_true, 'y_pred': y_test_pred})\n",
        "  pred_df['accurate_preds'] = pred_df.y_true == pred_df.y_pred\n",
        "  pred_df = pred_df.groupby(['y_true']).sum().reset_index()\n",
        "  pred_df['label_count'] = label_count\n",
        "  pred_df['class_acc'] = pred_df.accurate_preds / pred_df.label_count\n",
        "  pred_df = pred_df.sort_values(by = 'class_acc').reset_index()\n",
        "  pred_df['overall_acc'] = sum(pred_df.accurate_preds) / sum(pred_df.label_count)\n",
        "  pred_df = pred_df.sort_values('y_true').reset_index(drop = True)\n",
        "\n",
        "  return(pred_df)\n",
        "\n",
        "def find_wrong_preds(model, test_set):\n",
        "  y_test_pred = model.predict(test_set)\n",
        "  y_test_pred_tmp=np.argmax(y_test_pred,axis=1)\n",
        "\n",
        "  y_test_true = [label_Dict[x] for x in y_test_true_tmp]\n",
        "  y_test_pred = [label_Dict[x] for x in y_test_pred_tmp]\n",
        "\n",
        "  pred_df = pd.DataFrame({'y_true': y_test_true, 'y_pred': y_test_pred})\n",
        "  pred_df['accurate_preds'] = pred_df.y_true == pred_df.y_pred\n",
        "  # pred_df = pred_df.sort_values('y_true').reset_index(drop = True)\n",
        "  pred_df = pred_df.sort_values('y_true')\n",
        "\n",
        "  return(pred_df)"
      ],
      "execution_count": 41,
      "outputs": []
    },
    {
      "cell_type": "code",
      "metadata": {
        "id": "M7axUfue2IKZ",
        "colab": {
          "base_uri": "https://localhost:8080/",
          "height": 359
        },
        "outputId": "7148a783-2bd9-4402-d489-d4a86757d36a"
      },
      "source": [
        "M1_pred_df = eval_model_by_class(model_1, X_test_BW)\n",
        "M1_pred_df"
      ],
      "execution_count": 42,
      "outputs": [
        {
          "output_type": "execute_result",
          "data": {
            "text/html": [
              "<div>\n",
              "<style scoped>\n",
              "    .dataframe tbody tr th:only-of-type {\n",
              "        vertical-align: middle;\n",
              "    }\n",
              "\n",
              "    .dataframe tbody tr th {\n",
              "        vertical-align: top;\n",
              "    }\n",
              "\n",
              "    .dataframe thead th {\n",
              "        text-align: right;\n",
              "    }\n",
              "</style>\n",
              "<table border=\"1\" class=\"dataframe\">\n",
              "  <thead>\n",
              "    <tr style=\"text-align: right;\">\n",
              "      <th></th>\n",
              "      <th>index</th>\n",
              "      <th>y_true</th>\n",
              "      <th>accurate_preds</th>\n",
              "      <th>label_count</th>\n",
              "      <th>class_acc</th>\n",
              "      <th>overall_acc</th>\n",
              "    </tr>\n",
              "  </thead>\n",
              "  <tbody>\n",
              "    <tr>\n",
              "      <th>0</th>\n",
              "      <td>0</td>\n",
              "      <td>b'AnnualCrop'</td>\n",
              "      <td>340</td>\n",
              "      <td>1000</td>\n",
              "      <td>0.340</td>\n",
              "      <td>0.2563</td>\n",
              "    </tr>\n",
              "    <tr>\n",
              "      <th>1</th>\n",
              "      <td>1</td>\n",
              "      <td>b'Forest'</td>\n",
              "      <td>579</td>\n",
              "      <td>1000</td>\n",
              "      <td>0.579</td>\n",
              "      <td>0.2563</td>\n",
              "    </tr>\n",
              "    <tr>\n",
              "      <th>2</th>\n",
              "      <td>2</td>\n",
              "      <td>b'HerbaceousVegetation'</td>\n",
              "      <td>61</td>\n",
              "      <td>1000</td>\n",
              "      <td>0.061</td>\n",
              "      <td>0.2563</td>\n",
              "    </tr>\n",
              "    <tr>\n",
              "      <th>3</th>\n",
              "      <td>3</td>\n",
              "      <td>b'Highway'</td>\n",
              "      <td>205</td>\n",
              "      <td>1000</td>\n",
              "      <td>0.205</td>\n",
              "      <td>0.2563</td>\n",
              "    </tr>\n",
              "    <tr>\n",
              "      <th>4</th>\n",
              "      <td>4</td>\n",
              "      <td>b'Industrial'</td>\n",
              "      <td>657</td>\n",
              "      <td>1000</td>\n",
              "      <td>0.657</td>\n",
              "      <td>0.2563</td>\n",
              "    </tr>\n",
              "    <tr>\n",
              "      <th>5</th>\n",
              "      <td>5</td>\n",
              "      <td>b'Pasture'</td>\n",
              "      <td>0</td>\n",
              "      <td>1000</td>\n",
              "      <td>0.000</td>\n",
              "      <td>0.2563</td>\n",
              "    </tr>\n",
              "    <tr>\n",
              "      <th>6</th>\n",
              "      <td>6</td>\n",
              "      <td>b'PermanentCrop'</td>\n",
              "      <td>114</td>\n",
              "      <td>1000</td>\n",
              "      <td>0.114</td>\n",
              "      <td>0.2563</td>\n",
              "    </tr>\n",
              "    <tr>\n",
              "      <th>7</th>\n",
              "      <td>7</td>\n",
              "      <td>b'Residential'</td>\n",
              "      <td>176</td>\n",
              "      <td>1000</td>\n",
              "      <td>0.176</td>\n",
              "      <td>0.2563</td>\n",
              "    </tr>\n",
              "    <tr>\n",
              "      <th>8</th>\n",
              "      <td>8</td>\n",
              "      <td>b'River'</td>\n",
              "      <td>431</td>\n",
              "      <td>1000</td>\n",
              "      <td>0.431</td>\n",
              "      <td>0.2563</td>\n",
              "    </tr>\n",
              "    <tr>\n",
              "      <th>9</th>\n",
              "      <td>9</td>\n",
              "      <td>b'SeaLake'</td>\n",
              "      <td>0</td>\n",
              "      <td>1000</td>\n",
              "      <td>0.000</td>\n",
              "      <td>0.2563</td>\n",
              "    </tr>\n",
              "  </tbody>\n",
              "</table>\n",
              "</div>"
            ],
            "text/plain": [
              "   index                   y_true  ...  class_acc  overall_acc\n",
              "0      0            b'AnnualCrop'  ...      0.340       0.2563\n",
              "1      1                b'Forest'  ...      0.579       0.2563\n",
              "2      2  b'HerbaceousVegetation'  ...      0.061       0.2563\n",
              "3      3               b'Highway'  ...      0.205       0.2563\n",
              "4      4            b'Industrial'  ...      0.657       0.2563\n",
              "5      5               b'Pasture'  ...      0.000       0.2563\n",
              "6      6         b'PermanentCrop'  ...      0.114       0.2563\n",
              "7      7           b'Residential'  ...      0.176       0.2563\n",
              "8      8                 b'River'  ...      0.431       0.2563\n",
              "9      9               b'SeaLake'  ...      0.000       0.2563\n",
              "\n",
              "[10 rows x 6 columns]"
            ]
          },
          "metadata": {},
          "execution_count": 42
        }
      ]
    },
    {
      "cell_type": "code",
      "metadata": {
        "id": "NutzL8rNpONn",
        "colab": {
          "base_uri": "https://localhost:8080/",
          "height": 419
        },
        "outputId": "ea934bd2-6b60-4e99-e5aa-5925ba49f40b"
      },
      "source": [
        "M1_pred_wrong = find_wrong_preds(model_1, X_test_BW)\n",
        "M1_pred_wrong"
      ],
      "execution_count": 43,
      "outputs": [
        {
          "output_type": "execute_result",
          "data": {
            "text/html": [
              "<div>\n",
              "<style scoped>\n",
              "    .dataframe tbody tr th:only-of-type {\n",
              "        vertical-align: middle;\n",
              "    }\n",
              "\n",
              "    .dataframe tbody tr th {\n",
              "        vertical-align: top;\n",
              "    }\n",
              "\n",
              "    .dataframe thead th {\n",
              "        text-align: right;\n",
              "    }\n",
              "</style>\n",
              "<table border=\"1\" class=\"dataframe\">\n",
              "  <thead>\n",
              "    <tr style=\"text-align: right;\">\n",
              "      <th></th>\n",
              "      <th>y_true</th>\n",
              "      <th>y_pred</th>\n",
              "      <th>accurate_preds</th>\n",
              "    </tr>\n",
              "  </thead>\n",
              "  <tbody>\n",
              "    <tr>\n",
              "      <th>702</th>\n",
              "      <td>b'AnnualCrop'</td>\n",
              "      <td>b'AnnualCrop'</td>\n",
              "      <td>True</td>\n",
              "    </tr>\n",
              "    <tr>\n",
              "      <th>5448</th>\n",
              "      <td>b'AnnualCrop'</td>\n",
              "      <td>b'AnnualCrop'</td>\n",
              "      <td>True</td>\n",
              "    </tr>\n",
              "    <tr>\n",
              "      <th>9648</th>\n",
              "      <td>b'AnnualCrop'</td>\n",
              "      <td>b'Highway'</td>\n",
              "      <td>False</td>\n",
              "    </tr>\n",
              "    <tr>\n",
              "      <th>5446</th>\n",
              "      <td>b'AnnualCrop'</td>\n",
              "      <td>b'PermanentCrop'</td>\n",
              "      <td>False</td>\n",
              "    </tr>\n",
              "    <tr>\n",
              "      <th>3077</th>\n",
              "      <td>b'AnnualCrop'</td>\n",
              "      <td>b'AnnualCrop'</td>\n",
              "      <td>True</td>\n",
              "    </tr>\n",
              "    <tr>\n",
              "      <th>...</th>\n",
              "      <td>...</td>\n",
              "      <td>...</td>\n",
              "      <td>...</td>\n",
              "    </tr>\n",
              "    <tr>\n",
              "      <th>1810</th>\n",
              "      <td>b'SeaLake'</td>\n",
              "      <td>b'Forest'</td>\n",
              "      <td>False</td>\n",
              "    </tr>\n",
              "    <tr>\n",
              "      <th>5438</th>\n",
              "      <td>b'SeaLake'</td>\n",
              "      <td>b'AnnualCrop'</td>\n",
              "      <td>False</td>\n",
              "    </tr>\n",
              "    <tr>\n",
              "      <th>5450</th>\n",
              "      <td>b'SeaLake'</td>\n",
              "      <td>b'Highway'</td>\n",
              "      <td>False</td>\n",
              "    </tr>\n",
              "    <tr>\n",
              "      <th>3137</th>\n",
              "      <td>b'SeaLake'</td>\n",
              "      <td>b'Forest'</td>\n",
              "      <td>False</td>\n",
              "    </tr>\n",
              "    <tr>\n",
              "      <th>9999</th>\n",
              "      <td>b'SeaLake'</td>\n",
              "      <td>b'Forest'</td>\n",
              "      <td>False</td>\n",
              "    </tr>\n",
              "  </tbody>\n",
              "</table>\n",
              "<p>10000 rows × 3 columns</p>\n",
              "</div>"
            ],
            "text/plain": [
              "             y_true            y_pred  accurate_preds\n",
              "702   b'AnnualCrop'     b'AnnualCrop'            True\n",
              "5448  b'AnnualCrop'     b'AnnualCrop'            True\n",
              "9648  b'AnnualCrop'        b'Highway'           False\n",
              "5446  b'AnnualCrop'  b'PermanentCrop'           False\n",
              "3077  b'AnnualCrop'     b'AnnualCrop'            True\n",
              "...             ...               ...             ...\n",
              "1810     b'SeaLake'         b'Forest'           False\n",
              "5438     b'SeaLake'     b'AnnualCrop'           False\n",
              "5450     b'SeaLake'        b'Highway'           False\n",
              "3137     b'SeaLake'         b'Forest'           False\n",
              "9999     b'SeaLake'         b'Forest'           False\n",
              "\n",
              "[10000 rows x 3 columns]"
            ]
          },
          "metadata": {},
          "execution_count": 43
        }
      ]
    },
    {
      "cell_type": "markdown",
      "metadata": {
        "id": "X5W_IcUYfMnx"
      },
      "source": [
        "#more"
      ]
    },
    {
      "cell_type": "code",
      "metadata": {
        "colab": {
          "base_uri": "https://localhost:8080/",
          "height": 1000
        },
        "id": "1Xxm82IeWrsr",
        "outputId": "a6b67900-0a01-40a1-ee99-58320751a65d"
      },
      "source": [
        "def model_2(input_shape) :\n",
        "  model_2 = Sequential()\n",
        "  model_2.add(Dense(num_classes, activation = 'relu', name = 'dense_1', input_shape=(input_shape)))\n",
        "  model_2.add(Dense(num_classes, activation = 'relu', name = 'dense_2'))\n",
        "  model_2.add(Flatten())\n",
        "  model_2.add(Dense(10, activation = 'softmax', name = 'dense_3'))\n",
        "  \n",
        "  model_2.compile (optimizer = tf.keras.optimizers.Adam(learning_rate=0.0001) ,\n",
        "                 loss = tf.keras.losses.CategoricalCrossentropy(), \n",
        "                 metrics = [tf.keras.metrics.CategoricalAccuracy()])\n",
        "    \n",
        "  return model_2\n",
        "\n",
        "model_2 = model_2(X_train_BW[0].shape)\n",
        "print(model_2.summary())\n",
        "\n",
        "history_2 = model_2.fit(X_train_BW,y_class_train, validation_data= (X_test_BW, y_class_test) , \n",
        "                      batch_size=64, epochs=100, callbacks=[checkpoint], verbose=1)\n",
        "\n",
        "frame_2 = pd.DataFrame(history.history)\n",
        "\n",
        "score = model_2.evaluate(X_test_BW, y_class_test, verbose=1)\n",
        "print('Test loss:', score[0])\n",
        "print('Test accuracy:', score[1])\n",
        "\n",
        "plt.figure(figsize=(10,5))\n",
        "ax1 = plt.subplot(121)\n",
        "plt.plot(history_2.history['loss'])\n",
        "plt.plot(history_2.history['val_loss'])\n",
        "plt.title('Loss vs. epochs')\n",
        "plt.ylabel('Loss')\n",
        "plt.xlabel('Epoch')\n",
        "plt.legend(['Training','Validation'],loc='lower left')\n",
        "ax2 = plt.subplot(122)\n",
        "plt.plot(history_2.history['categorical_accuracy'])\n",
        "plt.plot(history_2.history['val_categorical_accuracy'])\n",
        "plt.title('Accuracy vs. epochs')\n",
        "plt.ylabel('Accuracy')\n",
        "plt.xlabel('Epoch')\n",
        "plt.legend(['Training','Validation'],loc='lower right')\n",
        "plt.tight_layout()\n",
        "plt.show()"
      ],
      "execution_count": null,
      "outputs": [
        {
          "output_type": "stream",
          "name": "stdout",
          "text": [
            "Model: \"sequential_1\"\n",
            "_________________________________________________________________\n",
            "Layer (type)                 Output Shape              Param #   \n",
            "=================================================================\n",
            "dense_1 (Dense)              (None, 10)                40970     \n",
            "_________________________________________________________________\n",
            "dense_2 (Dense)              (None, 10)                110       \n",
            "_________________________________________________________________\n",
            "flatten (Flatten)            (None, 10)                0         \n",
            "_________________________________________________________________\n",
            "dense_3 (Dense)              (None, 10)                110       \n",
            "=================================================================\n",
            "Total params: 41,190\n",
            "Trainable params: 41,190\n",
            "Non-trainable params: 0\n",
            "_________________________________________________________________\n",
            "None\n",
            "Epoch 1/100\n",
            "157/157 [==============================] - 2s 10ms/step - loss: 2.3053 - categorical_accuracy: 0.1046 - val_loss: 2.3026 - val_categorical_accuracy: 0.1000\n",
            "\n",
            "Epoch 00001: saving model to checkpoint\n",
            "INFO:tensorflow:Assets written to: checkpoint/assets\n",
            "Epoch 2/100\n",
            "157/157 [==============================] - 1s 9ms/step - loss: 2.3026 - categorical_accuracy: 0.1000 - val_loss: 2.3026 - val_categorical_accuracy: 0.1000\n",
            "\n",
            "Epoch 00002: saving model to checkpoint\n",
            "INFO:tensorflow:Assets written to: checkpoint/assets\n",
            "Epoch 3/100\n",
            "157/157 [==============================] - 1s 9ms/step - loss: 2.3026 - categorical_accuracy: 0.1000 - val_loss: 2.3026 - val_categorical_accuracy: 0.1000\n",
            "\n",
            "Epoch 00003: saving model to checkpoint\n",
            "INFO:tensorflow:Assets written to: checkpoint/assets\n",
            "Epoch 4/100\n",
            "157/157 [==============================] - 2s 11ms/step - loss: 2.3026 - categorical_accuracy: 0.0980 - val_loss: 2.3026 - val_categorical_accuracy: 0.1000\n",
            "\n",
            "Epoch 00004: saving model to checkpoint\n",
            "INFO:tensorflow:Assets written to: checkpoint/assets\n",
            "Epoch 5/100\n",
            "157/157 [==============================] - 1s 9ms/step - loss: 2.3026 - categorical_accuracy: 0.1000 - val_loss: 2.3026 - val_categorical_accuracy: 0.1000\n",
            "\n",
            "Epoch 00005: saving model to checkpoint\n",
            "INFO:tensorflow:Assets written to: checkpoint/assets\n",
            "Epoch 6/100\n",
            "157/157 [==============================] - 1s 9ms/step - loss: 2.3026 - categorical_accuracy: 0.0968 - val_loss: 2.3026 - val_categorical_accuracy: 0.1000\n",
            "\n",
            "Epoch 00006: saving model to checkpoint\n",
            "INFO:tensorflow:Assets written to: checkpoint/assets\n",
            "Epoch 7/100\n",
            "157/157 [==============================] - 1s 8ms/step - loss: 2.3026 - categorical_accuracy: 0.1001 - val_loss: 2.3026 - val_categorical_accuracy: 0.1000\n",
            "\n",
            "Epoch 00007: saving model to checkpoint\n",
            "INFO:tensorflow:Assets written to: checkpoint/assets\n",
            "Epoch 8/100\n",
            "157/157 [==============================] - 1s 9ms/step - loss: 2.3026 - categorical_accuracy: 0.0946 - val_loss: 2.3026 - val_categorical_accuracy: 0.1000\n",
            "\n",
            "Epoch 00008: saving model to checkpoint\n",
            "INFO:tensorflow:Assets written to: checkpoint/assets\n",
            "Epoch 9/100\n",
            "157/157 [==============================] - 1s 9ms/step - loss: 2.3026 - categorical_accuracy: 0.1000 - val_loss: 2.3026 - val_categorical_accuracy: 0.1000\n",
            "\n",
            "Epoch 00009: saving model to checkpoint\n",
            "INFO:tensorflow:Assets written to: checkpoint/assets\n",
            "Epoch 10/100\n",
            "157/157 [==============================] - 2s 11ms/step - loss: 2.3026 - categorical_accuracy: 0.0961 - val_loss: 2.3026 - val_categorical_accuracy: 0.1000\n",
            "\n",
            "Epoch 00010: saving model to checkpoint\n",
            "INFO:tensorflow:Assets written to: checkpoint/assets\n",
            "Epoch 11/100\n",
            "157/157 [==============================] - 1s 9ms/step - loss: 2.3026 - categorical_accuracy: 0.0945 - val_loss: 2.3026 - val_categorical_accuracy: 0.1000\n",
            "\n",
            "Epoch 00011: saving model to checkpoint\n",
            "INFO:tensorflow:Assets written to: checkpoint/assets\n",
            "Epoch 12/100\n",
            "157/157 [==============================] - 1s 9ms/step - loss: 2.3026 - categorical_accuracy: 0.0947 - val_loss: 2.3026 - val_categorical_accuracy: 0.1000\n",
            "\n",
            "Epoch 00012: saving model to checkpoint\n",
            "INFO:tensorflow:Assets written to: checkpoint/assets\n",
            "Epoch 13/100\n",
            "157/157 [==============================] - 1s 8ms/step - loss: 2.3026 - categorical_accuracy: 0.0960 - val_loss: 2.3026 - val_categorical_accuracy: 0.1000\n",
            "\n",
            "Epoch 00013: saving model to checkpoint\n",
            "INFO:tensorflow:Assets written to: checkpoint/assets\n",
            "Epoch 14/100\n",
            "157/157 [==============================] - 1s 8ms/step - loss: 2.3026 - categorical_accuracy: 0.0978 - val_loss: 2.3026 - val_categorical_accuracy: 0.1000\n",
            "\n",
            "Epoch 00014: saving model to checkpoint\n",
            "INFO:tensorflow:Assets written to: checkpoint/assets\n",
            "Epoch 15/100\n",
            "157/157 [==============================] - 1s 9ms/step - loss: 2.3026 - categorical_accuracy: 0.0973 - val_loss: 2.3026 - val_categorical_accuracy: 0.1000\n",
            "\n",
            "Epoch 00015: saving model to checkpoint\n",
            "INFO:tensorflow:Assets written to: checkpoint/assets\n",
            "Epoch 16/100\n",
            "157/157 [==============================] - 1s 9ms/step - loss: 2.3026 - categorical_accuracy: 0.0909 - val_loss: 2.3026 - val_categorical_accuracy: 0.1000\n",
            "\n",
            "Epoch 00016: saving model to checkpoint\n",
            "INFO:tensorflow:Assets written to: checkpoint/assets\n",
            "Epoch 17/100\n",
            "157/157 [==============================] - 1s 8ms/step - loss: 2.3026 - categorical_accuracy: 0.0963 - val_loss: 2.3026 - val_categorical_accuracy: 0.1000\n",
            "\n",
            "Epoch 00017: saving model to checkpoint\n",
            "INFO:tensorflow:Assets written to: checkpoint/assets\n",
            "Epoch 18/100\n",
            "157/157 [==============================] - 1s 8ms/step - loss: 2.3026 - categorical_accuracy: 0.0973 - val_loss: 2.3026 - val_categorical_accuracy: 0.1000\n",
            "\n",
            "Epoch 00018: saving model to checkpoint\n",
            "INFO:tensorflow:Assets written to: checkpoint/assets\n",
            "Epoch 19/100\n",
            "157/157 [==============================] - 2s 10ms/step - loss: 2.3026 - categorical_accuracy: 0.0950 - val_loss: 2.3026 - val_categorical_accuracy: 0.1000\n",
            "\n",
            "Epoch 00019: saving model to checkpoint\n",
            "INFO:tensorflow:Assets written to: checkpoint/assets\n",
            "Epoch 20/100\n",
            "157/157 [==============================] - 1s 9ms/step - loss: 2.3026 - categorical_accuracy: 0.1000 - val_loss: 2.3026 - val_categorical_accuracy: 0.1000\n",
            "\n",
            "Epoch 00020: saving model to checkpoint\n",
            "INFO:tensorflow:Assets written to: checkpoint/assets\n",
            "Epoch 21/100\n",
            "157/157 [==============================] - 1s 8ms/step - loss: 2.3026 - categorical_accuracy: 0.0978 - val_loss: 2.3026 - val_categorical_accuracy: 0.1000\n",
            "\n",
            "Epoch 00021: saving model to checkpoint\n",
            "INFO:tensorflow:Assets written to: checkpoint/assets\n",
            "Epoch 22/100\n",
            "157/157 [==============================] - 1s 9ms/step - loss: 2.3026 - categorical_accuracy: 0.0976 - val_loss: 2.3026 - val_categorical_accuracy: 0.1000\n",
            "\n",
            "Epoch 00022: saving model to checkpoint\n",
            "INFO:tensorflow:Assets written to: checkpoint/assets\n",
            "Epoch 23/100\n",
            "157/157 [==============================] - 2s 10ms/step - loss: 2.3026 - categorical_accuracy: 0.0960 - val_loss: 2.3026 - val_categorical_accuracy: 0.1000\n",
            "\n",
            "Epoch 00023: saving model to checkpoint\n",
            "INFO:tensorflow:Assets written to: checkpoint/assets\n",
            "Epoch 24/100\n",
            "157/157 [==============================] - 1s 8ms/step - loss: 2.3026 - categorical_accuracy: 0.0928 - val_loss: 2.3026 - val_categorical_accuracy: 0.1000\n",
            "\n",
            "Epoch 00024: saving model to checkpoint\n",
            "INFO:tensorflow:Assets written to: checkpoint/assets\n",
            "Epoch 25/100\n",
            "157/157 [==============================] - 1s 9ms/step - loss: 2.3026 - categorical_accuracy: 0.0939 - val_loss: 2.3026 - val_categorical_accuracy: 0.1000\n",
            "\n",
            "Epoch 00025: saving model to checkpoint\n",
            "INFO:tensorflow:Assets written to: checkpoint/assets\n",
            "Epoch 26/100\n",
            "157/157 [==============================] - 2s 10ms/step - loss: 2.3026 - categorical_accuracy: 0.0998 - val_loss: 2.3026 - val_categorical_accuracy: 0.1000\n",
            "\n",
            "Epoch 00026: saving model to checkpoint\n",
            "INFO:tensorflow:Assets written to: checkpoint/assets\n",
            "Epoch 27/100\n",
            "157/157 [==============================] - 1s 8ms/step - loss: 2.3026 - categorical_accuracy: 0.0928 - val_loss: 2.3026 - val_categorical_accuracy: 0.1000\n",
            "\n",
            "Epoch 00027: saving model to checkpoint\n",
            "INFO:tensorflow:Assets written to: checkpoint/assets\n",
            "Epoch 28/100\n",
            "157/157 [==============================] - 2s 10ms/step - loss: 2.3026 - categorical_accuracy: 0.0944 - val_loss: 2.3026 - val_categorical_accuracy: 0.1000\n",
            "\n",
            "Epoch 00028: saving model to checkpoint\n",
            "INFO:tensorflow:Assets written to: checkpoint/assets\n",
            "Epoch 29/100\n",
            "157/157 [==============================] - 1s 8ms/step - loss: 2.3026 - categorical_accuracy: 0.0957 - val_loss: 2.3026 - val_categorical_accuracy: 0.1000\n",
            "\n",
            "Epoch 00029: saving model to checkpoint\n",
            "INFO:tensorflow:Assets written to: checkpoint/assets\n",
            "Epoch 30/100\n",
            "157/157 [==============================] - 1s 9ms/step - loss: 2.3026 - categorical_accuracy: 0.0937 - val_loss: 2.3026 - val_categorical_accuracy: 0.1000\n",
            "\n",
            "Epoch 00030: saving model to checkpoint\n",
            "INFO:tensorflow:Assets written to: checkpoint/assets\n",
            "Epoch 31/100\n",
            "157/157 [==============================] - 1s 8ms/step - loss: 2.3026 - categorical_accuracy: 0.0964 - val_loss: 2.3026 - val_categorical_accuracy: 0.1000\n",
            "\n",
            "Epoch 00031: saving model to checkpoint\n",
            "INFO:tensorflow:Assets written to: checkpoint/assets\n",
            "Epoch 32/100\n",
            "157/157 [==============================] - 2s 10ms/step - loss: 2.3026 - categorical_accuracy: 0.0911 - val_loss: 2.3026 - val_categorical_accuracy: 0.1000\n",
            "\n",
            "Epoch 00032: saving model to checkpoint\n",
            "INFO:tensorflow:Assets written to: checkpoint/assets\n",
            "Epoch 33/100\n",
            "157/157 [==============================] - 1s 8ms/step - loss: 2.3026 - categorical_accuracy: 0.0914 - val_loss: 2.3026 - val_categorical_accuracy: 0.1000\n",
            "\n",
            "Epoch 00033: saving model to checkpoint\n",
            "INFO:tensorflow:Assets written to: checkpoint/assets\n",
            "Epoch 34/100\n",
            "157/157 [==============================] - 1s 8ms/step - loss: 2.3026 - categorical_accuracy: 0.0924 - val_loss: 2.3026 - val_categorical_accuracy: 0.1000\n",
            "\n",
            "Epoch 00034: saving model to checkpoint\n",
            "INFO:tensorflow:Assets written to: checkpoint/assets\n",
            "Epoch 35/100\n",
            "157/157 [==============================] - 1s 8ms/step - loss: 2.3026 - categorical_accuracy: 0.0921 - val_loss: 2.3026 - val_categorical_accuracy: 0.1000\n",
            "\n",
            "Epoch 00035: saving model to checkpoint\n",
            "INFO:tensorflow:Assets written to: checkpoint/assets\n",
            "Epoch 36/100\n",
            "157/157 [==============================] - 1s 8ms/step - loss: 2.3026 - categorical_accuracy: 0.0971 - val_loss: 2.3026 - val_categorical_accuracy: 0.1000\n",
            "\n",
            "Epoch 00036: saving model to checkpoint\n",
            "INFO:tensorflow:Assets written to: checkpoint/assets\n",
            "Epoch 37/100\n",
            "157/157 [==============================] - 2s 11ms/step - loss: 2.3026 - categorical_accuracy: 0.0948 - val_loss: 2.3026 - val_categorical_accuracy: 0.1000\n",
            "\n",
            "Epoch 00037: saving model to checkpoint\n",
            "INFO:tensorflow:Assets written to: checkpoint/assets\n",
            "Epoch 38/100\n",
            "157/157 [==============================] - 1s 9ms/step - loss: 2.3026 - categorical_accuracy: 0.0965 - val_loss: 2.3026 - val_categorical_accuracy: 0.1000\n",
            "\n",
            "Epoch 00038: saving model to checkpoint\n",
            "INFO:tensorflow:Assets written to: checkpoint/assets\n",
            "Epoch 39/100\n",
            "157/157 [==============================] - 2s 10ms/step - loss: 2.3026 - categorical_accuracy: 0.0965 - val_loss: 2.3026 - val_categorical_accuracy: 0.1000\n",
            "\n",
            "Epoch 00039: saving model to checkpoint\n",
            "INFO:tensorflow:Assets written to: checkpoint/assets\n",
            "Epoch 40/100\n",
            "157/157 [==============================] - 2s 10ms/step - loss: 2.3026 - categorical_accuracy: 0.0941 - val_loss: 2.3026 - val_categorical_accuracy: 0.1000\n",
            "\n",
            "Epoch 00040: saving model to checkpoint\n",
            "INFO:tensorflow:Assets written to: checkpoint/assets\n",
            "Epoch 41/100\n",
            "157/157 [==============================] - 2s 11ms/step - loss: 2.3026 - categorical_accuracy: 0.1000 - val_loss: 2.3026 - val_categorical_accuracy: 0.1000\n",
            "\n",
            "Epoch 00041: saving model to checkpoint\n",
            "INFO:tensorflow:Assets written to: checkpoint/assets\n",
            "Epoch 42/100\n",
            "157/157 [==============================] - 1s 8ms/step - loss: 2.3026 - categorical_accuracy: 0.0957 - val_loss: 2.3026 - val_categorical_accuracy: 0.1000\n",
            "\n",
            "Epoch 00042: saving model to checkpoint\n",
            "INFO:tensorflow:Assets written to: checkpoint/assets\n",
            "Epoch 43/100\n",
            "157/157 [==============================] - 2s 10ms/step - loss: 2.3026 - categorical_accuracy: 0.0931 - val_loss: 2.3026 - val_categorical_accuracy: 0.1000\n",
            "\n",
            "Epoch 00043: saving model to checkpoint\n",
            "INFO:tensorflow:Assets written to: checkpoint/assets\n",
            "Epoch 44/100\n",
            "157/157 [==============================] - 1s 8ms/step - loss: 2.3026 - categorical_accuracy: 0.0946 - val_loss: 2.3026 - val_categorical_accuracy: 0.1000\n",
            "\n",
            "Epoch 00044: saving model to checkpoint\n",
            "INFO:tensorflow:Assets written to: checkpoint/assets\n",
            "Epoch 45/100\n",
            "157/157 [==============================] - 1s 8ms/step - loss: 2.3026 - categorical_accuracy: 0.0936 - val_loss: 2.3026 - val_categorical_accuracy: 0.1000\n",
            "\n",
            "Epoch 00045: saving model to checkpoint\n",
            "INFO:tensorflow:Assets written to: checkpoint/assets\n",
            "Epoch 46/100\n",
            "157/157 [==============================] - 1s 8ms/step - loss: 2.3026 - categorical_accuracy: 0.0970 - val_loss: 2.3026 - val_categorical_accuracy: 0.1000\n",
            "\n",
            "Epoch 00046: saving model to checkpoint\n",
            "INFO:tensorflow:Assets written to: checkpoint/assets\n",
            "Epoch 47/100\n",
            "157/157 [==============================] - 1s 9ms/step - loss: 2.3026 - categorical_accuracy: 0.0970 - val_loss: 2.3026 - val_categorical_accuracy: 0.1000\n",
            "\n",
            "Epoch 00047: saving model to checkpoint\n",
            "INFO:tensorflow:Assets written to: checkpoint/assets\n",
            "Epoch 48/100\n",
            "157/157 [==============================] - 1s 9ms/step - loss: 2.3026 - categorical_accuracy: 0.0932 - val_loss: 2.3026 - val_categorical_accuracy: 0.1000\n",
            "\n",
            "Epoch 00048: saving model to checkpoint\n",
            "INFO:tensorflow:Assets written to: checkpoint/assets\n",
            "Epoch 49/100\n",
            "157/157 [==============================] - 1s 9ms/step - loss: 2.3026 - categorical_accuracy: 0.0945 - val_loss: 2.3026 - val_categorical_accuracy: 0.1000\n",
            "\n",
            "Epoch 00049: saving model to checkpoint\n",
            "INFO:tensorflow:Assets written to: checkpoint/assets\n",
            "Epoch 50/100\n",
            "157/157 [==============================] - 1s 9ms/step - loss: 2.3026 - categorical_accuracy: 0.0954 - val_loss: 2.3026 - val_categorical_accuracy: 0.1000\n",
            "\n",
            "Epoch 00050: saving model to checkpoint\n",
            "INFO:tensorflow:Assets written to: checkpoint/assets\n",
            "Epoch 51/100\n",
            "157/157 [==============================] - 1s 9ms/step - loss: 2.3026 - categorical_accuracy: 0.0966 - val_loss: 2.3026 - val_categorical_accuracy: 0.1000\n",
            "\n",
            "Epoch 00051: saving model to checkpoint\n",
            "INFO:tensorflow:Assets written to: checkpoint/assets\n",
            "Epoch 52/100\n",
            "157/157 [==============================] - 2s 11ms/step - loss: 2.3026 - categorical_accuracy: 0.0958 - val_loss: 2.3026 - val_categorical_accuracy: 0.1000\n",
            "\n",
            "Epoch 00052: saving model to checkpoint\n",
            "INFO:tensorflow:Assets written to: checkpoint/assets\n",
            "Epoch 53/100\n",
            "157/157 [==============================] - 1s 9ms/step - loss: 2.3026 - categorical_accuracy: 0.0989 - val_loss: 2.3026 - val_categorical_accuracy: 0.1000\n",
            "\n",
            "Epoch 00053: saving model to checkpoint\n",
            "INFO:tensorflow:Assets written to: checkpoint/assets\n",
            "Epoch 54/100\n",
            "157/157 [==============================] - 1s 9ms/step - loss: 2.3026 - categorical_accuracy: 0.0959 - val_loss: 2.3026 - val_categorical_accuracy: 0.1000\n",
            "\n",
            "Epoch 00054: saving model to checkpoint\n",
            "INFO:tensorflow:Assets written to: checkpoint/assets\n",
            "Epoch 55/100\n",
            "157/157 [==============================] - 1s 9ms/step - loss: 2.3026 - categorical_accuracy: 0.0950 - val_loss: 2.3026 - val_categorical_accuracy: 0.1000\n",
            "\n",
            "Epoch 00055: saving model to checkpoint\n",
            "INFO:tensorflow:Assets written to: checkpoint/assets\n",
            "Epoch 56/100\n",
            "157/157 [==============================] - 1s 9ms/step - loss: 2.3026 - categorical_accuracy: 0.0938 - val_loss: 2.3026 - val_categorical_accuracy: 0.1000\n",
            "\n",
            "Epoch 00056: saving model to checkpoint\n",
            "INFO:tensorflow:Assets written to: checkpoint/assets\n",
            "Epoch 57/100\n",
            "157/157 [==============================] - 1s 9ms/step - loss: 2.3026 - categorical_accuracy: 0.0980 - val_loss: 2.3026 - val_categorical_accuracy: 0.1000\n",
            "\n",
            "Epoch 00057: saving model to checkpoint\n",
            "INFO:tensorflow:Assets written to: checkpoint/assets\n",
            "Epoch 58/100\n",
            "157/157 [==============================] - 1s 8ms/step - loss: 2.3026 - categorical_accuracy: 0.0941 - val_loss: 2.3026 - val_categorical_accuracy: 0.1000\n",
            "\n",
            "Epoch 00058: saving model to checkpoint\n",
            "INFO:tensorflow:Assets written to: checkpoint/assets\n",
            "Epoch 59/100\n",
            "157/157 [==============================] - 1s 9ms/step - loss: 2.3026 - categorical_accuracy: 0.0937 - val_loss: 2.3026 - val_categorical_accuracy: 0.1000\n",
            "\n",
            "Epoch 00059: saving model to checkpoint\n",
            "INFO:tensorflow:Assets written to: checkpoint/assets\n",
            "Epoch 60/100\n",
            "157/157 [==============================] - 1s 8ms/step - loss: 2.3026 - categorical_accuracy: 0.0917 - val_loss: 2.3026 - val_categorical_accuracy: 0.1000\n",
            "\n",
            "Epoch 00060: saving model to checkpoint\n",
            "INFO:tensorflow:Assets written to: checkpoint/assets\n",
            "Epoch 61/100\n",
            "157/157 [==============================] - 2s 11ms/step - loss: 2.3026 - categorical_accuracy: 0.0948 - val_loss: 2.3026 - val_categorical_accuracy: 0.1000\n",
            "\n",
            "Epoch 00061: saving model to checkpoint\n",
            "INFO:tensorflow:Assets written to: checkpoint/assets\n",
            "Epoch 62/100\n",
            "157/157 [==============================] - 1s 9ms/step - loss: 2.3026 - categorical_accuracy: 0.0996 - val_loss: 2.3026 - val_categorical_accuracy: 0.1000\n",
            "\n",
            "Epoch 00062: saving model to checkpoint\n",
            "INFO:tensorflow:Assets written to: checkpoint/assets\n",
            "Epoch 63/100\n",
            "157/157 [==============================] - 1s 8ms/step - loss: 2.3026 - categorical_accuracy: 0.0918 - val_loss: 2.3026 - val_categorical_accuracy: 0.1000\n",
            "\n",
            "Epoch 00063: saving model to checkpoint\n",
            "INFO:tensorflow:Assets written to: checkpoint/assets\n",
            "Epoch 64/100\n",
            "157/157 [==============================] - 1s 8ms/step - loss: 2.3026 - categorical_accuracy: 0.0996 - val_loss: 2.3026 - val_categorical_accuracy: 0.1000\n",
            "\n",
            "Epoch 00064: saving model to checkpoint\n",
            "INFO:tensorflow:Assets written to: checkpoint/assets\n",
            "Epoch 65/100\n",
            "157/157 [==============================] - 2s 10ms/step - loss: 2.3026 - categorical_accuracy: 0.0962 - val_loss: 2.3026 - val_categorical_accuracy: 0.1000\n",
            "\n",
            "Epoch 00065: saving model to checkpoint\n",
            "INFO:tensorflow:Assets written to: checkpoint/assets\n",
            "Epoch 66/100\n",
            "157/157 [==============================] - 2s 11ms/step - loss: 2.3026 - categorical_accuracy: 0.0965 - val_loss: 2.3026 - val_categorical_accuracy: 0.1000\n",
            "\n",
            "Epoch 00066: saving model to checkpoint\n",
            "INFO:tensorflow:Assets written to: checkpoint/assets\n",
            "Epoch 67/100\n",
            "157/157 [==============================] - 1s 8ms/step - loss: 2.3026 - categorical_accuracy: 0.0941 - val_loss: 2.3026 - val_categorical_accuracy: 0.1000\n",
            "\n",
            "Epoch 00067: saving model to checkpoint\n",
            "INFO:tensorflow:Assets written to: checkpoint/assets\n",
            "Epoch 68/100\n",
            "157/157 [==============================] - 1s 9ms/step - loss: 2.3026 - categorical_accuracy: 0.0902 - val_loss: 2.3026 - val_categorical_accuracy: 0.1000\n",
            "\n",
            "Epoch 00068: saving model to checkpoint\n",
            "INFO:tensorflow:Assets written to: checkpoint/assets\n",
            "Epoch 69/100\n",
            "157/157 [==============================] - 1s 8ms/step - loss: 2.3026 - categorical_accuracy: 0.0984 - val_loss: 2.3026 - val_categorical_accuracy: 0.1000\n",
            "\n",
            "Epoch 00069: saving model to checkpoint\n",
            "INFO:tensorflow:Assets written to: checkpoint/assets\n",
            "Epoch 70/100\n",
            "157/157 [==============================] - 1s 9ms/step - loss: 2.3026 - categorical_accuracy: 0.0970 - val_loss: 2.3026 - val_categorical_accuracy: 0.1000\n",
            "\n",
            "Epoch 00070: saving model to checkpoint\n",
            "INFO:tensorflow:Assets written to: checkpoint/assets\n",
            "Epoch 71/100\n",
            "157/157 [==============================] - 3s 17ms/step - loss: 2.3026 - categorical_accuracy: 0.0953 - val_loss: 2.3026 - val_categorical_accuracy: 0.1000\n",
            "\n",
            "Epoch 00071: saving model to checkpoint\n",
            "INFO:tensorflow:Assets written to: checkpoint/assets\n",
            "Epoch 72/100\n",
            "157/157 [==============================] - 1s 6ms/step - loss: 2.3026 - categorical_accuracy: 0.0984 - val_loss: 2.3026 - val_categorical_accuracy: 0.1000\n",
            "\n",
            "Epoch 00072: saving model to checkpoint\n",
            "INFO:tensorflow:Assets written to: checkpoint/assets\n",
            "Epoch 73/100\n",
            "157/157 [==============================] - 1s 6ms/step - loss: 2.3026 - categorical_accuracy: 0.0917 - val_loss: 2.3026 - val_categorical_accuracy: 0.1000\n",
            "\n",
            "Epoch 00073: saving model to checkpoint\n",
            "INFO:tensorflow:Assets written to: checkpoint/assets\n",
            "Epoch 74/100\n",
            "157/157 [==============================] - 1s 6ms/step - loss: 2.3026 - categorical_accuracy: 0.0959 - val_loss: 2.3026 - val_categorical_accuracy: 0.1000\n",
            "\n",
            "Epoch 00074: saving model to checkpoint\n",
            "INFO:tensorflow:Assets written to: checkpoint/assets\n",
            "Epoch 75/100\n",
            "157/157 [==============================] - 1s 6ms/step - loss: 2.3026 - categorical_accuracy: 0.0957 - val_loss: 2.3026 - val_categorical_accuracy: 0.1000\n",
            "\n",
            "Epoch 00075: saving model to checkpoint\n",
            "INFO:tensorflow:Assets written to: checkpoint/assets\n",
            "Epoch 76/100\n",
            "157/157 [==============================] - 1s 6ms/step - loss: 2.3026 - categorical_accuracy: 0.0966 - val_loss: 2.3026 - val_categorical_accuracy: 0.1000\n",
            "\n",
            "Epoch 00076: saving model to checkpoint\n",
            "INFO:tensorflow:Assets written to: checkpoint/assets\n",
            "Epoch 77/100\n",
            "157/157 [==============================] - 1s 6ms/step - loss: 2.3026 - categorical_accuracy: 0.0937 - val_loss: 2.3026 - val_categorical_accuracy: 0.1000\n",
            "\n",
            "Epoch 00077: saving model to checkpoint\n",
            "INFO:tensorflow:Assets written to: checkpoint/assets\n",
            "Epoch 78/100\n",
            "157/157 [==============================] - 1s 6ms/step - loss: 2.3026 - categorical_accuracy: 0.0940 - val_loss: 2.3026 - val_categorical_accuracy: 0.1000\n",
            "\n",
            "Epoch 00078: saving model to checkpoint\n",
            "INFO:tensorflow:Assets written to: checkpoint/assets\n",
            "Epoch 79/100\n",
            "157/157 [==============================] - 1s 6ms/step - loss: 2.3026 - categorical_accuracy: 0.0961 - val_loss: 2.3026 - val_categorical_accuracy: 0.1000\n",
            "\n",
            "Epoch 00079: saving model to checkpoint\n",
            "INFO:tensorflow:Assets written to: checkpoint/assets\n",
            "Epoch 80/100\n",
            "157/157 [==============================] - 1s 6ms/step - loss: 2.3026 - categorical_accuracy: 0.0946 - val_loss: 2.3026 - val_categorical_accuracy: 0.1000\n",
            "\n",
            "Epoch 00080: saving model to checkpoint\n",
            "INFO:tensorflow:Assets written to: checkpoint/assets\n",
            "Epoch 81/100\n",
            "157/157 [==============================] - 1s 6ms/step - loss: 2.3026 - categorical_accuracy: 0.0933 - val_loss: 2.3026 - val_categorical_accuracy: 0.1000\n",
            "\n",
            "Epoch 00081: saving model to checkpoint\n",
            "INFO:tensorflow:Assets written to: checkpoint/assets\n",
            "Epoch 82/100\n",
            "157/157 [==============================] - 1s 5ms/step - loss: 2.3026 - categorical_accuracy: 0.0920 - val_loss: 2.3026 - val_categorical_accuracy: 0.1000\n",
            "\n",
            "Epoch 00082: saving model to checkpoint\n",
            "INFO:tensorflow:Assets written to: checkpoint/assets\n",
            "Epoch 83/100\n",
            "157/157 [==============================] - 1s 5ms/step - loss: 2.3026 - categorical_accuracy: 0.1000 - val_loss: 2.3026 - val_categorical_accuracy: 0.1000\n",
            "\n",
            "Epoch 00083: saving model to checkpoint\n",
            "INFO:tensorflow:Assets written to: checkpoint/assets\n",
            "Epoch 84/100\n",
            "157/157 [==============================] - 1s 6ms/step - loss: 2.3026 - categorical_accuracy: 0.0957 - val_loss: 2.3026 - val_categorical_accuracy: 0.1000\n",
            "\n",
            "Epoch 00084: saving model to checkpoint\n",
            "INFO:tensorflow:Assets written to: checkpoint/assets\n",
            "Epoch 85/100\n",
            "157/157 [==============================] - 1s 6ms/step - loss: 2.3026 - categorical_accuracy: 0.0961 - val_loss: 2.3026 - val_categorical_accuracy: 0.1000\n",
            "\n",
            "Epoch 00085: saving model to checkpoint\n",
            "INFO:tensorflow:Assets written to: checkpoint/assets\n",
            "Epoch 86/100\n",
            "157/157 [==============================] - 1s 6ms/step - loss: 2.3026 - categorical_accuracy: 0.0940 - val_loss: 2.3026 - val_categorical_accuracy: 0.1000\n",
            "\n",
            "Epoch 00086: saving model to checkpoint\n",
            "INFO:tensorflow:Assets written to: checkpoint/assets\n",
            "Epoch 87/100\n",
            "157/157 [==============================] - 1s 6ms/step - loss: 2.3026 - categorical_accuracy: 0.0976 - val_loss: 2.3026 - val_categorical_accuracy: 0.1000\n",
            "\n",
            "Epoch 00087: saving model to checkpoint\n",
            "INFO:tensorflow:Assets written to: checkpoint/assets\n",
            "Epoch 88/100\n",
            "157/157 [==============================] - 1s 6ms/step - loss: 2.3026 - categorical_accuracy: 0.0948 - val_loss: 2.3026 - val_categorical_accuracy: 0.1000\n",
            "\n",
            "Epoch 00088: saving model to checkpoint\n",
            "INFO:tensorflow:Assets written to: checkpoint/assets\n",
            "Epoch 89/100\n",
            "157/157 [==============================] - 1s 6ms/step - loss: 2.3026 - categorical_accuracy: 0.0937 - val_loss: 2.3026 - val_categorical_accuracy: 0.1000\n",
            "\n",
            "Epoch 00089: saving model to checkpoint\n",
            "INFO:tensorflow:Assets written to: checkpoint/assets\n",
            "Epoch 90/100\n",
            "157/157 [==============================] - 1s 6ms/step - loss: 2.3026 - categorical_accuracy: 0.0971 - val_loss: 2.3026 - val_categorical_accuracy: 0.1000\n",
            "\n",
            "Epoch 00090: saving model to checkpoint\n",
            "INFO:tensorflow:Assets written to: checkpoint/assets\n",
            "Epoch 91/100\n",
            "157/157 [==============================] - 1s 6ms/step - loss: 2.3026 - categorical_accuracy: 0.1000 - val_loss: 2.3026 - val_categorical_accuracy: 0.1000\n",
            "\n",
            "Epoch 00091: saving model to checkpoint\n",
            "INFO:tensorflow:Assets written to: checkpoint/assets\n",
            "Epoch 92/100\n",
            "157/157 [==============================] - 1s 6ms/step - loss: 2.3026 - categorical_accuracy: 0.0949 - val_loss: 2.3026 - val_categorical_accuracy: 0.1000\n",
            "\n",
            "Epoch 00092: saving model to checkpoint\n",
            "INFO:tensorflow:Assets written to: checkpoint/assets\n",
            "Epoch 93/100\n",
            "157/157 [==============================] - 1s 6ms/step - loss: 2.3026 - categorical_accuracy: 0.0947 - val_loss: 2.3026 - val_categorical_accuracy: 0.1000\n",
            "\n",
            "Epoch 00093: saving model to checkpoint\n",
            "INFO:tensorflow:Assets written to: checkpoint/assets\n",
            "Epoch 94/100\n",
            "157/157 [==============================] - 1s 6ms/step - loss: 2.3026 - categorical_accuracy: 0.0969 - val_loss: 2.3026 - val_categorical_accuracy: 0.1000\n",
            "\n",
            "Epoch 00094: saving model to checkpoint\n",
            "INFO:tensorflow:Assets written to: checkpoint/assets\n",
            "Epoch 95/100\n",
            "157/157 [==============================] - 1s 6ms/step - loss: 2.3026 - categorical_accuracy: 0.0929 - val_loss: 2.3026 - val_categorical_accuracy: 0.1000\n",
            "\n",
            "Epoch 00095: saving model to checkpoint\n",
            "INFO:tensorflow:Assets written to: checkpoint/assets\n",
            "Epoch 96/100\n",
            "157/157 [==============================] - 1s 6ms/step - loss: 2.3026 - categorical_accuracy: 0.0949 - val_loss: 2.3026 - val_categorical_accuracy: 0.1000\n",
            "\n",
            "Epoch 00096: saving model to checkpoint\n",
            "INFO:tensorflow:Assets written to: checkpoint/assets\n",
            "Epoch 97/100\n",
            "157/157 [==============================] - 1s 6ms/step - loss: 2.3026 - categorical_accuracy: 0.0988 - val_loss: 2.3026 - val_categorical_accuracy: 0.1000\n",
            "\n",
            "Epoch 00097: saving model to checkpoint\n",
            "INFO:tensorflow:Assets written to: checkpoint/assets\n",
            "Epoch 98/100\n",
            "157/157 [==============================] - 1s 6ms/step - loss: 2.3026 - categorical_accuracy: 0.0975 - val_loss: 2.3026 - val_categorical_accuracy: 0.1000\n",
            "\n",
            "Epoch 00098: saving model to checkpoint\n",
            "INFO:tensorflow:Assets written to: checkpoint/assets\n",
            "Epoch 99/100\n",
            "157/157 [==============================] - 1s 6ms/step - loss: 2.3026 - categorical_accuracy: 0.0980 - val_loss: 2.3026 - val_categorical_accuracy: 0.1000\n",
            "\n",
            "Epoch 00099: saving model to checkpoint\n",
            "INFO:tensorflow:Assets written to: checkpoint/assets\n",
            "Epoch 100/100\n",
            "157/157 [==============================] - 1s 6ms/step - loss: 2.3026 - categorical_accuracy: 0.0957 - val_loss: 2.3026 - val_categorical_accuracy: 0.1000\n",
            "\n",
            "Epoch 00100: saving model to checkpoint\n",
            "INFO:tensorflow:Assets written to: checkpoint/assets\n",
            "313/313 [==============================] - 1s 2ms/step - loss: 2.3026 - categorical_accuracy: 0.1000\n",
            "Test loss: 2.3025851249694824\n",
            "Test accuracy: 0.10000000149011612\n"
          ]
        },
        {
          "output_type": "display_data",
          "data": {
            "image/png": "[encoded data removed]",
            "text/plain": [
              "<Figure size 720x360 with 2 Axes>"
            ]
          },
          "metadata": {
            "needs_background": "light"
          }
        }
      ]
    },
    {
      "cell_type": "code",
      "metadata": {
        "colab": {
          "base_uri": "https://localhost:8080/"
        },
        "id": "TxL27rX7YkAa",
        "outputId": "b4ccb6fa-a3ba-4afd-e6fe-94004bbb3dcb"
      },
      "source": [
        "def model_3(input_shape, drop_rate, weight_decay_1, weight_decay_2) :\n",
        "  model_3 = Sequential()\n",
        "  model_3.add(Dense(num_classes, activation = 'relu', kernel_initializer = tf.keras.initializers.RandomNormal(stddev=0.01) , bias_initializer='zeros', \n",
        "                    kernel_regularizer=tf.keras.regularizers.l1_l2(l1=weight_decay_1, l2=weight_decay_2), input_shape=(input_shape), name = 'dense_1'))\n",
        "  model_3.add(BatchNormalization(momentum=0.9, epsilon=0.0001))\n",
        "  model_3.add(Dense(num_classes, activation = 'relu', kernel_initializer = tf.keras.initializers.RandomNormal(stddev=0.01) , bias_initializer='zeros', \n",
        "                    kernel_regularizer=tf.keras.regularizers.l1_l2(l1=weight_decay_1, l2=weight_decay_2),name = 'dense_2'))\n",
        "  model_3.add(Dropout(drop_rate))\n",
        "  model_3.add(Dense(num_classes, activation = 'relu', kernel_initializer = tf.keras.initializers.RandomNormal(stddev=0.01) , bias_initializer='zeros', \n",
        "                    kernel_regularizer=tf.keras.regularizers.l1_l2(l1=weight_decay_1, l2=weight_decay_2),name = 'dense_3'))\n",
        "  model_3.add(Dropout(drop_rate))\n",
        "  model_3.add(Dense(num_classes, activation = 'relu', kernel_initializer = tf.keras.initializers.RandomNormal(stddev=0.01) , bias_initializer='zeros', \n",
        "                    kernel_regularizer=tf.keras.regularizers.l1_l2(l1=weight_decay_1, l2=weight_decay_2),name = 'dense_4'))\n",
        "  model_3.add(Dropout(drop_rate))\n",
        "  model_3.add(Flatten(input_shape=(input_shape)))\n",
        "  model_3.add(Dense(10, activation = 'softmax', name = 'dense_5'))\n",
        "  \n",
        "  model_3.compile (optimizer = tf.keras.optimizers.Adam(learning_rate=0.0001) ,\n",
        "                 loss = tf.keras.losses.CategoricalCrossentropy(), \n",
        "                 metrics = [tf.keras.metrics.CategoricalAccuracy()])\n",
        "    \n",
        "  return model_3\n",
        "\n",
        "model_3 = model_3(X_train_BW[0].shape, 0.3, 1e-8, 1e-5)\n",
        "print(model_3.summary())\n",
        "\n",
        "history_3 = model_3.fit(X_train_BW,y_class_train, validation_data= (X_test_BW, y_class_test) , \n",
        "                      batch_size=64, epochs=100, callbacks=[checkpoint], verbose=1)\n",
        "\n",
        "frame_3 = pd.DataFrame(history.history)\n",
        "\n",
        "score = model_3.evaluate(X_test_BW, y_class_test, verbose=1)\n",
        "print('Test loss:', score[0])\n",
        "print('Test accuracy:', score[1])\n",
        "\n",
        "plt.figure(figsize=(10,5))\n",
        "ax1 = plt.subplot(121)\n",
        "plt.plot(history_3.history['loss'])\n",
        "plt.plot(history_3.history['val_loss'])\n",
        "plt.title('Loss vs. epochs')\n",
        "plt.ylabel('Loss')\n",
        "plt.xlabel('Epoch')\n",
        "plt.legend(['Training','Validation'],loc='lower left')\n",
        "ax2 = plt.subplot(122)\n",
        "plt.plot(history_3.history['categorical_accuracy'])\n",
        "plt.plot(history_3.history['val_categorical_accuracy'])\n",
        "plt.title('Accuracy vs. epochs')\n",
        "plt.ylabel('Accuracy')\n",
        "plt.xlabel('Epoch')\n",
        "plt.legend(['Training','Validation'],loc='lower right')\n",
        "plt.tight_layout()\n",
        "plt.show()"
      ],
      "execution_count": null,
      "outputs": [
        {
          "output_type": "stream",
          "name": "stdout",
          "text": [
            "Model: \"sequential_2\"\n",
            "_________________________________________________________________\n",
            "Layer (type)                 Output Shape              Param #   \n",
            "=================================================================\n",
            "dense_1 (Dense)              (None, 10)                40970     \n",
            "_________________________________________________________________\n",
            "batch_normalization (BatchNo (None, 10)                40        \n",
            "_________________________________________________________________\n",
            "dense_2 (Dense)              (None, 10)                110       \n",
            "_________________________________________________________________\n",
            "dropout (Dropout)            (None, 10)                0         \n",
            "_________________________________________________________________\n",
            "dense_3 (Dense)              (None, 10)                110       \n",
            "_________________________________________________________________\n",
            "dropout_1 (Dropout)          (None, 10)                0         \n",
            "_________________________________________________________________\n",
            "dense_4 (Dense)              (None, 10)                110       \n",
            "_________________________________________________________________\n",
            "dropout_2 (Dropout)          (None, 10)                0         \n",
            "_________________________________________________________________\n",
            "flatten_1 (Flatten)          (None, 10)                0         \n",
            "_________________________________________________________________\n",
            "dense_5 (Dense)              (None, 10)                110       \n",
            "=================================================================\n",
            "Total params: 41,450\n",
            "Trainable params: 41,430\n",
            "Non-trainable params: 20\n",
            "_________________________________________________________________\n",
            "None\n",
            "Epoch 1/100\n",
            "157/157 [==============================] - 3s 10ms/step - loss: 2.3026 - categorical_accuracy: 0.1034 - val_loss: 2.3024 - val_categorical_accuracy: 0.1775\n",
            "\n",
            "Epoch 00001: saving model to checkpoint\n",
            "INFO:tensorflow:Assets written to: checkpoint/assets\n",
            "Epoch 2/100\n",
            "157/157 [==============================] - 1s 7ms/step - loss: 2.3017 - categorical_accuracy: 0.1520 - val_loss: 2.3018 - val_categorical_accuracy: 0.1577\n",
            "\n",
            "Epoch 00002: saving model to checkpoint\n",
            "INFO:tensorflow:Assets written to: checkpoint/assets\n",
            "Epoch 3/100\n",
            "157/157 [==============================] - 1s 7ms/step - loss: 2.2989 - categorical_accuracy: 0.1570 - val_loss: 2.2967 - val_categorical_accuracy: 0.1766\n",
            "\n",
            "Epoch 00003: saving model to checkpoint\n",
            "INFO:tensorflow:Assets written to: checkpoint/assets\n",
            "Epoch 4/100\n",
            "157/157 [==============================] - 1s 7ms/step - loss: 2.2878 - categorical_accuracy: 0.1674 - val_loss: 2.2787 - val_categorical_accuracy: 0.1720\n",
            "\n",
            "Epoch 00004: saving model to checkpoint\n",
            "INFO:tensorflow:Assets written to: checkpoint/assets\n",
            "Epoch 5/100\n",
            "157/157 [==============================] - 1s 7ms/step - loss: 2.2647 - categorical_accuracy: 0.1673 - val_loss: 2.2516 - val_categorical_accuracy: 0.1794\n",
            "\n",
            "Epoch 00005: saving model to checkpoint\n",
            "INFO:tensorflow:Assets written to: checkpoint/assets\n",
            "Epoch 6/100\n",
            "157/157 [==============================] - 1s 8ms/step - loss: 2.2383 - categorical_accuracy: 0.1677 - val_loss: 2.2461 - val_categorical_accuracy: 0.1728\n",
            "\n",
            "Epoch 00006: saving model to checkpoint\n",
            "INFO:tensorflow:Assets written to: checkpoint/assets\n",
            "Epoch 7/100\n",
            "157/157 [==============================] - 1s 8ms/step - loss: 2.2357 - categorical_accuracy: 0.1720 - val_loss: 2.2222 - val_categorical_accuracy: 0.1804\n",
            "\n",
            "Epoch 00007: saving model to checkpoint\n",
            "INFO:tensorflow:Assets written to: checkpoint/assets\n",
            "Epoch 8/100\n",
            "157/157 [==============================] - 1s 7ms/step - loss: 2.2185 - categorical_accuracy: 0.1766 - val_loss: 2.2246 - val_categorical_accuracy: 0.1744\n",
            "\n",
            "Epoch 00008: saving model to checkpoint\n",
            "INFO:tensorflow:Assets written to: checkpoint/assets\n",
            "Epoch 9/100\n",
            "157/157 [==============================] - 1s 7ms/step - loss: 2.2047 - categorical_accuracy: 0.1771 - val_loss: 2.2894 - val_categorical_accuracy: 0.1022\n",
            "\n",
            "Epoch 00009: saving model to checkpoint\n",
            "INFO:tensorflow:Assets written to: checkpoint/assets\n",
            "Epoch 10/100\n",
            "157/157 [==============================] - 1s 8ms/step - loss: 2.1924 - categorical_accuracy: 0.1777 - val_loss: 2.1961 - val_categorical_accuracy: 0.1497\n",
            "\n",
            "Epoch 00010: saving model to checkpoint\n",
            "INFO:tensorflow:Assets written to: checkpoint/assets\n",
            "Epoch 11/100\n",
            "157/157 [==============================] - 1s 8ms/step - loss: 2.1815 - categorical_accuracy: 0.1850 - val_loss: 2.1574 - val_categorical_accuracy: 0.1702\n",
            "\n",
            "Epoch 00011: saving model to checkpoint\n",
            "INFO:tensorflow:Assets written to: checkpoint/assets\n",
            "Epoch 12/100\n",
            "157/157 [==============================] - 1s 8ms/step - loss: 2.1696 - categorical_accuracy: 0.1838 - val_loss: 2.1578 - val_categorical_accuracy: 0.1915\n",
            "\n",
            "Epoch 00012: saving model to checkpoint\n",
            "INFO:tensorflow:Assets written to: checkpoint/assets\n",
            "Epoch 13/100\n",
            "157/157 [==============================] - 1s 7ms/step - loss: 2.1645 - categorical_accuracy: 0.1850 - val_loss: 2.2042 - val_categorical_accuracy: 0.1574\n",
            "\n",
            "Epoch 00013: saving model to checkpoint\n",
            "INFO:tensorflow:Assets written to: checkpoint/assets\n",
            "Epoch 14/100\n",
            "157/157 [==============================] - 1s 8ms/step - loss: 2.1602 - categorical_accuracy: 0.1928 - val_loss: 2.1454 - val_categorical_accuracy: 0.1910\n",
            "\n",
            "Epoch 00014: saving model to checkpoint\n",
            "INFO:tensorflow:Assets written to: checkpoint/assets\n",
            "Epoch 15/100\n",
            "157/157 [==============================] - 1s 7ms/step - loss: 2.1470 - categorical_accuracy: 0.1873 - val_loss: 2.1718 - val_categorical_accuracy: 0.1737\n",
            "\n",
            "Epoch 00015: saving model to checkpoint\n",
            "INFO:tensorflow:Assets written to: checkpoint/assets\n",
            "Epoch 16/100\n",
            "157/157 [==============================] - 1s 8ms/step - loss: 2.1461 - categorical_accuracy: 0.1880 - val_loss: 2.2243 - val_categorical_accuracy: 0.1435\n",
            "\n",
            "Epoch 00016: saving model to checkpoint\n",
            "INFO:tensorflow:Assets written to: checkpoint/assets\n",
            "Epoch 17/100\n",
            "157/157 [==============================] - 1s 7ms/step - loss: 2.1375 - categorical_accuracy: 0.1911 - val_loss: 2.1547 - val_categorical_accuracy: 0.1751\n",
            "\n",
            "Epoch 00017: saving model to checkpoint\n",
            "INFO:tensorflow:Assets written to: checkpoint/assets\n",
            "Epoch 18/100\n",
            "157/157 [==============================] - 1s 8ms/step - loss: 2.1264 - categorical_accuracy: 0.1913 - val_loss: 2.1160 - val_categorical_accuracy: 0.1896\n",
            "\n",
            "Epoch 00018: saving model to checkpoint\n",
            "INFO:tensorflow:Assets written to: checkpoint/assets\n",
            "Epoch 19/100\n",
            "157/157 [==============================] - 1s 8ms/step - loss: 2.1259 - categorical_accuracy: 0.1964 - val_loss: 2.1095 - val_categorical_accuracy: 0.1906\n",
            "\n",
            "Epoch 00019: saving model to checkpoint\n",
            "INFO:tensorflow:Assets written to: checkpoint/assets\n",
            "Epoch 20/100\n",
            "157/157 [==============================] - 1s 7ms/step - loss: 2.1179 - categorical_accuracy: 0.1974 - val_loss: 2.1185 - val_categorical_accuracy: 0.1853\n",
            "\n",
            "Epoch 00020: saving model to checkpoint\n",
            "INFO:tensorflow:Assets written to: checkpoint/assets\n",
            "Epoch 21/100\n",
            "157/157 [==============================] - 1s 7ms/step - loss: 2.1095 - categorical_accuracy: 0.1968 - val_loss: 2.1133 - val_categorical_accuracy: 0.1922\n",
            "\n",
            "Epoch 00021: saving model to checkpoint\n",
            "INFO:tensorflow:Assets written to: checkpoint/assets\n",
            "Epoch 22/100\n",
            "157/157 [==============================] - 1s 7ms/step - loss: 2.1076 - categorical_accuracy: 0.1944 - val_loss: 2.1909 - val_categorical_accuracy: 0.1544\n",
            "\n",
            "Epoch 00022: saving model to checkpoint\n",
            "INFO:tensorflow:Assets written to: checkpoint/assets\n",
            "Epoch 23/100\n",
            "157/157 [==============================] - 1s 8ms/step - loss: 2.1000 - categorical_accuracy: 0.1954 - val_loss: 2.1081 - val_categorical_accuracy: 0.1840\n",
            "\n",
            "Epoch 00023: saving model to checkpoint\n",
            "INFO:tensorflow:Assets written to: checkpoint/assets\n",
            "Epoch 24/100\n",
            "157/157 [==============================] - 1s 8ms/step - loss: 2.1003 - categorical_accuracy: 0.1916 - val_loss: 2.0967 - val_categorical_accuracy: 0.1863\n",
            "\n",
            "Epoch 00024: saving model to checkpoint\n",
            "INFO:tensorflow:Assets written to: checkpoint/assets\n",
            "Epoch 25/100\n",
            "157/157 [==============================] - 1s 7ms/step - loss: 2.0966 - categorical_accuracy: 0.1874 - val_loss: 2.2846 - val_categorical_accuracy: 0.1303\n",
            "\n",
            "Epoch 00025: saving model to checkpoint\n",
            "INFO:tensorflow:Assets written to: checkpoint/assets\n",
            "Epoch 26/100\n",
            "157/157 [==============================] - 1s 7ms/step - loss: 2.0940 - categorical_accuracy: 0.1917 - val_loss: 2.1898 - val_categorical_accuracy: 0.1542\n",
            "\n",
            "Epoch 00026: saving model to checkpoint\n",
            "INFO:tensorflow:Assets written to: checkpoint/assets\n",
            "Epoch 27/100\n",
            "157/157 [==============================] - 1s 7ms/step - loss: 2.0914 - categorical_accuracy: 0.1875 - val_loss: 2.0806 - val_categorical_accuracy: 0.1832\n",
            "\n",
            "Epoch 00027: saving model to checkpoint\n",
            "INFO:tensorflow:Assets written to: checkpoint/assets\n",
            "Epoch 28/100\n",
            "157/157 [==============================] - 1s 7ms/step - loss: 2.0816 - categorical_accuracy: 0.1899 - val_loss: 2.0740 - val_categorical_accuracy: 0.1830\n",
            "\n",
            "Epoch 00028: saving model to checkpoint\n",
            "INFO:tensorflow:Assets written to: checkpoint/assets\n",
            "Epoch 29/100\n",
            "157/157 [==============================] - 1s 7ms/step - loss: 2.0770 - categorical_accuracy: 0.1903 - val_loss: 2.0776 - val_categorical_accuracy: 0.2019\n",
            "\n",
            "Epoch 00029: saving model to checkpoint\n",
            "INFO:tensorflow:Assets written to: checkpoint/assets\n",
            "Epoch 30/100\n",
            "157/157 [==============================] - 1s 8ms/step - loss: 2.0759 - categorical_accuracy: 0.1952 - val_loss: 2.0960 - val_categorical_accuracy: 0.2436\n",
            "\n",
            "Epoch 00030: saving model to checkpoint\n",
            "INFO:tensorflow:Assets written to: checkpoint/assets\n",
            "Epoch 31/100\n",
            "157/157 [==============================] - 1s 8ms/step - loss: 2.0773 - categorical_accuracy: 0.1934 - val_loss: 2.1882 - val_categorical_accuracy: 0.1685\n",
            "\n",
            "Epoch 00031: saving model to checkpoint\n"
          ]
        }
      ]
    },
    {
      "cell_type": "code",
      "metadata": {
        "id": "UfaF-r_kq1rl"
      },
      "source": [
        "def model_4(input_shape, drop_rate, weight_decay_1, weight_decay_2) :\n",
        "  model_4 = Sequential()\n",
        "  model_4.add(Dense(num_classes, activation = 'relu', kernel_initializer = tf.keras.initializers.RandomNormal(stddev=0.01) , bias_initializer='zeros',\n",
        "                    kernel_regularizer=tf.keras.regularizers.l1_l2(l1=weight_decay_1, l2=weight_decay_2), input_shape=(input_shape), name = 'dense_1'))\n",
        "  model_4.add(Dense(num_classes, activation = 'relu', kernel_initializer = tf.keras.initializers.RandomNormal(stddev=0.01) , bias_initializer='zeros',\n",
        "                    kernel_regularizer=tf.keras.regularizers.l1_l2(l1=weight_decay_1, l2=weight_decay_2),name = 'dense_2'))\n",
        "  model_4.add(Dense(num_classes, activation = 'relu',  kernel_initializer = tf.keras.initializers.RandomNormal(stddev=0.01) , bias_initializer='zeros',\n",
        "                    kernel_regularizer=tf.keras.regularizers.l1_l2(l1=weight_decay_1, l2=weight_decay_2),name = 'dense_3'))\n",
        "  model_4.add(Dropout(drop_rate))\n",
        "  model_4.add(Dense(num_classes, activation = 'relu', kernel_initializer = tf.keras.initializers.RandomNormal(stddev=0.01) , bias_initializer='zeros',\n",
        "                    kernel_regularizer=tf.keras.regularizers.l1_l2(l1=weight_decay_1, l2=weight_decay_2),name = 'dense_4'))\n",
        "  model_4.add(Dropout(drop_rate))\n",
        "  model_4.add(Flatten(input_shape=(input_shape)))\n",
        "  model_4.add(Dense(10, activation = 'softmax', name = 'dense_5'))\n",
        "  \n",
        "  model_4.compile (optimizer = tf.keras.optimizers.Adam(learning_rate=0.0001) ,\n",
        "                 loss = tf.keras.losses.CategoricalCrossentropy(), \n",
        "                 metrics = [tf.keras.metrics.CategoricalAccuracy()])\n",
        "    \n",
        "  return model_4\n",
        "\n",
        "model_4 = model_4(X_train_BW[0].shape, 0.3, 1e-8, 1e-5)\n",
        "print(model_4.summary())\n",
        "\n",
        "history_4 = model_4.fit(X_train_BW,y_class_train, validation_data= (X_test_BW, y_class_test) , \n",
        "                      batch_size=64, epochs=100, callbacks=[checkpoint], verbose=1)\n",
        "\n",
        "frame_4 = pd.DataFrame(history.history)\n",
        "\n",
        "score = model_4.evaluate(X_test_BW, y_class_test, verbose=1)\n",
        "print('Test loss:', score[0])\n",
        "print('Test accuracy:', score[1])\n",
        "\n",
        "plt.figure(figsize=(10,5))\n",
        "ax1 = plt.subplot(121)\n",
        "plt.plot(history_4.history['loss'])\n",
        "plt.plot(history_4.history['val_loss'])\n",
        "plt.title('Loss vs. epochs')\n",
        "plt.ylabel('Loss')\n",
        "plt.xlabel('Epoch')\n",
        "plt.legend(['Training','Validation'],loc='lower left')\n",
        "ax2 = plt.subplot(122)\n",
        "plt.plot(history_4.history['categorical_accuracy'])\n",
        "plt.plot(history_4.history['val_categorical_accuracy'])\n",
        "plt.title('Accuracy vs. epochs')\n",
        "plt.ylabel('Accuracy')\n",
        "plt.xlabel('Epoch')\n",
        "plt.legend(['Training','Validation'],loc='lower right')\n",
        "plt.tight_layout()\n",
        "plt.show()"
      ],
      "execution_count": null,
      "outputs": []
    },
    {
      "cell_type": "code",
      "metadata": {
        "id": "-BhVB4OthhHY"
      },
      "source": [
        "from tensorflow.keras.layers import Conv1D, MaxPooling1D"
      ],
      "execution_count": null,
      "outputs": []
    },
    {
      "cell_type": "code",
      "metadata": {
        "id": "th2XR8pQifRJ"
      },
      "source": [
        "def model_5(input_shape) :\n",
        "  model_5 = Sequential()\n",
        "  model_5.add(Dense(256, activation = 'relu', input_shape=(input_shape), name = 'dense_1'))\n",
        "  model_5.add(Dense(num_classes, activation = 'softmax', name = 'dense_2'))\n",
        "  \n",
        "  model_5.compile (optimizer = tf.keras.optimizers.Adam(learning_rate=0.0001) ,\n",
        "                 loss = tf.keras.losses.CategoricalCrossentropy(), \n",
        "                 metrics = [tf.keras.metrics.CategoricalAccuracy()])\n",
        "    \n",
        "  return model_5\n",
        "\n",
        "model_5 = model_5(X_train_BW[0].shape)\n",
        "print(model_5.summary())\n",
        "\n",
        "history_5 = model_5.fit(X_train_BW,y_class_train, validation_data= (X_test_BW, y_class_test) , \n",
        "                      batch_size=64, epochs=100, callbacks=[checkpoint], verbose=1)\n",
        "\n",
        "frame_5 = pd.DataFrame(history_5.history)\n",
        "\n",
        "score = model_5.evaluate(X_test_BW, y_class_test, verbose=1)\n",
        "print('Test loss:', score[0])\n",
        "print('Test accuracy:', score[1])\n",
        "\n",
        "plt.figure(figsize=(10,5))\n",
        "ax1 = plt.subplot(121)\n",
        "plt.plot(history_5.history['loss'])\n",
        "plt.plot(history_5.history['val_loss'])\n",
        "plt.title('Loss vs. epochs')\n",
        "plt.ylabel('Loss')\n",
        "plt.xlabel('Epoch')\n",
        "plt.legend(['Training','Validation'],loc='lower left')\n",
        "ax2 = plt.subplot(122)\n",
        "plt.plot(history_5.history['categorical_accuracy'])\n",
        "plt.plot(history_5.history['val_categorical_accuracy'])\n",
        "plt.title('Accuracy vs. epochs')\n",
        "plt.ylabel('Accuracy')\n",
        "plt.xlabel('Epoch')\n",
        "plt.legend(['Training','Validation'],loc='lower right')\n",
        "plt.tight_layout()\n",
        "plt.show()"
      ],
      "execution_count": null,
      "outputs": []
    },
    {
      "cell_type": "markdown",
      "metadata": {
        "id": "Go9wpWjk7B0B"
      },
      "source": [
        "#Multihead CNN"
      ]
    },
    {
      "cell_type": "code",
      "metadata": {
        "id": "X5tSxxC28qWh"
      },
      "source": [
        "# Shared Input Layer\n",
        "from keras.utils.vis_utils import plot_model\n",
        "from keras.models import Model\n",
        "from keras.layers import Input\n",
        "from keras.layers.merge import concatenate"
      ],
      "execution_count": 44,
      "outputs": []
    },
    {
      "cell_type": "code",
      "metadata": {
        "id": "VA5sM5Lw_Gz8",
        "colab": {
          "base_uri": "https://localhost:8080/"
        },
        "outputId": "efe4f9b9-a8a3-4898-87e6-f5346dcba3e7"
      },
      "source": [
        "X_train_BW.shape"
      ],
      "execution_count": 45,
      "outputs": [
        {
          "output_type": "execute_result",
          "data": {
            "text/plain": [
              "(10000, 4096)"
            ]
          },
          "metadata": {},
          "execution_count": 45
        }
      ]
    },
    {
      "cell_type": "code",
      "metadata": {
        "id": "JkUkHUofDoT9",
        "colab": {
          "base_uri": "https://localhost:8080/"
        },
        "outputId": "8b2aa5d5-8425-413a-f1b7-ba4872c41e59"
      },
      "source": [
        "# one time series per head\n",
        "n_features = 1\n",
        "# separate input data\n",
        "X1 = X_train_BW[:, :].reshape(X_train_BW.shape[0], X_train_BW.shape[1], n_features)\n",
        "X2 = X_train_BW[:, :].reshape(X_train_BW.shape[0], X_train_BW.shape[1], n_features)\n",
        "print(X1.shape, X2.shape)"
      ],
      "execution_count": 46,
      "outputs": [
        {
          "output_type": "stream",
          "name": "stdout",
          "text": [
            "(10000, 4096, 1) (10000, 4096, 1)\n"
          ]
        }
      ]
    },
    {
      "cell_type": "code",
      "metadata": {
        "id": "cgMTTWLvIOus",
        "colab": {
          "base_uri": "https://localhost:8080/"
        },
        "outputId": "02f802c4-644c-42bc-a3b8-8e712676e791"
      },
      "source": [
        "X1test = X_test_BW[:, :].reshape(X_test_BW.shape[0], X_test_BW.shape[1], n_features)\n",
        "X2test = X_test_BW[:, :].reshape(X_test_BW.shape[0], X_test_BW.shape[1], n_features)\n",
        "print(X1test.shape, X2test.shape)"
      ],
      "execution_count": 47,
      "outputs": [
        {
          "output_type": "stream",
          "name": "stdout",
          "text": [
            "(10000, 4096, 1) (10000, 4096, 1)\n"
          ]
        }
      ]
    },
    {
      "cell_type": "code",
      "metadata": {
        "id": "gWioACq27IGD"
      },
      "source": [
        "# first input model\n",
        "head_1 = Input(shape=(X_train_BW[0].shape))\n",
        "cnn1 = Dense(256, activation='relu')(head_1)\n",
        "cnn1 = Flatten()(cnn1)\n",
        "\n",
        "\n",
        "# second input model\n",
        "head_2 = Input(shape=(X_train_BW[0].shape))\n",
        "cnn2 = Dense(128, activation='relu')(head_2)\n",
        "cnn2 = Flatten()(cnn2)\n",
        "\n",
        "# merge input models\n",
        "merge = concatenate([cnn1, cnn2])\n",
        "dense = Dense(64, activation='relu')(merge)\n",
        "output = Dense(num_classes, activation='sigmoid')(dense)\n",
        "\n",
        "\n",
        "model = Model(inputs=[head_1, head_2], outputs=output)\n",
        "model.compile (optimizer = tf.keras.optimizers.Adam(learning_rate=0.0001) ,\n",
        "               loss = tf.keras.losses.CategoricalCrossentropy(), \n",
        "               metrics = [tf.keras.metrics.CategoricalAccuracy()])"
      ],
      "execution_count": 48,
      "outputs": []
    },
    {
      "cell_type": "code",
      "metadata": {
        "id": "dj9n7WRH7_l2",
        "colab": {
          "base_uri": "https://localhost:8080/",
          "height": 644
        },
        "outputId": "c5a75740-ee83-4f70-8b75-4180408b3651"
      },
      "source": [
        "plot_model(model, show_shapes=True, show_layer_names=True)"
      ],
      "execution_count": 49,
      "outputs": [
        {
          "output_type": "execute_result",
          "data": {
            "image/png": "[encoded data removed]",
            "text/plain": [
              "<IPython.core.display.Image object>"
            ]
          },
          "metadata": {},
          "execution_count": 49
        }
      ]
    },
    {
      "cell_type": "code",
      "metadata": {
        "id": "SqcrSqqU94pB",
        "colab": {
          "base_uri": "https://localhost:8080/"
        },
        "outputId": "70ec2ec3-6f47-40d8-fa68-b486ea358287"
      },
      "source": [
        "history_mul = model.fit([X1, X2],y_class_train, validation_data= ([X1test,X2test], y_class_test),batch_size=64 , epochs=100, callbacks=[checkpoint],  verbose=1)\n",
        "\n",
        "score = model.evaluate([X1, X2], y_class_test, verbose=1)\n",
        "print('Test loss:', score[0])\n",
        "print('Test accuracy:', score[1])\n",
        "\n"
      ],
      "execution_count": 50,
      "outputs": [
        {
          "output_type": "stream",
          "name": "stdout",
          "text": [
            "Epoch 1/100\n",
            "157/157 [==============================] - 4s 24ms/step - loss: 2.2828 - categorical_accuracy: 0.1198 - val_loss: 2.2676 - val_categorical_accuracy: 0.1231\n",
            "\n",
            "Epoch 00001: saving model to checkpoint\n",
            "INFO:tensorflow:Assets written to: checkpoint/assets\n",
            "Epoch 2/100\n",
            "157/157 [==============================] - 4s 23ms/step - loss: 2.2495 - categorical_accuracy: 0.1319 - val_loss: 2.2263 - val_categorical_accuracy: 0.1385\n",
            "\n",
            "Epoch 00002: saving model to checkpoint\n",
            "INFO:tensorflow:Assets written to: checkpoint/assets\n",
            "Epoch 3/100\n",
            "157/157 [==============================] - 3s 22ms/step - loss: 2.2128 - categorical_accuracy: 0.1431 - val_loss: 2.2198 - val_categorical_accuracy: 0.1573\n",
            "\n",
            "Epoch 00003: saving model to checkpoint\n",
            "INFO:tensorflow:Assets written to: checkpoint/assets\n",
            "Epoch 4/100\n",
            "157/157 [==============================] - 3s 22ms/step - loss: 2.1901 - categorical_accuracy: 0.1472 - val_loss: 2.1896 - val_categorical_accuracy: 0.1582\n",
            "\n",
            "Epoch 00004: saving model to checkpoint\n",
            "INFO:tensorflow:Assets written to: checkpoint/assets\n",
            "Epoch 5/100\n",
            "157/157 [==============================] - 3s 22ms/step - loss: 2.1746 - categorical_accuracy: 0.1482 - val_loss: 2.1765 - val_categorical_accuracy: 0.1486\n",
            "\n",
            "Epoch 00005: saving model to checkpoint\n",
            "INFO:tensorflow:Assets written to: checkpoint/assets\n",
            "Epoch 6/100\n",
            "157/157 [==============================] - 4s 22ms/step - loss: 2.1700 - categorical_accuracy: 0.1577 - val_loss: 2.1677 - val_categorical_accuracy: 0.1495\n",
            "\n",
            "Epoch 00006: saving model to checkpoint\n",
            "INFO:tensorflow:Assets written to: checkpoint/assets\n",
            "Epoch 7/100\n",
            "157/157 [==============================] - 4s 23ms/step - loss: 2.1593 - categorical_accuracy: 0.1584 - val_loss: 2.1709 - val_categorical_accuracy: 0.1446\n",
            "\n",
            "Epoch 00007: saving model to checkpoint\n",
            "INFO:tensorflow:Assets written to: checkpoint/assets\n",
            "Epoch 8/100\n",
            "157/157 [==============================] - 4s 23ms/step - loss: 2.1460 - categorical_accuracy: 0.1615 - val_loss: 2.1555 - val_categorical_accuracy: 0.1664\n",
            "\n",
            "Epoch 00008: saving model to checkpoint\n",
            "INFO:tensorflow:Assets written to: checkpoint/assets\n",
            "Epoch 9/100\n",
            "157/157 [==============================] - 4s 23ms/step - loss: 2.1294 - categorical_accuracy: 0.1687 - val_loss: 2.1416 - val_categorical_accuracy: 0.1545\n",
            "\n",
            "Epoch 00009: saving model to checkpoint\n",
            "INFO:tensorflow:Assets written to: checkpoint/assets\n",
            "Epoch 10/100\n",
            "157/157 [==============================] - 4s 23ms/step - loss: 2.1244 - categorical_accuracy: 0.1739 - val_loss: 2.1358 - val_categorical_accuracy: 0.1868\n",
            "\n",
            "Epoch 00010: saving model to checkpoint\n",
            "INFO:tensorflow:Assets written to: checkpoint/assets\n",
            "Epoch 11/100\n",
            "157/157 [==============================] - 4s 23ms/step - loss: 2.1183 - categorical_accuracy: 0.1763 - val_loss: 2.1454 - val_categorical_accuracy: 0.1484\n",
            "\n",
            "Epoch 00011: saving model to checkpoint\n",
            "INFO:tensorflow:Assets written to: checkpoint/assets\n",
            "Epoch 12/100\n",
            "157/157 [==============================] - 4s 23ms/step - loss: 2.1178 - categorical_accuracy: 0.1835 - val_loss: 2.1204 - val_categorical_accuracy: 0.1930\n",
            "\n",
            "Epoch 00012: saving model to checkpoint\n",
            "INFO:tensorflow:Assets written to: checkpoint/assets\n",
            "Epoch 13/100\n",
            "157/157 [==============================] - 4s 23ms/step - loss: 2.0994 - categorical_accuracy: 0.1899 - val_loss: 2.1161 - val_categorical_accuracy: 0.2049\n",
            "\n",
            "Epoch 00013: saving model to checkpoint\n",
            "INFO:tensorflow:Assets written to: checkpoint/assets\n",
            "Epoch 14/100\n",
            "157/157 [==============================] - 4s 24ms/step - loss: 2.0876 - categorical_accuracy: 0.2081 - val_loss: 2.1050 - val_categorical_accuracy: 0.1880\n",
            "\n",
            "Epoch 00014: saving model to checkpoint\n",
            "INFO:tensorflow:Assets written to: checkpoint/assets\n",
            "Epoch 15/100\n",
            "157/157 [==============================] - 4s 23ms/step - loss: 2.0802 - categorical_accuracy: 0.2146 - val_loss: 2.1013 - val_categorical_accuracy: 0.1940\n",
            "\n",
            "Epoch 00015: saving model to checkpoint\n",
            "INFO:tensorflow:Assets written to: checkpoint/assets\n",
            "Epoch 16/100\n",
            "157/157 [==============================] - 4s 23ms/step - loss: 2.0744 - categorical_accuracy: 0.2126 - val_loss: 2.1020 - val_categorical_accuracy: 0.1860\n",
            "\n",
            "Epoch 00016: saving model to checkpoint\n",
            "INFO:tensorflow:Assets written to: checkpoint/assets\n",
            "Epoch 17/100\n",
            "157/157 [==============================] - 4s 24ms/step - loss: 2.0649 - categorical_accuracy: 0.2070 - val_loss: 2.0913 - val_categorical_accuracy: 0.2042\n",
            "\n",
            "Epoch 00017: saving model to checkpoint\n",
            "INFO:tensorflow:Assets written to: checkpoint/assets\n",
            "Epoch 18/100\n",
            "157/157 [==============================] - 4s 23ms/step - loss: 2.0495 - categorical_accuracy: 0.2339 - val_loss: 2.0685 - val_categorical_accuracy: 0.2119\n",
            "\n",
            "Epoch 00018: saving model to checkpoint\n",
            "INFO:tensorflow:Assets written to: checkpoint/assets\n",
            "Epoch 19/100\n",
            "157/157 [==============================] - 4s 23ms/step - loss: 2.0315 - categorical_accuracy: 0.2448 - val_loss: 2.0561 - val_categorical_accuracy: 0.2841\n",
            "\n",
            "Epoch 00019: saving model to checkpoint\n",
            "INFO:tensorflow:Assets written to: checkpoint/assets\n",
            "Epoch 20/100\n",
            "157/157 [==============================] - 4s 24ms/step - loss: 2.0213 - categorical_accuracy: 0.2613 - val_loss: 2.0625 - val_categorical_accuracy: 0.2247\n",
            "\n",
            "Epoch 00020: saving model to checkpoint\n",
            "INFO:tensorflow:Assets written to: checkpoint/assets\n",
            "Epoch 21/100\n",
            "157/157 [==============================] - 4s 24ms/step - loss: 2.0057 - categorical_accuracy: 0.2818 - val_loss: 2.0372 - val_categorical_accuracy: 0.2709\n",
            "\n",
            "Epoch 00021: saving model to checkpoint\n",
            "INFO:tensorflow:Assets written to: checkpoint/assets\n",
            "Epoch 22/100\n",
            "157/157 [==============================] - 4s 23ms/step - loss: 1.9802 - categorical_accuracy: 0.2940 - val_loss: 2.0096 - val_categorical_accuracy: 0.2588\n",
            "\n",
            "Epoch 00022: saving model to checkpoint\n",
            "INFO:tensorflow:Assets written to: checkpoint/assets\n",
            "Epoch 23/100\n",
            "157/157 [==============================] - 4s 23ms/step - loss: 1.9598 - categorical_accuracy: 0.3127 - val_loss: 1.9944 - val_categorical_accuracy: 0.2905\n",
            "\n",
            "Epoch 00023: saving model to checkpoint\n",
            "INFO:tensorflow:Assets written to: checkpoint/assets\n",
            "Epoch 24/100\n",
            "157/157 [==============================] - 4s 24ms/step - loss: 1.9470 - categorical_accuracy: 0.3117 - val_loss: 1.9922 - val_categorical_accuracy: 0.2956\n",
            "\n",
            "Epoch 00024: saving model to checkpoint\n",
            "INFO:tensorflow:Assets written to: checkpoint/assets\n",
            "Epoch 25/100\n",
            "157/157 [==============================] - 4s 23ms/step - loss: 1.9290 - categorical_accuracy: 0.3210 - val_loss: 1.9724 - val_categorical_accuracy: 0.2966\n",
            "\n",
            "Epoch 00025: saving model to checkpoint\n",
            "INFO:tensorflow:Assets written to: checkpoint/assets\n",
            "Epoch 26/100\n",
            "157/157 [==============================] - 4s 23ms/step - loss: 1.9087 - categorical_accuracy: 0.3281 - val_loss: 1.9535 - val_categorical_accuracy: 0.3138\n",
            "\n",
            "Epoch 00026: saving model to checkpoint\n",
            "INFO:tensorflow:Assets written to: checkpoint/assets\n",
            "Epoch 27/100\n",
            "157/157 [==============================] - 4s 23ms/step - loss: 1.8990 - categorical_accuracy: 0.3288 - val_loss: 1.9338 - val_categorical_accuracy: 0.3010\n",
            "\n",
            "Epoch 00027: saving model to checkpoint\n",
            "INFO:tensorflow:Assets written to: checkpoint/assets\n",
            "Epoch 28/100\n",
            "157/157 [==============================] - 4s 23ms/step - loss: 1.8778 - categorical_accuracy: 0.3345 - val_loss: 1.9202 - val_categorical_accuracy: 0.3088\n",
            "\n",
            "Epoch 00028: saving model to checkpoint\n",
            "INFO:tensorflow:Assets written to: checkpoint/assets\n",
            "Epoch 29/100\n",
            "157/157 [==============================] - 4s 23ms/step - loss: 1.8597 - categorical_accuracy: 0.3314 - val_loss: 1.8991 - val_categorical_accuracy: 0.2717\n",
            "\n",
            "Epoch 00029: saving model to checkpoint\n",
            "INFO:tensorflow:Assets written to: checkpoint/assets\n",
            "Epoch 30/100\n",
            "157/157 [==============================] - 4s 24ms/step - loss: 1.8430 - categorical_accuracy: 0.3437 - val_loss: 1.8876 - val_categorical_accuracy: 0.3351\n",
            "\n",
            "Epoch 00030: saving model to checkpoint\n",
            "INFO:tensorflow:Assets written to: checkpoint/assets\n",
            "Epoch 31/100\n",
            "157/157 [==============================] - 4s 24ms/step - loss: 1.8193 - categorical_accuracy: 0.3493 - val_loss: 1.8710 - val_categorical_accuracy: 0.3166\n",
            "\n",
            "Epoch 00031: saving model to checkpoint\n",
            "INFO:tensorflow:Assets written to: checkpoint/assets\n",
            "Epoch 32/100\n",
            "157/157 [==============================] - 4s 23ms/step - loss: 1.8097 - categorical_accuracy: 0.3469 - val_loss: 1.8625 - val_categorical_accuracy: 0.3405\n",
            "\n",
            "Epoch 00032: saving model to checkpoint\n",
            "INFO:tensorflow:Assets written to: checkpoint/assets\n",
            "Epoch 33/100\n",
            "157/157 [==============================] - 4s 24ms/step - loss: 1.7974 - categorical_accuracy: 0.3527 - val_loss: 1.8509 - val_categorical_accuracy: 0.3093\n",
            "\n",
            "Epoch 00033: saving model to checkpoint\n",
            "INFO:tensorflow:Assets written to: checkpoint/assets\n",
            "Epoch 34/100\n",
            "157/157 [==============================] - 4s 24ms/step - loss: 1.7780 - categorical_accuracy: 0.3556 - val_loss: 1.8358 - val_categorical_accuracy: 0.3362\n",
            "\n",
            "Epoch 00034: saving model to checkpoint\n",
            "INFO:tensorflow:Assets written to: checkpoint/assets\n",
            "Epoch 35/100\n",
            "157/157 [==============================] - 4s 24ms/step - loss: 1.7686 - categorical_accuracy: 0.3518 - val_loss: 1.8368 - val_categorical_accuracy: 0.2999\n",
            "\n",
            "Epoch 00035: saving model to checkpoint\n",
            "INFO:tensorflow:Assets written to: checkpoint/assets\n",
            "Epoch 36/100\n",
            "157/157 [==============================] - 4s 23ms/step - loss: 1.7535 - categorical_accuracy: 0.3602 - val_loss: 1.8133 - val_categorical_accuracy: 0.3307\n",
            "\n",
            "Epoch 00036: saving model to checkpoint\n",
            "INFO:tensorflow:Assets written to: checkpoint/assets\n",
            "Epoch 37/100\n",
            "157/157 [==============================] - 4s 23ms/step - loss: 1.7435 - categorical_accuracy: 0.3640 - val_loss: 1.8075 - val_categorical_accuracy: 0.3409\n",
            "\n",
            "Epoch 00037: saving model to checkpoint\n",
            "INFO:tensorflow:Assets written to: checkpoint/assets\n",
            "Epoch 38/100\n",
            "157/157 [==============================] - 4s 23ms/step - loss: 1.7385 - categorical_accuracy: 0.3609 - val_loss: 1.8017 - val_categorical_accuracy: 0.3342\n",
            "\n",
            "Epoch 00038: saving model to checkpoint\n",
            "INFO:tensorflow:Assets written to: checkpoint/assets\n",
            "Epoch 39/100\n",
            "157/157 [==============================] - 4s 23ms/step - loss: 1.7161 - categorical_accuracy: 0.3758 - val_loss: 1.7857 - val_categorical_accuracy: 0.3357\n",
            "\n",
            "Epoch 00039: saving model to checkpoint\n",
            "INFO:tensorflow:Assets written to: checkpoint/assets\n",
            "Epoch 40/100\n",
            "157/157 [==============================] - 4s 23ms/step - loss: 1.7063 - categorical_accuracy: 0.3726 - val_loss: 1.7814 - val_categorical_accuracy: 0.3533\n",
            "\n",
            "Epoch 00040: saving model to checkpoint\n",
            "INFO:tensorflow:Assets written to: checkpoint/assets\n",
            "Epoch 41/100\n",
            "157/157 [==============================] - 4s 23ms/step - loss: 1.6975 - categorical_accuracy: 0.3729 - val_loss: 1.7801 - val_categorical_accuracy: 0.3516\n",
            "\n",
            "Epoch 00041: saving model to checkpoint\n",
            "INFO:tensorflow:Assets written to: checkpoint/assets\n",
            "Epoch 42/100\n",
            "157/157 [==============================] - 4s 24ms/step - loss: 1.6874 - categorical_accuracy: 0.3763 - val_loss: 1.7700 - val_categorical_accuracy: 0.3563\n",
            "\n",
            "Epoch 00042: saving model to checkpoint\n",
            "INFO:tensorflow:Assets written to: checkpoint/assets\n",
            "Epoch 43/100\n",
            "157/157 [==============================] - 4s 24ms/step - loss: 1.6990 - categorical_accuracy: 0.3735 - val_loss: 1.7691 - val_categorical_accuracy: 0.3599\n",
            "\n",
            "Epoch 00043: saving model to checkpoint\n",
            "INFO:tensorflow:Assets written to: checkpoint/assets\n",
            "Epoch 44/100\n",
            "157/157 [==============================] - 4s 24ms/step - loss: 1.6785 - categorical_accuracy: 0.3792 - val_loss: 1.7756 - val_categorical_accuracy: 0.3370\n",
            "\n",
            "Epoch 00044: saving model to checkpoint\n",
            "INFO:tensorflow:Assets written to: checkpoint/assets\n",
            "Epoch 45/100\n",
            "157/157 [==============================] - 4s 24ms/step - loss: 1.6627 - categorical_accuracy: 0.3894 - val_loss: 1.7604 - val_categorical_accuracy: 0.3613\n",
            "\n",
            "Epoch 00045: saving model to checkpoint\n",
            "INFO:tensorflow:Assets written to: checkpoint/assets\n",
            "Epoch 46/100\n",
            "157/157 [==============================] - 4s 23ms/step - loss: 1.6619 - categorical_accuracy: 0.3857 - val_loss: 1.7392 - val_categorical_accuracy: 0.3547\n",
            "\n",
            "Epoch 00046: saving model to checkpoint\n",
            "INFO:tensorflow:Assets written to: checkpoint/assets\n",
            "Epoch 47/100\n",
            "157/157 [==============================] - 4s 23ms/step - loss: 1.6531 - categorical_accuracy: 0.3869 - val_loss: 1.7403 - val_categorical_accuracy: 0.3525\n",
            "\n",
            "Epoch 00047: saving model to checkpoint\n",
            "INFO:tensorflow:Assets written to: checkpoint/assets\n",
            "Epoch 48/100\n",
            "157/157 [==============================] - 4s 23ms/step - loss: 1.6435 - categorical_accuracy: 0.3844 - val_loss: 1.7579 - val_categorical_accuracy: 0.3439\n",
            "\n",
            "Epoch 00048: saving model to checkpoint\n",
            "INFO:tensorflow:Assets written to: checkpoint/assets\n",
            "Epoch 49/100\n",
            "157/157 [==============================] - 4s 24ms/step - loss: 1.6377 - categorical_accuracy: 0.3909 - val_loss: 1.7356 - val_categorical_accuracy: 0.3683\n",
            "\n",
            "Epoch 00049: saving model to checkpoint\n",
            "INFO:tensorflow:Assets written to: checkpoint/assets\n",
            "Epoch 50/100\n",
            "157/157 [==============================] - 4s 24ms/step - loss: 1.6405 - categorical_accuracy: 0.3944 - val_loss: 1.7363 - val_categorical_accuracy: 0.3557\n",
            "\n",
            "Epoch 00050: saving model to checkpoint\n",
            "INFO:tensorflow:Assets written to: checkpoint/assets\n",
            "Epoch 51/100\n",
            "157/157 [==============================] - 4s 24ms/step - loss: 1.6268 - categorical_accuracy: 0.3931 - val_loss: 1.7259 - val_categorical_accuracy: 0.3412\n",
            "\n",
            "Epoch 00051: saving model to checkpoint\n",
            "INFO:tensorflow:Assets written to: checkpoint/assets\n",
            "Epoch 52/100\n",
            "157/157 [==============================] - 4s 24ms/step - loss: 1.6212 - categorical_accuracy: 0.3944 - val_loss: 1.7529 - val_categorical_accuracy: 0.3362\n",
            "\n",
            "Epoch 00052: saving model to checkpoint\n",
            "INFO:tensorflow:Assets written to: checkpoint/assets\n",
            "Epoch 53/100\n",
            "157/157 [==============================] - 4s 24ms/step - loss: 1.6097 - categorical_accuracy: 0.4027 - val_loss: 1.7312 - val_categorical_accuracy: 0.3525\n",
            "\n",
            "Epoch 00053: saving model to checkpoint\n",
            "INFO:tensorflow:Assets written to: checkpoint/assets\n",
            "Epoch 54/100\n",
            "157/157 [==============================] - 4s 24ms/step - loss: 1.6106 - categorical_accuracy: 0.4012 - val_loss: 1.7227 - val_categorical_accuracy: 0.3511\n",
            "\n",
            "Epoch 00054: saving model to checkpoint\n",
            "INFO:tensorflow:Assets written to: checkpoint/assets\n",
            "Epoch 55/100\n",
            "157/157 [==============================] - 4s 24ms/step - loss: 1.6008 - categorical_accuracy: 0.4056 - val_loss: 1.7738 - val_categorical_accuracy: 0.3198\n",
            "\n",
            "Epoch 00055: saving model to checkpoint\n",
            "INFO:tensorflow:Assets written to: checkpoint/assets\n",
            "Epoch 56/100\n",
            "157/157 [==============================] - 4s 24ms/step - loss: 1.5964 - categorical_accuracy: 0.4012 - val_loss: 1.7103 - val_categorical_accuracy: 0.3507\n",
            "\n",
            "Epoch 00056: saving model to checkpoint\n",
            "INFO:tensorflow:Assets written to: checkpoint/assets\n",
            "Epoch 57/100\n",
            "157/157 [==============================] - 4s 23ms/step - loss: 1.5861 - categorical_accuracy: 0.4073 - val_loss: 1.7319 - val_categorical_accuracy: 0.3383\n",
            "\n",
            "Epoch 00057: saving model to checkpoint\n",
            "INFO:tensorflow:Assets written to: checkpoint/assets\n",
            "Epoch 58/100\n",
            "157/157 [==============================] - 4s 23ms/step - loss: 1.5827 - categorical_accuracy: 0.4068 - val_loss: 1.7048 - val_categorical_accuracy: 0.3515\n",
            "\n",
            "Epoch 00058: saving model to checkpoint\n",
            "INFO:tensorflow:Assets written to: checkpoint/assets\n",
            "Epoch 59/100\n",
            "157/157 [==============================] - 4s 23ms/step - loss: 1.5833 - categorical_accuracy: 0.3991 - val_loss: 1.7351 - val_categorical_accuracy: 0.3325\n",
            "\n",
            "Epoch 00059: saving model to checkpoint\n",
            "INFO:tensorflow:Assets written to: checkpoint/assets\n",
            "Epoch 60/100\n",
            "157/157 [==============================] - 4s 23ms/step - loss: 1.5777 - categorical_accuracy: 0.4058 - val_loss: 1.7306 - val_categorical_accuracy: 0.3589\n",
            "\n",
            "Epoch 00060: saving model to checkpoint\n",
            "INFO:tensorflow:Assets written to: checkpoint/assets\n",
            "Epoch 61/100\n",
            "157/157 [==============================] - 4s 23ms/step - loss: 1.5831 - categorical_accuracy: 0.4079 - val_loss: 1.7705 - val_categorical_accuracy: 0.3256\n",
            "\n",
            "Epoch 00061: saving model to checkpoint\n",
            "INFO:tensorflow:Assets written to: checkpoint/assets\n",
            "Epoch 62/100\n",
            "157/157 [==============================] - 4s 23ms/step - loss: 1.5679 - categorical_accuracy: 0.4069 - val_loss: 1.8001 - val_categorical_accuracy: 0.3189\n",
            "\n",
            "Epoch 00062: saving model to checkpoint\n",
            "INFO:tensorflow:Assets written to: checkpoint/assets\n",
            "Epoch 63/100\n",
            "157/157 [==============================] - 4s 24ms/step - loss: 1.5661 - categorical_accuracy: 0.4093 - val_loss: 1.7352 - val_categorical_accuracy: 0.3489\n",
            "\n",
            "Epoch 00063: saving model to checkpoint\n",
            "INFO:tensorflow:Assets written to: checkpoint/assets\n",
            "Epoch 64/100\n",
            "157/157 [==============================] - 4s 24ms/step - loss: 1.5573 - categorical_accuracy: 0.4181 - val_loss: 1.6982 - val_categorical_accuracy: 0.3551\n",
            "\n",
            "Epoch 00064: saving model to checkpoint\n",
            "INFO:tensorflow:Assets written to: checkpoint/assets\n",
            "Epoch 65/100\n",
            "157/157 [==============================] - 4s 24ms/step - loss: 1.5565 - categorical_accuracy: 0.4183 - val_loss: 1.7032 - val_categorical_accuracy: 0.3593\n",
            "\n",
            "Epoch 00065: saving model to checkpoint\n",
            "INFO:tensorflow:Assets written to: checkpoint/assets\n",
            "Epoch 66/100\n",
            "157/157 [==============================] - 4s 23ms/step - loss: 1.5621 - categorical_accuracy: 0.4099 - val_loss: 1.8194 - val_categorical_accuracy: 0.3087\n",
            "\n",
            "Epoch 00066: saving model to checkpoint\n",
            "INFO:tensorflow:Assets written to: checkpoint/assets\n",
            "Epoch 67/100\n",
            "157/157 [==============================] - 4s 24ms/step - loss: 1.5625 - categorical_accuracy: 0.4079 - val_loss: 1.6946 - val_categorical_accuracy: 0.3616\n",
            "\n",
            "Epoch 00067: saving model to checkpoint\n",
            "INFO:tensorflow:Assets written to: checkpoint/assets\n",
            "Epoch 68/100\n",
            "157/157 [==============================] - 4s 25ms/step - loss: 1.5420 - categorical_accuracy: 0.4158 - val_loss: 1.7119 - val_categorical_accuracy: 0.3528\n",
            "\n",
            "Epoch 00068: saving model to checkpoint\n",
            "INFO:tensorflow:Assets written to: checkpoint/assets\n",
            "Epoch 69/100\n",
            "157/157 [==============================] - 4s 23ms/step - loss: 1.5383 - categorical_accuracy: 0.4202 - val_loss: 1.6908 - val_categorical_accuracy: 0.3635\n",
            "\n",
            "Epoch 00069: saving model to checkpoint\n",
            "INFO:tensorflow:Assets written to: checkpoint/assets\n",
            "Epoch 70/100\n",
            "157/157 [==============================] - 4s 24ms/step - loss: 1.5399 - categorical_accuracy: 0.4180 - val_loss: 1.7050 - val_categorical_accuracy: 0.3512\n",
            "\n",
            "Epoch 00070: saving model to checkpoint\n",
            "INFO:tensorflow:Assets written to: checkpoint/assets\n",
            "Epoch 71/100\n",
            "157/157 [==============================] - 4s 24ms/step - loss: 1.5330 - categorical_accuracy: 0.4193 - val_loss: 1.6849 - val_categorical_accuracy: 0.3633\n",
            "\n",
            "Epoch 00071: saving model to checkpoint\n",
            "INFO:tensorflow:Assets written to: checkpoint/assets\n",
            "Epoch 72/100\n",
            "157/157 [==============================] - 4s 24ms/step - loss: 1.5269 - categorical_accuracy: 0.4218 - val_loss: 1.6855 - val_categorical_accuracy: 0.3782\n",
            "\n",
            "Epoch 00072: saving model to checkpoint\n",
            "INFO:tensorflow:Assets written to: checkpoint/assets\n",
            "Epoch 73/100\n",
            "157/157 [==============================] - 4s 24ms/step - loss: 1.5280 - categorical_accuracy: 0.4238 - val_loss: 1.6912 - val_categorical_accuracy: 0.3573\n",
            "\n",
            "Epoch 00073: saving model to checkpoint\n",
            "INFO:tensorflow:Assets written to: checkpoint/assets\n",
            "Epoch 74/100\n",
            "157/157 [==============================] - 4s 24ms/step - loss: 1.5201 - categorical_accuracy: 0.4246 - val_loss: 1.7053 - val_categorical_accuracy: 0.3748\n",
            "\n",
            "Epoch 00074: saving model to checkpoint\n",
            "INFO:tensorflow:Assets written to: checkpoint/assets\n",
            "Epoch 75/100\n",
            "157/157 [==============================] - 4s 24ms/step - loss: 1.5180 - categorical_accuracy: 0.4259 - val_loss: 1.6939 - val_categorical_accuracy: 0.3494\n",
            "\n",
            "Epoch 00075: saving model to checkpoint\n",
            "INFO:tensorflow:Assets written to: checkpoint/assets\n",
            "Epoch 76/100\n",
            "157/157 [==============================] - 4s 23ms/step - loss: 1.5183 - categorical_accuracy: 0.4296 - val_loss: 1.6668 - val_categorical_accuracy: 0.3664\n",
            "\n",
            "Epoch 00076: saving model to checkpoint\n",
            "INFO:tensorflow:Assets written to: checkpoint/assets\n",
            "Epoch 77/100\n",
            "157/157 [==============================] - 4s 24ms/step - loss: 1.5109 - categorical_accuracy: 0.4340 - val_loss: 1.6717 - val_categorical_accuracy: 0.3568\n",
            "\n",
            "Epoch 00077: saving model to checkpoint\n",
            "INFO:tensorflow:Assets written to: checkpoint/assets\n",
            "Epoch 78/100\n",
            "157/157 [==============================] - 4s 24ms/step - loss: 1.5038 - categorical_accuracy: 0.4308 - val_loss: 1.6876 - val_categorical_accuracy: 0.3476\n",
            "\n",
            "Epoch 00078: saving model to checkpoint\n",
            "INFO:tensorflow:Assets written to: checkpoint/assets\n",
            "Epoch 79/100\n",
            "157/157 [==============================] - 4s 23ms/step - loss: 1.5030 - categorical_accuracy: 0.4342 - val_loss: 1.6647 - val_categorical_accuracy: 0.3709\n",
            "\n",
            "Epoch 00079: saving model to checkpoint\n",
            "INFO:tensorflow:Assets written to: checkpoint/assets\n",
            "Epoch 80/100\n",
            "157/157 [==============================] - 4s 24ms/step - loss: 1.4970 - categorical_accuracy: 0.4348 - val_loss: 1.6841 - val_categorical_accuracy: 0.3319\n",
            "\n",
            "Epoch 00080: saving model to checkpoint\n",
            "INFO:tensorflow:Assets written to: checkpoint/assets\n",
            "Epoch 81/100\n",
            "157/157 [==============================] - 4s 24ms/step - loss: 1.5029 - categorical_accuracy: 0.4272 - val_loss: 1.6823 - val_categorical_accuracy: 0.3648\n",
            "\n",
            "Epoch 00081: saving model to checkpoint\n",
            "INFO:tensorflow:Assets written to: checkpoint/assets\n",
            "Epoch 82/100\n",
            "157/157 [==============================] - 4s 23ms/step - loss: 1.4953 - categorical_accuracy: 0.4329 - val_loss: 1.6714 - val_categorical_accuracy: 0.3659\n",
            "\n",
            "Epoch 00082: saving model to checkpoint\n",
            "INFO:tensorflow:Assets written to: checkpoint/assets\n",
            "Epoch 83/100\n",
            "157/157 [==============================] - 4s 24ms/step - loss: 1.4987 - categorical_accuracy: 0.4332 - val_loss: 1.7534 - val_categorical_accuracy: 0.3256\n",
            "\n",
            "Epoch 00083: saving model to checkpoint\n",
            "INFO:tensorflow:Assets written to: checkpoint/assets\n",
            "Epoch 84/100\n",
            "157/157 [==============================] - 4s 24ms/step - loss: 1.4842 - categorical_accuracy: 0.4361 - val_loss: 1.6660 - val_categorical_accuracy: 0.3752\n",
            "\n",
            "Epoch 00084: saving model to checkpoint\n",
            "INFO:tensorflow:Assets written to: checkpoint/assets\n",
            "Epoch 85/100\n",
            "157/157 [==============================] - 4s 24ms/step - loss: 1.4735 - categorical_accuracy: 0.4396 - val_loss: 1.7025 - val_categorical_accuracy: 0.3519\n",
            "\n",
            "Epoch 00085: saving model to checkpoint\n",
            "INFO:tensorflow:Assets written to: checkpoint/assets\n",
            "Epoch 86/100\n",
            "157/157 [==============================] - 4s 24ms/step - loss: 1.4706 - categorical_accuracy: 0.4454 - val_loss: 1.6585 - val_categorical_accuracy: 0.3652\n",
            "\n",
            "Epoch 00086: saving model to checkpoint\n",
            "INFO:tensorflow:Assets written to: checkpoint/assets\n",
            "Epoch 87/100\n",
            "157/157 [==============================] - 4s 24ms/step - loss: 1.4825 - categorical_accuracy: 0.4367 - val_loss: 1.7277 - val_categorical_accuracy: 0.3421\n",
            "\n",
            "Epoch 00087: saving model to checkpoint\n",
            "INFO:tensorflow:Assets written to: checkpoint/assets\n",
            "Epoch 88/100\n",
            "157/157 [==============================] - 4s 24ms/step - loss: 1.4676 - categorical_accuracy: 0.4456 - val_loss: 1.6666 - val_categorical_accuracy: 0.3627\n",
            "\n",
            "Epoch 00088: saving model to checkpoint\n",
            "INFO:tensorflow:Assets written to: checkpoint/assets\n",
            "Epoch 89/100\n",
            "157/157 [==============================] - 4s 24ms/step - loss: 1.4675 - categorical_accuracy: 0.4432 - val_loss: 1.6574 - val_categorical_accuracy: 0.3573\n",
            "\n",
            "Epoch 00089: saving model to checkpoint\n",
            "INFO:tensorflow:Assets written to: checkpoint/assets\n",
            "Epoch 90/100\n",
            "157/157 [==============================] - 4s 24ms/step - loss: 1.4591 - categorical_accuracy: 0.4484 - val_loss: 1.6686 - val_categorical_accuracy: 0.3585\n",
            "\n",
            "Epoch 00090: saving model to checkpoint\n",
            "INFO:tensorflow:Assets written to: checkpoint/assets\n",
            "Epoch 91/100\n",
            "157/157 [==============================] - 4s 24ms/step - loss: 1.4592 - categorical_accuracy: 0.4504 - val_loss: 1.6786 - val_categorical_accuracy: 0.3597\n",
            "\n",
            "Epoch 00091: saving model to checkpoint\n",
            "INFO:tensorflow:Assets written to: checkpoint/assets\n",
            "Epoch 92/100\n",
            "157/157 [==============================] - 4s 23ms/step - loss: 1.4622 - categorical_accuracy: 0.4434 - val_loss: 1.7701 - val_categorical_accuracy: 0.3550\n",
            "\n",
            "Epoch 00092: saving model to checkpoint\n",
            "INFO:tensorflow:Assets written to: checkpoint/assets\n",
            "Epoch 93/100\n",
            "157/157 [==============================] - 4s 24ms/step - loss: 1.4549 - categorical_accuracy: 0.4501 - val_loss: 1.6568 - val_categorical_accuracy: 0.3675\n",
            "\n",
            "Epoch 00093: saving model to checkpoint\n",
            "INFO:tensorflow:Assets written to: checkpoint/assets\n",
            "Epoch 94/100\n",
            "157/157 [==============================] - 4s 24ms/step - loss: 1.4666 - categorical_accuracy: 0.4378 - val_loss: 1.6699 - val_categorical_accuracy: 0.3612\n",
            "\n",
            "Epoch 00094: saving model to checkpoint\n",
            "INFO:tensorflow:Assets written to: checkpoint/assets\n",
            "Epoch 95/100\n",
            "157/157 [==============================] - 4s 24ms/step - loss: 1.4430 - categorical_accuracy: 0.4512 - val_loss: 1.6845 - val_categorical_accuracy: 0.3550\n",
            "\n",
            "Epoch 00095: saving model to checkpoint\n",
            "INFO:tensorflow:Assets written to: checkpoint/assets\n",
            "Epoch 96/100\n",
            "157/157 [==============================] - 4s 24ms/step - loss: 1.4484 - categorical_accuracy: 0.4483 - val_loss: 1.7087 - val_categorical_accuracy: 0.3526\n",
            "\n",
            "Epoch 00096: saving model to checkpoint\n",
            "INFO:tensorflow:Assets written to: checkpoint/assets\n",
            "Epoch 97/100\n",
            "157/157 [==============================] - 4s 24ms/step - loss: 1.4482 - categorical_accuracy: 0.4479 - val_loss: 1.7075 - val_categorical_accuracy: 0.3631\n",
            "\n",
            "Epoch 00097: saving model to checkpoint\n",
            "INFO:tensorflow:Assets written to: checkpoint/assets\n",
            "Epoch 98/100\n",
            "157/157 [==============================] - 4s 24ms/step - loss: 1.4422 - categorical_accuracy: 0.4534 - val_loss: 1.6682 - val_categorical_accuracy: 0.3583\n",
            "\n",
            "Epoch 00098: saving model to checkpoint\n",
            "INFO:tensorflow:Assets written to: checkpoint/assets\n",
            "Epoch 99/100\n",
            "157/157 [==============================] - 4s 24ms/step - loss: 1.4324 - categorical_accuracy: 0.4560 - val_loss: 1.6682 - val_categorical_accuracy: 0.3720\n",
            "\n",
            "Epoch 00099: saving model to checkpoint\n",
            "INFO:tensorflow:Assets written to: checkpoint/assets\n",
            "Epoch 100/100\n",
            "157/157 [==============================] - 4s 24ms/step - loss: 1.4312 - categorical_accuracy: 0.4596 - val_loss: 1.6590 - val_categorical_accuracy: 0.3534\n",
            "\n",
            "Epoch 00100: saving model to checkpoint\n",
            "INFO:tensorflow:Assets written to: checkpoint/assets\n",
            "313/313 [==============================] - 1s 4ms/step - loss: 4.6231 - categorical_accuracy: 0.0996\n",
            "Test loss: 4.623102188110352\n",
            "Test accuracy: 0.09960000216960907\n"
          ]
        }
      ]
    },
    {
      "cell_type": "code",
      "metadata": {
        "id": "aMpXOYlgG83M",
        "colab": {
          "base_uri": "https://localhost:8080/",
          "height": 204
        },
        "outputId": "afd04443-e947-46a9-ada6-77efcf8f32b9"
      },
      "source": [
        "frame_mul = pd.DataFrame(history_mul.history)\n",
        "frame_mul.head()"
      ],
      "execution_count": 51,
      "outputs": [
        {
          "output_type": "execute_result",
          "data": {
            "text/html": [
              "<div>\n",
              "<style scoped>\n",
              "    .dataframe tbody tr th:only-of-type {\n",
              "        vertical-align: middle;\n",
              "    }\n",
              "\n",
              "    .dataframe tbody tr th {\n",
              "        vertical-align: top;\n",
              "    }\n",
              "\n",
              "    .dataframe thead th {\n",
              "        text-align: right;\n",
              "    }\n",
              "</style>\n",
              "<table border=\"1\" class=\"dataframe\">\n",
              "  <thead>\n",
              "    <tr style=\"text-align: right;\">\n",
              "      <th></th>\n",
              "      <th>loss</th>\n",
              "      <th>categorical_accuracy</th>\n",
              "      <th>val_loss</th>\n",
              "      <th>val_categorical_accuracy</th>\n",
              "    </tr>\n",
              "  </thead>\n",
              "  <tbody>\n",
              "    <tr>\n",
              "      <th>0</th>\n",
              "      <td>2.282829</td>\n",
              "      <td>0.1198</td>\n",
              "      <td>2.267601</td>\n",
              "      <td>0.1231</td>\n",
              "    </tr>\n",
              "    <tr>\n",
              "      <th>1</th>\n",
              "      <td>2.249547</td>\n",
              "      <td>0.1319</td>\n",
              "      <td>2.226316</td>\n",
              "      <td>0.1385</td>\n",
              "    </tr>\n",
              "    <tr>\n",
              "      <th>2</th>\n",
              "      <td>2.212791</td>\n",
              "      <td>0.1431</td>\n",
              "      <td>2.219753</td>\n",
              "      <td>0.1573</td>\n",
              "    </tr>\n",
              "    <tr>\n",
              "      <th>3</th>\n",
              "      <td>2.190051</td>\n",
              "      <td>0.1472</td>\n",
              "      <td>2.189582</td>\n",
              "      <td>0.1582</td>\n",
              "    </tr>\n",
              "    <tr>\n",
              "      <th>4</th>\n",
              "      <td>2.174581</td>\n",
              "      <td>0.1482</td>\n",
              "      <td>2.176456</td>\n",
              "      <td>0.1486</td>\n",
              "    </tr>\n",
              "  </tbody>\n",
              "</table>\n",
              "</div>"
            ],
            "text/plain": [
              "       loss  categorical_accuracy  val_loss  val_categorical_accuracy\n",
              "0  2.282829                0.1198  2.267601                    0.1231\n",
              "1  2.249547                0.1319  2.226316                    0.1385\n",
              "2  2.212791                0.1431  2.219753                    0.1573\n",
              "3  2.190051                0.1472  2.189582                    0.1582\n",
              "4  2.174581                0.1482  2.176456                    0.1486"
            ]
          },
          "metadata": {},
          "execution_count": 51
        }
      ]
    },
    {
      "cell_type": "code",
      "metadata": {
        "id": "KFcw4cqVHBvW",
        "colab": {
          "base_uri": "https://localhost:8080/",
          "height": 369
        },
        "outputId": "50870a22-88b2-48a0-a4c4-3731f7be9d39"
      },
      "source": [
        "plt.figure(figsize=(10,5))\n",
        "ax1 = plt.subplot(121)\n",
        "plt.plot(history_mul.history['loss'])\n",
        "plt.plot(history_mul.history['val_loss'])\n",
        "plt.title('Loss vs. epochs')\n",
        "plt.ylabel('Loss')\n",
        "plt.xlabel('Epoch')\n",
        "plt.legend(['Training','Validation'],loc='lower left')\n",
        "ax2 = plt.subplot(122)\n",
        "plt.plot(history_mul.history['categorical_accuracy'])\n",
        "plt.plot(history_mul.history['val_categorical_accuracy'])\n",
        "plt.title('Accuracy vs. epochs')\n",
        "plt.ylabel('Accuracy')\n",
        "plt.xlabel('Epoch')\n",
        "plt.legend(['Training','Validation'],loc='lower right')\n",
        "plt.tight_layout()\n",
        "plt.show()"
      ],
      "execution_count": 52,
      "outputs": [
        {
          "output_type": "display_data",
          "data": {
            "image/png": "[encoded data removed]",
            "text/plain": [
              "<Figure size 720x360 with 2 Axes>"
            ]
          },
          "metadata": {
            "needs_background": "light"
          }
        }
      ]
    },
    {
      "cell_type": "code",
      "metadata": {
        "colab": {
          "base_uri": "https://localhost:8080/",
          "height": 359
        },
        "id": "Xeps7Dbpw8nX",
        "outputId": "3395871b-e5d8-45d5-ee49-8402cd7f72be"
      },
      "source": [
        "MM_pred_df = eval_model_by_class(model, [X1test,X2test])\n",
        "MM_pred_df"
      ],
      "execution_count": 53,
      "outputs": [
        {
          "output_type": "execute_result",
          "data": {
            "text/html": [
              "<div>\n",
              "<style scoped>\n",
              "    .dataframe tbody tr th:only-of-type {\n",
              "        vertical-align: middle;\n",
              "    }\n",
              "\n",
              "    .dataframe tbody tr th {\n",
              "        vertical-align: top;\n",
              "    }\n",
              "\n",
              "    .dataframe thead th {\n",
              "        text-align: right;\n",
              "    }\n",
              "</style>\n",
              "<table border=\"1\" class=\"dataframe\">\n",
              "  <thead>\n",
              "    <tr style=\"text-align: right;\">\n",
              "      <th></th>\n",
              "      <th>index</th>\n",
              "      <th>y_true</th>\n",
              "      <th>accurate_preds</th>\n",
              "      <th>label_count</th>\n",
              "      <th>class_acc</th>\n",
              "      <th>overall_acc</th>\n",
              "    </tr>\n",
              "  </thead>\n",
              "  <tbody>\n",
              "    <tr>\n",
              "      <th>0</th>\n",
              "      <td>0</td>\n",
              "      <td>b'AnnualCrop'</td>\n",
              "      <td>275</td>\n",
              "      <td>1000</td>\n",
              "      <td>0.275</td>\n",
              "      <td>0.3534</td>\n",
              "    </tr>\n",
              "    <tr>\n",
              "      <th>1</th>\n",
              "      <td>1</td>\n",
              "      <td>b'Forest'</td>\n",
              "      <td>727</td>\n",
              "      <td>1000</td>\n",
              "      <td>0.727</td>\n",
              "      <td>0.3534</td>\n",
              "    </tr>\n",
              "    <tr>\n",
              "      <th>2</th>\n",
              "      <td>2</td>\n",
              "      <td>b'HerbaceousVegetation'</td>\n",
              "      <td>61</td>\n",
              "      <td>1000</td>\n",
              "      <td>0.061</td>\n",
              "      <td>0.3534</td>\n",
              "    </tr>\n",
              "    <tr>\n",
              "      <th>3</th>\n",
              "      <td>3</td>\n",
              "      <td>b'Highway'</td>\n",
              "      <td>301</td>\n",
              "      <td>1000</td>\n",
              "      <td>0.301</td>\n",
              "      <td>0.3534</td>\n",
              "    </tr>\n",
              "    <tr>\n",
              "      <th>4</th>\n",
              "      <td>4</td>\n",
              "      <td>b'Industrial'</td>\n",
              "      <td>542</td>\n",
              "      <td>1000</td>\n",
              "      <td>0.542</td>\n",
              "      <td>0.3534</td>\n",
              "    </tr>\n",
              "    <tr>\n",
              "      <th>5</th>\n",
              "      <td>5</td>\n",
              "      <td>b'Pasture'</td>\n",
              "      <td>169</td>\n",
              "      <td>1000</td>\n",
              "      <td>0.169</td>\n",
              "      <td>0.3534</td>\n",
              "    </tr>\n",
              "    <tr>\n",
              "      <th>6</th>\n",
              "      <td>6</td>\n",
              "      <td>b'PermanentCrop'</td>\n",
              "      <td>419</td>\n",
              "      <td>1000</td>\n",
              "      <td>0.419</td>\n",
              "      <td>0.3534</td>\n",
              "    </tr>\n",
              "    <tr>\n",
              "      <th>7</th>\n",
              "      <td>7</td>\n",
              "      <td>b'Residential'</td>\n",
              "      <td>313</td>\n",
              "      <td>1000</td>\n",
              "      <td>0.313</td>\n",
              "      <td>0.3534</td>\n",
              "    </tr>\n",
              "    <tr>\n",
              "      <th>8</th>\n",
              "      <td>8</td>\n",
              "      <td>b'River'</td>\n",
              "      <td>458</td>\n",
              "      <td>1000</td>\n",
              "      <td>0.458</td>\n",
              "      <td>0.3534</td>\n",
              "    </tr>\n",
              "    <tr>\n",
              "      <th>9</th>\n",
              "      <td>9</td>\n",
              "      <td>b'SeaLake'</td>\n",
              "      <td>269</td>\n",
              "      <td>1000</td>\n",
              "      <td>0.269</td>\n",
              "      <td>0.3534</td>\n",
              "    </tr>\n",
              "  </tbody>\n",
              "</table>\n",
              "</div>"
            ],
            "text/plain": [
              "   index                   y_true  ...  class_acc  overall_acc\n",
              "0      0            b'AnnualCrop'  ...      0.275       0.3534\n",
              "1      1                b'Forest'  ...      0.727       0.3534\n",
              "2      2  b'HerbaceousVegetation'  ...      0.061       0.3534\n",
              "3      3               b'Highway'  ...      0.301       0.3534\n",
              "4      4            b'Industrial'  ...      0.542       0.3534\n",
              "5      5               b'Pasture'  ...      0.169       0.3534\n",
              "6      6         b'PermanentCrop'  ...      0.419       0.3534\n",
              "7      7           b'Residential'  ...      0.313       0.3534\n",
              "8      8                 b'River'  ...      0.458       0.3534\n",
              "9      9               b'SeaLake'  ...      0.269       0.3534\n",
              "\n",
              "[10 rows x 6 columns]"
            ]
          },
          "metadata": {},
          "execution_count": 53
        }
      ]
    },
    {
      "cell_type": "code",
      "metadata": {
        "colab": {
          "base_uri": "https://localhost:8080/",
          "height": 419
        },
        "id": "Ccieu3IfxSzc",
        "outputId": "5414c406-ec96-445e-a68a-d74c4cc7e60b"
      },
      "source": [
        "MM_pred_wrong = find_wrong_preds(model, [X1test,X2test])\n",
        "MM_pred_wrong"
      ],
      "execution_count": 54,
      "outputs": [
        {
          "output_type": "execute_result",
          "data": {
            "text/html": [
              "<div>\n",
              "<style scoped>\n",
              "    .dataframe tbody tr th:only-of-type {\n",
              "        vertical-align: middle;\n",
              "    }\n",
              "\n",
              "    .dataframe tbody tr th {\n",
              "        vertical-align: top;\n",
              "    }\n",
              "\n",
              "    .dataframe thead th {\n",
              "        text-align: right;\n",
              "    }\n",
              "</style>\n",
              "<table border=\"1\" class=\"dataframe\">\n",
              "  <thead>\n",
              "    <tr style=\"text-align: right;\">\n",
              "      <th></th>\n",
              "      <th>y_true</th>\n",
              "      <th>y_pred</th>\n",
              "      <th>accurate_preds</th>\n",
              "    </tr>\n",
              "  </thead>\n",
              "  <tbody>\n",
              "    <tr>\n",
              "      <th>702</th>\n",
              "      <td>b'AnnualCrop'</td>\n",
              "      <td>b'AnnualCrop'</td>\n",
              "      <td>True</td>\n",
              "    </tr>\n",
              "    <tr>\n",
              "      <th>5448</th>\n",
              "      <td>b'AnnualCrop'</td>\n",
              "      <td>b'PermanentCrop'</td>\n",
              "      <td>False</td>\n",
              "    </tr>\n",
              "    <tr>\n",
              "      <th>9648</th>\n",
              "      <td>b'AnnualCrop'</td>\n",
              "      <td>b'SeaLake'</td>\n",
              "      <td>False</td>\n",
              "    </tr>\n",
              "    <tr>\n",
              "      <th>5446</th>\n",
              "      <td>b'AnnualCrop'</td>\n",
              "      <td>b'PermanentCrop'</td>\n",
              "      <td>False</td>\n",
              "    </tr>\n",
              "    <tr>\n",
              "      <th>3077</th>\n",
              "      <td>b'AnnualCrop'</td>\n",
              "      <td>b'Highway'</td>\n",
              "      <td>False</td>\n",
              "    </tr>\n",
              "    <tr>\n",
              "      <th>...</th>\n",
              "      <td>...</td>\n",
              "      <td>...</td>\n",
              "      <td>...</td>\n",
              "    </tr>\n",
              "    <tr>\n",
              "      <th>1810</th>\n",
              "      <td>b'SeaLake'</td>\n",
              "      <td>b'Forest'</td>\n",
              "      <td>False</td>\n",
              "    </tr>\n",
              "    <tr>\n",
              "      <th>5438</th>\n",
              "      <td>b'SeaLake'</td>\n",
              "      <td>b'SeaLake'</td>\n",
              "      <td>True</td>\n",
              "    </tr>\n",
              "    <tr>\n",
              "      <th>5450</th>\n",
              "      <td>b'SeaLake'</td>\n",
              "      <td>b'River'</td>\n",
              "      <td>False</td>\n",
              "    </tr>\n",
              "    <tr>\n",
              "      <th>3137</th>\n",
              "      <td>b'SeaLake'</td>\n",
              "      <td>b'Forest'</td>\n",
              "      <td>False</td>\n",
              "    </tr>\n",
              "    <tr>\n",
              "      <th>9999</th>\n",
              "      <td>b'SeaLake'</td>\n",
              "      <td>b'Forest'</td>\n",
              "      <td>False</td>\n",
              "    </tr>\n",
              "  </tbody>\n",
              "</table>\n",
              "<p>10000 rows × 3 columns</p>\n",
              "</div>"
            ],
            "text/plain": [
              "             y_true            y_pred  accurate_preds\n",
              "702   b'AnnualCrop'     b'AnnualCrop'            True\n",
              "5448  b'AnnualCrop'  b'PermanentCrop'           False\n",
              "9648  b'AnnualCrop'        b'SeaLake'           False\n",
              "5446  b'AnnualCrop'  b'PermanentCrop'           False\n",
              "3077  b'AnnualCrop'        b'Highway'           False\n",
              "...             ...               ...             ...\n",
              "1810     b'SeaLake'         b'Forest'           False\n",
              "5438     b'SeaLake'        b'SeaLake'            True\n",
              "5450     b'SeaLake'          b'River'           False\n",
              "3137     b'SeaLake'         b'Forest'           False\n",
              "9999     b'SeaLake'         b'Forest'           False\n",
              "\n",
              "[10000 rows x 3 columns]"
            ]
          },
          "metadata": {},
          "execution_count": 54
        }
      ]
    },
    {
      "cell_type": "markdown",
      "metadata": {
        "id": "dr54OIJTX61N"
      },
      "source": [
        "#New Model"
      ]
    },
    {
      "cell_type": "markdown",
      "metadata": {
        "id": "agWcPGx_63DX"
      },
      "source": [
        "CNN model"
      ]
    },
    {
      "cell_type": "code",
      "metadata": {
        "id": "D7rNmkEoAshQ"
      },
      "source": [
        "from tensorflow.keras.callbacks import ReduceLROnPlateau"
      ],
      "execution_count": 55,
      "outputs": []
    },
    {
      "cell_type": "code",
      "metadata": {
        "id": "FUrhiqs_A46X"
      },
      "source": [
        "checkpoint = ModelCheckpoint(filepath='/content/checkpoint/checkpoint001' , monitor = 'val_loss' ,\n",
        "                             save_best_only=True, save_freq = 'epoch', verbose = 1 )\n",
        "\n",
        "Early = EarlyStopping(monitor = 'val_loss', min_delta=10, patience=20, verbose = 1, \n",
        "                     mode = 'max', restore_best_weights=True)\n",
        "\n",
        "Re = ReduceLROnPlateau(monitor='val_loss', factor = 0.1, patience = 20, verbose = 1,\n",
        "                       mode = 'max' , min_delta=0.0001, cooldown=0, min_lr=0)\n",
        "\n",
        "callback = [checkpoint, Early, Re]"
      ],
      "execution_count": 56,
      "outputs": []
    },
    {
      "cell_type": "code",
      "metadata": {
        "id": "P9YXZHsYm3yM",
        "colab": {
          "base_uri": "https://localhost:8080/"
        },
        "outputId": "dd2791f5-9d4d-4e4a-b5c0-db5010004753"
      },
      "source": [
        "def model_6(input_shape, weight_decay_1, weight_decay_2, drop_rate) :\n",
        "  model_6 = Sequential()\n",
        "  model_6.add (Conv2D (16, (3,3), activation = 'relu', padding = 'same', name = 'conv_1', kernel_initializer='he_uniform',bias_initializer=\"ones\", \n",
        "                             kernel_regularizer=tf.keras.regularizers.l1_l2(l1=weight_decay_1, l2=weight_decay_2), input_shape = input_shape))\n",
        "  model_6.add (Conv2D (16, (3,3), activation = 'relu', padding = 'same', name = 'conv_2', kernel_initializer='he_uniform',bias_initializer=\"ones\", \n",
        "                             kernel_regularizer=tf.keras.regularizers.l1(l1=weight_decay_1)))\n",
        "  model_6.add (MaxPooling2D ((4,4) , strides=(2,2),name = 'pool_1'))\n",
        "  model_6.add (Conv2D (16, (3,3), activation = 'relu', padding = 'same', name = 'conv_3', kernel_initializer='he_uniform',bias_initializer=\"ones\", \n",
        "                             kernel_regularizer=tf.keras.regularizers.l1(l1=weight_decay_1)))\n",
        "  model_6.add (Conv2D (16, (3,3), activation = 'relu', padding = 'same', name = 'conv_4', kernel_initializer='he_uniform',bias_initializer=\"ones\", \n",
        "                             kernel_regularizer=tf.keras.regularizers.l1(l1=weight_decay_1)))\n",
        "  model_6.add (MaxPooling2D ((4,4) , strides=(2,2),name = 'pool_2'))\n",
        "  model_6.add (Conv2D (16, (3,3), activation = 'relu', padding = 'same', name = 'conv_5'))\n",
        "  model_6.add (Conv2D (16, (3,3), activation = 'relu', padding = 'same', name = 'conv_6'))\n",
        "  model_6.add (Conv2D (16, (3,3), activation = 'relu', padding = 'same', name = 'conv_7'))\n",
        "  model_6.add (MaxPooling2D ((4,4) , strides=(2,2),name = 'pool_3'))\n",
        "  model_6.add (Conv2D (16, (3,3), activation = 'relu', padding = 'same', name = 'conv_8'))\n",
        "  model_6.add (Conv2D (16, (3,3), activation = 'relu', padding = 'same', name = 'conv_9'))\n",
        "  model_6.add (Conv2D (16, (3,3), activation = 'relu', padding = 'same', name = 'conv_10'))\n",
        "  model_6.add (MaxPooling2D ((4,4) , strides=(2,2),name = 'pool_4'))\n",
        "  model_6.add (Flatten ())\n",
        "  model_6.add (Dropout(rate = drop_rate))\n",
        "  model_6.add (Dense (512, activation = 'relu',  name = 'dense_1') )\n",
        "  model_6.add (Dense (num_classes, activation = 'softmax', name = 'dense_2') )\n",
        "  \n",
        "  model_6.compile (optimizer = tf.keras.optimizers.Adam(learning_rate=0.0001) ,\n",
        "                 loss = tf.keras.losses.CategoricalCrossentropy(), \n",
        "                 metrics = [tf.keras.metrics.CategoricalAccuracy()])\n",
        "  \n",
        "  return model_6\n",
        "\n",
        "model_6 = model_6(my_image_train[0].shape, 1e-8, 0.0001, 0.05)\n",
        "model_6.summary()\n",
        "\n",
        "history_6 = model_6.fit(my_image_train,my_train_labels, validation_data= (my_image_test, my_test_labels) , \n",
        "                        batch_size=64, epochs=100, callbacks=callback, verbose=1)\n",
        "\n",
        "score = model_6.evaluate(my_image_test, my_test_labels, verbose=1)\n",
        "print('Test loss:', score[0])\n",
        "print('Test accuracy:', score[1])"
      ],
      "execution_count": 57,
      "outputs": [
        {
          "output_type": "stream",
          "name": "stdout",
          "text": [
            "Model: \"sequential_1\"\n",
            "_________________________________________________________________\n",
            "Layer (type)                 Output Shape              Param #   \n",
            "=================================================================\n",
            "conv_1 (Conv2D)              (None, 64, 64, 16)        160       \n",
            "_________________________________________________________________\n",
            "conv_2 (Conv2D)              (None, 64, 64, 16)        2320      \n",
            "_________________________________________________________________\n",
            "pool_1 (MaxPooling2D)        (None, 31, 31, 16)        0         \n",
            "_________________________________________________________________\n",
            "conv_3 (Conv2D)              (None, 31, 31, 16)        2320      \n",
            "_________________________________________________________________\n",
            "conv_4 (Conv2D)              (None, 31, 31, 16)        2320      \n",
            "_________________________________________________________________\n",
            "pool_2 (MaxPooling2D)        (None, 14, 14, 16)        0         \n",
            "_________________________________________________________________\n",
            "conv_5 (Conv2D)              (None, 14, 14, 16)        2320      \n",
            "_________________________________________________________________\n",
            "conv_6 (Conv2D)              (None, 14, 14, 16)        2320      \n",
            "_________________________________________________________________\n",
            "conv_7 (Conv2D)              (None, 14, 14, 16)        2320      \n",
            "_________________________________________________________________\n",
            "pool_3 (MaxPooling2D)        (None, 6, 6, 16)          0         \n",
            "_________________________________________________________________\n",
            "conv_8 (Conv2D)              (None, 6, 6, 16)          2320      \n",
            "_________________________________________________________________\n",
            "conv_9 (Conv2D)              (None, 6, 6, 16)          2320      \n",
            "_________________________________________________________________\n",
            "conv_10 (Conv2D)             (None, 6, 6, 16)          2320      \n",
            "_________________________________________________________________\n",
            "pool_4 (MaxPooling2D)        (None, 2, 2, 16)          0         \n",
            "_________________________________________________________________\n",
            "flatten_2 (Flatten)          (None, 64)                0         \n",
            "_________________________________________________________________\n",
            "dropout (Dropout)            (None, 64)                0         \n",
            "_________________________________________________________________\n",
            "dense_1 (Dense)              (None, 512)               33280     \n",
            "_________________________________________________________________\n",
            "dense_2 (Dense)              (None, 10)                5130      \n",
            "=================================================================\n",
            "Total params: 59,450\n",
            "Trainable params: 59,450\n",
            "Non-trainable params: 0\n",
            "_________________________________________________________________\n",
            "Epoch 1/100\n",
            "157/157 [==============================] - 100s 628ms/step - loss: 2.0607 - categorical_accuracy: 0.2111 - val_loss: 1.8297 - val_categorical_accuracy: 0.2567\n",
            "\n",
            "Epoch 00001: val_loss improved from inf to 1.82966, saving model to /content/checkpoint/checkpoint001\n",
            "INFO:tensorflow:Assets written to: /content/checkpoint/checkpoint001/assets\n",
            "Epoch 2/100\n",
            "157/157 [==============================] - 98s 628ms/step - loss: 1.8033 - categorical_accuracy: 0.2771 - val_loss: 1.7585 - val_categorical_accuracy: 0.2796\n",
            "\n",
            "Epoch 00002: val_loss improved from 1.82966 to 1.75847, saving model to /content/checkpoint/checkpoint001\n",
            "INFO:tensorflow:Assets written to: /content/checkpoint/checkpoint001/assets\n",
            "Epoch 3/100\n",
            "157/157 [==============================] - 98s 625ms/step - loss: 1.7281 - categorical_accuracy: 0.3175 - val_loss: 1.6666 - val_categorical_accuracy: 0.3311\n",
            "\n",
            "Epoch 00003: val_loss improved from 1.75847 to 1.66656, saving model to /content/checkpoint/checkpoint001\n",
            "INFO:tensorflow:Assets written to: /content/checkpoint/checkpoint001/assets\n",
            "Epoch 4/100\n",
            "157/157 [==============================] - 99s 631ms/step - loss: 1.6109 - categorical_accuracy: 0.3720 - val_loss: 1.5011 - val_categorical_accuracy: 0.4476\n",
            "\n",
            "Epoch 00004: val_loss improved from 1.66656 to 1.50105, saving model to /content/checkpoint/checkpoint001\n",
            "INFO:tensorflow:Assets written to: /content/checkpoint/checkpoint001/assets\n",
            "Epoch 5/100\n",
            "157/157 [==============================] - 99s 630ms/step - loss: 1.4555 - categorical_accuracy: 0.4424 - val_loss: 1.3703 - val_categorical_accuracy: 0.4791\n",
            "\n",
            "Epoch 00005: val_loss improved from 1.50105 to 1.37028, saving model to /content/checkpoint/checkpoint001\n",
            "INFO:tensorflow:Assets written to: /content/checkpoint/checkpoint001/assets\n",
            "Epoch 6/100\n",
            "157/157 [==============================] - 99s 633ms/step - loss: 1.3599 - categorical_accuracy: 0.4808 - val_loss: 1.2755 - val_categorical_accuracy: 0.5241\n",
            "\n",
            "Epoch 00006: val_loss improved from 1.37028 to 1.27552, saving model to /content/checkpoint/checkpoint001\n",
            "INFO:tensorflow:Assets written to: /content/checkpoint/checkpoint001/assets\n",
            "Epoch 7/100\n",
            "157/157 [==============================] - 99s 632ms/step - loss: 1.2945 - categorical_accuracy: 0.5073 - val_loss: 1.2196 - val_categorical_accuracy: 0.5543\n",
            "\n",
            "Epoch 00007: val_loss improved from 1.27552 to 1.21955, saving model to /content/checkpoint/checkpoint001\n",
            "INFO:tensorflow:Assets written to: /content/checkpoint/checkpoint001/assets\n",
            "Epoch 8/100\n",
            "157/157 [==============================] - 99s 632ms/step - loss: 1.2534 - categorical_accuracy: 0.5318 - val_loss: 1.2717 - val_categorical_accuracy: 0.5393\n",
            "\n",
            "Epoch 00008: val_loss did not improve from 1.21955\n",
            "Epoch 9/100\n",
            "157/157 [==============================] - 99s 632ms/step - loss: 1.2351 - categorical_accuracy: 0.5373 - val_loss: 1.1989 - val_categorical_accuracy: 0.5577\n",
            "\n",
            "Epoch 00009: val_loss improved from 1.21955 to 1.19890, saving model to /content/checkpoint/checkpoint001\n",
            "INFO:tensorflow:Assets written to: /content/checkpoint/checkpoint001/assets\n",
            "Epoch 10/100\n",
            "157/157 [==============================] - 100s 636ms/step - loss: 1.1883 - categorical_accuracy: 0.5615 - val_loss: 1.1553 - val_categorical_accuracy: 0.5757\n",
            "\n",
            "Epoch 00010: val_loss improved from 1.19890 to 1.15533, saving model to /content/checkpoint/checkpoint001\n",
            "INFO:tensorflow:Assets written to: /content/checkpoint/checkpoint001/assets\n",
            "Epoch 11/100\n",
            "157/157 [==============================] - 100s 637ms/step - loss: 1.1587 - categorical_accuracy: 0.5692 - val_loss: 1.0854 - val_categorical_accuracy: 0.6022\n",
            "\n",
            "Epoch 00011: val_loss improved from 1.15533 to 1.08542, saving model to /content/checkpoint/checkpoint001\n",
            "INFO:tensorflow:Assets written to: /content/checkpoint/checkpoint001/assets\n",
            "Epoch 12/100\n",
            "157/157 [==============================] - 99s 634ms/step - loss: 1.1131 - categorical_accuracy: 0.5857 - val_loss: 1.0499 - val_categorical_accuracy: 0.6184\n",
            "\n",
            "Epoch 00012: val_loss improved from 1.08542 to 1.04988, saving model to /content/checkpoint/checkpoint001\n",
            "INFO:tensorflow:Assets written to: /content/checkpoint/checkpoint001/assets\n",
            "Epoch 13/100\n",
            "157/157 [==============================] - 99s 631ms/step - loss: 1.0880 - categorical_accuracy: 0.5987 - val_loss: 1.0221 - val_categorical_accuracy: 0.6207\n",
            "\n",
            "Epoch 00013: val_loss improved from 1.04988 to 1.02214, saving model to /content/checkpoint/checkpoint001\n",
            "INFO:tensorflow:Assets written to: /content/checkpoint/checkpoint001/assets\n",
            "Epoch 14/100\n",
            "157/157 [==============================] - 99s 632ms/step - loss: 1.0617 - categorical_accuracy: 0.6070 - val_loss: 0.9926 - val_categorical_accuracy: 0.6350\n",
            "\n",
            "Epoch 00014: val_loss improved from 1.02214 to 0.99264, saving model to /content/checkpoint/checkpoint001\n",
            "INFO:tensorflow:Assets written to: /content/checkpoint/checkpoint001/assets\n",
            "Epoch 15/100\n",
            "157/157 [==============================] - 100s 635ms/step - loss: 1.0221 - categorical_accuracy: 0.6204 - val_loss: 1.0069 - val_categorical_accuracy: 0.6303\n",
            "\n",
            "Epoch 00015: val_loss did not improve from 0.99264\n",
            "Epoch 16/100\n",
            "157/157 [==============================] - 99s 633ms/step - loss: 1.0153 - categorical_accuracy: 0.6237 - val_loss: 0.9555 - val_categorical_accuracy: 0.6482\n",
            "\n",
            "Epoch 00016: val_loss improved from 0.99264 to 0.95550, saving model to /content/checkpoint/checkpoint001\n",
            "INFO:tensorflow:Assets written to: /content/checkpoint/checkpoint001/assets\n",
            "Epoch 17/100\n",
            "157/157 [==============================] - 99s 632ms/step - loss: 0.9968 - categorical_accuracy: 0.6238 - val_loss: 0.9798 - val_categorical_accuracy: 0.6408\n",
            "\n",
            "Epoch 00017: val_loss did not improve from 0.95550\n",
            "Epoch 18/100\n",
            "157/157 [==============================] - 100s 637ms/step - loss: 0.9841 - categorical_accuracy: 0.6326 - val_loss: 0.9443 - val_categorical_accuracy: 0.6488\n",
            "\n",
            "Epoch 00018: val_loss improved from 0.95550 to 0.94428, saving model to /content/checkpoint/checkpoint001\n",
            "INFO:tensorflow:Assets written to: /content/checkpoint/checkpoint001/assets\n",
            "Epoch 19/100\n",
            "157/157 [==============================] - 99s 630ms/step - loss: 0.9671 - categorical_accuracy: 0.6388 - val_loss: 0.9331 - val_categorical_accuracy: 0.6519\n",
            "\n",
            "Epoch 00019: val_loss improved from 0.94428 to 0.93310, saving model to /content/checkpoint/checkpoint001\n",
            "INFO:tensorflow:Assets written to: /content/checkpoint/checkpoint001/assets\n",
            "Epoch 20/100\n",
            "157/157 [==============================] - 99s 631ms/step - loss: 0.9574 - categorical_accuracy: 0.6440 - val_loss: 1.1302 - val_categorical_accuracy: 0.5874\n",
            "\n",
            "Epoch 00020: val_loss did not improve from 0.93310\n",
            "Epoch 21/100\n",
            "157/157 [==============================] - 99s 634ms/step - loss: 0.9464 - categorical_accuracy: 0.6455 - val_loss: 0.9976 - val_categorical_accuracy: 0.6220\n",
            "\n",
            "Epoch 00021: val_loss did not improve from 0.93310\n",
            "Restoring model weights from the end of the best epoch.\n",
            "\n",
            "Epoch 00021: ReduceLROnPlateau reducing learning rate to 9.999999747378752e-06.\n",
            "Epoch 00021: early stopping\n",
            "313/313 [==============================] - 20s 63ms/step - loss: 1.8297 - categorical_accuracy: 0.2567\n",
            "Test loss: 1.82966148853302\n",
            "Test accuracy: 0.2567000091075897\n"
          ]
        }
      ]
    },
    {
      "cell_type": "code",
      "metadata": {
        "id": "O6lasoE6GiAi",
        "colab": {
          "base_uri": "https://localhost:8080/",
          "height": 204
        },
        "outputId": "120f9d90-7bff-4451-8da6-6674acce1167"
      },
      "source": [
        "frame_6 = pd.DataFrame(history_6.history)\n",
        "frame_6.head()"
      ],
      "execution_count": 58,
      "outputs": [
        {
          "output_type": "execute_result",
          "data": {
            "text/html": [
              "<div>\n",
              "<style scoped>\n",
              "    .dataframe tbody tr th:only-of-type {\n",
              "        vertical-align: middle;\n",
              "    }\n",
              "\n",
              "    .dataframe tbody tr th {\n",
              "        vertical-align: top;\n",
              "    }\n",
              "\n",
              "    .dataframe thead th {\n",
              "        text-align: right;\n",
              "    }\n",
              "</style>\n",
              "<table border=\"1\" class=\"dataframe\">\n",
              "  <thead>\n",
              "    <tr style=\"text-align: right;\">\n",
              "      <th></th>\n",
              "      <th>loss</th>\n",
              "      <th>categorical_accuracy</th>\n",
              "      <th>val_loss</th>\n",
              "      <th>val_categorical_accuracy</th>\n",
              "      <th>lr</th>\n",
              "    </tr>\n",
              "  </thead>\n",
              "  <tbody>\n",
              "    <tr>\n",
              "      <th>0</th>\n",
              "      <td>2.060721</td>\n",
              "      <td>0.2111</td>\n",
              "      <td>1.829662</td>\n",
              "      <td>0.2567</td>\n",
              "      <td>0.0001</td>\n",
              "    </tr>\n",
              "    <tr>\n",
              "      <th>1</th>\n",
              "      <td>1.803305</td>\n",
              "      <td>0.2771</td>\n",
              "      <td>1.758472</td>\n",
              "      <td>0.2796</td>\n",
              "      <td>0.0001</td>\n",
              "    </tr>\n",
              "    <tr>\n",
              "      <th>2</th>\n",
              "      <td>1.728069</td>\n",
              "      <td>0.3175</td>\n",
              "      <td>1.666558</td>\n",
              "      <td>0.3311</td>\n",
              "      <td>0.0001</td>\n",
              "    </tr>\n",
              "    <tr>\n",
              "      <th>3</th>\n",
              "      <td>1.610933</td>\n",
              "      <td>0.3720</td>\n",
              "      <td>1.501054</td>\n",
              "      <td>0.4476</td>\n",
              "      <td>0.0001</td>\n",
              "    </tr>\n",
              "    <tr>\n",
              "      <th>4</th>\n",
              "      <td>1.455486</td>\n",
              "      <td>0.4424</td>\n",
              "      <td>1.370284</td>\n",
              "      <td>0.4791</td>\n",
              "      <td>0.0001</td>\n",
              "    </tr>\n",
              "  </tbody>\n",
              "</table>\n",
              "</div>"
            ],
            "text/plain": [
              "       loss  categorical_accuracy  val_loss  val_categorical_accuracy      lr\n",
              "0  2.060721                0.2111  1.829662                    0.2567  0.0001\n",
              "1  1.803305                0.2771  1.758472                    0.2796  0.0001\n",
              "2  1.728069                0.3175  1.666558                    0.3311  0.0001\n",
              "3  1.610933                0.3720  1.501054                    0.4476  0.0001\n",
              "4  1.455486                0.4424  1.370284                    0.4791  0.0001"
            ]
          },
          "metadata": {},
          "execution_count": 58
        }
      ]
    },
    {
      "cell_type": "code",
      "metadata": {
        "id": "qWC8cFSSGrxp",
        "colab": {
          "base_uri": "https://localhost:8080/",
          "height": 369
        },
        "outputId": "8281fad4-dab2-4990-8f5f-397c8e867bc1"
      },
      "source": [
        "# Plot the learning curves for loss vs epoch and accuracy vs epoch for both training and validation sets.\n",
        "plt.figure(figsize=(10,5))\n",
        "ax1 = plt.subplot(121)\n",
        "plt.plot(history_6.history['loss'])\n",
        "plt.plot(history_6.history['val_loss'])\n",
        "plt.title('Loss vs. epochs')\n",
        "plt.ylabel('Loss')\n",
        "plt.xlabel('Epoch')\n",
        "plt.legend(['Training','Validation'],loc='lower left')\n",
        "ax2 = plt.subplot(122)\n",
        "plt.plot(history_6.history['categorical_accuracy'])\n",
        "plt.plot(history_6.history['val_categorical_accuracy'])\n",
        "plt.title('Accuracy vs. epochs')\n",
        "plt.ylabel('Accuracy')\n",
        "plt.xlabel('Epoch')\n",
        "plt.legend(['Training','Validation'],loc='lower right')\n",
        "plt.tight_layout()\n",
        "plt.show()"
      ],
      "execution_count": 59,
      "outputs": [
        {
          "output_type": "display_data",
          "data": {
            "image/png": "[encoded data removed]",
            "text/plain": [
              "<Figure size 720x360 with 2 Axes>"
            ]
          },
          "metadata": {
            "needs_background": "light"
          }
        }
      ]
    },
    {
      "cell_type": "code",
      "metadata": {
        "id": "ZH8A8LBc6KLh"
      },
      "source": [
        "M6_pred_df = eval_model_by_class(model_6, my_image_test)\n",
        "M6_pred_wrong = find_wrong_preds(model_6, my_image_test)\n",
        "\n",
        "print(M6_pred_df)\n",
        "print(M6_pred_wrong)"
      ],
      "execution_count": null,
      "outputs": []
    },
    {
      "cell_type": "code",
      "metadata": {
        "id": "FM01gJheYatN"
      },
      "source": [
        "from tensorflow.keras.applications import vgg16\n",
        "\n",
        "conv_base = vgg16.VGG16(include_top=False, weights=None, input_shape = (my_image_train[0].shape))"
      ],
      "execution_count": 60,
      "outputs": []
    },
    {
      "cell_type": "code",
      "metadata": {
        "id": "glQsAl4yYrJb",
        "colab": {
          "base_uri": "https://localhost:8080/"
        },
        "outputId": "60b66de7-f76b-4375-ba80-25860fa1e692"
      },
      "source": [
        "conv_base.summary()"
      ],
      "execution_count": 61,
      "outputs": [
        {
          "output_type": "stream",
          "name": "stdout",
          "text": [
            "Model: \"vgg16\"\n",
            "_________________________________________________________________\n",
            "Layer (type)                 Output Shape              Param #   \n",
            "=================================================================\n",
            "input_3 (InputLayer)         [(None, 64, 64, 1)]       0         \n",
            "_________________________________________________________________\n",
            "block1_conv1 (Conv2D)        (None, 64, 64, 64)        640       \n",
            "_________________________________________________________________\n",
            "block1_conv2 (Conv2D)        (None, 64, 64, 64)        36928     \n",
            "_________________________________________________________________\n",
            "block1_pool (MaxPooling2D)   (None, 32, 32, 64)        0         \n",
            "_________________________________________________________________\n",
            "block2_conv1 (Conv2D)        (None, 32, 32, 128)       73856     \n",
            "_________________________________________________________________\n",
            "block2_conv2 (Conv2D)        (None, 32, 32, 128)       147584    \n",
            "_________________________________________________________________\n",
            "block2_pool (MaxPooling2D)   (None, 16, 16, 128)       0         \n",
            "_________________________________________________________________\n",
            "block3_conv1 (Conv2D)        (None, 16, 16, 256)       295168    \n",
            "_________________________________________________________________\n",
            "block3_conv2 (Conv2D)        (None, 16, 16, 256)       590080    \n",
            "_________________________________________________________________\n",
            "block3_conv3 (Conv2D)        (None, 16, 16, 256)       590080    \n",
            "_________________________________________________________________\n",
            "block3_pool (MaxPooling2D)   (None, 8, 8, 256)         0         \n",
            "_________________________________________________________________\n",
            "block4_conv1 (Conv2D)        (None, 8, 8, 512)         1180160   \n",
            "_________________________________________________________________\n",
            "block4_conv2 (Conv2D)        (None, 8, 8, 512)         2359808   \n",
            "_________________________________________________________________\n",
            "block4_conv3 (Conv2D)        (None, 8, 8, 512)         2359808   \n",
            "_________________________________________________________________\n",
            "block4_pool (MaxPooling2D)   (None, 4, 4, 512)         0         \n",
            "_________________________________________________________________\n",
            "block5_conv1 (Conv2D)        (None, 4, 4, 512)         2359808   \n",
            "_________________________________________________________________\n",
            "block5_conv2 (Conv2D)        (None, 4, 4, 512)         2359808   \n",
            "_________________________________________________________________\n",
            "block5_conv3 (Conv2D)        (None, 4, 4, 512)         2359808   \n",
            "_________________________________________________________________\n",
            "block5_pool (MaxPooling2D)   (None, 2, 2, 512)         0         \n",
            "=================================================================\n",
            "Total params: 14,713,536\n",
            "Trainable params: 14,713,536\n",
            "Non-trainable params: 0\n",
            "_________________________________________________________________\n"
          ]
        }
      ]
    },
    {
      "cell_type": "code",
      "metadata": {
        "id": "GmV2s_EDZ38G"
      },
      "source": [
        "def model_7(input_shape, drop_rate) :\n",
        "  model_7 = Sequential()\n",
        "  model_7.add (conv_base)\n",
        "\n",
        "  model_7.add (Flatten ())\n",
        "  model_7.add (Dropout(rate = drop_rate))\n",
        "  model_7.add (Dense (512, activation = 'relu',  name = 'dense_1') )\n",
        "  model_7.add (Dense (num_classes, activation = 'softmax', name = 'dense_2') )\n",
        "  \n",
        "  model_7.compile (optimizer = tf.keras.optimizers.Adam(learning_rate=0.0001) ,\n",
        "                 loss = tf.keras.losses.CategoricalCrossentropy(), \n",
        "                 metrics = [tf.keras.metrics.CategoricalAccuracy()])\n",
        "  \n",
        "  return model_7\n",
        "\n",
        "model_7 = model_7(my_image_train[0].shape, 0.3)\n",
        "model_7.summary()\n",
        "\n",
        "history_7 = model_7.fit(my_image_train,my_train_labels, validation_data= (my_image_test, my_test_labels) , \n",
        "                        batch_size=64, epochs=100, callbacks=callback, verbose=1)\n",
        "\n",
        "score = model_7.evaluate(my_image_test, my_test_labels, verbose=1)\n",
        "print('Test loss:', score[0])\n",
        "print('Test accuracy:', score[1])"
      ],
      "execution_count": null,
      "outputs": []
    },
    {
      "cell_type": "code",
      "metadata": {
        "id": "NBwJg2ghG1q-"
      },
      "source": [
        "M6_pred_df = eval_model_by_class(model_6, my_image_test)\n",
        "M6_pred_wrong = find_wrong_preds(model_6, my_image_test)\n",
        "\n",
        "print(M6_pred_df)\n",
        "print(M6_pred_wrong)"
      ],
      "execution_count": null,
      "outputs": []
    },
    {
      "cell_type": "markdown",
      "metadata": {
        "id": "FKx_WpagRWfv"
      },
      "source": [
        "#Fourth model"
      ]
    },
    {
      "cell_type": "code",
      "metadata": {
        "id": "HmW-YqqGRS_5"
      },
      "source": [
        "def model_4 (input_shape) :\n",
        "  model_4 = Sequential ()\n",
        "  model_4.add(Conv2D(32, kernel_size=(3, 3), activation='relu', input_shape=input_shape))\n",
        "  model_4.add(MaxPooling2D(pool_size=(2, 2)))\n",
        "  model_4.add(Conv2D(64, (3, 3), activation='relu'))\n",
        "  model_4.add(MaxPooling2D(pool_size=(2, 2)))\n",
        "  model_4.add(Conv2D(128, (3, 3), activation='relu'))\n",
        "  model_4.add(MaxPooling2D(pool_size=(2, 2)))\n",
        "  model_4.add(Conv2D(256, (3, 3), activation='relu'))\n",
        "  model_4.add(MaxPooling2D(pool_size=(2, 2)))\n",
        "  model_4.add(Flatten())\n",
        "  model_4.add(Dropout(0.5))\n",
        "  model_4.add(Dense(512, activation='relu'))\n",
        "  model_4.add(Dense(num_classes, activation='softmax'))\n",
        "\n",
        "  model_4.compile(optimizer=tf.keras.optimizers.Adam(learning_rate=0.0001, beta_1=0.9),\n",
        "                  loss=tf.keras.losses.CategoricalCrossentropy(),\n",
        "                  metrics=[tf.keras.metrics.CategoricalAccuracy()])\n",
        "  \n",
        "  return model_4 "
      ],
      "execution_count": null,
      "outputs": []
    },
    {
      "cell_type": "code",
      "metadata": {
        "id": "vEXWhastRTCQ"
      },
      "source": [
        "model_4 = model_4(my_image_train[0].shape)\n",
        "model_4.summary()"
      ],
      "execution_count": null,
      "outputs": []
    },
    {
      "cell_type": "code",
      "metadata": {
        "id": "7A9629uASbAi"
      },
      "source": [
        "history_4 = model_4.fit(my_image_train,my_train_labels, validation_data= (my_image_test, my_test_labels) , \n",
        "                        batch_size=64, epochs=100, callbacks=call, verbose=1)"
      ],
      "execution_count": null,
      "outputs": []
    },
    {
      "cell_type": "code",
      "metadata": {
        "id": "Hszzc_AfWh5D"
      },
      "source": [
        "score = model_4.evaluate(my_image_test, my_test_labels, verbose=1)\n",
        "print('Test loss:', score[0])\n",
        "print('Test accuracy:', score[1])"
      ],
      "execution_count": null,
      "outputs": []
    },
    {
      "cell_type": "code",
      "metadata": {
        "id": "JrLHHAHHWovx"
      },
      "source": [
        "frame_4 = pd.DataFrame(history_4.history)\n",
        "frame_4.head()"
      ],
      "execution_count": null,
      "outputs": []
    },
    {
      "cell_type": "code",
      "metadata": {
        "id": "1tXuV5txW_fA"
      },
      "source": [
        "# Plot the learning curves for loss vs epoch and accuracy vs epoch for both training and validation sets.\n",
        "plt.figure(figsize=(10,5))\n",
        "ax1 = plt.subplot(121)\n",
        "plt.plot(history_4.history['loss'])\n",
        "plt.plot(history_4.history['val_loss'])\n",
        "plt.title('Loss vs. epochs')\n",
        "plt.ylabel('Loss')\n",
        "plt.xlabel('Epoch')\n",
        "plt.legend(['Training','Validation'],loc='lower left')\n",
        "ax2 = plt.subplot(122)\n",
        "plt.plot(history_4.history['categorical_accuracy'])\n",
        "plt.plot(history_4.history['val_categorical_accuracy'])\n",
        "plt.title('Accuracy vs. epochs')\n",
        "plt.ylabel('Accuracy')\n",
        "plt.xlabel('Epoch')\n",
        "plt.legend(['Training','Validation'],loc='lower right')\n",
        "plt.tight_layout()\n",
        "plt.show()"
      ],
      "execution_count": null,
      "outputs": []
    },
    {
      "cell_type": "code",
      "metadata": {
        "id": "fL98XFh8XG6o"
      },
      "source": [
        "M2_pred_df_4 = eval_model_by_class(model_4, my_image_test)\n",
        "M2_pred_df_4"
      ],
      "execution_count": null,
      "outputs": []
    },
    {
      "cell_type": "code",
      "metadata": {
        "id": "GTfrArx1XRHb"
      },
      "source": [
        ""
      ],
      "execution_count": null,
      "outputs": []
    },
    {
      "cell_type": "code",
      "metadata": {
        "id": "2xoNR3RrQJFC"
      },
      "source": [
        "from keras.utils import plot_model\n",
        "plot_convolutional_filters(img)"
      ],
      "execution_count": null,
      "outputs": []
    },
    {
      "cell_type": "code",
      "metadata": {
        "id": "Z-bNH_LlzExM"
      },
      "source": [
        "import tensorflow_datasets.public_api as tfds\n",
        "\n",
        "tfds.list_builders()"
      ],
      "execution_count": null,
      "outputs": []
    }
  ]
}