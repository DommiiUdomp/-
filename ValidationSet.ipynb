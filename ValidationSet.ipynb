{
  "nbformat": 4,
  "nbformat_minor": 0,
  "metadata": {
    "colab": {
      "name": "ValidationSet.ipynb",
      "provenance": [],
      "authorship_tag": "ABX9TyN/1UopYr+vaVVbGvcNEK1b",
      "include_colab_link": true
    },
    "kernelspec": {
      "name": "python3",
      "display_name": "Python 3"
    },
    "language_info": {
      "name": "python"
    }
  },
  "cells": [
    {
      "cell_type": "markdown",
      "metadata": {
        "id": "view-in-github",
        "colab_type": "text"
      },
      "source": [
        "<a href=\"https://colab.research.google.com/github/DommiiUdomp/-/blob/main/ValidationSet.ipynb\" target=\"_parent\"><img src=\"https://colab.research.google.com/assets/colab-badge.svg\" alt=\"Open In Colab\"/></a>"
      ]
    },
    {
      "cell_type": "markdown",
      "metadata": {
        "id": "K7YUynF3IJaF"
      },
      "source": [
        "# Validation Set"
      ]
    },
    {
      "cell_type": "code",
      "metadata": {
        "id": "q_I8Y2VeIPv-"
      },
      "source": [
        "import tensorflow as tf"
      ],
      "execution_count": 2,
      "outputs": []
    },
    {
      "cell_type": "code",
      "metadata": {
        "id": "1Ay_vJY_JgGA"
      },
      "source": [
        "from sklearn.datasets import load_diabetes"
      ],
      "execution_count": 7,
      "outputs": []
    },
    {
      "cell_type": "code",
      "metadata": {
        "colab": {
          "base_uri": "https://localhost:8080/"
        },
        "id": "Wuc51-VGJHbN",
        "outputId": "357b922a-6010-48af-ec95-6250808f204e"
      },
      "source": [
        "diabetes_dataset = load_diabetes()\n",
        "print (diabetes_dataset.DESCR)"
      ],
      "execution_count": 9,
      "outputs": [
        {
          "output_type": "stream",
          "name": "stdout",
          "text": [
            ".. _diabetes_dataset:\n",
            "\n",
            "Diabetes dataset\n",
            "----------------\n",
            "\n",
            "Ten baseline variables, age, sex, body mass index, average blood\n",
            "pressure, and six blood serum measurements were obtained for each of n =\n",
            "442 diabetes patients, as well as the response of interest, a\n",
            "quantitative measure of disease progression one year after baseline.\n",
            "\n",
            "**Data Set Characteristics:**\n",
            "\n",
            "  :Number of Instances: 442\n",
            "\n",
            "  :Number of Attributes: First 10 columns are numeric predictive values\n",
            "\n",
            "  :Target: Column 11 is a quantitative measure of disease progression one year after baseline\n",
            "\n",
            "  :Attribute Information:\n",
            "      - Age\n",
            "      - Sex\n",
            "      - Body mass index\n",
            "      - Average blood pressure\n",
            "      - S1\n",
            "      - S2\n",
            "      - S3\n",
            "      - S4\n",
            "      - S5\n",
            "      - S6\n",
            "\n",
            "Note: Each of these 10 feature variables have been mean centered and scaled by the standard deviation times `n_samples` (i.e. the sum of squares of each column totals 1).\n",
            "\n",
            "Source URL:\n",
            "https://www4.stat.ncsu.edu/~boos/var.select/diabetes.html\n",
            "\n",
            "For more information see:\n",
            "Bradley Efron, Trevor Hastie, Iain Johnstone and Robert Tibshirani (2004) \"Least Angle Regression,\" Annals of Statistics (with discussion), 407-499.\n",
            "(https://web.stanford.edu/~hastie/Papers/LARS/LeastAngle_2002.pdf)\n"
          ]
        }
      ]
    },
    {
      "cell_type": "code",
      "metadata": {
        "colab": {
          "base_uri": "https://localhost:8080/"
        },
        "id": "WS34CbBkJ5dC",
        "outputId": "f7b6d300-5a91-440a-e55e-b58fd3e98166"
      },
      "source": [
        "#save the input and target variables\n",
        "\n",
        "print (diabetes_dataset.keys())"
      ],
      "execution_count": 11,
      "outputs": [
        {
          "output_type": "stream",
          "name": "stdout",
          "text": [
            "dict_keys(['data', 'target', 'DESCR', 'feature_names', 'data_filename', 'target_filename'])\n"
          ]
        }
      ]
    },
    {
      "cell_type": "code",
      "metadata": {
        "id": "nmdMrn_LKLVj"
      },
      "source": [
        "data = diabetes_dataset['data']\n",
        "target = diabetes_dataset['target'] #number from 0 to 300"
      ],
      "execution_count": 13,
      "outputs": []
    },
    {
      "cell_type": "code",
      "metadata": {
        "id": "EWr0Y-13KmWW"
      },
      "source": [
        "#normalize the target data\n",
        "\n",
        "target_normalize = (target - target.mean(axis=0)) / target.std() #target subtrack with mean then deivid by standard deviation "
      ],
      "execution_count": 15,
      "outputs": []
    },
    {
      "cell_type": "code",
      "metadata": {
        "id": "UeRfAD4cLnVU"
      },
      "source": [
        "#split the data into test and train\n",
        "\n",
        "from sklearn.model_selection import train_test_split"
      ],
      "execution_count": 16,
      "outputs": []
    },
    {
      "cell_type": "code",
      "metadata": {
        "colab": {
          "base_uri": "https://localhost:8080/"
        },
        "id": "b8T5hupjL4vd",
        "outputId": "639c8a19-0a94-48d3-ecee-4a535bee303e"
      },
      "source": [
        "train_data, test_data ,train_target, test_target = train_test_split (data, target_normalize, test_size = 0.1) #train_size = 90% and test size=10%\n",
        "\n",
        "print (train_data.shape)\n",
        "print (test_data.shape)\n",
        "print (train_target.shape)\n",
        "print (test_target.shape)"
      ],
      "execution_count": 18,
      "outputs": [
        {
          "output_type": "stream",
          "name": "stdout",
          "text": [
            "(397, 10)\n",
            "(45, 10)\n",
            "(397,)\n",
            "(45,)\n"
          ]
        }
      ]
    },
    {
      "cell_type": "code",
      "metadata": {
        "id": "NkcsG_jzMkoD"
      },
      "source": [
        "#Build the model\n",
        "\n",
        "from tensorflow.keras.models import Sequential\n",
        "from tensorflow.keras.layers import Dense"
      ],
      "execution_count": 19,
      "outputs": []
    },
    {
      "cell_type": "code",
      "metadata": {
        "id": "SGlU_oQRNFku"
      },
      "source": [
        "#six dense layers , output target one neural = one single number \n",
        "def get_model() :\n",
        "  model = Sequential ( [\n",
        "                        Dense (128, activation = 'relu' , input_shape = (train_data.shape[1], )) ,\n",
        "                        Dense (128, activation = 'relu' ) ,\n",
        "                        Dense (128, activation = 'relu' ) ,\n",
        "                        Dense (128, activation = 'relu' ) ,\n",
        "                        Dense (128, activation = 'relu' ) ,\n",
        "                        Dense (128, activation = 'relu' ) ,\n",
        "                        Dense (1, name = 'output') ,\n",
        "  ])\n",
        "  return model\n",
        "\n",
        "model = get_model()"
      ],
      "execution_count": 21,
      "outputs": []
    },
    {
      "cell_type": "code",
      "metadata": {
        "colab": {
          "base_uri": "https://localhost:8080/"
        },
        "id": "Xg4VNJV_Lf3_",
        "outputId": "5eedadef-b505-4b7f-9533-8b4c8bc0fbc7"
      },
      "source": [
        "input_shape = (train_data.shape[1], )\n",
        "input_shape"
      ],
      "execution_count": 20,
      "outputs": [
        {
          "output_type": "execute_result",
          "data": {
            "text/plain": [
              "(10,)"
            ]
          },
          "metadata": {},
          "execution_count": 20
        }
      ]
    },
    {
      "cell_type": "code",
      "metadata": {
        "colab": {
          "base_uri": "https://localhost:8080/"
        },
        "id": "Bf9bquXzKe_R",
        "outputId": "5d8fb849-6136-4ce1-be6a-b690d1d22561"
      },
      "source": [
        "#print the model summary\n",
        "\n",
        "model.summary()"
      ],
      "execution_count": 22,
      "outputs": [
        {
          "output_type": "stream",
          "name": "stdout",
          "text": [
            "Model: \"sequential\"\n",
            "_________________________________________________________________\n",
            "Layer (type)                 Output Shape              Param #   \n",
            "=================================================================\n",
            "dense (Dense)                (None, 128)               1408      \n",
            "_________________________________________________________________\n",
            "dense_1 (Dense)              (None, 128)               16512     \n",
            "_________________________________________________________________\n",
            "dense_2 (Dense)              (None, 128)               16512     \n",
            "_________________________________________________________________\n",
            "dense_3 (Dense)              (None, 128)               16512     \n",
            "_________________________________________________________________\n",
            "dense_4 (Dense)              (None, 128)               16512     \n",
            "_________________________________________________________________\n",
            "dense_5 (Dense)              (None, 128)               16512     \n",
            "_________________________________________________________________\n",
            "output (Dense)               (None, 1)                 129       \n",
            "=================================================================\n",
            "Total params: 84,097\n",
            "Trainable params: 84,097\n",
            "Non-trainable params: 0\n",
            "_________________________________________________________________\n"
          ]
        }
      ]
    },
    {
      "cell_type": "code",
      "metadata": {
        "id": "3LzIL2H2KHb7"
      },
      "source": [
        "#compile\n",
        "\n",
        "model.compile ( optimizer = 'adam' , loss = 'mse' , metrics=['mae'])\n",
        "\n",
        "##train the model\n",
        "\n",
        "history = model.fit(train_data, train_target, epochs = 100 , validation_split=0.15 , batch_size=64, verbose=False)"
      ],
      "execution_count": 23,
      "outputs": []
    },
    {
      "cell_type": "code",
      "metadata": {
        "colab": {
          "base_uri": "https://localhost:8080/"
        },
        "id": "CBCW808-Q-3b",
        "outputId": "adf2d274-91e2-46fd-db82-da3190f7b438"
      },
      "source": [
        "#Evaluate\n",
        "\n",
        "model.evaluate(test_data, test_target, verbose=2)"
      ],
      "execution_count": 24,
      "outputs": [
        {
          "output_type": "stream",
          "name": "stdout",
          "text": [
            "2/2 - 0s - loss: 0.9696 - mae: 0.7571\n"
          ]
        },
        {
          "output_type": "execute_result",
          "data": {
            "text/plain": [
              "[0.9695625901222229, 0.7571325302124023]"
            ]
          },
          "metadata": {},
          "execution_count": 24
        }
      ]
    },
    {
      "cell_type": "code",
      "metadata": {
        "id": "vhNwPnRvROEv"
      },
      "source": [
        "#plot \n",
        "\n",
        "import matplotlib.pyplot as plt"
      ],
      "execution_count": 25,
      "outputs": []
    },
    {
      "cell_type": "code",
      "metadata": {
        "colab": {
          "base_uri": "https://localhost:8080/",
          "height": 350
        },
        "id": "gwjJQfLtRUUT",
        "outputId": "7bc3cfc1-601e-4771-d23d-1ce9c7a67e09"
      },
      "source": [
        "plt.figure(figsize=(10,5))\n",
        "\n",
        "plt.plot (history.history['loss'])\n",
        "plt.plot (history.history['val_loss'])\n",
        "plt.title('Loss vs Epochs')\n",
        "plt.ylabel('Loss')\n",
        "plt.xlabel('Epoch')\n",
        "plt.legend(['Training' , 'Validation'], loc ='center right')\n",
        "plt.show()\n"
      ],
      "execution_count": 46,
      "outputs": [
        {
          "output_type": "display_data",
          "data": {
            "image/png": "[encoded data removed]",
            "text/plain": [
              "<Figure size 720x360 with 1 Axes>"
            ]
          },
          "metadata": {
            "needs_background": "light"
          }
        }
      ]
    },
    {
      "cell_type": "code",
      "metadata": {
        "colab": {
          "base_uri": "https://localhost:8080/"
        },
        "id": "kq6jcIXtR-xw",
        "outputId": "3760737e-e589-4a12-808e-8c8e47c88a3f"
      },
      "source": [
        "#try to reduce validation set #train the model\n",
        "\n",
        "history1 = model.fit(train_data, train_target, epochs = 100 , validation_split=0.25 , batch_size=64, verbose=False)\n",
        "\n",
        "#Evaluate\n",
        "model.evaluate(test_data, test_target, verbose=2)"
      ],
      "execution_count": 41,
      "outputs": [
        {
          "output_type": "stream",
          "name": "stdout",
          "text": [
            "2/2 - 0s - loss: 0.9464 - mae: 0.7329\n"
          ]
        },
        {
          "output_type": "execute_result",
          "data": {
            "text/plain": [
              "[0.9463818073272705, 0.7328521013259888]"
            ]
          },
          "metadata": {},
          "execution_count": 41
        }
      ]
    },
    {
      "cell_type": "code",
      "metadata": {
        "colab": {
          "base_uri": "https://localhost:8080/",
          "height": 350
        },
        "id": "3AOBMqBDTW5m",
        "outputId": "f6196cd5-fa7b-45f7-a84b-b5c5c0287889"
      },
      "source": [
        "plt.figure(figsize=(10,5))\n",
        "\n",
        "plt.plot (history1.history['loss'])\n",
        "plt.plot (history1.history['val_loss'])\n",
        "plt.title('Loss vs Epochs')\n",
        "plt.ylabel('Loss')\n",
        "plt.xlabel('Epoch')\n",
        "plt.legend(['Training' , 'Validation'], loc ='center right')\n",
        "plt.show()"
      ],
      "execution_count": 47,
      "outputs": [
        {
          "output_type": "display_data",
          "data": {
            "image/png": "[encoded data removed]",
            "text/plain": [
              "<Figure size 720x360 with 1 Axes>"
            ]
          },
          "metadata": {
            "needs_background": "light"
          }
        }
      ]
    },
    {
      "cell_type": "code",
      "metadata": {
        "colab": {
          "base_uri": "https://localhost:8080/",
          "height": 367
        },
        "id": "PBc0wapvTfDv",
        "outputId": "726bc55f-3694-48bf-af24-56f9b985fbd0"
      },
      "source": [
        "#try to reduce epochs #train the model\n",
        "\n",
        "history2 = model.fit(train_data, train_target, epochs = 10 , validation_split=0.15 , batch_size=64, verbose=False)\n",
        "\n",
        "#Evaluate\n",
        "model.evaluate(test_data, test_target, verbose=2)\n",
        "\n",
        "#plot\n",
        "plt.figure(figsize=(10,5))\n",
        "\n",
        "plt.plot (history2.history['loss'])\n",
        "plt.plot (history2.history['val_loss'])\n",
        "plt.title('Loss vs Epochs')\n",
        "plt.ylabel('Loss')\n",
        "plt.xlabel('Epoch')\n",
        "plt.legend(['Training' , 'Validation'], loc ='center right')\n",
        "plt.show()"
      ],
      "execution_count": 48,
      "outputs": [
        {
          "output_type": "stream",
          "name": "stdout",
          "text": [
            "2/2 - 0s - loss: 0.9307 - mae: 0.7276\n"
          ]
        },
        {
          "output_type": "display_data",
          "data": {
            "image/png": "[encoded data removed]",
            "text/plain": [
              "<Figure size 720x360 with 1 Axes>"
            ]
          },
          "metadata": {
            "needs_background": "light"
          }
        }
      ]
    }
  ]
}