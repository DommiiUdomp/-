{
  "nbformat": 4,
  "nbformat_minor": 0,
  "metadata": {
    "colab": {
      "name": "Evaluation&prediction.ipynb",
      "provenance": [],
      "authorship_tag": "ABX9TyPwWT5QwQG0mGfnRTvHITUG",
      "include_colab_link": true
    },
    "kernelspec": {
      "name": "python3",
      "display_name": "Python 3"
    },
    "language_info": {
      "name": "python"
    }
  },
  "cells": [
    {
      "cell_type": "markdown",
      "metadata": {
        "id": "view-in-github",
        "colab_type": "text"
      },
      "source": [
        "<a href=\"https://colab.research.google.com/github/DommiiUdomp/-/blob/main/Evaluation%26prediction.ipynb\" target=\"_parent\"><img src=\"https://colab.research.google.com/assets/colab-badge.svg\" alt=\"Open In Colab\"/></a>"
      ]
    },
    {
      "cell_type": "markdown",
      "metadata": {
        "id": "XgzYpLdpSQPY"
      },
      "source": [
        "## **The evaluation and prediction methods**"
      ]
    },
    {
      "cell_type": "code",
      "metadata": {
        "id": "7b1wyflBTKXc"
      },
      "source": [
        "#import libaries\n",
        "\n",
        "import numpy as np\n",
        "import pandas as pd\n",
        "import matplotlib.pyplot as plt\n",
        "import tensorflow as tf\n",
        "from tensorflow.keras.models import Sequential\n",
        "from tensorflow.keras.layers import Dense, MaxPooling2D, Conv2D, Flatten"
      ],
      "execution_count": 2,
      "outputs": []
    },
    {
      "cell_type": "code",
      "metadata": {
        "colab": {
          "base_uri": "https://localhost:8080/"
        },
        "id": "6wMANH4ATxWD",
        "outputId": "93df3c8a-c82a-4786-9021-e76bb92280d1"
      },
      "source": [
        "#Build the model\n",
        "\n",
        "model = Sequential ( [\n",
        "                      Conv2D (16, (3,3) , activation = 'relu' , input_shape = (28,28, 1)) ,\n",
        "                      MaxPooling2D ((3,3)) , \n",
        "                      Flatten () , \n",
        "                      Dense (10, activation = 'softmax')\n",
        "])\n",
        "\n",
        "#compile the model\n",
        "model.compile ( optimizer = tf.keras.optimizers.Adam(learning_rate=0.005, beta_1=0.9),\n",
        "               loss = 'sparse_categorical_crossentropy' ,\n",
        "               metrics = [ tf.keras.metrics.SparseCategoricalAccuracy() , tf.keras.metrics.MeanAbsoluteError()])\n",
        "\n",
        "print (model.optimizer)\n",
        "print (model.loss)\n",
        "print (model.metrics)"
      ],
      "execution_count": 13,
      "outputs": [
        {
          "output_type": "stream",
          "name": "stdout",
          "text": [
            "<keras.optimizer_v2.adam.Adam object at 0x7f04c56bf990>\n",
            "sparse_categorical_crossentropy\n",
            "[]\n"
          ]
        }
      ]
    },
    {
      "cell_type": "code",
      "metadata": {
        "colab": {
          "base_uri": "https://localhost:8080/"
        },
        "id": "OOcnfCHpUxD2",
        "outputId": "fa937fd7-4d1d-42c2-c69f-772427b2e9e8"
      },
      "source": [
        "model.summary()"
      ],
      "execution_count": 14,
      "outputs": [
        {
          "output_type": "stream",
          "name": "stdout",
          "text": [
            "Model: \"sequential_2\"\n",
            "_________________________________________________________________\n",
            "Layer (type)                 Output Shape              Param #   \n",
            "=================================================================\n",
            "conv2d_2 (Conv2D)            (None, 26, 26, 16)        160       \n",
            "_________________________________________________________________\n",
            "max_pooling2d_2 (MaxPooling2 (None, 8, 8, 16)          0         \n",
            "_________________________________________________________________\n",
            "flatten_2 (Flatten)          (None, 1024)              0         \n",
            "_________________________________________________________________\n",
            "dense_2 (Dense)              (None, 10)                10250     \n",
            "=================================================================\n",
            "Total params: 10,410\n",
            "Trainable params: 10,410\n",
            "Non-trainable params: 0\n",
            "_________________________________________________________________\n"
          ]
        }
      ]
    },
    {
      "cell_type": "code",
      "metadata": {
        "id": "WfVZpyiUU0ab"
      },
      "source": [
        "#import data\n",
        "\n",
        "from tensorflow.keras.preprocessing import image"
      ],
      "execution_count": 5,
      "outputs": []
    },
    {
      "cell_type": "code",
      "metadata": {
        "colab": {
          "base_uri": "https://localhost:8080/"
        },
        "id": "v0oIWrCLU6Qa",
        "outputId": "dde759a0-e7e8-43d6-e8ce-9c2a1fd6356d"
      },
      "source": [
        "data = tf.keras.datasets.fashion_mnist\n",
        "(train_images, train_labels) , (test_images , test_labels) = data.load_data()"
      ],
      "execution_count": 6,
      "outputs": [
        {
          "output_type": "stream",
          "name": "stdout",
          "text": [
            "Downloading data from https://storage.googleapis.com/tensorflow/tf-keras-datasets/train-labels-idx1-ubyte.gz\n",
            "32768/29515 [=================================] - 0s 0us/step\n",
            "40960/29515 [=========================================] - 0s 0us/step\n",
            "Downloading data from https://storage.googleapis.com/tensorflow/tf-keras-datasets/train-images-idx3-ubyte.gz\n",
            "26427392/26421880 [==============================] - 0s 0us/step\n",
            "26435584/26421880 [==============================] - 0s 0us/step\n",
            "Downloading data from https://storage.googleapis.com/tensorflow/tf-keras-datasets/t10k-labels-idx1-ubyte.gz\n",
            "16384/5148 [===============================================================================================] - 0s 0us/step\n",
            "Downloading data from https://storage.googleapis.com/tensorflow/tf-keras-datasets/t10k-images-idx3-ubyte.gz\n",
            "4423680/4422102 [==============================] - 0s 0us/step\n",
            "4431872/4422102 [==============================] - 0s 0us/step\n"
          ]
        }
      ]
    },
    {
      "cell_type": "code",
      "metadata": {
        "id": "6kZZEP5AU-q1"
      },
      "source": [
        "#defind the labels\n",
        "\n",
        "labels = [\n",
        "    'T-shirt/top',\n",
        "    'Trouser',\n",
        "    'Pullover',\n",
        "    'Dress',\n",
        "    'Coat',\n",
        "    'Sandal',\n",
        "    'Shirt',\n",
        "    'Sneaker',\n",
        "    'Bag',\n",
        "    'Ankle boot'\n",
        "]"
      ],
      "execution_count": 7,
      "outputs": []
    },
    {
      "cell_type": "code",
      "metadata": {
        "colab": {
          "base_uri": "https://localhost:8080/"
        },
        "id": "aXrBaV3DVDh0",
        "outputId": "fbbdbeea-88df-4188-aa32-c54889207287"
      },
      "source": [
        "print (train_images.shape)\n",
        "print (train_labels[0])\n"
      ],
      "execution_count": 8,
      "outputs": [
        {
          "output_type": "stream",
          "name": "stdout",
          "text": [
            "(60000, 28, 28)\n",
            "9\n"
          ]
        }
      ]
    },
    {
      "cell_type": "code",
      "metadata": {
        "id": "GoRZrmtJVK-Y"
      },
      "source": [
        "#rescale the images so that they lie on between 0 and 1\n",
        "\n",
        "train_images = train_images / 255\n",
        "test_images = test_images / 255"
      ],
      "execution_count": 9,
      "outputs": []
    },
    {
      "cell_type": "code",
      "metadata": {
        "colab": {
          "base_uri": "https://localhost:8080/"
        },
        "id": "T3dHtIi-ZpQd",
        "outputId": "d342cf99-36ad-4246-fa97-c1a9062e5e5c"
      },
      "source": [
        "#Fit the model\n",
        "\n",
        "import numpy as np\n",
        "#solution\n",
        "history = model.fit(train_images[...,np.newaxis], train_labels , epochs= 10 , batch_size= 256)"
      ],
      "execution_count": 21,
      "outputs": [
        {
          "output_type": "stream",
          "name": "stdout",
          "text": [
            "Epoch 1/10\n",
            "235/235 [==============================] - 14s 56ms/step - loss: 0.5430 - sparse_categorical_accuracy: 0.8143 - mean_absolute_error: 4.4200\n",
            "Epoch 2/10\n",
            "235/235 [==============================] - 13s 56ms/step - loss: 0.3585 - sparse_categorical_accuracy: 0.8731 - mean_absolute_error: 4.4200\n",
            "Epoch 3/10\n",
            "235/235 [==============================] - 13s 56ms/step - loss: 0.3263 - sparse_categorical_accuracy: 0.8833 - mean_absolute_error: 4.4200\n",
            "Epoch 4/10\n",
            "235/235 [==============================] - 13s 56ms/step - loss: 0.3096 - sparse_categorical_accuracy: 0.8892 - mean_absolute_error: 4.4200\n",
            "Epoch 5/10\n",
            "235/235 [==============================] - 13s 55ms/step - loss: 0.2978 - sparse_categorical_accuracy: 0.8937 - mean_absolute_error: 4.4200\n",
            "Epoch 6/10\n",
            "235/235 [==============================] - 13s 56ms/step - loss: 0.2878 - sparse_categorical_accuracy: 0.8960 - mean_absolute_error: 4.4200\n",
            "Epoch 7/10\n",
            "235/235 [==============================] - 13s 54ms/step - loss: 0.2820 - sparse_categorical_accuracy: 0.8982 - mean_absolute_error: 4.4200\n",
            "Epoch 8/10\n",
            "235/235 [==============================] - 13s 54ms/step - loss: 0.2766 - sparse_categorical_accuracy: 0.9007 - mean_absolute_error: 4.4200\n",
            "Epoch 9/10\n",
            "235/235 [==============================] - 13s 55ms/step - loss: 0.2687 - sparse_categorical_accuracy: 0.9029 - mean_absolute_error: 4.4200\n",
            "Epoch 10/10\n",
            "235/235 [==============================] - 13s 55ms/step - loss: 0.2638 - sparse_categorical_accuracy: 0.9033 - mean_absolute_error: 4.4200\n"
          ]
        }
      ]
    },
    {
      "cell_type": "code",
      "metadata": {
        "id": "JsdF3yraZr2n"
      },
      "source": [
        "#Load into DataFrame\n",
        "df = pd.DataFrame(history.history)"
      ],
      "execution_count": 22,
      "outputs": []
    },
    {
      "cell_type": "code",
      "metadata": {
        "colab": {
          "base_uri": "https://localhost:8080/",
          "height": 312
        },
        "id": "HR4aS0-oafNv",
        "outputId": "f715de2c-4ae4-43fd-8ec8-2fb29b9cb45d"
      },
      "source": [
        "#make a plot for loss\n",
        "\n",
        "loss_p = df.plot(y='loss', title = 'Loss vs Epoch' , legend = False)\n",
        "loss_p.set (xlabel = 'Epoch' , ylabel ='Loss')"
      ],
      "execution_count": 23,
      "outputs": [
        {
          "output_type": "execute_result",
          "data": {
            "text/plain": [
              "[Text(0, 0.5, 'Loss'), Text(0.5, 0, 'Epoch')]"
            ]
          },
          "metadata": {},
          "execution_count": 23
        },
        {
          "output_type": "display_data",
          "data": {
            "image/png": "[encoded data removed]",
            "text/plain": [
              "<Figure size 432x288 with 1 Axes>"
            ]
          },
          "metadata": {
            "needs_background": "light"
          }
        }
      ]
    },
    {
      "cell_type": "code",
      "metadata": {
        "id": "j61tNnqsawlm"
      },
      "source": [
        ""
      ],
      "execution_count": null,
      "outputs": []
    },
    {
      "cell_type": "markdown",
      "metadata": {
        "id": "3POZqlwYVbZS"
      },
      "source": [
        "# Evaluate the model on the test set"
      ]
    },
    {
      "cell_type": "code",
      "metadata": {
        "colab": {
          "base_uri": "https://localhost:8080/"
        },
        "id": "gmgiNMF5VgR3",
        "outputId": "be9ee009-2b5f-478e-c0a4-db779e23d002"
      },
      "source": [
        "#Error : model.evaluate(test_images, test_labels)\n",
        "# add a dummy channel dimention to the test set\n",
        "model.evaluate(test_images[...,np.newaxis], test_labels)"
      ],
      "execution_count": 24,
      "outputs": [
        {
          "output_type": "stream",
          "name": "stdout",
          "text": [
            "313/313 [==============================] - 1s 4ms/step - loss: 0.3080 - sparse_categorical_accuracy: 0.8897 - mean_absolute_error: 4.4200\n"
          ]
        },
        {
          "output_type": "execute_result",
          "data": {
            "text/plain": [
              "[0.3079576790332794, 0.8896999955177307, 4.419997215270996]"
            ]
          },
          "metadata": {},
          "execution_count": 24
        }
      ]
    },
    {
      "cell_type": "code",
      "metadata": {
        "colab": {
          "base_uri": "https://localhost:8080/"
        },
        "id": "roqbxh4iVsCg",
        "outputId": "1ffa982f-3b6b-4940-fb5a-59e354280160"
      },
      "source": [
        "test_loss, test_accuracy, test_mae = model.evaluate(test_images[...,np.newaxis], test_labels, verbose=2)"
      ],
      "execution_count": 25,
      "outputs": [
        {
          "output_type": "stream",
          "name": "stdout",
          "text": [
            "313/313 - 1s - loss: 0.3080 - sparse_categorical_accuracy: 0.8897 - mean_absolute_error: 4.4200\n"
          ]
        }
      ]
    },
    {
      "cell_type": "code",
      "metadata": {
        "colab": {
          "base_uri": "https://localhost:8080/",
          "height": 282
        },
        "id": "Fjx-NmQwXsEu",
        "outputId": "0e201ed4-d0c3-4b27-9393-f67e404d54e4"
      },
      "source": [
        "#choose a random test image\n",
        "random_inx = np.random.choice(test_images.shape[0] )\n",
        "#index image\n",
        "inx = 50 \n",
        "\n",
        "test_image_1 = test_images[inx]\n",
        "plt.imshow(test_image_1)    \n",
        "plt.show()\n",
        "print(f'Label: {labels[test_labels[random_inx]]}')                     "
      ],
      "execution_count": 34,
      "outputs": [
        {
          "output_type": "display_data",
          "data": {
            "image/png": "[encoded data removed]",
            "text/plain": [
              "<Figure size 432x288 with 1 Axes>"
            ]
          },
          "metadata": {
            "needs_background": "light"
          }
        },
        {
          "output_type": "stream",
          "name": "stdout",
          "text": [
            "Label: T-shirt/top\n"
          ]
        }
      ]
    },
    {
      "cell_type": "code",
      "metadata": {
        "id": "SE5FDXmoY6sJ"
      },
      "source": [
        ""
      ],
      "execution_count": null,
      "outputs": []
    },
    {
      "cell_type": "code",
      "metadata": {
        "id": "laie9annXj8M"
      },
      "source": [
        ""
      ],
      "execution_count": null,
      "outputs": []
    },
    {
      "cell_type": "code",
      "metadata": {
        "id": "UX5mBGoNXTPG"
      },
      "source": [
        ""
      ],
      "execution_count": null,
      "outputs": []
    },
    {
      "cell_type": "code",
      "metadata": {
        "id": "xb_2anziTkDA"
      },
      "source": [
        ""
      ],
      "execution_count": null,
      "outputs": []
    }
  ]
}