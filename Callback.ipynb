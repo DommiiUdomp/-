{
  "nbformat": 4,
  "nbformat_minor": 0,
  "metadata": {
    "colab": {
      "name": "Callback.ipynb",
      "provenance": [],
      "authorship_tag": "ABX9TyMFRdGV5C16xqafr+uD8gDP",
      "include_colab_link": true
    },
    "kernelspec": {
      "name": "python3",
      "display_name": "Python 3"
    },
    "language_info": {
      "name": "python"
    }
  },
  "cells": [
    {
      "cell_type": "markdown",
      "metadata": {
        "id": "view-in-github",
        "colab_type": "text"
      },
      "source": [
        "<a href=\"https://colab.research.google.com/github/DommiiUdomp/-/blob/main/Callback.ipynb\" target=\"_parent\"><img src=\"https://colab.research.google.com/assets/colab-badge.svg\" alt=\"Open In Colab\"/></a>"
      ]
    },
    {
      "cell_type": "markdown",
      "metadata": {
        "id": "gdauww_cTom4"
      },
      "source": [
        "## Example **Callback**"
      ]
    },
    {
      "cell_type": "code",
      "metadata": {
        "id": "mPGd1rivTsqQ"
      },
      "source": [
        "#Load the data set\n",
        "import tensorflow as tf\n",
        "from sklearn.datasets import load_diabetes"
      ],
      "execution_count": 1,
      "outputs": []
    },
    {
      "cell_type": "code",
      "metadata": {
        "id": "aCLzs8V1T64J"
      },
      "source": [
        "data_diabets = load_diabetes()"
      ],
      "execution_count": 2,
      "outputs": []
    },
    {
      "cell_type": "code",
      "metadata": {
        "id": "LQNIehU_T_yz"
      },
      "source": [
        "\n",
        "#save input and target variables\n",
        "data = data_diabets['data']\n",
        "target = data_diabets['target']"
      ],
      "execution_count": 3,
      "outputs": []
    },
    {
      "cell_type": "code",
      "metadata": {
        "id": "bJQedhh0UClW"
      },
      "source": [
        "#nomalize the target\n",
        "\n",
        "target_normalize = (target - target.mean(axis = 0)) / target.std()\n",
        "\n",
        "#slite train and test data\n",
        "from sklearn.model_selection import train_test_split\n",
        "\n",
        "train_data, test_data, train_target, test_target = train_test_split(data, target_normalize, test_size = 0.1)"
      ],
      "execution_count": 4,
      "outputs": []
    },
    {
      "cell_type": "code",
      "metadata": {
        "id": "swYgI7CZUNp0"
      },
      "source": [
        "#Build the model \n",
        "from tensorflow.keras.models import Sequential\n",
        "from tensorflow.keras.layers import Dense, Dropout\n",
        "from tensorflow.keras import regularizers\n",
        "\n",
        "def get_model_1(wight_d_1, rate) :\n",
        "  model_1 = Sequential ( [ \n",
        "                          Dense (128, activation = 'relu' , kernel_regularizer = tf.keras.regularizers.l2(wight_d_1),\n",
        "                               input_shape = (train_data.shape[1], ) ),\n",
        "                          Dropout (rate) ,\n",
        "                          Dense (128, activation = 'relu' , kernel_regularizer = tf.keras.regularizers.l2(wight_d_1)),\n",
        "                          Dropout (rate) ,\n",
        "                          Dense (128, activation = 'relu' , kernel_regularizer = tf.keras.regularizers.l2(wight_d_1)),\n",
        "                          Dropout (rate) ,\n",
        "                          Dense (128, activation = 'relu' , kernel_regularizer = tf.keras.regularizers.l2(wight_d_1)),\n",
        "                          Dropout (rate) ,\n",
        "                          Dense (128, activation = 'relu' , kernel_regularizer = tf.keras.regularizers.l2(wight_d_1)),\n",
        "                          Dropout (rate) ,\n",
        "                          Dense (128, activation = 'relu' , kernel_regularizer = tf.keras.regularizers.l2(wight_d_1)),\n",
        "                          Dropout (rate) ,\n",
        "                          Dense (1, name = 'output') \n",
        "  ])\n",
        "  return model_1"
      ],
      "execution_count": 25,
      "outputs": []
    },
    {
      "cell_type": "markdown",
      "metadata": {
        "id": "6P9e2MoLVk_A"
      },
      "source": [
        "## Train **Callback**"
      ]
    },
    {
      "cell_type": "code",
      "metadata": {
        "id": "RTFB0ffRVaO4"
      },
      "source": [
        "#train CALLBACK\n",
        "\n",
        "from tensorflow.keras.callbacks import Callback\n",
        "\n",
        "class trainingCallback (Callback) :\n",
        "\n",
        "  def on_train_begin(self , logs = None) :\n",
        "    print ('.....starting training.......')\n",
        "\n",
        "  def on_epoch_begin(self , epoch , logs = None) :\n",
        "    print (f'.....starting epoch.......{epoch}')\n",
        "\n",
        "  def on_train_batch_begin(self, batch, logs = None) :\n",
        "    print (f'.....training: starting batch.......{batch}')\n",
        "  \n",
        "  def on_train_batch_end(self, batch, logs = None) :\n",
        "    print (f'.....training: finished batch.......{batch}')\n",
        "    \n",
        "  def on_epoch_end(self, epoch, logs = None) :\n",
        "    print (f'.....finished epoch.......{epoch}')\n",
        "\n",
        "  def on_train_end(self, logs = None) :\n",
        "    print (f'.....finished training!!!')\n"
      ],
      "execution_count": 26,
      "outputs": []
    },
    {
      "cell_type": "code",
      "metadata": {
        "colab": {
          "base_uri": "https://localhost:8080/"
        },
        "id": "VMVPFZZCb5iw",
        "outputId": "34683c8f-6af9-40b0-c3bc-72c857f53250"
      },
      "source": [
        "#rebuild\n",
        "model_1 = get_model_1(0.00001, 0.5) \n",
        "print (model_1.summary())"
      ],
      "execution_count": 37,
      "outputs": [
        {
          "output_type": "stream",
          "name": "stdout",
          "text": [
            "Model: \"sequential_2\"\n",
            "_________________________________________________________________\n",
            "Layer (type)                 Output Shape              Param #   \n",
            "=================================================================\n",
            "dense_12 (Dense)             (None, 128)               1408      \n",
            "_________________________________________________________________\n",
            "dropout_12 (Dropout)         (None, 128)               0         \n",
            "_________________________________________________________________\n",
            "dense_13 (Dense)             (None, 128)               16512     \n",
            "_________________________________________________________________\n",
            "dropout_13 (Dropout)         (None, 128)               0         \n",
            "_________________________________________________________________\n",
            "dense_14 (Dense)             (None, 128)               16512     \n",
            "_________________________________________________________________\n",
            "dropout_14 (Dropout)         (None, 128)               0         \n",
            "_________________________________________________________________\n",
            "dense_15 (Dense)             (None, 128)               16512     \n",
            "_________________________________________________________________\n",
            "dropout_15 (Dropout)         (None, 128)               0         \n",
            "_________________________________________________________________\n",
            "dense_16 (Dense)             (None, 128)               16512     \n",
            "_________________________________________________________________\n",
            "dropout_16 (Dropout)         (None, 128)               0         \n",
            "_________________________________________________________________\n",
            "dense_17 (Dense)             (None, 128)               16512     \n",
            "_________________________________________________________________\n",
            "dropout_17 (Dropout)         (None, 128)               0         \n",
            "_________________________________________________________________\n",
            "output (Dense)               (None, 1)                 129       \n",
            "=================================================================\n",
            "Total params: 84,097\n",
            "Trainable params: 84,097\n",
            "Non-trainable params: 0\n",
            "_________________________________________________________________\n",
            "None\n"
          ]
        }
      ]
    },
    {
      "cell_type": "code",
      "metadata": {
        "id": "fflKErKRb5v0"
      },
      "source": [
        "#compile\n",
        "model_1.compile (optimizer = 'adam' , loss ='mse' )"
      ],
      "execution_count": 38,
      "outputs": []
    },
    {
      "cell_type": "code",
      "metadata": {
        "colab": {
          "base_uri": "https://localhost:8080/"
        },
        "id": "Qw642N_7XeMj",
        "outputId": "af901141-f256-4de1-c61b-90cd6a225236"
      },
      "source": [
        "model_1.fit(train_data, train_target, epochs=3, batch_size=128, verbose=False, callbacks=[trainingCallback()])"
      ],
      "execution_count": 39,
      "outputs": [
        {
          "output_type": "stream",
          "name": "stdout",
          "text": [
            ".....starting training.......\n",
            ".....starting epoch.......0\n",
            ".....training: starting batch.......0\n",
            ".....training: finished batch.......0\n",
            ".....training: starting batch.......1\n",
            ".....training: finished batch.......1\n",
            ".....training: starting batch.......2\n",
            ".....training: finished batch.......2\n",
            ".....training: starting batch.......3\n",
            ".....training: finished batch.......3\n",
            ".....finished epoch.......0\n",
            ".....starting epoch.......1\n",
            ".....training: starting batch.......0\n",
            ".....training: finished batch.......0\n",
            ".....training: starting batch.......1\n",
            ".....training: finished batch.......1\n",
            ".....training: starting batch.......2\n",
            ".....training: finished batch.......2\n",
            ".....training: starting batch.......3\n",
            ".....training: finished batch.......3\n",
            ".....finished epoch.......1\n",
            ".....starting epoch.......2\n",
            ".....training: starting batch.......0\n",
            ".....training: finished batch.......0\n",
            ".....training: starting batch.......1\n",
            ".....training: finished batch.......1\n",
            ".....training: starting batch.......2\n",
            ".....training: finished batch.......2\n",
            ".....training: starting batch.......3\n",
            ".....training: finished batch.......3\n",
            ".....finished epoch.......2\n",
            ".....finished training!!!\n"
          ]
        },
        {
          "output_type": "execute_result",
          "data": {
            "text/plain": [
              "<keras.callbacks.History at 0x7faa90431a90>"
            ]
          },
          "metadata": {},
          "execution_count": 39
        }
      ]
    },
    {
      "cell_type": "code",
      "metadata": {
        "id": "1FFqTYKfX9jf"
      },
      "source": [
        "#Evaluate CALLBACK\n",
        "\n",
        "class testingCallback (Callback) :\n",
        "\n",
        "  def on_test_begin(self , logs = None) :\n",
        "    print ('.....starting testing.......')\n",
        "\n",
        "  def on_test_batch_begin(self, batch, logs = None) :\n",
        "    print (f'.....testing: starting batch.......{batch}')\n",
        "  \n",
        "  def on_test_batch_end(self, batch, logs = None) :\n",
        "    print (f'.....testing: finished batch.......{batch}')\n",
        "\n",
        "  def on_test_end(self, logs = None) :\n",
        "    print (f'.....finished testing!!!')\n",
        "\n"
      ],
      "execution_count": 40,
      "outputs": []
    },
    {
      "cell_type": "code",
      "metadata": {
        "colab": {
          "base_uri": "https://localhost:8080/"
        },
        "id": "AQBC0qEAZOzQ",
        "outputId": "b8c3d105-1fea-48ea-9d66-7dcc938a943f"
      },
      "source": [
        "model_1.evaluate(test_data,test_target, verbose=False, callbacks=[testingCallback()])"
      ],
      "execution_count": 41,
      "outputs": [
        {
          "output_type": "stream",
          "name": "stdout",
          "text": [
            ".....starting testing.......\n",
            ".....testing: starting batch.......0\n",
            ".....testing: finished batch.......0\n",
            ".....testing: starting batch.......1\n",
            ".....testing: finished batch.......1\n",
            ".....finished testing!!!\n"
          ]
        },
        {
          "output_type": "execute_result",
          "data": {
            "text/plain": [
              "1.031258463859558"
            ]
          },
          "metadata": {},
          "execution_count": 41
        }
      ]
    },
    {
      "cell_type": "code",
      "metadata": {
        "id": "yWopBoigZhJK"
      },
      "source": [
        "#Prediction CALLBACK\n",
        "\n",
        "class predictionCallback (Callback) :\n",
        "\n",
        "  def on_prediction_begin(self , logs = None) :\n",
        "    print ('.....starting prediction.......')\n",
        "\n",
        "  def on_prediction_batch_begin(self, batch, logs = None) :\n",
        "    print (f'.....prediction: starting batch.......{batch}')\n",
        "  \n",
        "  def on_prediction_batch_end(self, batch, logs = None) :\n",
        "    print (f'.....prediction: finished batch.......{batch}')\n",
        "\n",
        "  def on_prediction_end(self, logs = None) :\n",
        "    print (f'.....finished prediction!!!')"
      ],
      "execution_count": 42,
      "outputs": []
    },
    {
      "cell_type": "code",
      "metadata": {
        "colab": {
          "base_uri": "https://localhost:8080/"
        },
        "id": "ICAnqFgeZ8tX",
        "outputId": "afdad49d-18c1-4682-d639-074cea3bad92"
      },
      "source": [
        "model_1.predict(test_data, verbose=False, callbacks=[predictionCallback()])"
      ],
      "execution_count": 43,
      "outputs": [
        {
          "output_type": "execute_result",
          "data": {
            "text/plain": [
              "array([[-0.00679491],\n",
              "       [-0.00349303],\n",
              "       [-0.0082066 ],\n",
              "       [-0.01453997],\n",
              "       [-0.00617103],\n",
              "       [-0.00727557],\n",
              "       [-0.01985998],\n",
              "       [-0.00714627],\n",
              "       [-0.01117435],\n",
              "       [-0.00844331],\n",
              "       [-0.01271478],\n",
              "       [-0.00378781],\n",
              "       [-0.00411217],\n",
              "       [-0.00468844],\n",
              "       [-0.01798598],\n",
              "       [-0.00836105],\n",
              "       [-0.00664637],\n",
              "       [-0.00674776],\n",
              "       [-0.00913947],\n",
              "       [-0.00790048],\n",
              "       [-0.01468856],\n",
              "       [-0.02132421],\n",
              "       [-0.00681609],\n",
              "       [-0.00539754],\n",
              "       [-0.00347454],\n",
              "       [-0.01564678],\n",
              "       [-0.0056581 ],\n",
              "       [-0.00392659],\n",
              "       [-0.00794369],\n",
              "       [-0.00910269],\n",
              "       [-0.0090001 ],\n",
              "       [-0.01296978],\n",
              "       [-0.01461612],\n",
              "       [-0.00027196],\n",
              "       [-0.01568978],\n",
              "       [-0.0095087 ],\n",
              "       [-0.01560832],\n",
              "       [-0.01231883],\n",
              "       [-0.00257523],\n",
              "       [-0.00905139],\n",
              "       [-0.01313589],\n",
              "       [-0.0082843 ],\n",
              "       [-0.01962015],\n",
              "       [-0.00975688],\n",
              "       [-0.01226062]], dtype=float32)"
            ]
          },
          "metadata": {},
          "execution_count": 43
        }
      ]
    },
    {
      "cell_type": "code",
      "metadata": {
        "id": "0vDn1Zo_aItb"
      },
      "source": [
        "def get_model_1(wight_d_1, rate) :\n",
        "  model_1 = Sequential ( [ \n",
        "                          Dense (128, activation = 'relu' , kernel_regularizer = tf.keras.regularizers.l2(wight_d_1),\n",
        "                               input_shape = (train_data.shape[1], ) ),\n",
        "                          Dropout (rate) ,\n",
        "                          Dense (128, activation = 'relu' , kernel_regularizer = tf.keras.regularizers.l2(wight_d_1)),\n",
        "                          Dropout (rate) ,\n",
        "                          Dense (128, activation = 'relu' , kernel_regularizer = tf.keras.regularizers.l2(wight_d_1)),\n",
        "                          Dropout (rate) ,\n",
        "                          Dense (128, activation = 'relu' , kernel_regularizer = tf.keras.regularizers.l2(wight_d_1)),\n",
        "                          Dropout (rate) ,\n",
        "                          Dense (128, activation = 'relu' , kernel_regularizer = tf.keras.regularizers.l2(wight_d_1)),\n",
        "                          Dropout (rate) ,\n",
        "                          Dense (128, activation = 'relu' , kernel_regularizer = tf.keras.regularizers.l2(wight_d_1)),\n",
        "                          Dropout (rate) ,\n",
        "                          Dense (1, name = 'output') \n",
        "  ])\n",
        "  return model_1"
      ],
      "execution_count": 36,
      "outputs": []
    },
    {
      "cell_type": "code",
      "metadata": {
        "id": "4aZfRdzwVnQV"
      },
      "source": [
        ""
      ],
      "execution_count": null,
      "outputs": []
    }
  ]
}