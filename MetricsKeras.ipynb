{
  "nbformat": 4,
  "nbformat_minor": 0,
  "metadata": {
    "colab": {
      "name": "MetricsKeras.ipynb",
      "provenance": [],
      "authorship_tag": "ABX9TyNO9Gjzhc9YO4wWBX01fPcg",
      "include_colab_link": true
    },
    "kernelspec": {
      "name": "python3",
      "display_name": "Python 3"
    },
    "language_info": {
      "name": "python"
    }
  },
  "cells": [
    {
      "cell_type": "markdown",
      "metadata": {
        "id": "view-in-github",
        "colab_type": "text"
      },
      "source": [
        "<a href=\"https://colab.research.google.com/github/DommiiUdomp/-/blob/main/MetricsKeras.ipynb\" target=\"_parent\"><img src=\"https://colab.research.google.com/assets/colab-badge.svg\" alt=\"Open In Colab\"/></a>"
      ]
    },
    {
      "cell_type": "markdown",
      "metadata": {
        "id": "2pSjWdVPFpa5"
      },
      "source": [
        "# **Metrics in Keras**"
      ]
    },
    {
      "cell_type": "code",
      "metadata": {
        "id": "FtwxM5P3FtcY"
      },
      "source": [
        "import tensorflow as tf\n",
        "from tensorflow.keras.models import Sequential\n",
        "from tensorflow.keras.layers import Dense, Flatten\n",
        "import tensorflow.keras.backend as K"
      ],
      "execution_count": 1,
      "outputs": []
    },
    {
      "cell_type": "code",
      "metadata": {
        "colab": {
          "base_uri": "https://localhost:8080/"
        },
        "id": "QC03-BuoGTnB",
        "outputId": "bf28c617-b0b6-44ac-fa45-69a6d1d8c014"
      },
      "source": [
        "model = Sequential ( [\n",
        "                      Flatten (input_shape = (28,28)) , \n",
        "                      Dense (32 , activation = 'relu') ,\n",
        "                      Dense (32, activation = 'tanh') ,\n",
        "                      Dense (10, activation = 'softmax')\n",
        "])\n",
        "\n",
        "model.compile ( optimizer = 'adam' ,\n",
        "               loss = 'sparse_categorical_crossentropy' ,\n",
        "               metrics = ['accuracy' , 'mae'] )\n",
        "\n",
        "print (model.optimizer)\n",
        "print (model.loss)\n",
        "print (model.metrics)"
      ],
      "execution_count": 12,
      "outputs": [
        {
          "output_type": "stream",
          "name": "stdout",
          "text": [
            "<keras.optimizer_v2.adam.Adam object at 0x7f681abc60d0>\n",
            "sparse_categorical_crossentropy\n",
            "[]\n"
          ]
        }
      ]
    },
    {
      "cell_type": "code",
      "metadata": {
        "id": "40bkpj5FPK3I"
      },
      "source": [
        "## Specify k instead with the sparse top-k categorical accuracy\n",
        "\n",
        "model2 = Sequential ( [ \n",
        "                       Flatten (input_shape = (28,28)) ,\n",
        "                       Dense (64, activation = 'relu') ,\n",
        "                       Dense (64, activation = 'tanh') ,\n",
        "                       Dense (10, activation = 'softmax')\n",
        "])\n",
        "\n",
        "model2.compile ( optimizer = tf.keras.optimizers.Adam(learning_rate=0.001 , beta_1 = 0.9) ,\n",
        "                loss = tf.keras.losses.sparse_categorical_crossentropy ,\n",
        "                metrics = [tf.keras.metrics.SparseTopKCategoricalAccuracy(k=3) ] )"
      ],
      "execution_count": 23,
      "outputs": []
    },
    {
      "cell_type": "code",
      "metadata": {
        "colab": {
          "base_uri": "https://localhost:8080/"
        },
        "id": "VssnNC4iRDuE",
        "outputId": "a337f8ea-c325-44c8-f3e2-8b0f4715006f"
      },
      "source": [
        "print (model2.optimizer)\n",
        "print (model2.loss)\n",
        "print (model2.metrics)"
      ],
      "execution_count": 24,
      "outputs": [
        {
          "output_type": "stream",
          "name": "stdout",
          "text": [
            "<keras.optimizer_v2.adam.Adam object at 0x7f681dec8110>\n",
            "<function sparse_categorical_crossentropy at 0x7f681e725b90>\n",
            "[]\n"
          ]
        }
      ]
    },
    {
      "cell_type": "markdown",
      "metadata": {
        "id": "J7vHWCFhRWET"
      },
      "source": [
        "# **Case 1 - Binary Classification with sigmoid activation function**"
      ]
    },
    {
      "cell_type": "code",
      "metadata": {
        "colab": {
          "base_uri": "https://localhost:8080/"
        },
        "id": "AX5CXJJVN7td",
        "outputId": "30d3de04-f180-45fc-e5c2-532929e62651"
      },
      "source": [
        "# Sigmoid activation function\n",
        "\n",
        "y_true = tf.constant([0.0,1.0,1.0])\n",
        "y_pred = tf.constant([0.4,0.8, 0.3])\n",
        "accuracy = K.mean(K.equal(y_true, K.round(y_pred)))\n",
        "accuracy"
      ],
      "execution_count": 19,
      "outputs": [
        {
          "output_type": "execute_result",
          "data": {
            "text/plain": [
              "<tf.Tensor: shape=(), dtype=float32, numpy=0.6666667>"
            ]
          },
          "metadata": {},
          "execution_count": 19
        }
      ]
    },
    {
      "cell_type": "code",
      "metadata": {
        "id": "BBg7cN87R7ZC"
      },
      "source": [
        ""
      ],
      "execution_count": null,
      "outputs": []
    },
    {
      "cell_type": "markdown",
      "metadata": {
        "id": "3_P40C3mSUk_"
      },
      "source": [
        "# **Case 2 - Categorical Classification**"
      ]
    },
    {
      "cell_type": "markdown",
      "metadata": {
        "id": "50SaarjGSlz2"
      },
      "source": [
        "In the backend of Keras, the accuracy metric is implemented slightly differently depending on whether we have a binary classification problem ( 𝑚=2 ) or a categorical classifcation problem. Note that the accuracy for binary classification problems is the same, no matter if we use a sigmoid or softmax activation function to obtain the output."
      ]
    },
    {
      "cell_type": "code",
      "metadata": {
        "colab": {
          "base_uri": "https://localhost:8080/"
        },
        "id": "LqntvqFOSX4e",
        "outputId": "0e4173a0-36a0-45fb-829f-739538d51e2c"
      },
      "source": [
        "# Binary classification with softmax\n",
        "\n",
        "y_true = tf.constant([[0.0,1.0], [1.0,0.0], [1.0,0.0], [0.0,1.0]])\n",
        "y_pred = tf.constant([[0.4,0.6], [0.3,0.7], [0.05,0.95],[0.33,0.67]])\n",
        "accuracy =K.mean(K.equal(y_true, K.round(y_pred)))\n",
        "accuracy"
      ],
      "execution_count": 20,
      "outputs": [
        {
          "output_type": "execute_result",
          "data": {
            "text/plain": [
              "<tf.Tensor: shape=(), dtype=float32, numpy=0.5>"
            ]
          },
          "metadata": {},
          "execution_count": 20
        }
      ]
    },
    {
      "cell_type": "code",
      "metadata": {
        "colab": {
          "base_uri": "https://localhost:8080/"
        },
        "id": "rkxYhE-RSuYq",
        "outputId": "cd676355-bc33-415f-91e4-684b1a400118"
      },
      "source": [
        "# Categorical classification with m>2\n",
        "\n",
        "y_true = tf.constant([[0.0,1.0,0.0,0.0],[1.0,0.0,0.0,0.0],[0.0,0.0,1.0,0.0]])\n",
        "y_pred = tf.constant([[0.4,0.6,0.0,0.0], [0.3,0.2,0.1,0.4], [0.05,0.35,0.5,0.1]])\n",
        "accuracy = K.mean(K.equal(K.argmax(y_true, axis=-1), K.argmax(y_pred, axis=-1)))\n",
        "accuracy"
      ],
      "execution_count": 21,
      "outputs": [
        {
          "output_type": "execute_result",
          "data": {
            "text/plain": [
              "<tf.Tensor: shape=(), dtype=float32, numpy=0.6666667>"
            ]
          },
          "metadata": {},
          "execution_count": 21
        }
      ]
    },
    {
      "cell_type": "markdown",
      "metadata": {
        "id": "ZC-gkX9eS9y6"
      },
      "source": [
        "# **Other examples of metrics**"
      ]
    },
    {
      "cell_type": "markdown",
      "metadata": {
        "id": "O9I6vjtHUO15"
      },
      "source": [
        "**Custom metrics**"
      ]
    },
    {
      "cell_type": "code",
      "metadata": {
        "id": "S6Z3QnkCUQ_o"
      },
      "source": [
        "# Define a custom metric\n",
        "\n",
        "def mean_pred(y_true, y_pred):\n",
        "    return K.mean(y_pred)"
      ],
      "execution_count": 25,
      "outputs": []
    },
    {
      "cell_type": "code",
      "metadata": {
        "id": "37eD4JO8UTZ8"
      },
      "source": [
        "# Specify k instead with the sparse top-k categorical accuracy\n",
        "\n",
        "model.compile(optimizer='adam',\n",
        "              loss='sparse_categorical_crossentropy',\n",
        "              metrics=[mean_pred])"
      ],
      "execution_count": 26,
      "outputs": []
    },
    {
      "cell_type": "markdown",
      "metadata": {
        "id": "-cgV7O1rUgpn"
      },
      "source": [
        "**Multiple metrics**"
      ]
    },
    {
      "cell_type": "code",
      "metadata": {
        "id": "cA-xPfZtS1-R"
      },
      "source": [
        "# Compile the model with multiple metrics\n",
        "\n",
        "model.compile(optimizer='adam',\n",
        "              loss='sparse_categorical_crossentropy',\n",
        "              metrics=[mean_pred, \"accuracy\",tf.keras.metrics.SparseTopKCategoricalAccuracy(k=3)])"
      ],
      "execution_count": 27,
      "outputs": []
    },
    {
      "cell_type": "code",
      "metadata": {
        "id": "tpXZuy18UnL1"
      },
      "source": [
        ""
      ],
      "execution_count": null,
      "outputs": []
    }
  ]
}