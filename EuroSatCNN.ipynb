{
  "nbformat": 4,
  "nbformat_minor": 0,
  "metadata": {
    "colab": {
      "name": "EuroSatCNN.ipynb",
      "provenance": [],
      "authorship_tag": "ABX9TyPYG3xZadcfNfamLWeHZYgh",
      "include_colab_link": true
    },
    "kernelspec": {
      "name": "python3",
      "display_name": "Python 3"
    },
    "language_info": {
      "name": "python"
    }
  },
  "cells": [
    {
      "cell_type": "markdown",
      "metadata": {
        "id": "view-in-github",
        "colab_type": "text"
      },
      "source": [
        "<a href=\"https://colab.research.google.com/github/DommiiUdomp/-/blob/main/EuroSatCNN.ipynb\" target=\"_parent\"><img src=\"https://colab.research.google.com/assets/colab-badge.svg\" alt=\"Open In Colab\"/></a>"
      ]
    },
    {
      "cell_type": "markdown",
      "metadata": {
        "id": "YQ0Cxsb_yi1g"
      },
      "source": [
        "#EuroSat dataset"
      ]
    },
    {
      "cell_type": "code",
      "metadata": {
        "id": "eyM2tPcmymSM"
      },
      "source": [
        "import tensorflow as tf\n",
        "from tensorflow.keras.preprocessing.image import load_img, img_to_array\n",
        "from tensorflow.keras.models import Sequential, load_model\n",
        "from tensorflow.keras.layers import Dense, Flatten, Conv2D, MaxPooling2D\n",
        "from tensorflow.keras.callbacks import ModelCheckpoint, EarlyStopping\n",
        "import os\n",
        "import numpy as np\n",
        "import pandas as pd"
      ],
      "execution_count": 1,
      "outputs": []
    },
    {
      "cell_type": "code",
      "metadata": {
        "colab": {
          "base_uri": "https://localhost:8080/"
        },
        "id": "NkztvqQpypuq",
        "outputId": "a78692e9-6bc7-4c31-f6d2-b0290df26e50"
      },
      "source": [
        "from google.colab import drive\n",
        "drive.mount('/content/drive')"
      ],
      "execution_count": 2,
      "outputs": [
        {
          "output_type": "stream",
          "name": "stdout",
          "text": [
            "Drive already mounted at /content/drive; to attempt to forcibly remount, call drive.mount(\"/content/drive\", force_remount=True).\n"
          ]
        }
      ]
    },
    {
      "cell_type": "markdown",
      "metadata": {
        "id": "P2Dhv4M01q1k"
      },
      "source": [
        "\n",
        "Import the data"
      ]
    },
    {
      "cell_type": "code",
      "metadata": {
        "id": "Z-bNH_LlzExM"
      },
      "source": [
        "import tensorflow_datasets.public_api as tfds"
      ],
      "execution_count": 3,
      "outputs": []
    },
    {
      "cell_type": "code",
      "metadata": {
        "colab": {
          "base_uri": "https://localhost:8080/"
        },
        "id": "9eSrtS5Oyu6b",
        "outputId": "f1313d77-d58a-4e34-d5d7-456262e182f4"
      },
      "source": [
        "tfds.list_builders()"
      ],
      "execution_count": 4,
      "outputs": [
        {
          "output_type": "execute_result",
          "data": {
            "text/plain": [
              "['abstract_reasoning',\n",
              " 'accentdb',\n",
              " 'aeslc',\n",
              " 'aflw2k3d',\n",
              " 'ag_news_subset',\n",
              " 'ai2_arc',\n",
              " 'ai2_arc_with_ir',\n",
              " 'amazon_us_reviews',\n",
              " 'anli',\n",
              " 'arc',\n",
              " 'bair_robot_pushing_small',\n",
              " 'bccd',\n",
              " 'beans',\n",
              " 'big_patent',\n",
              " 'bigearthnet',\n",
              " 'billsum',\n",
              " 'binarized_mnist',\n",
              " 'binary_alpha_digits',\n",
              " 'blimp',\n",
              " 'bool_q',\n",
              " 'c4',\n",
              " 'caltech101',\n",
              " 'caltech_birds2010',\n",
              " 'caltech_birds2011',\n",
              " 'cars196',\n",
              " 'cassava',\n",
              " 'cats_vs_dogs',\n",
              " 'celeb_a',\n",
              " 'celeb_a_hq',\n",
              " 'cfq',\n",
              " 'chexpert',\n",
              " 'cifar10',\n",
              " 'cifar100',\n",
              " 'cifar10_1',\n",
              " 'cifar10_corrupted',\n",
              " 'citrus_leaves',\n",
              " 'cityscapes',\n",
              " 'civil_comments',\n",
              " 'clevr',\n",
              " 'clic',\n",
              " 'clinc_oos',\n",
              " 'cmaterdb',\n",
              " 'cnn_dailymail',\n",
              " 'coco',\n",
              " 'coco_captions',\n",
              " 'coil100',\n",
              " 'colorectal_histology',\n",
              " 'colorectal_histology_large',\n",
              " 'common_voice',\n",
              " 'coqa',\n",
              " 'cos_e',\n",
              " 'cosmos_qa',\n",
              " 'covid19sum',\n",
              " 'crema_d',\n",
              " 'curated_breast_imaging_ddsm',\n",
              " 'cycle_gan',\n",
              " 'deep_weeds',\n",
              " 'definite_pronoun_resolution',\n",
              " 'dementiabank',\n",
              " 'diabetic_retinopathy_detection',\n",
              " 'div2k',\n",
              " 'dmlab',\n",
              " 'downsampled_imagenet',\n",
              " 'dsprites',\n",
              " 'dtd',\n",
              " 'duke_ultrasound',\n",
              " 'emnist',\n",
              " 'eraser_multi_rc',\n",
              " 'esnli',\n",
              " 'eurosat',\n",
              " 'fashion_mnist',\n",
              " 'flic',\n",
              " 'flores',\n",
              " 'food101',\n",
              " 'forest_fires',\n",
              " 'fuss',\n",
              " 'gap',\n",
              " 'geirhos_conflict_stimuli',\n",
              " 'genomics_ood',\n",
              " 'german_credit_numeric',\n",
              " 'gigaword',\n",
              " 'glue',\n",
              " 'goemotions',\n",
              " 'gpt3',\n",
              " 'groove',\n",
              " 'gtzan',\n",
              " 'gtzan_music_speech',\n",
              " 'hellaswag',\n",
              " 'higgs',\n",
              " 'horses_or_humans',\n",
              " 'i_naturalist2017',\n",
              " 'imagenet2012',\n",
              " 'imagenet2012_corrupted',\n",
              " 'imagenet2012_real',\n",
              " 'imagenet2012_subset',\n",
              " 'imagenet_a',\n",
              " 'imagenet_r',\n",
              " 'imagenet_resized',\n",
              " 'imagenet_v2',\n",
              " 'imagenette',\n",
              " 'imagewang',\n",
              " 'imdb_reviews',\n",
              " 'irc_disentanglement',\n",
              " 'iris',\n",
              " 'kitti',\n",
              " 'kmnist',\n",
              " 'lfw',\n",
              " 'librispeech',\n",
              " 'librispeech_lm',\n",
              " 'libritts',\n",
              " 'ljspeech',\n",
              " 'lm1b',\n",
              " 'lost_and_found',\n",
              " 'lsun',\n",
              " 'malaria',\n",
              " 'math_dataset',\n",
              " 'mctaco',\n",
              " 'mnist',\n",
              " 'mnist_corrupted',\n",
              " 'movie_lens',\n",
              " 'movie_rationales',\n",
              " 'movielens',\n",
              " 'moving_mnist',\n",
              " 'multi_news',\n",
              " 'multi_nli',\n",
              " 'multi_nli_mismatch',\n",
              " 'natural_questions',\n",
              " 'natural_questions_open',\n",
              " 'newsroom',\n",
              " 'nsynth',\n",
              " 'nyu_depth_v2',\n",
              " 'omniglot',\n",
              " 'open_images_challenge2019_detection',\n",
              " 'open_images_v4',\n",
              " 'openbookqa',\n",
              " 'opinion_abstracts',\n",
              " 'opinosis',\n",
              " 'opus',\n",
              " 'oxford_flowers102',\n",
              " 'oxford_iiit_pet',\n",
              " 'para_crawl',\n",
              " 'patch_camelyon',\n",
              " 'paws_wiki',\n",
              " 'paws_x_wiki',\n",
              " 'pet_finder',\n",
              " 'pg19',\n",
              " 'places365_small',\n",
              " 'plant_leaves',\n",
              " 'plant_village',\n",
              " 'plantae_k',\n",
              " 'qa4mre',\n",
              " 'qasc',\n",
              " 'quickdraw_bitmap',\n",
              " 'radon',\n",
              " 'reddit',\n",
              " 'reddit_disentanglement',\n",
              " 'reddit_tifu',\n",
              " 'resisc45',\n",
              " 'robonet',\n",
              " 'rock_paper_scissors',\n",
              " 'rock_you',\n",
              " 'salient_span_wikipedia',\n",
              " 'samsum',\n",
              " 'savee',\n",
              " 'scan',\n",
              " 'scene_parse150',\n",
              " 'scicite',\n",
              " 'scientific_papers',\n",
              " 'sentiment140',\n",
              " 'shapes3d',\n",
              " 'smallnorb',\n",
              " 'snli',\n",
              " 'so2sat',\n",
              " 'speech_commands',\n",
              " 'spoken_digit',\n",
              " 'squad',\n",
              " 'stanford_dogs',\n",
              " 'stanford_online_products',\n",
              " 'starcraft_video',\n",
              " 'stl10',\n",
              " 'sun397',\n",
              " 'super_glue',\n",
              " 'svhn_cropped',\n",
              " 'ted_hrlr_translate',\n",
              " 'ted_multi_translate',\n",
              " 'tedlium',\n",
              " 'tf_flowers',\n",
              " 'the300w_lp',\n",
              " 'tiny_shakespeare',\n",
              " 'titanic',\n",
              " 'trec',\n",
              " 'trivia_qa',\n",
              " 'tydi_qa',\n",
              " 'uc_merced',\n",
              " 'ucf101',\n",
              " 'vctk',\n",
              " 'vgg_face2',\n",
              " 'visual_domain_decathlon',\n",
              " 'voc',\n",
              " 'voxceleb',\n",
              " 'voxforge',\n",
              " 'waymo_open_dataset',\n",
              " 'web_questions',\n",
              " 'wider_face',\n",
              " 'wiki40b',\n",
              " 'wikihow',\n",
              " 'wikipedia',\n",
              " 'wikipedia_toxicity_subtypes',\n",
              " 'wine_quality',\n",
              " 'winogrande',\n",
              " 'wmt14_translate',\n",
              " 'wmt15_translate',\n",
              " 'wmt16_translate',\n",
              " 'wmt17_translate',\n",
              " 'wmt18_translate',\n",
              " 'wmt19_translate',\n",
              " 'wmt_t2t_translate',\n",
              " 'wmt_translate',\n",
              " 'wordnet',\n",
              " 'xnli',\n",
              " 'xquad',\n",
              " 'xsum',\n",
              " 'yelp_polarity_reviews',\n",
              " 'yes_no']"
            ]
          },
          "metadata": {},
          "execution_count": 4
        }
      ]
    },
    {
      "cell_type": "code",
      "metadata": {
        "id": "urKa3Rq0nFZ-"
      },
      "source": [
        "ds, info = tfds.load('eurosat', with_info=True)\n",
        "\n",
        "builder = tfds.builder('eurosat')\n",
        "info = builder.info"
      ],
      "execution_count": 5,
      "outputs": []
    },
    {
      "cell_type": "code",
      "metadata": {
        "colab": {
          "base_uri": "https://localhost:8080/"
        },
        "id": "75eQ1Ts-nIWX",
        "outputId": "05637425-ef7a-43bb-ee70-0a2a59cc4bd8"
      },
      "source": [
        "info"
      ],
      "execution_count": 6,
      "outputs": [
        {
          "output_type": "execute_result",
          "data": {
            "text/plain": [
              "tfds.core.DatasetInfo(\n",
              "    name='eurosat',\n",
              "    version=2.0.0,\n",
              "    description='EuroSAT dataset is based on Sentinel-2 satellite images covering 13 spectral\n",
              "bands and consisting of 10 classes with 27000 labeled and\n",
              "geo-referenced samples.\n",
              "\n",
              "Two datasets are offered:\n",
              "- rgb: Contains only the optical R, G, B frequency bands encoded as JPEG image.\n",
              "- all: Contains all 13 bands in the original value range (float32).\n",
              "\n",
              "URL: https://github.com/phelber/eurosat',\n",
              "    homepage='https://github.com/phelber/eurosat',\n",
              "    features=FeaturesDict({\n",
              "        'filename': Text(shape=(), dtype=tf.string),\n",
              "        'image': Image(shape=(64, 64, 3), dtype=tf.uint8),\n",
              "        'label': ClassLabel(shape=(), dtype=tf.int64, num_classes=10),\n",
              "    }),\n",
              "    total_num_examples=27000,\n",
              "    splits={\n",
              "        'train': 27000,\n",
              "    },\n",
              "    supervised_keys=('image', 'label'),\n",
              "    citation=\"\"\"@misc{helber2017eurosat,\n",
              "        title={EuroSAT: A Novel Dataset and Deep Learning Benchmark for Land Use and Land Cover Classification},\n",
              "        author={Patrick Helber and Benjamin Bischke and Andreas Dengel and Damian Borth},\n",
              "        year={2017},\n",
              "        eprint={1709.00029},\n",
              "        archivePrefix={arXiv},\n",
              "        primaryClass={cs.CV}\n",
              "    }\"\"\",\n",
              "    redistribution_info=,\n",
              ")"
            ]
          },
          "metadata": {},
          "execution_count": 6
        }
      ]
    },
    {
      "cell_type": "code",
      "metadata": {
        "colab": {
          "base_uri": "https://localhost:8080/"
        },
        "id": "jBBr-XFZngWs",
        "outputId": "402f0cdf-ddbe-4dfd-c8d8-a25d7e72992f"
      },
      "source": [
        "print(info.features.shape)\n",
        "print(info.features.dtype)\n",
        "print(info.features['image'].shape)\n",
        "print(info.features['image'].dtype)\n",
        "print(info.splits)\n",
        "print(list(info.splits.keys()))"
      ],
      "execution_count": 7,
      "outputs": [
        {
          "output_type": "stream",
          "name": "stdout",
          "text": [
            "{'image': (64, 64, 3), 'label': (), 'filename': ()}\n",
            "{'image': tf.uint8, 'label': tf.int64, 'filename': tf.string}\n",
            "(64, 64, 3)\n",
            "<dtype: 'uint8'>\n",
            "{'train': <tfds.core.SplitInfo num_examples=27000>}\n",
            "['train']\n"
          ]
        }
      ]
    },
    {
      "cell_type": "code",
      "metadata": {
        "id": "RBKbBY7crSRr"
      },
      "source": [
        "\n",
        "eu_train, eu_test = tfds.load(\"eurosat\", split=['train', 'train[:20%]'])\n",
        "\n",
        "assert isinstance(eu_train, tf.data.Dataset)"
      ],
      "execution_count": 8,
      "outputs": []
    },
    {
      "cell_type": "code",
      "metadata": {
        "id": "eVg2RPeHro5-",
        "colab": {
          "base_uri": "https://localhost:8080/"
        },
        "outputId": "1a5f2f59-0f7c-4b99-fd5c-3159d238ecc4"
      },
      "source": [
        "(img_train, label_train), (img_test, label_test) = tfds.as_numpy(tfds.load(\n",
        "    'eurosat',\n",
        "    split=['train', 'train[:20%]'],\n",
        "    batch_size=-1,\n",
        "    as_supervised=True,\n",
        "))"
      ],
      "execution_count": 9,
      "outputs": [
        {
          "output_type": "stream",
          "name": "stdout",
          "text": [
            "WARNING:tensorflow:From /usr/local/lib/python3.7/dist-packages/tensorflow_datasets/core/dataset_builder.py:598: get_single_element (from tensorflow.python.data.experimental.ops.get_single_element) is deprecated and will be removed in a future version.\n",
            "Instructions for updating:\n",
            "Use `tf.data.Dataset.get_single_element()`.\n"
          ]
        },
        {
          "output_type": "stream",
          "name": "stderr",
          "text": [
            "WARNING:tensorflow:From /usr/local/lib/python3.7/dist-packages/tensorflow_datasets/core/dataset_builder.py:598: get_single_element (from tensorflow.python.data.experimental.ops.get_single_element) is deprecated and will be removed in a future version.\n",
            "Instructions for updating:\n",
            "Use `tf.data.Dataset.get_single_element()`.\n"
          ]
        }
      ]
    },
    {
      "cell_type": "code",
      "metadata": {
        "id": "xolcmiNL3Ou5"
      },
      "source": [
        "#if download from zip\n",
        "import zipfile\n",
        "import io\n",
        "import requests\n",
        "from PIL import Image\n",
        "\n",
        "# RGB file URL\n",
        "url = \"http://madm.dfki.de/files/sentinel/EuroSAT.zip\"\n",
        "\n",
        "# download zip\n",
        "r = requests.get(url)\n",
        "z = zipfile.ZipFile(io.BytesIO(r.content))\n",
        "\n",
        "# get file names\n",
        "txtfiles = []\n",
        "for file in z.namelist():\n",
        "  txtfiles.append(file)\n",
        "\n",
        "# keep only those containing \".jpg\"\n",
        "txtfiles = [x for x in txtfiles if \".jpg\" in x]"
      ],
      "execution_count": 11,
      "outputs": []
    },
    {
      "cell_type": "code",
      "metadata": {
        "id": "r0aT-u0z3dhW"
      },
      "source": [
        "# read images to numpy array\n",
        "XImages = np.zeros([len(txtfiles), 64, 64, 3])\n",
        "\n",
        "i = 0\n",
        "for pic in txtfiles:\n",
        "  XImages[i] = np.asarray(Image.open(z.open(pic))).astype('uint8')/255\n",
        "  print(i)\n",
        "  i += 1\n",
        "\n",
        "del r # clear memory\n",
        "del z "
      ],
      "execution_count": null,
      "outputs": []
    },
    {
      "cell_type": "code",
      "metadata": {
        "id": "F1ztvX_H3Rs-"
      },
      "source": [
        "# Get labels in numpy array as strings\n",
        "Ylabel = np.empty(len(txtfiles), dtype = 'S20')\n",
        "\n",
        "i = 0\n",
        "for label in txtfiles:\n",
        "  Ylabel[i] = label.split('/')[1]\n",
        "  i += 1"
      ],
      "execution_count": 13,
      "outputs": []
    },
    {
      "cell_type": "code",
      "metadata": {
        "colab": {
          "base_uri": "https://localhost:8080/"
        },
        "id": "7R83O06e4ifA",
        "outputId": "7624e193-0b6c-44e5-d052-43c511893ca3"
      },
      "source": [
        "print(XImages.shape)\n",
        "print(Ylabel.shape)"
      ],
      "execution_count": 14,
      "outputs": [
        {
          "output_type": "stream",
          "name": "stdout",
          "text": [
            "(27000, 64, 64, 3)\n",
            "(27000,)\n"
          ]
        }
      ]
    },
    {
      "cell_type": "code",
      "metadata": {
        "colab": {
          "base_uri": "https://localhost:8080/"
        },
        "id": "JeFXd-w020OA",
        "outputId": "5b09e91a-8f94-49c2-c15c-81b15baf1163"
      },
      "source": [
        "# change them to integers in alphabetical order\n",
        "label_names, yLabels = np.unique(Ylabel, return_inverse=True)\n",
        "\n",
        "label_Dict = dict(zip(np.unique(yLabels), label_names))\n",
        "print(label_Dict)\n",
        "np.array(np.unique(yLabels, return_counts=True)).T"
      ],
      "execution_count": 15,
      "outputs": [
        {
          "output_type": "stream",
          "name": "stdout",
          "text": [
            "{0: b'AnnualCrop', 1: b'Forest', 2: b'HerbaceousVegetation', 3: b'Highway', 4: b'Industrial', 5: b'Pasture', 6: b'PermanentCrop', 7: b'Residential', 8: b'River', 9: b'SeaLake'}\n"
          ]
        },
        {
          "output_type": "execute_result",
          "data": {
            "text/plain": [
              "array([[   0, 3000],\n",
              "       [   1, 3000],\n",
              "       [   2, 3000],\n",
              "       [   3, 2500],\n",
              "       [   4, 2500],\n",
              "       [   5, 2000],\n",
              "       [   6, 2500],\n",
              "       [   7, 3000],\n",
              "       [   8, 2500],\n",
              "       [   9, 3000]])"
            ]
          },
          "metadata": {},
          "execution_count": 15
        }
      ]
    },
    {
      "cell_type": "code",
      "metadata": {
        "colab": {
          "base_uri": "https://localhost:8080/",
          "height": 302
        },
        "id": "7p2u9kwc94A_",
        "outputId": "a626de16-7645-4e1c-acd2-3f8071a617c5"
      },
      "source": [
        "import matplotlib.pyplot as plt\n",
        "\n",
        "# test the labels and images \n",
        "tmp = 20000\n",
        "img = XImages[tmp]\n",
        "\n",
        "print(yLabels[tmp])\n",
        "print(label_names[yLabels[tmp]])\n",
        "plt.imshow(img);"
      ],
      "execution_count": 16,
      "outputs": [
        {
          "output_type": "stream",
          "name": "stdout",
          "text": [
            "1\n",
            "b'Forest'\n"
          ]
        },
        {
          "output_type": "display_data",
          "data": {
            "image/png": "[encoded data removed]",
            "text/plain": [
              "<Figure size 432x288 with 1 Axes>"
            ]
          },
          "metadata": {
            "needs_background": "light"
          }
        }
      ]
    },
    {
      "cell_type": "code",
      "metadata": {
        "colab": {
          "base_uri": "https://localhost:8080/",
          "height": 156
        },
        "id": "t0pOd973M2Tc",
        "outputId": "80421472-366d-4a10-d6a6-1276a18fa0ad"
      },
      "source": [
        "#Select a random sample of images and Plot\n",
        "import matplotlib.pyplot as plt\n",
        "\n",
        "num_test_images = XImages.shape[0]\n",
        "random_inx = np.random.choice(num_test_images, 5)\n",
        "random_test_images = XImages[random_inx, ...]\n",
        "random_test_labels = Ylabel[random_inx, ...]\n",
        "\n",
        "fig, ax = plt.subplots(1, 5, figsize =(20, 2) )\n",
        "fig.subplots_adjust(hspace=0.2, wspace=0.5)\n",
        "for i in range (5) :\n",
        "  ax[i].set_axis_off()\n",
        "  ax[i].set_title(random_test_labels[i])\n",
        "  ax[i].imshow(random_test_images[i])"
      ],
      "execution_count": 21,
      "outputs": [
        {
          "output_type": "display_data",
          "data": {
            "image/png": "[encoded data removed]",
            "text/plain": [
              "<Figure size 1440x144 with 5 Axes>"
            ]
          },
          "metadata": {
            "needs_background": "light"
          }
        }
      ]
    },
    {
      "cell_type": "code",
      "metadata": {
        "colab": {
          "base_uri": "https://localhost:8080/"
        },
        "id": "WtLOsia8R1xg",
        "outputId": "fd53c7b5-4bdb-4658-c753-fe589ac234b9"
      },
      "source": [
        "# find the smallest class\n",
        "smallest_class = np.argmin(np.bincount(yLabels))\n",
        "smallest_class"
      ],
      "execution_count": 22,
      "outputs": [
        {
          "output_type": "execute_result",
          "data": {
            "text/plain": [
              "5"
            ]
          },
          "metadata": {},
          "execution_count": 22
        }
      ]
    },
    {
      "cell_type": "code",
      "metadata": {
        "colab": {
          "base_uri": "https://localhost:8080/"
        },
        "id": "FFN7kMF1U27X",
        "outputId": "ba0b15a2-f407-4567-b089-b2508f6bb030"
      },
      "source": [
        "from sklearn.utils import shuffle\n",
        "from sklearn.preprocessing import LabelBinarizer\n",
        "\n",
        "# number of classes\n",
        "num_classes = len(np.array(np.unique(yLabels)))\n",
        "# observations in smallest class\n",
        "smallest_class_obs = np.where(yLabels == smallest_class)[0]\n",
        "print(smallest_class_obs.shape)"
      ],
      "execution_count": 23,
      "outputs": [
        {
          "output_type": "stream",
          "name": "stdout",
          "text": [
            "(2000,)\n"
          ]
        }
      ]
    },
    {
      "cell_type": "code",
      "metadata": {
        "colab": {
          "base_uri": "https://localhost:8080/"
        },
        "id": "AjWcRno6WC_J",
        "outputId": "cbc12e2f-efa0-4e69-bd52-ec6f16205fd7"
      },
      "source": [
        "shuffle(np.where(yLabels == i)[0], random_state=42).shape"
      ],
      "execution_count": 24,
      "outputs": [
        {
          "output_type": "execute_result",
          "data": {
            "text/plain": [
              "(2500,)"
            ]
          },
          "metadata": {},
          "execution_count": 24
        }
      ]
    },
    {
      "cell_type": "code",
      "metadata": {
        "colab": {
          "base_uri": "https://localhost:8080/"
        },
        "id": "gGCf32M_WRPp",
        "outputId": "be950420-625e-4992-8543-18aebf621afa"
      },
      "source": [
        "shuffle(np.where(yLabels == i)[0], random_state=42)[0:smallest_class_obs.shape[0]].shape"
      ],
      "execution_count": 25,
      "outputs": [
        {
          "output_type": "execute_result",
          "data": {
            "text/plain": [
              "(2000,)"
            ]
          },
          "metadata": {},
          "execution_count": 25
        }
      ]
    },
    {
      "cell_type": "code",
      "metadata": {
        "id": "GtEKEhjXVsRh"
      },
      "source": [
        "# Get 2000 observations from each class\n",
        "indBal = np.empty(0, dtype=int)\n",
        "for i in range(num_classes):\n",
        "  indTemp = shuffle(np.where(yLabels == i)[0], random_state=42)[0:smallest_class_obs.shape[0]]\n",
        "  indBal = np.concatenate([indBal, indTemp])\n",
        "\n",
        "# shuffle the balanced index\n",
        "indBal = shuffle(indBal, random_state = 42)"
      ],
      "execution_count": 26,
      "outputs": []
    },
    {
      "cell_type": "code",
      "metadata": {
        "colab": {
          "base_uri": "https://localhost:8080/"
        },
        "id": "q94CIy73WhHQ",
        "outputId": "8a0c05dd-d143-4a09-d130-b062661401be"
      },
      "source": [
        "indBal.shape"
      ],
      "execution_count": 27,
      "outputs": [
        {
          "output_type": "execute_result",
          "data": {
            "text/plain": [
              "(20000,)"
            ]
          },
          "metadata": {},
          "execution_count": 27
        }
      ]
    },
    {
      "cell_type": "code",
      "metadata": {
        "id": "LHx40v4pXibn"
      },
      "source": [
        "from sklearn.model_selection import train_test_split\n",
        "#Unbalanced labels\n",
        "X_train, X_test, y_train, y_test = train_test_split(XImages, yLabels, stratify = yLabels, train_size = 0.5, random_state=42)"
      ],
      "execution_count": 36,
      "outputs": []
    },
    {
      "cell_type": "code",
      "metadata": {
        "colab": {
          "base_uri": "https://localhost:8080/",
          "height": 285
        },
        "id": "4qf5WkI0Xz2x",
        "outputId": "45c90244-1f50-46bf-c4bf-60e9ce0255a7"
      },
      "source": [
        "# test that the labels and images \n",
        "tmp = 5000\n",
        "img = X_train[tmp]\n",
        "\n",
        "print(label_names[y_train[tmp]])\n",
        "plt.imshow(img); "
      ],
      "execution_count": 37,
      "outputs": [
        {
          "output_type": "stream",
          "name": "stdout",
          "text": [
            "b'Industrial'\n"
          ]
        },
        {
          "output_type": "display_data",
          "data": {
            "image/png": "[encoded data removed]",
            "text/plain": [
              "<Figure size 432x288 with 1 Axes>"
            ]
          },
          "metadata": {
            "needs_background": "light"
          }
        }
      ]
    },
    {
      "cell_type": "code",
      "metadata": {
        "colab": {
          "base_uri": "https://localhost:8080/"
        },
        "id": "wVZqAm4gU6xf",
        "outputId": "b2cbea7c-5b3a-488e-ff91-22523f16f263"
      },
      "source": [
        "yBal = yLabels[indBal]\n",
        "XBal = XImages[indBal]\n",
        "\n",
        "print(yBal.shape)\n",
        "print(XBal.shape)"
      ],
      "execution_count": 38,
      "outputs": [
        {
          "output_type": "stream",
          "name": "stdout",
          "text": [
            "(20000,)\n",
            "(20000, 64, 64, 3)\n"
          ]
        }
      ]
    },
    {
      "cell_type": "code",
      "metadata": {
        "id": "67lXBaKMYWC_"
      },
      "source": [
        "#balanced labels\n",
        "X_train, X_test, y_train, y_test = train_test_split(XBal, yBal, stratify = yBal, train_size = 0.5, random_state=42)"
      ],
      "execution_count": 39,
      "outputs": []
    },
    {
      "cell_type": "code",
      "metadata": {
        "colab": {
          "base_uri": "https://localhost:8080/",
          "height": 285
        },
        "id": "x8_gcmPTYe8N",
        "outputId": "751d5dea-693b-439b-8d94-cbea991be3e7"
      },
      "source": [
        "# test that the labels and images \n",
        "tmp = 5000\n",
        "img = X_train[tmp]\n",
        "\n",
        "print(label_names[y_train[tmp]])\n",
        "plt.imshow(img);"
      ],
      "execution_count": 40,
      "outputs": [
        {
          "output_type": "stream",
          "name": "stdout",
          "text": [
            "b'AnnualCrop'\n"
          ]
        },
        {
          "output_type": "display_data",
          "data": {
            "image/png": "[encoded data removed]",
            "text/plain": [
              "<Figure size 432x288 with 1 Axes>"
            ]
          },
          "metadata": {
            "needs_background": "light"
          }
        }
      ]
    },
    {
      "cell_type": "code",
      "metadata": {
        "colab": {
          "base_uri": "https://localhost:8080/"
        },
        "id": "DmuePffyZcew",
        "outputId": "9128b6e5-ac40-49fc-822e-f80d3ebeec96"
      },
      "source": [
        "from tensorflow.keras.utils import to_categorical\n",
        "\n",
        "# class distribution for yTrain\n",
        "np.array(np.unique(y_train, return_counts=True)).T\n",
        "\n",
        "# class distribution for yTest\n",
        "np.array(np.unique(y_test, return_counts=True)).T\n",
        "\n",
        "# convert class vectors to binary class matrices\n",
        "y_train = to_categorical(y_train, num_classes)\n",
        "y_test = to_categorical(y_test, num_classes)\n",
        "\n",
        "print(X_train.shape)\n",
        "print(X_test.shape)\n",
        "print(y_train.shape)\n",
        "print(y_test.shape)"
      ],
      "execution_count": 41,
      "outputs": [
        {
          "output_type": "stream",
          "name": "stdout",
          "text": [
            "(10000, 64, 64, 3)\n",
            "(10000, 64, 64, 3)\n",
            "(10000, 10)\n",
            "(10000, 10)\n"
          ]
        }
      ]
    },
    {
      "cell_type": "code",
      "metadata": {
        "id": "5j68ZxVUheeZ"
      },
      "source": [
        "# Convert train and test images into 'float64' type\n",
        "\n",
        "# train_images = train_images.astype('float64')\n",
        "# test_images = test_images.astype('float64')\n",
        "\n",
        "# Convert train and test labels into 'int64' type\n",
        "\n",
        "y_train = y_train.astype('int64')\n",
        "y_test = y_test.astype('int64')"
      ],
      "execution_count": 46,
      "outputs": []
    },
    {
      "cell_type": "code",
      "metadata": {
        "colab": {
          "base_uri": "https://localhost:8080/"
        },
        "id": "QFp2dJgKerRv",
        "outputId": "80cd6021-df27-4100-f154-ef06dcdab2b4"
      },
      "source": [
        "# Initialize grayscale arrays\n",
        "X_train_BW = np.zeros([X_train.shape[0],\n",
        "                       X_train.shape[1],\n",
        "                       X_train.shape[2]])\n",
        "\n",
        "X_test_BW = np.zeros([X_test.shape[0],\n",
        "                      X_test.shape[1],\n",
        "                      X_test.shape[2]])\n",
        "print(X_train_BW.shape)\n",
        "print(X_test_BW.shape)"
      ],
      "execution_count": 104,
      "outputs": [
        {
          "output_type": "stream",
          "name": "stdout",
          "text": [
            "(10000, 64, 64)\n",
            "(10000, 64, 64)\n"
          ]
        }
      ]
    },
    {
      "cell_type": "code",
      "metadata": {
        "colab": {
          "base_uri": "https://localhost:8080/"
        },
        "id": "HAnw9_fbfs3Y",
        "outputId": "de5b24a6-6183-4273-c086-6e28943a90fe"
      },
      "source": [
        "#or\n",
        "X_train_BW = np.average(X_train, axis=-1)\n",
        "X_test_BW = np.average(X_test, axis=-1)\n",
        "print(X_train_BW.shape)\n",
        "print(X_test_BW.shape)"
      ],
      "execution_count": 106,
      "outputs": [
        {
          "output_type": "stream",
          "name": "stdout",
          "text": [
            "(10000, 64, 64)\n",
            "(10000, 64, 64)\n"
          ]
        }
      ]
    },
    {
      "cell_type": "code",
      "metadata": {
        "colab": {
          "base_uri": "https://localhost:8080/",
          "height": 319
        },
        "id": "6SYNCZ3Uggn0",
        "outputId": "77c298cb-5e68-4eaa-b196-988cb9297395"
      },
      "source": [
        "# test that the labels and images \n",
        "tmp = 5000\n",
        "img = X_train_BW[tmp]\n",
        "\n",
        "print(label_names[y_train[tmp]])\n",
        "plt.imshow(img, interpolation='nearest', cmap=plt.get_cmap('gray') )"
      ],
      "execution_count": 64,
      "outputs": [
        {
          "output_type": "stream",
          "name": "stdout",
          "text": [
            "[b'Forest' b'AnnualCrop' b'AnnualCrop' b'AnnualCrop' b'AnnualCrop'\n",
            " b'AnnualCrop' b'AnnualCrop' b'AnnualCrop' b'AnnualCrop' b'AnnualCrop']\n"
          ]
        },
        {
          "output_type": "execute_result",
          "data": {
            "text/plain": [
              "<matplotlib.image.AxesImage at 0x7f9969123cd0>"
            ]
          },
          "metadata": {},
          "execution_count": 64
        },
        {
          "output_type": "display_data",
          "data": {
            "image/png": "[encoded data removed]",
            "text/plain": [
              "<Figure size 432x288 with 1 Axes>"
            ]
          },
          "metadata": {
            "needs_background": "light"
          }
        }
      ]
    },
    {
      "cell_type": "code",
      "metadata": {
        "colab": {
          "base_uri": "https://localhost:8080/",
          "height": 153
        },
        "id": "PmPO6UjxiTkq",
        "outputId": "bfbcd62c-41e4-4fea-8ca5-4e2e1dc81bad"
      },
      "source": [
        "#Select a random sample of images and Plot\n",
        "num_test_images = X_train_BW.shape[0]\n",
        "random_inx = np.random.choice(num_test_images, 5)\n",
        "random_test_images = X_train_BW[random_inx, ...]\n",
        "random_test_labels = label_names[y_train[random_inx, ...]]\n",
        "\n",
        "fig, ax = plt.subplots(1, 5, figsize =(20, 2) )\n",
        "fig.subplots_adjust(hspace=0.2, wspace=0.5)\n",
        "for i in range (5) :\n",
        "  ax[i].set_axis_off()\n",
        "  ax[i].set_title(f'{random_test_labels[i]}')\n",
        "  ax[i].imshow(random_test_images[i],interpolation='nearest', cmap=plt.get_cmap('gray'))"
      ],
      "execution_count": 57,
      "outputs": [
        {
          "output_type": "display_data",
          "data": {
            "image/png": "[encoded data removed]",
            "text/plain": [
              "<Figure size 1440x144 with 5 Axes>"
            ]
          },
          "metadata": {
            "needs_background": "light"
          }
        }
      ]
    },
    {
      "cell_type": "code",
      "metadata": {
        "colab": {
          "base_uri": "https://localhost:8080/"
        },
        "id": "s1ODMZZrwugO",
        "outputId": "63998e3a-0102-420c-d226-c826f9b1d78e"
      },
      "source": [
        "from skimage.color import rgb2gray\n",
        "\n",
        "# convert RGB arrays to grayscale\n",
        "for i in range(X_train.shape[0]):\n",
        "  X_train_BW[i] = rgb2gray(X_train[i])\n",
        "  X_test_BW[i] = rgb2gray(X_test[i])\n",
        "\n",
        "# flatten grayscale arrays\n",
        "X_train_BW = X_train_BW.reshape(X_train_BW.shape[0],\n",
        "                                X_train_BW.shape[1] * X_train_BW.shape[2])\n",
        "\n",
        "X_test_BW = X_test_BW.reshape(X_test_BW.shape[0],\n",
        "                              X_test_BW.shape[1] * X_test_BW.shape[2])\n",
        "\n",
        "print(X_train_BW.shape)\n",
        "print(X_test_BW.shape)\n",
        "print(y_train.shape)\n",
        "print(y_test.shape)"
      ],
      "execution_count": 108,
      "outputs": [
        {
          "output_type": "stream",
          "name": "stdout",
          "text": [
            "(10000, 4096)\n",
            "(10000, 4096)\n",
            "(10000, 10)\n",
            "(10000, 10)\n"
          ]
        }
      ]
    },
    {
      "cell_type": "code",
      "metadata": {
        "colab": {
          "base_uri": "https://localhost:8080/"
        },
        "id": "dS16HVohmOaE",
        "outputId": "57c48322-e8ea-4ba2-9f40-55c904a9896d"
      },
      "source": [
        "# Add a dummy channel dimension\n",
        "\n",
        "my_image_train = X_train_BW[..., np.newaxis]\n",
        "my_image_test = X_test_BW[..., np.newaxis]\n",
        "\n",
        "from sklearn.preprocessing import LabelBinarizer\n",
        "\n",
        "\n",
        "# One-hot encoding of train and test labels\n",
        "\n",
        "# Convert the training and test images to grayscale by taking the average across all colour channels for each pixel. \n",
        "# Hint: retain the channel dimension, which will now have size 1.\n",
        "lb = LabelBinarizer()\n",
        "my_train_labels = lb.fit_transform(y_train)\n",
        "my_test_labels = lb.fit_transform(y_test)\n",
        "\n",
        "print(my_train_labels.shape)\n",
        "print(my_test_labels.shape)\n",
        "print(my_image_train.shape)\n",
        "print (my_image_test.shape)"
      ],
      "execution_count": 65,
      "outputs": [
        {
          "output_type": "stream",
          "name": "stdout",
          "text": [
            "(10000, 10)\n",
            "(10000, 10)\n",
            "(10000, 64, 64, 1)\n",
            "(10000, 64, 64, 1)\n"
          ]
        }
      ]
    },
    {
      "cell_type": "code",
      "metadata": {
        "colab": {
          "base_uri": "https://localhost:8080/"
        },
        "id": "Ql6FUEOSxTs4",
        "outputId": "6f369c01-26d2-431e-db1a-a9e5f60f0ae2"
      },
      "source": [
        "X_train_BW[0].shape"
      ],
      "execution_count": 111,
      "outputs": [
        {
          "output_type": "execute_result",
          "data": {
            "text/plain": [
              "(4096,)"
            ]
          },
          "metadata": {},
          "execution_count": 111
        }
      ]
    },
    {
      "cell_type": "code",
      "metadata": {
        "colab": {
          "base_uri": "https://localhost:8080/"
        },
        "id": "9Ny-1xrUoFXZ",
        "outputId": "f9c91fdf-ed67-40c8-d735-10e85b7bc8ec"
      },
      "source": [
        "my_image_train[0].shape"
      ],
      "execution_count": 68,
      "outputs": [
        {
          "output_type": "execute_result",
          "data": {
            "text/plain": [
              "(64, 64, 1)"
            ]
          },
          "metadata": {},
          "execution_count": 68
        }
      ]
    },
    {
      "cell_type": "markdown",
      "metadata": {
        "id": "plj2_i_ZaxSw"
      },
      "source": [
        "#Build the model"
      ]
    },
    {
      "cell_type": "code",
      "metadata": {
        "id": "jBPHklumy4W3"
      },
      "source": [
        "def model_1(input_shape) :\n",
        "  model_1 = Sequential()\n",
        "  model_1.add(Dense(num_classes, activation='softmax', input_shape=(input_shape)))\n",
        "  model_1.add(Dense(10, activation = 'softmax'))\n",
        "  \n",
        "  model_1.compile (optimizer = tf.keras.optimizers.RMSprop(learning_rate=0.0001) ,\n",
        "                 loss = tf.keras.losses.CategoricalCrossentropy(), \n",
        "                 metrics = [tf.keras.metrics.Accuracy()])\n",
        "    \n",
        "  return model_1"
      ],
      "execution_count": 145,
      "outputs": []
    },
    {
      "cell_type": "code",
      "metadata": {
        "colab": {
          "base_uri": "https://localhost:8080/"
        },
        "id": "uNGhGP69z6Ma",
        "outputId": "32b96bc5-6310-489b-d45c-90782a7e8b45"
      },
      "source": [
        "model_1 = model_1(X_train_BW[0].shape)\n",
        "model_1.summary()"
      ],
      "execution_count": 146,
      "outputs": [
        {
          "output_type": "stream",
          "name": "stdout",
          "text": [
            "Model: \"sequential_16\"\n",
            "_________________________________________________________________\n",
            "Layer (type)                 Output Shape              Param #   \n",
            "=================================================================\n",
            "dense_42 (Dense)             (None, 10)                40970     \n",
            "_________________________________________________________________\n",
            "dense_43 (Dense)             (None, 10)                110       \n",
            "=================================================================\n",
            "Total params: 41,080\n",
            "Trainable params: 41,080\n",
            "Non-trainable params: 0\n",
            "_________________________________________________________________\n"
          ]
        }
      ]
    },
    {
      "cell_type": "code",
      "metadata": {
        "colab": {
          "base_uri": "https://localhost:8080/",
          "height": 312
        },
        "id": "tRpXvDTY0GyE",
        "outputId": "c8ccaceb-55a0-4849-b9e9-baa2eafa2596"
      },
      "source": [
        "from keras.utils.vis_utils import plot_model\n",
        "plot_model(model_1, show_shapes=True, show_layer_names=True)"
      ],
      "execution_count": 147,
      "outputs": [
        {
          "output_type": "execute_result",
          "data": {
            "image/png": "[encoded data removed]",
            "text/plain": [
              "<IPython.core.display.Image object>"
            ]
          },
          "metadata": {},
          "execution_count": 147
        }
      ]
    },
    {
      "cell_type": "code",
      "metadata": {
        "id": "nJcZCabva8EU"
      },
      "source": [
        "from tensorflow.keras.callbacks import ModelCheckpoint, EarlyStopping\n",
        "\n",
        "checkpoint = ModelCheckpoint (filepath = 'checkpoint/checkpoint', monitor = 'val_loss',\n",
        "                              save_weights_only = True,save_beat_only = True, save_freq = 'epoch', verbose = 1)\n",
        "\n",
        "early = EarlyStopping(monitor = 'val_loss', patience = 10, mode = 'max', min_delta = 5, verbose = 1 )\n",
        "\n",
        "call = [checkpoint, early]"
      ],
      "execution_count": 148,
      "outputs": []
    },
    {
      "cell_type": "code",
      "metadata": {
        "colab": {
          "base_uri": "https://localhost:8080/"
        },
        "id": "__5L5pbOsRS-",
        "outputId": "7a48ae00-9f62-48f2-9ed4-9a3dce3bbd7e"
      },
      "source": [
        "history = model_1.fit(X_train_BW,y_train, validation_data= (X_test_BW, y_test) , batch_size=64, epochs=100, callbacks=call, verbose=1)"
      ],
      "execution_count": 149,
      "outputs": [
        {
          "output_type": "stream",
          "name": "stdout",
          "text": [
            "Epoch 1/100\n",
            "157/157 [==============================] - 1s 6ms/step - loss: 2.2981 - accuracy: 0.0000e+00 - val_loss: 2.2942 - val_accuracy: 0.0000e+00\n",
            "\n",
            "Epoch 00001: saving model to checkpoint/checkpoint\n",
            "Epoch 2/100\n",
            "157/157 [==============================] - 1s 4ms/step - loss: 2.2929 - accuracy: 0.0000e+00 - val_loss: 2.2923 - val_accuracy: 0.0000e+00\n",
            "\n",
            "Epoch 00002: saving model to checkpoint/checkpoint\n",
            "Epoch 3/100\n",
            "157/157 [==============================] - 1s 5ms/step - loss: 2.2903 - accuracy: 0.0000e+00 - val_loss: 2.2896 - val_accuracy: 0.0000e+00\n",
            "\n",
            "Epoch 00003: saving model to checkpoint/checkpoint\n",
            "Epoch 4/100\n",
            "157/157 [==============================] - 1s 5ms/step - loss: 2.2868 - accuracy: 0.0000e+00 - val_loss: 2.2867 - val_accuracy: 0.0000e+00\n",
            "\n",
            "Epoch 00004: saving model to checkpoint/checkpoint\n",
            "Epoch 5/100\n",
            "157/157 [==============================] - 1s 5ms/step - loss: 2.2840 - accuracy: 0.0000e+00 - val_loss: 2.2832 - val_accuracy: 0.0000e+00\n",
            "\n",
            "Epoch 00005: saving model to checkpoint/checkpoint\n",
            "Epoch 6/100\n",
            "157/157 [==============================] - 1s 5ms/step - loss: 2.2815 - accuracy: 0.0000e+00 - val_loss: 2.2832 - val_accuracy: 0.0000e+00\n",
            "\n",
            "Epoch 00006: saving model to checkpoint/checkpoint\n",
            "Epoch 7/100\n",
            "157/157 [==============================] - 1s 4ms/step - loss: 2.2791 - accuracy: 0.0000e+00 - val_loss: 2.2793 - val_accuracy: 0.0000e+00\n",
            "\n",
            "Epoch 00007: saving model to checkpoint/checkpoint\n",
            "Epoch 8/100\n",
            "157/157 [==============================] - 1s 4ms/step - loss: 2.2768 - accuracy: 0.0000e+00 - val_loss: 2.2769 - val_accuracy: 0.0000e+00\n",
            "\n",
            "Epoch 00008: saving model to checkpoint/checkpoint\n",
            "Epoch 9/100\n",
            "157/157 [==============================] - 1s 5ms/step - loss: 2.2746 - accuracy: 0.0000e+00 - val_loss: 2.2747 - val_accuracy: 0.0000e+00\n",
            "\n",
            "Epoch 00009: saving model to checkpoint/checkpoint\n",
            "Epoch 10/100\n",
            "157/157 [==============================] - 1s 5ms/step - loss: 2.2726 - accuracy: 0.0000e+00 - val_loss: 2.2740 - val_accuracy: 0.0000e+00\n",
            "\n",
            "Epoch 00010: saving model to checkpoint/checkpoint\n",
            "Epoch 11/100\n",
            "157/157 [==============================] - 1s 4ms/step - loss: 2.2702 - accuracy: 0.0000e+00 - val_loss: 2.2703 - val_accuracy: 0.0000e+00\n",
            "\n",
            "Epoch 00011: saving model to checkpoint/checkpoint\n",
            "Epoch 00011: early stopping\n"
          ]
        }
      ]
    },
    {
      "cell_type": "code",
      "metadata": {
        "colab": {
          "base_uri": "https://localhost:8080/"
        },
        "id": "68wR4liJ11Tp",
        "outputId": "04efda4a-5d7b-4beb-ebd8-6ab5b53a7230"
      },
      "source": [
        "score = model_1.evaluate(X_test_BW, y_test, verbose=1)\n",
        "print('Test loss:', score[0])\n",
        "print('Test accuracy:', score[1])"
      ],
      "execution_count": 150,
      "outputs": [
        {
          "output_type": "stream",
          "name": "stdout",
          "text": [
            "313/313 [==============================] - 0s 1ms/step - loss: 2.2703 - accuracy: 0.0000e+00\n",
            "Test loss: 2.2702689170837402\n",
            "Test accuracy: 0.0\n"
          ]
        }
      ]
    },
    {
      "cell_type": "code",
      "metadata": {
        "colab": {
          "base_uri": "https://localhost:8080/",
          "height": 204
        },
        "id": "1TiasugxsX44",
        "outputId": "2bb7b1e8-642c-405e-88c9-5f0e2913b992"
      },
      "source": [
        "import pandas as pd\n",
        "frame = pd.DataFrame(history.history)\n",
        "frame.head()"
      ],
      "execution_count": 151,
      "outputs": [
        {
          "output_type": "execute_result",
          "data": {
            "text/html": [
              "<div>\n",
              "<style scoped>\n",
              "    .dataframe tbody tr th:only-of-type {\n",
              "        vertical-align: middle;\n",
              "    }\n",
              "\n",
              "    .dataframe tbody tr th {\n",
              "        vertical-align: top;\n",
              "    }\n",
              "\n",
              "    .dataframe thead th {\n",
              "        text-align: right;\n",
              "    }\n",
              "</style>\n",
              "<table border=\"1\" class=\"dataframe\">\n",
              "  <thead>\n",
              "    <tr style=\"text-align: right;\">\n",
              "      <th></th>\n",
              "      <th>loss</th>\n",
              "      <th>accuracy</th>\n",
              "      <th>val_loss</th>\n",
              "      <th>val_accuracy</th>\n",
              "    </tr>\n",
              "  </thead>\n",
              "  <tbody>\n",
              "    <tr>\n",
              "      <th>0</th>\n",
              "      <td>2.298113</td>\n",
              "      <td>0.0</td>\n",
              "      <td>2.294220</td>\n",
              "      <td>0.0</td>\n",
              "    </tr>\n",
              "    <tr>\n",
              "      <th>1</th>\n",
              "      <td>2.292866</td>\n",
              "      <td>0.0</td>\n",
              "      <td>2.292320</td>\n",
              "      <td>0.0</td>\n",
              "    </tr>\n",
              "    <tr>\n",
              "      <th>2</th>\n",
              "      <td>2.290257</td>\n",
              "      <td>0.0</td>\n",
              "      <td>2.289616</td>\n",
              "      <td>0.0</td>\n",
              "    </tr>\n",
              "    <tr>\n",
              "      <th>3</th>\n",
              "      <td>2.286759</td>\n",
              "      <td>0.0</td>\n",
              "      <td>2.286669</td>\n",
              "      <td>0.0</td>\n",
              "    </tr>\n",
              "    <tr>\n",
              "      <th>4</th>\n",
              "      <td>2.284014</td>\n",
              "      <td>0.0</td>\n",
              "      <td>2.283196</td>\n",
              "      <td>0.0</td>\n",
              "    </tr>\n",
              "  </tbody>\n",
              "</table>\n",
              "</div>"
            ],
            "text/plain": [
              "       loss  accuracy  val_loss  val_accuracy\n",
              "0  2.298113       0.0  2.294220           0.0\n",
              "1  2.292866       0.0  2.292320           0.0\n",
              "2  2.290257       0.0  2.289616           0.0\n",
              "3  2.286759       0.0  2.286669           0.0\n",
              "4  2.284014       0.0  2.283196           0.0"
            ]
          },
          "metadata": {},
          "execution_count": 151
        }
      ]
    },
    {
      "cell_type": "code",
      "metadata": {
        "colab": {
          "base_uri": "https://localhost:8080/",
          "height": 369
        },
        "id": "YXvgZGAy1Tfy",
        "outputId": "32eaf3c9-3495-4717-9087-0c398be8b014"
      },
      "source": [
        "\n",
        "# Plot the learning curves for loss vs epoch and accuracy vs epoch for both training and validation sets.\n",
        "plt.figure(figsize=(10,5))\n",
        "ax1 = plt.subplot(121)\n",
        "plt.plot(history.history['loss'])\n",
        "plt.plot(history.history['val_loss'])\n",
        "plt.title('Loss vs. epochs')\n",
        "plt.ylabel('Loss')\n",
        "plt.xlabel('Epoch')\n",
        "plt.legend(['Training','Validation'],loc='lower left')\n",
        "ax2 = plt.subplot(122)\n",
        "plt.plot(history.history['accuracy'])\n",
        "plt.plot(history.history['val_accuracy'])\n",
        "plt.title('Accuracy vs. epochs')\n",
        "plt.ylabel('Accuracy')\n",
        "plt.xlabel('Epoch')\n",
        "plt.legend(['Training','Validation'],loc='lower right')\n",
        "plt.tight_layout()\n",
        "plt.show()"
      ],
      "execution_count": 152,
      "outputs": [
        {
          "output_type": "display_data",
          "data": {
            "image/png": "[encoded data removed]",
            "text/plain": [
              "<Figure size 720x360 with 2 Axes>"
            ]
          },
          "metadata": {
            "needs_background": "light"
          }
        }
      ]
    },
    {
      "cell_type": "code",
      "metadata": {
        "id": "fcVL7Nb_2EU5"
      },
      "source": [
        "y_test_true_tmp = np.argmax(y_test, axis = 1)\n",
        "label_count = np.unique(y_test_true_tmp, return_counts = True)[1]"
      ],
      "execution_count": 153,
      "outputs": []
    },
    {
      "cell_type": "code",
      "metadata": {
        "id": "EQLN_ohH2FJe"
      },
      "source": [
        "# Define functions for evaluating model accuracy by class and overall\n",
        "\n",
        "def eval_model_by_class(model, test_set):\n",
        "  y_test_pred = model.predict(test_set)\n",
        "  y_test_pred_tmp=np.argmax(y_test_pred,axis=1)\n",
        "\n",
        "  y_test_true = [label_Dict[x] for x in y_test_true_tmp]\n",
        "  y_test_pred = [label_Dict[x] for x in y_test_pred_tmp]\n",
        "\n",
        "  pred_df = pd.DataFrame({'y_true': y_test_true, 'y_pred': y_test_pred})\n",
        "  pred_df['accurate_preds'] = pred_df.y_true == pred_df.y_pred\n",
        "  pred_df = pred_df.groupby(['y_true']).sum().reset_index()\n",
        "  pred_df['label_count'] = label_count\n",
        "  pred_df['class_acc'] = pred_df.accurate_preds / pred_df.label_count\n",
        "  pred_df = pred_df.sort_values(by = 'class_acc').reset_index()\n",
        "  pred_df['overall_acc'] = sum(pred_df.accurate_preds) / sum(pred_df.label_count)\n",
        "  pred_df = pred_df.sort_values('y_true').reset_index(drop = True)\n",
        "\n",
        "  return(pred_df)\n",
        "\n",
        "def find_wrong_preds(model, test_set):\n",
        "  y_test_pred = model.predict(test_set)\n",
        "  y_test_pred_tmp=np.argmax(y_test_pred,axis=1)\n",
        "\n",
        "  y_test_true = [label_Dict[x] for x in y_test_true_tmp]\n",
        "  y_test_pred = [label_Dict[x] for x in y_test_pred_tmp]\n",
        "\n",
        "  pred_df = pd.DataFrame({'y_true': y_test_true, 'y_pred': y_test_pred})\n",
        "  pred_df['accurate_preds'] = pred_df.y_true == pred_df.y_pred\n",
        "  # pred_df = pred_df.sort_values('y_true').reset_index(drop = True)\n",
        "  pred_df = pred_df.sort_values('y_true')\n",
        "\n",
        "  return(pred_df)"
      ],
      "execution_count": 156,
      "outputs": []
    },
    {
      "cell_type": "code",
      "metadata": {
        "colab": {
          "base_uri": "https://localhost:8080/",
          "height": 359
        },
        "id": "M7axUfue2IKZ",
        "outputId": "6c873c8f-0340-4181-a52b-97e524979ec5"
      },
      "source": [
        "M1_pred_df = eval_model_by_class(model_1, X_test_BW)\n",
        "M1_pred_df"
      ],
      "execution_count": 157,
      "outputs": [
        {
          "output_type": "execute_result",
          "data": {
            "text/html": [
              "<div>\n",
              "<style scoped>\n",
              "    .dataframe tbody tr th:only-of-type {\n",
              "        vertical-align: middle;\n",
              "    }\n",
              "\n",
              "    .dataframe tbody tr th {\n",
              "        vertical-align: top;\n",
              "    }\n",
              "\n",
              "    .dataframe thead th {\n",
              "        text-align: right;\n",
              "    }\n",
              "</style>\n",
              "<table border=\"1\" class=\"dataframe\">\n",
              "  <thead>\n",
              "    <tr style=\"text-align: right;\">\n",
              "      <th></th>\n",
              "      <th>index</th>\n",
              "      <th>y_true</th>\n",
              "      <th>accurate_preds</th>\n",
              "      <th>label_count</th>\n",
              "      <th>class_acc</th>\n",
              "      <th>overall_acc</th>\n",
              "    </tr>\n",
              "  </thead>\n",
              "  <tbody>\n",
              "    <tr>\n",
              "      <th>0</th>\n",
              "      <td>0</td>\n",
              "      <td>b'AnnualCrop'</td>\n",
              "      <td>0</td>\n",
              "      <td>1000</td>\n",
              "      <td>0.000</td>\n",
              "      <td>0.1776</td>\n",
              "    </tr>\n",
              "    <tr>\n",
              "      <th>1</th>\n",
              "      <td>1</td>\n",
              "      <td>b'Forest'</td>\n",
              "      <td>1000</td>\n",
              "      <td>1000</td>\n",
              "      <td>1.000</td>\n",
              "      <td>0.1776</td>\n",
              "    </tr>\n",
              "    <tr>\n",
              "      <th>2</th>\n",
              "      <td>2</td>\n",
              "      <td>b'HerbaceousVegetation'</td>\n",
              "      <td>534</td>\n",
              "      <td>1000</td>\n",
              "      <td>0.534</td>\n",
              "      <td>0.1776</td>\n",
              "    </tr>\n",
              "    <tr>\n",
              "      <th>3</th>\n",
              "      <td>3</td>\n",
              "      <td>b'Highway'</td>\n",
              "      <td>17</td>\n",
              "      <td>1000</td>\n",
              "      <td>0.017</td>\n",
              "      <td>0.1776</td>\n",
              "    </tr>\n",
              "    <tr>\n",
              "      <th>4</th>\n",
              "      <td>4</td>\n",
              "      <td>b'Industrial'</td>\n",
              "      <td>21</td>\n",
              "      <td>1000</td>\n",
              "      <td>0.021</td>\n",
              "      <td>0.1776</td>\n",
              "    </tr>\n",
              "    <tr>\n",
              "      <th>5</th>\n",
              "      <td>5</td>\n",
              "      <td>b'Pasture'</td>\n",
              "      <td>0</td>\n",
              "      <td>1000</td>\n",
              "      <td>0.000</td>\n",
              "      <td>0.1776</td>\n",
              "    </tr>\n",
              "    <tr>\n",
              "      <th>6</th>\n",
              "      <td>6</td>\n",
              "      <td>b'PermanentCrop'</td>\n",
              "      <td>0</td>\n",
              "      <td>1000</td>\n",
              "      <td>0.000</td>\n",
              "      <td>0.1776</td>\n",
              "    </tr>\n",
              "    <tr>\n",
              "      <th>7</th>\n",
              "      <td>7</td>\n",
              "      <td>b'Residential'</td>\n",
              "      <td>0</td>\n",
              "      <td>1000</td>\n",
              "      <td>0.000</td>\n",
              "      <td>0.1776</td>\n",
              "    </tr>\n",
              "    <tr>\n",
              "      <th>8</th>\n",
              "      <td>8</td>\n",
              "      <td>b'River'</td>\n",
              "      <td>204</td>\n",
              "      <td>1000</td>\n",
              "      <td>0.204</td>\n",
              "      <td>0.1776</td>\n",
              "    </tr>\n",
              "    <tr>\n",
              "      <th>9</th>\n",
              "      <td>9</td>\n",
              "      <td>b'SeaLake'</td>\n",
              "      <td>0</td>\n",
              "      <td>1000</td>\n",
              "      <td>0.000</td>\n",
              "      <td>0.1776</td>\n",
              "    </tr>\n",
              "  </tbody>\n",
              "</table>\n",
              "</div>"
            ],
            "text/plain": [
              "   index                   y_true  ...  class_acc  overall_acc\n",
              "0      0            b'AnnualCrop'  ...      0.000       0.1776\n",
              "1      1                b'Forest'  ...      1.000       0.1776\n",
              "2      2  b'HerbaceousVegetation'  ...      0.534       0.1776\n",
              "3      3               b'Highway'  ...      0.017       0.1776\n",
              "4      4            b'Industrial'  ...      0.021       0.1776\n",
              "5      5               b'Pasture'  ...      0.000       0.1776\n",
              "6      6         b'PermanentCrop'  ...      0.000       0.1776\n",
              "7      7           b'Residential'  ...      0.000       0.1776\n",
              "8      8                 b'River'  ...      0.204       0.1776\n",
              "9      9               b'SeaLake'  ...      0.000       0.1776\n",
              "\n",
              "[10 rows x 6 columns]"
            ]
          },
          "metadata": {},
          "execution_count": 157
        }
      ]
    },
    {
      "cell_type": "markdown",
      "metadata": {
        "id": "_OfQeYAP6Q1c"
      },
      "source": [
        "#new model"
      ]
    },
    {
      "cell_type": "code",
      "metadata": {
        "id": "BCjJnbRw9lpD"
      },
      "source": [
        "from tensorflow.keras\n",
        "K.set_image_dim_ordering('th')"
      ],
      "execution_count": null,
      "outputs": []
    },
    {
      "cell_type": "code",
      "metadata": {
        "id": "P9YXZHsYm3yM"
      },
      "source": [
        "def model(input_shape, weight_decay) :\n",
        "  model = Sequential()\n",
        "  model.add (Conv2D (16, (5,5), activation = 'relu', padding = 'same', name = 'conv_1', kernel_initializer='he_uniform',bias_initializer=\"ones\", \n",
        "                             kernel_regularizer=tf.keras.regularizers.l1(weight_decay), input_shape = input_shape))\n",
        "  model.add (Conv2D (16, (5,5), activation = 'relu', padding = 'same', name = 'conv_2', kernel_initializer='he_uniform',bias_initializer=\"ones\", \n",
        "                             kernel_regularizer=tf.keras.regularizers.l1(weight_decay)))\n",
        "  model.add (MaxPooling2D ((4,4) , strides=(2,2), name = 'pool_1'))\n",
        "  model.add (Conv2D (16, (3,3), activation = 'relu', padding = 'same', name = 'conv_3', kernel_initializer='he_uniform',bias_initializer=\"ones\", \n",
        "                             kernel_regularizer=tf.keras.regularizers.l1(weight_decay)))\n",
        "  model.add (Conv2D (16, (3,3), activation = 'relu', padding = 'same', name = 'conv_4', kernel_initializer='he_uniform',bias_initializer=\"ones\", \n",
        "                             kernel_regularizer=tf.keras.regularizers.l1(weight_decay)))\n",
        "  model.add (MaxPooling2D ((4,4) , strides=(2,2),name = 'pool_2'))\n",
        "  model.add (Conv2D (16, (3,3), activation = 'relu', padding = 'same', name = 'conv_5', kernel_initializer='he_uniform',bias_initializer=\"ones\", \n",
        "                             kernel_regularizer=tf.keras.regularizers.l1(weight_decay)))\n",
        "  model.add (Conv2D (16, (3,3), activation = 'relu', padding = 'same', name = 'conv_6', kernel_initializer='he_uniform',bias_initializer=\"ones\", \n",
        "                             kernel_regularizer=tf.keras.regularizers.l1(weight_decay)))\n",
        "  model.add (MaxPooling2D ((4,4) , strides=(2,2),name = 'pool_3'))\n",
        "  model.add (Conv2D (16, (3,3), activation = 'relu', padding = 'same', name = 'conv_7', kernel_initializer='he_uniform',bias_initializer=\"ones\", \n",
        "                             kernel_regularizer=tf.keras.regularizers.l1(weight_decay)))\n",
        "  model.add (Conv2D (16, (3,3), activation = 'relu', padding = 'same', name = 'conv_8', kernel_initializer='he_uniform',bias_initializer=\"ones\", \n",
        "                             kernel_regularizer=tf.keras.regularizers.l1(weight_decay)))\n",
        "  model.add (MaxPooling2D ((4,4) , strides=(2,2),name = 'pool_4'))\n",
        "  model.add (Flatten ())\n",
        "  model.add (Dense (num_classes, activation = 'relu', kernel_initializer='he_uniform',bias_initializer=\"ones\", \n",
        "                             kernel_regularizer=tf.keras.regularizers.l1(weight_decay) , name = 'dense_1') )\n",
        "  model.add (Dense (10, activation = 'softmax', name = 'dense_2') )\n",
        "  \n",
        "  model.compile (optimizer = tf.keras.optimizers.RMSprop(learning_rate=0.0001) ,\n",
        "                 loss = tf.keras.losses.CategoricalCrossentropy(from_logits=True), \n",
        "                 metrics = ['accuracy'])\n",
        "  \n",
        "  return model"
      ],
      "execution_count": 174,
      "outputs": []
    },
    {
      "cell_type": "code",
      "metadata": {
        "colab": {
          "base_uri": "https://localhost:8080/"
        },
        "id": "3rDn0MVcnwjo",
        "outputId": "ace89139-e0ba-43fd-be49-5b59815446ea"
      },
      "source": [
        "model = model(my_image_train[0].shape, 1e-8)\n",
        "model.summary()"
      ],
      "execution_count": 175,
      "outputs": [
        {
          "output_type": "stream",
          "name": "stdout",
          "text": [
            "Model: \"sequential_23\"\n",
            "_________________________________________________________________\n",
            "Layer (type)                 Output Shape              Param #   \n",
            "=================================================================\n",
            "conv_1 (Conv2D)              (None, 64, 64, 16)        416       \n",
            "_________________________________________________________________\n",
            "conv_2 (Conv2D)              (None, 64, 64, 16)        6416      \n",
            "_________________________________________________________________\n",
            "pool_1 (MaxPooling2D)        (None, 31, 31, 16)        0         \n",
            "_________________________________________________________________\n",
            "conv_3 (Conv2D)              (None, 31, 31, 16)        2320      \n",
            "_________________________________________________________________\n",
            "conv_4 (Conv2D)              (None, 31, 31, 16)        2320      \n",
            "_________________________________________________________________\n",
            "pool_2 (MaxPooling2D)        (None, 14, 14, 16)        0         \n",
            "_________________________________________________________________\n",
            "conv_5 (Conv2D)              (None, 14, 14, 16)        2320      \n",
            "_________________________________________________________________\n",
            "conv_6 (Conv2D)              (None, 14, 14, 16)        2320      \n",
            "_________________________________________________________________\n",
            "pool_3 (MaxPooling2D)        (None, 6, 6, 16)          0         \n",
            "_________________________________________________________________\n",
            "conv_7 (Conv2D)              (None, 6, 6, 16)          2320      \n",
            "_________________________________________________________________\n",
            "conv_8 (Conv2D)              (None, 6, 6, 16)          2320      \n",
            "_________________________________________________________________\n",
            "pool_4 (MaxPooling2D)        (None, 2, 2, 16)          0         \n",
            "_________________________________________________________________\n",
            "flatten_12 (Flatten)         (None, 64)                0         \n",
            "_________________________________________________________________\n",
            "dense_1 (Dense)              (None, 10)                650       \n",
            "_________________________________________________________________\n",
            "dense_2 (Dense)              (None, 10)                110       \n",
            "=================================================================\n",
            "Total params: 21,512\n",
            "Trainable params: 21,512\n",
            "Non-trainable params: 0\n",
            "_________________________________________________________________\n"
          ]
        }
      ]
    },
    {
      "cell_type": "code",
      "metadata": {
        "colab": {
          "base_uri": "https://localhost:8080/"
        },
        "id": "e1Ru6mSz-6bO",
        "outputId": "4dc086e4-e16d-4cc6-a643-2bfe440439f7"
      },
      "source": [
        "history_1 = model.fit(my_image_train,my_train_labels, validation_data= (my_image_test, my_test_labels) , batch_size=64, epochs=100, callbacks=call, verbose=1)"
      ],
      "execution_count": 176,
      "outputs": [
        {
          "output_type": "stream",
          "name": "stdout",
          "text": [
            "Epoch 1/100\n"
          ]
        },
        {
          "output_type": "stream",
          "name": "stderr",
          "text": [
            "/usr/local/lib/python3.7/dist-packages/keras/backend.py:4847: UserWarning: \"`categorical_crossentropy` received `from_logits=True`, but the `output` argument was produced by a sigmoid or softmax activation and thus does not represent logits. Was this intended?\"\n",
            "  '\"`categorical_crossentropy` received `from_logits=True`, but '\n"
          ]
        },
        {
          "output_type": "stream",
          "name": "stdout",
          "text": [
            "157/157 [==============================] - 195s 928ms/step - loss: 3.7342 - accuracy: 0.1130 - val_loss: 2.2909 - val_accuracy: 0.1592\n",
            "\n",
            "Epoch 00001: saving model to checkpoint/checkpoint\n",
            "Epoch 2/100\n",
            "157/157 [==============================] - 146s 929ms/step - loss: 2.1895 - accuracy: 0.2384 - val_loss: 2.1157 - val_accuracy: 0.3103\n",
            "\n",
            "Epoch 00002: saving model to checkpoint/checkpoint\n",
            "Epoch 3/100\n",
            "157/157 [==============================] - 146s 931ms/step - loss: 2.1074 - accuracy: 0.2787 - val_loss: 2.1269 - val_accuracy: 0.2642\n",
            "\n",
            "Epoch 00003: saving model to checkpoint/checkpoint\n",
            "Epoch 4/100\n",
            "157/157 [==============================] - 146s 930ms/step - loss: 2.0340 - accuracy: 0.3084 - val_loss: 1.9729 - val_accuracy: 0.3377\n",
            "\n",
            "Epoch 00004: saving model to checkpoint/checkpoint\n",
            "Epoch 5/100\n",
            "157/157 [==============================] - 146s 931ms/step - loss: 1.9771 - accuracy: 0.3246 - val_loss: 1.8975 - val_accuracy: 0.3490\n",
            "\n",
            "Epoch 00005: saving model to checkpoint/checkpoint\n",
            "Epoch 6/100\n",
            "157/157 [==============================] - 146s 928ms/step - loss: 1.9221 - accuracy: 0.3322 - val_loss: 1.9874 - val_accuracy: 0.3165\n",
            "\n",
            "Epoch 00006: saving model to checkpoint/checkpoint\n",
            "Epoch 7/100\n",
            "157/157 [==============================] - 146s 929ms/step - loss: 1.8747 - accuracy: 0.3462 - val_loss: 1.7989 - val_accuracy: 0.3788\n",
            "\n",
            "Epoch 00007: saving model to checkpoint/checkpoint\n",
            "Epoch 8/100\n",
            "157/157 [==============================] - 146s 930ms/step - loss: 1.8208 - accuracy: 0.3672 - val_loss: 2.0286 - val_accuracy: 0.2750\n",
            "\n",
            "Epoch 00008: saving model to checkpoint/checkpoint\n",
            "Epoch 9/100\n",
            "157/157 [==============================] - 146s 930ms/step - loss: 1.7763 - accuracy: 0.3743 - val_loss: 1.7144 - val_accuracy: 0.4032\n",
            "\n",
            "Epoch 00009: saving model to checkpoint/checkpoint\n",
            "Epoch 10/100\n",
            "157/157 [==============================] - 146s 930ms/step - loss: 1.7276 - accuracy: 0.3889 - val_loss: 1.6687 - val_accuracy: 0.4244\n",
            "\n",
            "Epoch 00010: saving model to checkpoint/checkpoint\n",
            "Epoch 11/100\n",
            "157/157 [==============================] - 146s 929ms/step - loss: 1.6822 - accuracy: 0.4022 - val_loss: 1.8875 - val_accuracy: 0.3127\n",
            "\n",
            "Epoch 00011: saving model to checkpoint/checkpoint\n",
            "Epoch 00011: early stopping\n"
          ]
        }
      ]
    },
    {
      "cell_type": "code",
      "metadata": {
        "colab": {
          "base_uri": "https://localhost:8080/"
        },
        "id": "xGTnTiJlGU_t",
        "outputId": "da5177d8-8f0f-4179-b2c8-4df2823d20b4"
      },
      "source": [
        "score = model.evaluate(my_image_test, my_test_labels, verbose=1)\n",
        "print('Test loss:', score[0])\n",
        "print('Test accuracy:', score[1])"
      ],
      "execution_count": 177,
      "outputs": [
        {
          "output_type": "stream",
          "name": "stdout",
          "text": [
            "313/313 [==============================] - 27s 85ms/step - loss: 1.8875 - accuracy: 0.3127\n",
            "Test loss: 1.8874903917312622\n",
            "Test accuracy: 0.3127000033855438\n"
          ]
        }
      ]
    },
    {
      "cell_type": "code",
      "metadata": {
        "colab": {
          "base_uri": "https://localhost:8080/",
          "height": 204
        },
        "id": "O6lasoE6GiAi",
        "outputId": "57aeff04-f7a6-4edb-fa7f-e4a56608b692"
      },
      "source": [
        "import pandas as pd\n",
        "frame_1 = pd.DataFrame(history_1.history)\n",
        "frame_1.head()"
      ],
      "execution_count": 178,
      "outputs": [
        {
          "output_type": "execute_result",
          "data": {
            "text/html": [
              "<div>\n",
              "<style scoped>\n",
              "    .dataframe tbody tr th:only-of-type {\n",
              "        vertical-align: middle;\n",
              "    }\n",
              "\n",
              "    .dataframe tbody tr th {\n",
              "        vertical-align: top;\n",
              "    }\n",
              "\n",
              "    .dataframe thead th {\n",
              "        text-align: right;\n",
              "    }\n",
              "</style>\n",
              "<table border=\"1\" class=\"dataframe\">\n",
              "  <thead>\n",
              "    <tr style=\"text-align: right;\">\n",
              "      <th></th>\n",
              "      <th>loss</th>\n",
              "      <th>accuracy</th>\n",
              "      <th>val_loss</th>\n",
              "      <th>val_accuracy</th>\n",
              "    </tr>\n",
              "  </thead>\n",
              "  <tbody>\n",
              "    <tr>\n",
              "      <th>0</th>\n",
              "      <td>3.734194</td>\n",
              "      <td>0.1130</td>\n",
              "      <td>2.290874</td>\n",
              "      <td>0.1592</td>\n",
              "    </tr>\n",
              "    <tr>\n",
              "      <th>1</th>\n",
              "      <td>2.189451</td>\n",
              "      <td>0.2384</td>\n",
              "      <td>2.115696</td>\n",
              "      <td>0.3103</td>\n",
              "    </tr>\n",
              "    <tr>\n",
              "      <th>2</th>\n",
              "      <td>2.107380</td>\n",
              "      <td>0.2787</td>\n",
              "      <td>2.126892</td>\n",
              "      <td>0.2642</td>\n",
              "    </tr>\n",
              "    <tr>\n",
              "      <th>3</th>\n",
              "      <td>2.034050</td>\n",
              "      <td>0.3084</td>\n",
              "      <td>1.972877</td>\n",
              "      <td>0.3377</td>\n",
              "    </tr>\n",
              "    <tr>\n",
              "      <th>4</th>\n",
              "      <td>1.977079</td>\n",
              "      <td>0.3246</td>\n",
              "      <td>1.897531</td>\n",
              "      <td>0.3490</td>\n",
              "    </tr>\n",
              "  </tbody>\n",
              "</table>\n",
              "</div>"
            ],
            "text/plain": [
              "       loss  accuracy  val_loss  val_accuracy\n",
              "0  3.734194    0.1130  2.290874        0.1592\n",
              "1  2.189451    0.2384  2.115696        0.3103\n",
              "2  2.107380    0.2787  2.126892        0.2642\n",
              "3  2.034050    0.3084  1.972877        0.3377\n",
              "4  1.977079    0.3246  1.897531        0.3490"
            ]
          },
          "metadata": {},
          "execution_count": 178
        }
      ]
    },
    {
      "cell_type": "code",
      "metadata": {
        "colab": {
          "base_uri": "https://localhost:8080/",
          "height": 369
        },
        "id": "qWC8cFSSGrxp",
        "outputId": "0fe6f6bd-1f7b-4bd2-839d-495211aca635"
      },
      "source": [
        "# Plot the learning curves for loss vs epoch and accuracy vs epoch for both training and validation sets.\n",
        "plt.figure(figsize=(10,5))\n",
        "ax1 = plt.subplot(121)\n",
        "plt.plot(history_1.history['loss'])\n",
        "plt.plot(history_1.history['val_loss'])\n",
        "plt.title('Loss vs. epochs')\n",
        "plt.ylabel('Loss')\n",
        "plt.xlabel('Epoch')\n",
        "plt.legend(['Training','Validation'],loc='lower left')\n",
        "ax2 = plt.subplot(122)\n",
        "plt.plot(history_1.history['accuracy'])\n",
        "plt.plot(history_1.history['val_accuracy'])\n",
        "plt.title('Accuracy vs. epochs')\n",
        "plt.ylabel('Accuracy')\n",
        "plt.xlabel('Epoch')\n",
        "plt.legend(['Training','Validation'],loc='lower right')\n",
        "plt.tight_layout()\n",
        "plt.show()"
      ],
      "execution_count": 180,
      "outputs": [
        {
          "output_type": "display_data",
          "data": {
            "image/png": "[encoded data removed]",
            "text/plain": [
              "<Figure size 720x360 with 2 Axes>"
            ]
          },
          "metadata": {
            "needs_background": "light"
          }
        }
      ]
    },
    {
      "cell_type": "code",
      "metadata": {
        "colab": {
          "base_uri": "https://localhost:8080/",
          "height": 359
        },
        "id": "NBwJg2ghG1q-",
        "outputId": "fcfd20a4-eec1-4ce1-ba2e-89260327ce5f"
      },
      "source": [
        "M1_pred_df_1 = eval_model_by_class(model, my_image_test)\n",
        "M1_pred_df_1"
      ],
      "execution_count": 181,
      "outputs": [
        {
          "output_type": "execute_result",
          "data": {
            "text/html": [
              "<div>\n",
              "<style scoped>\n",
              "    .dataframe tbody tr th:only-of-type {\n",
              "        vertical-align: middle;\n",
              "    }\n",
              "\n",
              "    .dataframe tbody tr th {\n",
              "        vertical-align: top;\n",
              "    }\n",
              "\n",
              "    .dataframe thead th {\n",
              "        text-align: right;\n",
              "    }\n",
              "</style>\n",
              "<table border=\"1\" class=\"dataframe\">\n",
              "  <thead>\n",
              "    <tr style=\"text-align: right;\">\n",
              "      <th></th>\n",
              "      <th>index</th>\n",
              "      <th>y_true</th>\n",
              "      <th>accurate_preds</th>\n",
              "      <th>label_count</th>\n",
              "      <th>class_acc</th>\n",
              "      <th>overall_acc</th>\n",
              "    </tr>\n",
              "  </thead>\n",
              "  <tbody>\n",
              "    <tr>\n",
              "      <th>0</th>\n",
              "      <td>0</td>\n",
              "      <td>b'AnnualCrop'</td>\n",
              "      <td>88</td>\n",
              "      <td>1000</td>\n",
              "      <td>0.088</td>\n",
              "      <td>0.3127</td>\n",
              "    </tr>\n",
              "    <tr>\n",
              "      <th>1</th>\n",
              "      <td>1</td>\n",
              "      <td>b'Forest'</td>\n",
              "      <td>959</td>\n",
              "      <td>1000</td>\n",
              "      <td>0.959</td>\n",
              "      <td>0.3127</td>\n",
              "    </tr>\n",
              "    <tr>\n",
              "      <th>2</th>\n",
              "      <td>2</td>\n",
              "      <td>b'HerbaceousVegetation'</td>\n",
              "      <td>604</td>\n",
              "      <td>1000</td>\n",
              "      <td>0.604</td>\n",
              "      <td>0.3127</td>\n",
              "    </tr>\n",
              "    <tr>\n",
              "      <th>3</th>\n",
              "      <td>3</td>\n",
              "      <td>b'Highway'</td>\n",
              "      <td>149</td>\n",
              "      <td>1000</td>\n",
              "      <td>0.149</td>\n",
              "      <td>0.3127</td>\n",
              "    </tr>\n",
              "    <tr>\n",
              "      <th>4</th>\n",
              "      <td>4</td>\n",
              "      <td>b'Industrial'</td>\n",
              "      <td>581</td>\n",
              "      <td>1000</td>\n",
              "      <td>0.581</td>\n",
              "      <td>0.3127</td>\n",
              "    </tr>\n",
              "    <tr>\n",
              "      <th>5</th>\n",
              "      <td>5</td>\n",
              "      <td>b'Pasture'</td>\n",
              "      <td>3</td>\n",
              "      <td>1000</td>\n",
              "      <td>0.003</td>\n",
              "      <td>0.3127</td>\n",
              "    </tr>\n",
              "    <tr>\n",
              "      <th>6</th>\n",
              "      <td>6</td>\n",
              "      <td>b'PermanentCrop'</td>\n",
              "      <td>199</td>\n",
              "      <td>1000</td>\n",
              "      <td>0.199</td>\n",
              "      <td>0.3127</td>\n",
              "    </tr>\n",
              "    <tr>\n",
              "      <th>7</th>\n",
              "      <td>7</td>\n",
              "      <td>b'Residential'</td>\n",
              "      <td>135</td>\n",
              "      <td>1000</td>\n",
              "      <td>0.135</td>\n",
              "      <td>0.3127</td>\n",
              "    </tr>\n",
              "    <tr>\n",
              "      <th>8</th>\n",
              "      <td>8</td>\n",
              "      <td>b'River'</td>\n",
              "      <td>409</td>\n",
              "      <td>1000</td>\n",
              "      <td>0.409</td>\n",
              "      <td>0.3127</td>\n",
              "    </tr>\n",
              "    <tr>\n",
              "      <th>9</th>\n",
              "      <td>9</td>\n",
              "      <td>b'SeaLake'</td>\n",
              "      <td>0</td>\n",
              "      <td>1000</td>\n",
              "      <td>0.000</td>\n",
              "      <td>0.3127</td>\n",
              "    </tr>\n",
              "  </tbody>\n",
              "</table>\n",
              "</div>"
            ],
            "text/plain": [
              "   index                   y_true  ...  class_acc  overall_acc\n",
              "0      0            b'AnnualCrop'  ...      0.088       0.3127\n",
              "1      1                b'Forest'  ...      0.959       0.3127\n",
              "2      2  b'HerbaceousVegetation'  ...      0.604       0.3127\n",
              "3      3               b'Highway'  ...      0.149       0.3127\n",
              "4      4            b'Industrial'  ...      0.581       0.3127\n",
              "5      5               b'Pasture'  ...      0.003       0.3127\n",
              "6      6         b'PermanentCrop'  ...      0.199       0.3127\n",
              "7      7           b'Residential'  ...      0.135       0.3127\n",
              "8      8                 b'River'  ...      0.409       0.3127\n",
              "9      9               b'SeaLake'  ...      0.000       0.3127\n",
              "\n",
              "[10 rows x 6 columns]"
            ]
          },
          "metadata": {},
          "execution_count": 181
        }
      ]
    },
    {
      "cell_type": "code",
      "metadata": {
        "id": "5MHNEokfHG2R"
      },
      "source": [
        ""
      ],
      "execution_count": null,
      "outputs": []
    }
  ]
}