{
  "nbformat": 4,
  "nbformat_minor": 0,
  "metadata": {
    "colab": {
      "name": "EuroSatCNN.ipynb",
      "provenance": [],
      "authorship_tag": "ABX9TyMnNePk6htA9+Qft4eyEgkk",
      "include_colab_link": true
    },
    "kernelspec": {
      "name": "python3",
      "display_name": "Python 3"
    },
    "language_info": {
      "name": "python"
    }
  },
  "cells": [
    {
      "cell_type": "markdown",
      "metadata": {
        "id": "view-in-github",
        "colab_type": "text"
      },
      "source": [
        "<a href=\"https://colab.research.google.com/github/DommiiUdomp/-/blob/main/EuroSatCNN.ipynb\" target=\"_parent\"><img src=\"https://colab.research.google.com/assets/colab-badge.svg\" alt=\"Open In Colab\"/></a>"
      ]
    },
    {
      "cell_type": "markdown",
      "metadata": {
        "id": "YQ0Cxsb_yi1g"
      },
      "source": [
        "#EuroSat dataset"
      ]
    },
    {
      "cell_type": "code",
      "metadata": {
        "id": "eyM2tPcmymSM"
      },
      "source": [
        "import tensorflow as tf\n",
        "from tensorflow.keras.preprocessing.image import load_img, img_to_array\n",
        "from tensorflow.keras.models import Sequential, load_model\n",
        "from tensorflow.keras.layers import Dense, Flatten, Conv2D, MaxPooling2D\n",
        "from tensorflow.keras.callbacks import ModelCheckpoint, EarlyStopping\n",
        "import os\n",
        "import numpy as np\n",
        "import pandas as pd"
      ],
      "execution_count": 1,
      "outputs": []
    },
    {
      "cell_type": "code",
      "metadata": {
        "colab": {
          "base_uri": "https://localhost:8080/"
        },
        "id": "NkztvqQpypuq",
        "outputId": "f8183cbc-b383-4790-8bae-3f5f94cd79c5"
      },
      "source": [
        "from google.colab import drive\n",
        "drive.mount('/content/drive')"
      ],
      "execution_count": 2,
      "outputs": [
        {
          "output_type": "stream",
          "name": "stdout",
          "text": [
            "Mounted at /content/drive\n"
          ]
        }
      ]
    },
    {
      "cell_type": "markdown",
      "metadata": {
        "id": "P2Dhv4M01q1k"
      },
      "source": [
        "\n",
        "Import the data"
      ]
    },
    {
      "cell_type": "code",
      "metadata": {
        "id": "xolcmiNL3Ou5"
      },
      "source": [
        "#if download from zip\n",
        "import zipfile\n",
        "import io\n",
        "import requests\n",
        "from PIL import Image\n",
        "\n",
        "# RGB file URL\n",
        "url = \"http://madm.dfki.de/files/sentinel/EuroSAT.zip\"\n",
        "\n",
        "# download zip\n",
        "r = requests.get(url)\n",
        "z = zipfile.ZipFile(io.BytesIO(r.content))\n",
        "\n",
        "# get file names\n",
        "txtfiles = []\n",
        "for file in z.namelist():\n",
        "  txtfiles.append(file)\n",
        "\n",
        "# keep only those containing \".jpg\"\n",
        "txtfiles = [x for x in txtfiles if \".jpg\" in x]"
      ],
      "execution_count": 3,
      "outputs": []
    },
    {
      "cell_type": "code",
      "metadata": {
        "id": "r0aT-u0z3dhW"
      },
      "source": [
        "# read images to numpy array\n",
        "XImages = np.zeros([len(txtfiles), 64, 64, 3])\n",
        "\n",
        "i = 0\n",
        "for pic in txtfiles:\n",
        "  XImages[i] = np.asarray(Image.open(z.open(pic))).astype('uint8')/255\n",
        "  print(i)\n",
        "  i += 1\n",
        "\n",
        "del r # clear memory\n",
        "del z "
      ],
      "execution_count": null,
      "outputs": []
    },
    {
      "cell_type": "code",
      "metadata": {
        "id": "F1ztvX_H3Rs-"
      },
      "source": [
        "# Get labels in numpy array as strings\n",
        "Ylabel = np.empty(len(txtfiles), dtype = 'S20')\n",
        "\n",
        "i = 0\n",
        "for label in txtfiles:\n",
        "  Ylabel[i] = label.split('/')[1]\n",
        "  i += 1"
      ],
      "execution_count": 5,
      "outputs": []
    },
    {
      "cell_type": "code",
      "metadata": {
        "colab": {
          "base_uri": "https://localhost:8080/"
        },
        "id": "7R83O06e4ifA",
        "outputId": "3e9037a3-bf6f-487d-a52b-cf604d4258d9"
      },
      "source": [
        "print(XImages.shape)\n",
        "print(Ylabel.shape)"
      ],
      "execution_count": 6,
      "outputs": [
        {
          "output_type": "stream",
          "name": "stdout",
          "text": [
            "(27000, 64, 64, 3)\n",
            "(27000,)\n"
          ]
        }
      ]
    },
    {
      "cell_type": "code",
      "metadata": {
        "colab": {
          "base_uri": "https://localhost:8080/"
        },
        "id": "JeFXd-w020OA",
        "outputId": "e2de77a2-fa6d-4950-ff1b-ae0d256584b1"
      },
      "source": [
        "# change them to integers in alphabetical order\n",
        "label_names, yLabels = np.unique(Ylabel, return_inverse=True)\n",
        "\n",
        "label_Dict = dict(zip(np.unique(yLabels), label_names))\n",
        "print(label_Dict)\n",
        "np.array(np.unique(yLabels, return_counts=True)).T"
      ],
      "execution_count": 7,
      "outputs": [
        {
          "output_type": "stream",
          "name": "stdout",
          "text": [
            "{0: b'AnnualCrop', 1: b'Forest', 2: b'HerbaceousVegetation', 3: b'Highway', 4: b'Industrial', 5: b'Pasture', 6: b'PermanentCrop', 7: b'Residential', 8: b'River', 9: b'SeaLake'}\n"
          ]
        },
        {
          "output_type": "execute_result",
          "data": {
            "text/plain": [
              "array([[   0, 3000],\n",
              "       [   1, 3000],\n",
              "       [   2, 3000],\n",
              "       [   3, 2500],\n",
              "       [   4, 2500],\n",
              "       [   5, 2000],\n",
              "       [   6, 2500],\n",
              "       [   7, 3000],\n",
              "       [   8, 2500],\n",
              "       [   9, 3000]])"
            ]
          },
          "metadata": {},
          "execution_count": 7
        }
      ]
    },
    {
      "cell_type": "code",
      "metadata": {
        "colab": {
          "base_uri": "https://localhost:8080/",
          "height": 302
        },
        "id": "7p2u9kwc94A_",
        "outputId": "0202ab12-e39f-4e9c-c94b-e65ad6b51740"
      },
      "source": [
        "import matplotlib.pyplot as plt\n",
        "\n",
        "# test the labels and images \n",
        "tmp = 20000\n",
        "img = XImages[tmp]\n",
        "\n",
        "print(yLabels[tmp])\n",
        "print(label_names[yLabels[tmp]])\n",
        "plt.imshow(img);"
      ],
      "execution_count": 8,
      "outputs": [
        {
          "output_type": "stream",
          "name": "stdout",
          "text": [
            "1\n",
            "b'Forest'\n"
          ]
        },
        {
          "output_type": "display_data",
          "data": {
            "image/png": "[encoded data removed]",
            "text/plain": [
              "<Figure size 432x288 with 1 Axes>"
            ]
          },
          "metadata": {
            "needs_background": "light"
          }
        }
      ]
    },
    {
      "cell_type": "code",
      "metadata": {
        "colab": {
          "base_uri": "https://localhost:8080/",
          "height": 156
        },
        "id": "t0pOd973M2Tc",
        "outputId": "34c9aef8-a9f1-474c-d699-6e58706ad781"
      },
      "source": [
        "#Select a random sample of images and Plot\n",
        "import matplotlib.pyplot as plt\n",
        "\n",
        "num_test_images = XImages.shape[0]\n",
        "random_inx = np.random.choice(num_test_images, 5)\n",
        "random_test_images = XImages[random_inx, ...]\n",
        "random_test_labels = Ylabel[random_inx, ...]\n",
        "\n",
        "fig, ax = plt.subplots(1, 5, figsize =(20, 2) )\n",
        "fig.subplots_adjust(hspace=0.2, wspace=0.5)\n",
        "for i in range (5) :\n",
        "  ax[i].set_axis_off()\n",
        "  ax[i].set_title(random_test_labels[i])\n",
        "  ax[i].imshow(random_test_images[i])"
      ],
      "execution_count": 9,
      "outputs": [
        {
          "output_type": "display_data",
          "data": {
            "image/png": "[encoded data removed]",
            "text/plain": [
              "<Figure size 1440x144 with 5 Axes>"
            ]
          },
          "metadata": {
            "needs_background": "light"
          }
        }
      ]
    },
    {
      "cell_type": "code",
      "metadata": {
        "colab": {
          "base_uri": "https://localhost:8080/"
        },
        "id": "WtLOsia8R1xg",
        "outputId": "f91375c3-4e33-4660-a00b-ffbf8182b969"
      },
      "source": [
        "# find the smallest class\n",
        "smallest_class = np.argmin(np.bincount(yLabels))\n",
        "smallest_class"
      ],
      "execution_count": 10,
      "outputs": [
        {
          "output_type": "execute_result",
          "data": {
            "text/plain": [
              "5"
            ]
          },
          "metadata": {},
          "execution_count": 10
        }
      ]
    },
    {
      "cell_type": "code",
      "metadata": {
        "colab": {
          "base_uri": "https://localhost:8080/"
        },
        "id": "FFN7kMF1U27X",
        "outputId": "928daa26-b311-4343-de6b-326af1d80e0a"
      },
      "source": [
        "from sklearn.utils import shuffle\n",
        "from sklearn.preprocessing import LabelBinarizer\n",
        "\n",
        "# number of classes\n",
        "num_classes = len(np.array(np.unique(yLabels)))\n",
        "# observations in smallest class\n",
        "smallest_class_obs = np.where(yLabels == smallest_class)[0]\n",
        "print(smallest_class_obs.shape)"
      ],
      "execution_count": 14,
      "outputs": [
        {
          "output_type": "stream",
          "name": "stdout",
          "text": [
            "(2000,)\n"
          ]
        }
      ]
    },
    {
      "cell_type": "code",
      "metadata": {
        "colab": {
          "base_uri": "https://localhost:8080/"
        },
        "id": "AjWcRno6WC_J",
        "outputId": "818f7111-58c9-4d9b-813d-3238eeb27863"
      },
      "source": [
        "shuffle(np.where(yLabels == i)[0], random_state=42).shape"
      ],
      "execution_count": 19,
      "outputs": [
        {
          "output_type": "execute_result",
          "data": {
            "text/plain": [
              "(2500,)"
            ]
          },
          "metadata": {},
          "execution_count": 19
        }
      ]
    },
    {
      "cell_type": "code",
      "metadata": {
        "colab": {
          "base_uri": "https://localhost:8080/"
        },
        "id": "gGCf32M_WRPp",
        "outputId": "634ad3cb-2f16-432b-a178-cc7f6b63cd5a"
      },
      "source": [
        "shuffle(np.where(yLabels == i)[0], random_state=42)[0:smallest_class_obs.shape[0]].shape"
      ],
      "execution_count": 20,
      "outputs": [
        {
          "output_type": "execute_result",
          "data": {
            "text/plain": [
              "(2000,)"
            ]
          },
          "metadata": {},
          "execution_count": 20
        }
      ]
    },
    {
      "cell_type": "code",
      "metadata": {
        "id": "GtEKEhjXVsRh"
      },
      "source": [
        "# Get 2000 observations from each class\n",
        "indBal = np.empty(0, dtype=int)\n",
        "for i in range(num_classes):\n",
        "  indTemp = shuffle(np.where(yLabels == i)[0], random_state=42)[0:smallest_class_obs.shape[0]]\n",
        "  indBal = np.concatenate([indBal, indTemp])\n",
        "\n",
        "# shuffle the balanced index\n",
        "indBal = shuffle(indBal, random_state = 42)"
      ],
      "execution_count": 21,
      "outputs": []
    },
    {
      "cell_type": "code",
      "metadata": {
        "colab": {
          "base_uri": "https://localhost:8080/"
        },
        "id": "q94CIy73WhHQ",
        "outputId": "49fd196f-29eb-46d8-d1e9-a5f7202371e0"
      },
      "source": [
        "indBal.shape"
      ],
      "execution_count": 22,
      "outputs": [
        {
          "output_type": "execute_result",
          "data": {
            "text/plain": [
              "(20000,)"
            ]
          },
          "metadata": {},
          "execution_count": 22
        }
      ]
    },
    {
      "cell_type": "code",
      "metadata": {
        "id": "LHx40v4pXibn"
      },
      "source": [
        "from sklearn.model_selection import train_test_split\n",
        "#Unbalanced labels\n",
        "X_train, X_test, y_train, y_test = train_test_split(XImages, yLabels, stratify = yLabels, test_size = 0.5, random_state=42)"
      ],
      "execution_count": 49,
      "outputs": []
    },
    {
      "cell_type": "code",
      "metadata": {
        "colab": {
          "base_uri": "https://localhost:8080/",
          "height": 285
        },
        "id": "4qf5WkI0Xz2x",
        "outputId": "2e650592-c060-4663-c791-0c2ac09c0909"
      },
      "source": [
        "# test that the labels and images \n",
        "tmp = 3333\n",
        "img = X_train[tmp]\n",
        "\n",
        "print(label_names[y_train[tmp]])\n",
        "plt.imshow(img); "
      ],
      "execution_count": 54,
      "outputs": [
        {
          "output_type": "stream",
          "name": "stdout",
          "text": [
            "b'Industrial'\n"
          ]
        },
        {
          "output_type": "display_data",
          "data": {
            "image/png": "[encoded data removed]",
            "text/plain": [
              "<Figure size 432x288 with 1 Axes>"
            ]
          },
          "metadata": {
            "needs_background": "light"
          }
        }
      ]
    },
    {
      "cell_type": "code",
      "metadata": {
        "colab": {
          "base_uri": "https://localhost:8080/"
        },
        "id": "wVZqAm4gU6xf",
        "outputId": "b304a696-c97c-4cdd-fc54-83795bf0246c"
      },
      "source": [
        "yBal = yLabels[indBal]\n",
        "XBal = XImages[indBal]\n",
        "\n",
        "print(yBal.shape)\n",
        "print(XBal.shape)"
      ],
      "execution_count": 55,
      "outputs": [
        {
          "output_type": "stream",
          "name": "stdout",
          "text": [
            "(20000,)\n",
            "(20000, 64, 64, 3)\n"
          ]
        }
      ]
    },
    {
      "cell_type": "code",
      "metadata": {
        "id": "67lXBaKMYWC_"
      },
      "source": [
        "#balanced labels\n",
        "X_train, X_test, y_train, y_test = train_test_split(XBal, yBal, stratify = yBal, test_size = 0.5, random_state=42)"
      ],
      "execution_count": 56,
      "outputs": []
    },
    {
      "cell_type": "code",
      "metadata": {
        "colab": {
          "base_uri": "https://localhost:8080/",
          "height": 285
        },
        "id": "x8_gcmPTYe8N",
        "outputId": "be2d3302-6d75-4099-d91b-42b5b798adc7"
      },
      "source": [
        "# test that the labels and images \n",
        "tmp = 3333\n",
        "img = X_train[tmp]\n",
        "\n",
        "print(label_names[y_train[tmp]])\n",
        "plt.imshow(img);"
      ],
      "execution_count": 57,
      "outputs": [
        {
          "output_type": "stream",
          "name": "stdout",
          "text": [
            "b'Industrial'\n"
          ]
        },
        {
          "output_type": "display_data",
          "data": {
            "image/png": "[encoded data removed]",
            "text/plain": [
              "<Figure size 432x288 with 1 Axes>"
            ]
          },
          "metadata": {
            "needs_background": "light"
          }
        }
      ]
    },
    {
      "cell_type": "code",
      "metadata": {
        "colab": {
          "base_uri": "https://localhost:8080/"
        },
        "id": "DmuePffyZcew",
        "outputId": "56e2c3a6-e681-4717-b045-120e2aef18fe"
      },
      "source": [
        "from tensorflow.keras.utils import to_categorical\n",
        "\n",
        "# class distribution for yTrain\n",
        "np.array(np.unique(y_train, return_counts=True)).T\n",
        "\n",
        "# class distribution for yTest\n",
        "np.array(np.unique(y_test, return_counts=True)).T\n",
        "\n",
        "# convert class vectors to binary class matrices\n",
        "y_train = to_categorical(y_train, num_classes)\n",
        "y_test = to_categorical(y_test, num_classes)\n",
        "\n",
        "print(X_train.shape)\n",
        "print(X_test.shape)\n",
        "print(y_train.shape)\n",
        "print(y_test.shape)"
      ],
      "execution_count": 58,
      "outputs": [
        {
          "output_type": "stream",
          "name": "stdout",
          "text": [
            "(10000, 64, 64, 3)\n",
            "(10000, 64, 64, 3)\n",
            "(10000, 10)\n",
            "(10000, 10)\n"
          ]
        }
      ]
    },
    {
      "cell_type": "code",
      "metadata": {
        "id": "5j68ZxVUheeZ"
      },
      "source": [
        "# Convert train and test images into 'float64' type\n",
        "\n",
        "# train_images = train_images.astype('float64')\n",
        "# test_images = test_images.astype('float64')\n",
        "\n",
        "# Convert train and test labels into 'int64' type\n",
        "\n",
        "y_train = y_train.astype('int64')\n",
        "y_test = y_test.astype('int64')"
      ],
      "execution_count": 59,
      "outputs": []
    },
    {
      "cell_type": "code",
      "metadata": {
        "colab": {
          "base_uri": "https://localhost:8080/"
        },
        "id": "QFp2dJgKerRv",
        "outputId": "5023e781-f644-4c6b-bf13-8a0101218b0a"
      },
      "source": [
        "# Initialize grayscale arrays\n",
        "X_train_BW = np.zeros([X_train.shape[0],\n",
        "                       X_train.shape[1],\n",
        "                       X_train.shape[2]])\n",
        "\n",
        "X_test_BW = np.zeros([X_test.shape[0],\n",
        "                      X_test.shape[1],\n",
        "                      X_test.shape[2]])\n",
        "print(X_train_BW.shape)\n",
        "print(X_test_BW.shape)"
      ],
      "execution_count": 181,
      "outputs": [
        {
          "output_type": "stream",
          "name": "stdout",
          "text": [
            "(10000, 64, 64)\n",
            "(10000, 64, 64)\n"
          ]
        }
      ]
    },
    {
      "cell_type": "code",
      "metadata": {
        "colab": {
          "base_uri": "https://localhost:8080/"
        },
        "id": "HAnw9_fbfs3Y",
        "outputId": "9537fd0f-0328-4ab0-ee4e-eea5c945060c"
      },
      "source": [
        "#or\n",
        "X_train_BW = np.average(X_train, axis=-1)\n",
        "X_test_BW = np.average(X_test, axis=-1)\n",
        "print(X_train_BW.shape)\n",
        "print(X_test_BW.shape)"
      ],
      "execution_count": 182,
      "outputs": [
        {
          "output_type": "stream",
          "name": "stdout",
          "text": [
            "(10000, 64, 64)\n",
            "(10000, 64, 64)\n"
          ]
        }
      ]
    },
    {
      "cell_type": "code",
      "metadata": {
        "colab": {
          "base_uri": "https://localhost:8080/",
          "height": 319
        },
        "id": "6SYNCZ3Uggn0",
        "outputId": "ef691241-5983-4713-90c1-3151b80a2749"
      },
      "source": [
        "# test that the labels and images \n",
        "tmp = 1500\n",
        "img = X_train_BW[tmp]\n",
        "\n",
        "print(label_names[y_train[tmp]])\n",
        "plt.imshow(img, interpolation='nearest', cmap=plt.get_cmap('gray') )"
      ],
      "execution_count": 185,
      "outputs": [
        {
          "output_type": "stream",
          "name": "stdout",
          "text": [
            "[b'AnnualCrop' b'AnnualCrop' b'AnnualCrop' b'AnnualCrop' b'AnnualCrop'\n",
            " b'Forest' b'AnnualCrop' b'AnnualCrop' b'AnnualCrop' b'AnnualCrop']\n"
          ]
        },
        {
          "output_type": "execute_result",
          "data": {
            "text/plain": [
              "<matplotlib.image.AxesImage at 0x7fa17a879290>"
            ]
          },
          "metadata": {},
          "execution_count": 185
        },
        {
          "output_type": "display_data",
          "data": {
            "image/png": "[encoded data removed]",
            "text/plain": [
              "<Figure size 432x288 with 1 Axes>"
            ]
          },
          "metadata": {
            "needs_background": "light"
          }
        }
      ]
    },
    {
      "cell_type": "code",
      "metadata": {
        "colab": {
          "base_uri": "https://localhost:8080/"
        },
        "id": "dS16HVohmOaE",
        "outputId": "c270b84b-3e3a-4aad-dae4-b24262831672"
      },
      "source": [
        "# Add a dummy channel dimension\n",
        "\n",
        "my_image_train = X_train_BW[..., np.newaxis]\n",
        "my_image_test = X_test_BW[..., np.newaxis]\n",
        "\n",
        "from sklearn.preprocessing import LabelBinarizer\n",
        "\n",
        "\n",
        "# One-hot encoding of train and test labels\n",
        "\n",
        "# Convert the training and test images to grayscale by taking the average across all colour channels for each pixel. \n",
        "# Hint: retain the channel dimension, which will now have size 1.\n",
        "lb = LabelBinarizer()\n",
        "my_train_labels = lb.fit_transform(y_train)\n",
        "my_test_labels = lb.fit_transform(y_test)\n",
        "\n",
        "print(my_train_labels.shape)\n",
        "print(my_test_labels.shape)\n",
        "print(my_image_train.shape)\n",
        "print (my_image_test.shape)"
      ],
      "execution_count": 184,
      "outputs": [
        {
          "output_type": "stream",
          "name": "stdout",
          "text": [
            "(10000, 10)\n",
            "(10000, 10)\n",
            "(10000, 64, 64, 1)\n",
            "(10000, 64, 64, 1)\n"
          ]
        }
      ]
    },
    {
      "cell_type": "markdown",
      "metadata": {
        "id": "aDTVZyeXdx8r"
      },
      "source": [
        "#Data for first model"
      ]
    },
    {
      "cell_type": "code",
      "metadata": {
        "colab": {
          "base_uri": "https://localhost:8080/"
        },
        "id": "s1ODMZZrwugO",
        "outputId": "9c3ae9f5-545e-4040-a50b-2e857d6e28ce"
      },
      "source": [
        "from skimage.color import rgb2gray\n",
        "\n",
        "# convert RGB arrays to grayscale\n",
        "for i in range(X_train.shape[0]):\n",
        "  X_train_BW[i] = rgb2gray(X_train[i])\n",
        "  X_test_BW[i] = rgb2gray(X_test[i])\n",
        "\n",
        "# flatten grayscale arrays\n",
        "X_train_BW = X_train_BW.reshape(X_train_BW.shape[0],\n",
        "                                X_train_BW.shape[1] * X_train_BW.shape[2])\n",
        "\n",
        "X_test_BW = X_test_BW.reshape(X_test_BW.shape[0],\n",
        "                              X_test_BW.shape[1] * X_test_BW.shape[2])\n",
        "\n",
        "print(X_train_BW.shape)\n",
        "print(X_test_BW.shape)\n",
        "print(y_train.shape)\n",
        "print(y_test.shape)"
      ],
      "execution_count": 186,
      "outputs": [
        {
          "output_type": "stream",
          "name": "stdout",
          "text": [
            "(10000, 4096)\n",
            "(10000, 4096)\n",
            "(10000, 10)\n",
            "(10000, 10)\n"
          ]
        }
      ]
    },
    {
      "cell_type": "code",
      "metadata": {
        "colab": {
          "base_uri": "https://localhost:8080/"
        },
        "id": "Ql6FUEOSxTs4",
        "outputId": "5e6c0be6-a907-43c0-ed68-279d4d8fa61b"
      },
      "source": [
        "X_train_BW[0].shape"
      ],
      "execution_count": 187,
      "outputs": [
        {
          "output_type": "execute_result",
          "data": {
            "text/plain": [
              "(4096,)"
            ]
          },
          "metadata": {},
          "execution_count": 187
        }
      ]
    },
    {
      "cell_type": "markdown",
      "metadata": {
        "id": "plj2_i_ZaxSw"
      },
      "source": [
        "#Build the model"
      ]
    },
    {
      "cell_type": "code",
      "metadata": {
        "id": "mdW1NkdSf1oT"
      },
      "source": [
        "from tensorflow.keras.layers import BatchNormalization, Dropout"
      ],
      "execution_count": 73,
      "outputs": []
    },
    {
      "cell_type": "code",
      "metadata": {
        "id": "jBPHklumy4W3"
      },
      "source": [
        "def model_1(input_shape) :\n",
        "  model_1 = Sequential()\n",
        "  model_1.add(Dense(num_classes, activation = 'softmax', input_shape=(input_shape)))\n",
        "  \n",
        "  model_1.compile (optimizer = tf.keras.optimizers.Adam(learning_rate=0.0001) ,\n",
        "                 loss = tf.keras.losses.CategoricalCrossentropy(), \n",
        "                 metrics = [tf.keras.metrics.CategoricalAccuracy()])\n",
        "    \n",
        "  return model_1"
      ],
      "execution_count": 132,
      "outputs": []
    },
    {
      "cell_type": "code",
      "metadata": {
        "colab": {
          "base_uri": "https://localhost:8080/"
        },
        "id": "uNGhGP69z6Ma",
        "outputId": "2a737521-d541-46ad-a5f7-b677dfd2edaa"
      },
      "source": [
        "model_1 = model_1(X_train_BW[0].shape)\n",
        "model_1.summary()"
      ],
      "execution_count": 133,
      "outputs": [
        {
          "output_type": "stream",
          "name": "stdout",
          "text": [
            "Model: \"sequential_15\"\n",
            "_________________________________________________________________\n",
            "Layer (type)                 Output Shape              Param #   \n",
            "=================================================================\n",
            "dense_12 (Dense)             (None, 10)                40970     \n",
            "=================================================================\n",
            "Total params: 40,970\n",
            "Trainable params: 40,970\n",
            "Non-trainable params: 0\n",
            "_________________________________________________________________\n"
          ]
        }
      ]
    },
    {
      "cell_type": "code",
      "metadata": {
        "colab": {
          "base_uri": "https://localhost:8080/",
          "height": 201
        },
        "id": "tRpXvDTY0GyE",
        "outputId": "44ca2bae-efdc-4747-b370-d353dfe7f61b"
      },
      "source": [
        "from keras.utils.vis_utils import plot_model\n",
        "plot_model(model_1, show_shapes=True, show_layer_names=True)"
      ],
      "execution_count": 116,
      "outputs": [
        {
          "output_type": "execute_result",
          "data": {
            "image/png": "[encoded data removed]",
            "text/plain": [
              "<IPython.core.display.Image object>"
            ]
          },
          "metadata": {},
          "execution_count": 116
        }
      ]
    },
    {
      "cell_type": "code",
      "metadata": {
        "id": "nJcZCabva8EU"
      },
      "source": [
        "from tensorflow.keras.callbacks import ModelCheckpoint, EarlyStopping\n",
        "\n",
        "checkpoint = ModelCheckpoint (filepath = '/content/sample_data/checkpoint', monitor = 'val_loss',\n",
        "                              save_beat_only = True, save_freq = 'epoch', verbose = 1)"
      ],
      "execution_count": 127,
      "outputs": []
    },
    {
      "cell_type": "code",
      "metadata": {
        "colab": {
          "base_uri": "https://localhost:8080/"
        },
        "id": "__5L5pbOsRS-",
        "outputId": "09f2b190-b10d-4645-fdb3-fbf96116512a"
      },
      "source": [
        "history = model_1.fit(X_train_BW,y_train, validation_data= (X_test_BW, y_test) , batch_size=64, epochs=100, callbacks=[checkpoint], verbose=1)"
      ],
      "execution_count": 134,
      "outputs": [
        {
          "output_type": "stream",
          "name": "stdout",
          "text": [
            "Epoch 1/100\n",
            "157/157 [==============================] - 1s 6ms/step - loss: 2.2925 - categorical_accuracy: 0.1136 - val_loss: 2.2788 - val_categorical_accuracy: 0.1068\n",
            "\n",
            "Epoch 00001: saving model to /content/sample_data/checkpoint\n",
            "INFO:tensorflow:Assets written to: /content/sample_data/checkpoint/assets\n",
            "Epoch 2/100\n",
            "157/157 [==============================] - 1s 5ms/step - loss: 2.2640 - categorical_accuracy: 0.1342 - val_loss: 2.2531 - val_categorical_accuracy: 0.1401\n",
            "\n",
            "Epoch 00002: saving model to /content/sample_data/checkpoint\n",
            "INFO:tensorflow:Assets written to: /content/sample_data/checkpoint/assets\n",
            "Epoch 3/100\n",
            "157/157 [==============================] - 1s 5ms/step - loss: 2.2455 - categorical_accuracy: 0.1398 - val_loss: 2.2356 - val_categorical_accuracy: 0.1401\n",
            "\n",
            "Epoch 00003: saving model to /content/sample_data/checkpoint\n",
            "INFO:tensorflow:Assets written to: /content/sample_data/checkpoint/assets\n",
            "Epoch 4/100\n",
            "157/157 [==============================] - 1s 6ms/step - loss: 2.2312 - categorical_accuracy: 0.1452 - val_loss: 2.2260 - val_categorical_accuracy: 0.1546\n",
            "\n",
            "Epoch 00004: saving model to /content/sample_data/checkpoint\n",
            "INFO:tensorflow:Assets written to: /content/sample_data/checkpoint/assets\n",
            "Epoch 5/100\n",
            "157/157 [==============================] - 1s 5ms/step - loss: 2.2224 - categorical_accuracy: 0.1535 - val_loss: 2.2171 - val_categorical_accuracy: 0.1498\n",
            "\n",
            "Epoch 00005: saving model to /content/sample_data/checkpoint\n",
            "INFO:tensorflow:Assets written to: /content/sample_data/checkpoint/assets\n",
            "Epoch 6/100\n",
            "157/157 [==============================] - 1s 5ms/step - loss: 2.2114 - categorical_accuracy: 0.1567 - val_loss: 2.2215 - val_categorical_accuracy: 0.1563\n",
            "\n",
            "Epoch 00006: saving model to /content/sample_data/checkpoint\n",
            "INFO:tensorflow:Assets written to: /content/sample_data/checkpoint/assets\n",
            "Epoch 7/100\n",
            "157/157 [==============================] - 1s 5ms/step - loss: 2.2075 - categorical_accuracy: 0.1576 - val_loss: 2.2151 - val_categorical_accuracy: 0.1584\n",
            "\n",
            "Epoch 00007: saving model to /content/sample_data/checkpoint\n",
            "INFO:tensorflow:Assets written to: /content/sample_data/checkpoint/assets\n",
            "Epoch 8/100\n",
            "157/157 [==============================] - 1s 5ms/step - loss: 2.2010 - categorical_accuracy: 0.1591 - val_loss: 2.2115 - val_categorical_accuracy: 0.1499\n",
            "\n",
            "Epoch 00008: saving model to /content/sample_data/checkpoint\n",
            "INFO:tensorflow:Assets written to: /content/sample_data/checkpoint/assets\n",
            "Epoch 9/100\n",
            "157/157 [==============================] - 1s 5ms/step - loss: 2.1910 - categorical_accuracy: 0.1606 - val_loss: 2.2020 - val_categorical_accuracy: 0.1756\n",
            "\n",
            "Epoch 00009: saving model to /content/sample_data/checkpoint\n",
            "INFO:tensorflow:Assets written to: /content/sample_data/checkpoint/assets\n",
            "Epoch 10/100\n",
            "157/157 [==============================] - 1s 5ms/step - loss: 2.1889 - categorical_accuracy: 0.1727 - val_loss: 2.1926 - val_categorical_accuracy: 0.1562\n",
            "\n",
            "Epoch 00010: saving model to /content/sample_data/checkpoint\n",
            "INFO:tensorflow:Assets written to: /content/sample_data/checkpoint/assets\n",
            "Epoch 11/100\n",
            "157/157 [==============================] - 1s 5ms/step - loss: 2.1831 - categorical_accuracy: 0.1724 - val_loss: 2.2023 - val_categorical_accuracy: 0.1613\n",
            "\n",
            "Epoch 00011: saving model to /content/sample_data/checkpoint\n",
            "INFO:tensorflow:Assets written to: /content/sample_data/checkpoint/assets\n",
            "Epoch 12/100\n",
            "157/157 [==============================] - 1s 5ms/step - loss: 2.1774 - categorical_accuracy: 0.1753 - val_loss: 2.1941 - val_categorical_accuracy: 0.1752\n",
            "\n",
            "Epoch 00012: saving model to /content/sample_data/checkpoint\n",
            "INFO:tensorflow:Assets written to: /content/sample_data/checkpoint/assets\n",
            "Epoch 13/100\n",
            "157/157 [==============================] - 1s 6ms/step - loss: 2.1751 - categorical_accuracy: 0.1753 - val_loss: 2.1896 - val_categorical_accuracy: 0.1542\n",
            "\n",
            "Epoch 00013: saving model to /content/sample_data/checkpoint\n",
            "INFO:tensorflow:Assets written to: /content/sample_data/checkpoint/assets\n",
            "Epoch 14/100\n",
            "157/157 [==============================] - 1s 5ms/step - loss: 2.1704 - categorical_accuracy: 0.1758 - val_loss: 2.1860 - val_categorical_accuracy: 0.1652\n",
            "\n",
            "Epoch 00014: saving model to /content/sample_data/checkpoint\n",
            "INFO:tensorflow:Assets written to: /content/sample_data/checkpoint/assets\n",
            "Epoch 15/100\n",
            "157/157 [==============================] - 1s 5ms/step - loss: 2.1697 - categorical_accuracy: 0.1731 - val_loss: 2.1833 - val_categorical_accuracy: 0.1553\n",
            "\n",
            "Epoch 00015: saving model to /content/sample_data/checkpoint\n",
            "INFO:tensorflow:Assets written to: /content/sample_data/checkpoint/assets\n",
            "Epoch 16/100\n",
            "157/157 [==============================] - 1s 5ms/step - loss: 2.1646 - categorical_accuracy: 0.1819 - val_loss: 2.1864 - val_categorical_accuracy: 0.1498\n",
            "\n",
            "Epoch 00016: saving model to /content/sample_data/checkpoint\n",
            "INFO:tensorflow:Assets written to: /content/sample_data/checkpoint/assets\n",
            "Epoch 17/100\n",
            "157/157 [==============================] - 1s 5ms/step - loss: 2.1618 - categorical_accuracy: 0.1795 - val_loss: 2.1831 - val_categorical_accuracy: 0.1609\n",
            "\n",
            "Epoch 00017: saving model to /content/sample_data/checkpoint\n",
            "INFO:tensorflow:Assets written to: /content/sample_data/checkpoint/assets\n",
            "Epoch 18/100\n",
            "157/157 [==============================] - 1s 5ms/step - loss: 2.1615 - categorical_accuracy: 0.1849 - val_loss: 2.1781 - val_categorical_accuracy: 0.1677\n",
            "\n",
            "Epoch 00018: saving model to /content/sample_data/checkpoint\n",
            "INFO:tensorflow:Assets written to: /content/sample_data/checkpoint/assets\n",
            "Epoch 19/100\n",
            "157/157 [==============================] - 1s 5ms/step - loss: 2.1557 - categorical_accuracy: 0.1837 - val_loss: 2.1828 - val_categorical_accuracy: 0.1591\n",
            "\n",
            "Epoch 00019: saving model to /content/sample_data/checkpoint\n",
            "INFO:tensorflow:Assets written to: /content/sample_data/checkpoint/assets\n",
            "Epoch 20/100\n",
            "157/157 [==============================] - 1s 5ms/step - loss: 2.1508 - categorical_accuracy: 0.1913 - val_loss: 2.1867 - val_categorical_accuracy: 0.1492\n",
            "\n",
            "Epoch 00020: saving model to /content/sample_data/checkpoint\n",
            "INFO:tensorflow:Assets written to: /content/sample_data/checkpoint/assets\n",
            "Epoch 21/100\n",
            "157/157 [==============================] - 1s 6ms/step - loss: 2.1489 - categorical_accuracy: 0.1912 - val_loss: 2.1771 - val_categorical_accuracy: 0.1658\n",
            "\n",
            "Epoch 00021: saving model to /content/sample_data/checkpoint\n",
            "INFO:tensorflow:Assets written to: /content/sample_data/checkpoint/assets\n",
            "Epoch 22/100\n",
            "157/157 [==============================] - 1s 5ms/step - loss: 2.1472 - categorical_accuracy: 0.1938 - val_loss: 2.1786 - val_categorical_accuracy: 0.1830\n",
            "\n",
            "Epoch 00022: saving model to /content/sample_data/checkpoint\n",
            "INFO:tensorflow:Assets written to: /content/sample_data/checkpoint/assets\n",
            "Epoch 23/100\n",
            "157/157 [==============================] - 1s 5ms/step - loss: 2.1445 - categorical_accuracy: 0.1958 - val_loss: 2.1688 - val_categorical_accuracy: 0.1760\n",
            "\n",
            "Epoch 00023: saving model to /content/sample_data/checkpoint\n",
            "INFO:tensorflow:Assets written to: /content/sample_data/checkpoint/assets\n",
            "Epoch 24/100\n",
            "157/157 [==============================] - 1s 5ms/step - loss: 2.1412 - categorical_accuracy: 0.1962 - val_loss: 2.1679 - val_categorical_accuracy: 0.1854\n",
            "\n",
            "Epoch 00024: saving model to /content/sample_data/checkpoint\n",
            "INFO:tensorflow:Assets written to: /content/sample_data/checkpoint/assets\n",
            "Epoch 25/100\n",
            "157/157 [==============================] - 1s 5ms/step - loss: 2.1377 - categorical_accuracy: 0.2015 - val_loss: 2.1732 - val_categorical_accuracy: 0.1609\n",
            "\n",
            "Epoch 00025: saving model to /content/sample_data/checkpoint\n",
            "INFO:tensorflow:Assets written to: /content/sample_data/checkpoint/assets\n",
            "Epoch 26/100\n",
            "157/157 [==============================] - 1s 5ms/step - loss: 2.1361 - categorical_accuracy: 0.2021 - val_loss: 2.1782 - val_categorical_accuracy: 0.1498\n",
            "\n",
            "Epoch 00026: saving model to /content/sample_data/checkpoint\n",
            "INFO:tensorflow:Assets written to: /content/sample_data/checkpoint/assets\n",
            "Epoch 27/100\n",
            "157/157 [==============================] - 1s 6ms/step - loss: 2.1322 - categorical_accuracy: 0.2010 - val_loss: 2.1707 - val_categorical_accuracy: 0.1787\n",
            "\n",
            "Epoch 00027: saving model to /content/sample_data/checkpoint\n",
            "INFO:tensorflow:Assets written to: /content/sample_data/checkpoint/assets\n",
            "Epoch 28/100\n",
            "157/157 [==============================] - 1s 5ms/step - loss: 2.1333 - categorical_accuracy: 0.2068 - val_loss: 2.1657 - val_categorical_accuracy: 0.1843\n",
            "\n",
            "Epoch 00028: saving model to /content/sample_data/checkpoint\n",
            "INFO:tensorflow:Assets written to: /content/sample_data/checkpoint/assets\n",
            "Epoch 29/100\n",
            "157/157 [==============================] - 1s 5ms/step - loss: 2.1305 - categorical_accuracy: 0.2085 - val_loss: 2.1676 - val_categorical_accuracy: 0.2002\n",
            "\n",
            "Epoch 00029: saving model to /content/sample_data/checkpoint\n",
            "INFO:tensorflow:Assets written to: /content/sample_data/checkpoint/assets\n",
            "Epoch 30/100\n",
            "157/157 [==============================] - 1s 6ms/step - loss: 2.1288 - categorical_accuracy: 0.2015 - val_loss: 2.1645 - val_categorical_accuracy: 0.1885\n",
            "\n",
            "Epoch 00030: saving model to /content/sample_data/checkpoint\n",
            "INFO:tensorflow:Assets written to: /content/sample_data/checkpoint/assets\n",
            "Epoch 31/100\n",
            "157/157 [==============================] - 1s 5ms/step - loss: 2.1259 - categorical_accuracy: 0.2093 - val_loss: 2.1692 - val_categorical_accuracy: 0.1964\n",
            "\n",
            "Epoch 00031: saving model to /content/sample_data/checkpoint\n",
            "INFO:tensorflow:Assets written to: /content/sample_data/checkpoint/assets\n",
            "Epoch 32/100\n",
            "157/157 [==============================] - 1s 5ms/step - loss: 2.1260 - categorical_accuracy: 0.2087 - val_loss: 2.1711 - val_categorical_accuracy: 0.2216\n",
            "\n",
            "Epoch 00032: saving model to /content/sample_data/checkpoint\n",
            "INFO:tensorflow:Assets written to: /content/sample_data/checkpoint/assets\n",
            "Epoch 33/100\n",
            "157/157 [==============================] - 1s 5ms/step - loss: 2.1271 - categorical_accuracy: 0.2056 - val_loss: 2.1541 - val_categorical_accuracy: 0.1962\n",
            "\n",
            "Epoch 00033: saving model to /content/sample_data/checkpoint\n",
            "INFO:tensorflow:Assets written to: /content/sample_data/checkpoint/assets\n",
            "Epoch 34/100\n",
            "157/157 [==============================] - 1s 5ms/step - loss: 2.1160 - categorical_accuracy: 0.2205 - val_loss: 2.1629 - val_categorical_accuracy: 0.1789\n",
            "\n",
            "Epoch 00034: saving model to /content/sample_data/checkpoint\n",
            "INFO:tensorflow:Assets written to: /content/sample_data/checkpoint/assets\n",
            "Epoch 35/100\n",
            "157/157 [==============================] - 1s 5ms/step - loss: 2.1148 - categorical_accuracy: 0.2143 - val_loss: 2.1666 - val_categorical_accuracy: 0.1635\n",
            "\n",
            "Epoch 00035: saving model to /content/sample_data/checkpoint\n",
            "INFO:tensorflow:Assets written to: /content/sample_data/checkpoint/assets\n",
            "Epoch 36/100\n",
            "157/157 [==============================] - 1s 6ms/step - loss: 2.1131 - categorical_accuracy: 0.2206 - val_loss: 2.1546 - val_categorical_accuracy: 0.1764\n",
            "\n",
            "Epoch 00036: saving model to /content/sample_data/checkpoint\n",
            "INFO:tensorflow:Assets written to: /content/sample_data/checkpoint/assets\n",
            "Epoch 37/100\n",
            "157/157 [==============================] - 1s 5ms/step - loss: 2.1141 - categorical_accuracy: 0.2208 - val_loss: 2.1533 - val_categorical_accuracy: 0.1936\n",
            "\n",
            "Epoch 00037: saving model to /content/sample_data/checkpoint\n",
            "INFO:tensorflow:Assets written to: /content/sample_data/checkpoint/assets\n",
            "Epoch 38/100\n",
            "157/157 [==============================] - 1s 5ms/step - loss: 2.1096 - categorical_accuracy: 0.2246 - val_loss: 2.1604 - val_categorical_accuracy: 0.1712\n",
            "\n",
            "Epoch 00038: saving model to /content/sample_data/checkpoint\n",
            "INFO:tensorflow:Assets written to: /content/sample_data/checkpoint/assets\n",
            "Epoch 39/100\n",
            "157/157 [==============================] - 1s 5ms/step - loss: 2.1074 - categorical_accuracy: 0.2190 - val_loss: 2.1639 - val_categorical_accuracy: 0.1866\n",
            "\n",
            "Epoch 00039: saving model to /content/sample_data/checkpoint\n",
            "INFO:tensorflow:Assets written to: /content/sample_data/checkpoint/assets\n",
            "Epoch 40/100\n",
            "157/157 [==============================] - 1s 5ms/step - loss: 2.1032 - categorical_accuracy: 0.2342 - val_loss: 2.1545 - val_categorical_accuracy: 0.1788\n",
            "\n",
            "Epoch 00040: saving model to /content/sample_data/checkpoint\n",
            "INFO:tensorflow:Assets written to: /content/sample_data/checkpoint/assets\n",
            "Epoch 41/100\n",
            "157/157 [==============================] - 1s 5ms/step - loss: 2.1087 - categorical_accuracy: 0.2211 - val_loss: 2.1552 - val_categorical_accuracy: 0.1996\n",
            "\n",
            "Epoch 00041: saving model to /content/sample_data/checkpoint\n",
            "INFO:tensorflow:Assets written to: /content/sample_data/checkpoint/assets\n",
            "Epoch 42/100\n",
            "157/157 [==============================] - 1s 6ms/step - loss: 2.1037 - categorical_accuracy: 0.2265 - val_loss: 2.1522 - val_categorical_accuracy: 0.1702\n",
            "\n",
            "Epoch 00042: saving model to /content/sample_data/checkpoint\n",
            "INFO:tensorflow:Assets written to: /content/sample_data/checkpoint/assets\n",
            "Epoch 43/100\n",
            "157/157 [==============================] - 1s 5ms/step - loss: 2.0979 - categorical_accuracy: 0.2410 - val_loss: 2.1475 - val_categorical_accuracy: 0.2048\n",
            "\n",
            "Epoch 00043: saving model to /content/sample_data/checkpoint\n",
            "INFO:tensorflow:Assets written to: /content/sample_data/checkpoint/assets\n",
            "Epoch 44/100\n",
            "157/157 [==============================] - 1s 5ms/step - loss: 2.0968 - categorical_accuracy: 0.2430 - val_loss: 2.1596 - val_categorical_accuracy: 0.2093\n",
            "\n",
            "Epoch 00044: saving model to /content/sample_data/checkpoint\n",
            "INFO:tensorflow:Assets written to: /content/sample_data/checkpoint/assets\n",
            "Epoch 45/100\n",
            "157/157 [==============================] - 1s 5ms/step - loss: 2.0973 - categorical_accuracy: 0.2417 - val_loss: 2.1548 - val_categorical_accuracy: 0.1971\n",
            "\n",
            "Epoch 00045: saving model to /content/sample_data/checkpoint\n",
            "INFO:tensorflow:Assets written to: /content/sample_data/checkpoint/assets\n",
            "Epoch 46/100\n",
            "157/157 [==============================] - 1s 5ms/step - loss: 2.0965 - categorical_accuracy: 0.2355 - val_loss: 2.1487 - val_categorical_accuracy: 0.2217\n",
            "\n",
            "Epoch 00046: saving model to /content/sample_data/checkpoint\n",
            "INFO:tensorflow:Assets written to: /content/sample_data/checkpoint/assets\n",
            "Epoch 47/100\n",
            "157/157 [==============================] - 1s 5ms/step - loss: 2.0920 - categorical_accuracy: 0.2386 - val_loss: 2.1461 - val_categorical_accuracy: 0.2343\n",
            "\n",
            "Epoch 00047: saving model to /content/sample_data/checkpoint\n",
            "INFO:tensorflow:Assets written to: /content/sample_data/checkpoint/assets\n",
            "Epoch 48/100\n",
            "157/157 [==============================] - 1s 5ms/step - loss: 2.0917 - categorical_accuracy: 0.2429 - val_loss: 2.1576 - val_categorical_accuracy: 0.1780\n",
            "\n",
            "Epoch 00048: saving model to /content/sample_data/checkpoint\n",
            "INFO:tensorflow:Assets written to: /content/sample_data/checkpoint/assets\n",
            "Epoch 49/100\n",
            "157/157 [==============================] - 1s 6ms/step - loss: 2.0896 - categorical_accuracy: 0.2377 - val_loss: 2.1481 - val_categorical_accuracy: 0.2050\n",
            "\n",
            "Epoch 00049: saving model to /content/sample_data/checkpoint\n",
            "INFO:tensorflow:Assets written to: /content/sample_data/checkpoint/assets\n",
            "Epoch 50/100\n",
            "157/157 [==============================] - 1s 5ms/step - loss: 2.0884 - categorical_accuracy: 0.2425 - val_loss: 2.1417 - val_categorical_accuracy: 0.2136\n",
            "\n",
            "Epoch 00050: saving model to /content/sample_data/checkpoint\n",
            "INFO:tensorflow:Assets written to: /content/sample_data/checkpoint/assets\n",
            "Epoch 51/100\n",
            "157/157 [==============================] - 1s 6ms/step - loss: 2.0871 - categorical_accuracy: 0.2393 - val_loss: 2.1548 - val_categorical_accuracy: 0.1733\n",
            "\n",
            "Epoch 00051: saving model to /content/sample_data/checkpoint\n",
            "INFO:tensorflow:Assets written to: /content/sample_data/checkpoint/assets\n",
            "Epoch 52/100\n",
            "157/157 [==============================] - 1s 5ms/step - loss: 2.0815 - categorical_accuracy: 0.2469 - val_loss: 2.1502 - val_categorical_accuracy: 0.1638\n",
            "\n",
            "Epoch 00052: saving model to /content/sample_data/checkpoint\n",
            "INFO:tensorflow:Assets written to: /content/sample_data/checkpoint/assets\n",
            "Epoch 53/100\n",
            "157/157 [==============================] - 1s 5ms/step - loss: 2.0827 - categorical_accuracy: 0.2546 - val_loss: 2.1593 - val_categorical_accuracy: 0.1814\n",
            "\n",
            "Epoch 00053: saving model to /content/sample_data/checkpoint\n",
            "INFO:tensorflow:Assets written to: /content/sample_data/checkpoint/assets\n",
            "Epoch 54/100\n",
            "157/157 [==============================] - 1s 6ms/step - loss: 2.0781 - categorical_accuracy: 0.2526 - val_loss: 2.1426 - val_categorical_accuracy: 0.1838\n",
            "\n",
            "Epoch 00054: saving model to /content/sample_data/checkpoint\n",
            "INFO:tensorflow:Assets written to: /content/sample_data/checkpoint/assets\n",
            "Epoch 55/100\n",
            "157/157 [==============================] - 1s 5ms/step - loss: 2.0806 - categorical_accuracy: 0.2507 - val_loss: 2.1443 - val_categorical_accuracy: 0.2108\n",
            "\n",
            "Epoch 00055: saving model to /content/sample_data/checkpoint\n",
            "INFO:tensorflow:Assets written to: /content/sample_data/checkpoint/assets\n",
            "Epoch 56/100\n",
            "157/157 [==============================] - 1s 5ms/step - loss: 2.0738 - categorical_accuracy: 0.2572 - val_loss: 2.1439 - val_categorical_accuracy: 0.2482\n",
            "\n",
            "Epoch 00056: saving model to /content/sample_data/checkpoint\n",
            "INFO:tensorflow:Assets written to: /content/sample_data/checkpoint/assets\n",
            "Epoch 57/100\n",
            "157/157 [==============================] - 1s 5ms/step - loss: 2.0744 - categorical_accuracy: 0.2573 - val_loss: 2.1386 - val_categorical_accuracy: 0.1994\n",
            "\n",
            "Epoch 00057: saving model to /content/sample_data/checkpoint\n",
            "INFO:tensorflow:Assets written to: /content/sample_data/checkpoint/assets\n",
            "Epoch 58/100\n",
            "157/157 [==============================] - 1s 6ms/step - loss: 2.0732 - categorical_accuracy: 0.2628 - val_loss: 2.1496 - val_categorical_accuracy: 0.1619\n",
            "\n",
            "Epoch 00058: saving model to /content/sample_data/checkpoint\n",
            "INFO:tensorflow:Assets written to: /content/sample_data/checkpoint/assets\n",
            "Epoch 59/100\n",
            "157/157 [==============================] - 1s 5ms/step - loss: 2.0740 - categorical_accuracy: 0.2513 - val_loss: 2.1394 - val_categorical_accuracy: 0.2052\n",
            "\n",
            "Epoch 00059: saving model to /content/sample_data/checkpoint\n",
            "INFO:tensorflow:Assets written to: /content/sample_data/checkpoint/assets\n",
            "Epoch 60/100\n",
            "157/157 [==============================] - 1s 5ms/step - loss: 2.0683 - categorical_accuracy: 0.2783 - val_loss: 2.1354 - val_categorical_accuracy: 0.2096\n",
            "\n",
            "Epoch 00060: saving model to /content/sample_data/checkpoint\n",
            "INFO:tensorflow:Assets written to: /content/sample_data/checkpoint/assets\n",
            "Epoch 61/100\n",
            "157/157 [==============================] - 1s 6ms/step - loss: 2.0709 - categorical_accuracy: 0.2511 - val_loss: 2.1399 - val_categorical_accuracy: 0.2302\n",
            "\n",
            "Epoch 00061: saving model to /content/sample_data/checkpoint\n",
            "INFO:tensorflow:Assets written to: /content/sample_data/checkpoint/assets\n",
            "Epoch 62/100\n",
            "157/157 [==============================] - 1s 5ms/step - loss: 2.0682 - categorical_accuracy: 0.2637 - val_loss: 2.1349 - val_categorical_accuracy: 0.2471\n",
            "\n",
            "Epoch 00062: saving model to /content/sample_data/checkpoint\n",
            "INFO:tensorflow:Assets written to: /content/sample_data/checkpoint/assets\n",
            "Epoch 63/100\n",
            "157/157 [==============================] - 1s 5ms/step - loss: 2.0634 - categorical_accuracy: 0.2532 - val_loss: 2.1467 - val_categorical_accuracy: 0.2125\n",
            "\n",
            "Epoch 00063: saving model to /content/sample_data/checkpoint\n",
            "INFO:tensorflow:Assets written to: /content/sample_data/checkpoint/assets\n",
            "Epoch 64/100\n",
            "157/157 [==============================] - 1s 5ms/step - loss: 2.0640 - categorical_accuracy: 0.2625 - val_loss: 2.1340 - val_categorical_accuracy: 0.2623\n",
            "\n",
            "Epoch 00064: saving model to /content/sample_data/checkpoint\n",
            "INFO:tensorflow:Assets written to: /content/sample_data/checkpoint/assets\n",
            "Epoch 65/100\n",
            "157/157 [==============================] - 1s 5ms/step - loss: 2.0605 - categorical_accuracy: 0.2698 - val_loss: 2.1344 - val_categorical_accuracy: 0.2117\n",
            "\n",
            "Epoch 00065: saving model to /content/sample_data/checkpoint\n",
            "INFO:tensorflow:Assets written to: /content/sample_data/checkpoint/assets\n",
            "Epoch 66/100\n",
            "157/157 [==============================] - 1s 6ms/step - loss: 2.0612 - categorical_accuracy: 0.2620 - val_loss: 2.1290 - val_categorical_accuracy: 0.2484\n",
            "\n",
            "Epoch 00066: saving model to /content/sample_data/checkpoint\n",
            "INFO:tensorflow:Assets written to: /content/sample_data/checkpoint/assets\n",
            "Epoch 67/100\n",
            "157/157 [==============================] - 1s 6ms/step - loss: 2.0579 - categorical_accuracy: 0.2765 - val_loss: 2.1332 - val_categorical_accuracy: 0.2435\n",
            "\n",
            "Epoch 00067: saving model to /content/sample_data/checkpoint\n",
            "INFO:tensorflow:Assets written to: /content/sample_data/checkpoint/assets\n",
            "Epoch 68/100\n",
            "157/157 [==============================] - 1s 5ms/step - loss: 2.0567 - categorical_accuracy: 0.2730 - val_loss: 2.1344 - val_categorical_accuracy: 0.2214\n",
            "\n",
            "Epoch 00068: saving model to /content/sample_data/checkpoint\n",
            "INFO:tensorflow:Assets written to: /content/sample_data/checkpoint/assets\n",
            "Epoch 69/100\n",
            "157/157 [==============================] - 1s 5ms/step - loss: 2.0531 - categorical_accuracy: 0.2820 - val_loss: 2.1348 - val_categorical_accuracy: 0.2397\n",
            "\n",
            "Epoch 00069: saving model to /content/sample_data/checkpoint\n",
            "INFO:tensorflow:Assets written to: /content/sample_data/checkpoint/assets\n",
            "Epoch 70/100\n",
            "157/157 [==============================] - 1s 6ms/step - loss: 2.0527 - categorical_accuracy: 0.2731 - val_loss: 2.1343 - val_categorical_accuracy: 0.2343\n",
            "\n",
            "Epoch 00070: saving model to /content/sample_data/checkpoint\n",
            "INFO:tensorflow:Assets written to: /content/sample_data/checkpoint/assets\n",
            "Epoch 71/100\n",
            "157/157 [==============================] - 1s 6ms/step - loss: 2.0513 - categorical_accuracy: 0.2772 - val_loss: 2.1295 - val_categorical_accuracy: 0.2417\n",
            "\n",
            "Epoch 00071: saving model to /content/sample_data/checkpoint\n",
            "INFO:tensorflow:Assets written to: /content/sample_data/checkpoint/assets\n",
            "Epoch 72/100\n",
            "157/157 [==============================] - 1s 5ms/step - loss: 2.0499 - categorical_accuracy: 0.2800 - val_loss: 2.1273 - val_categorical_accuracy: 0.2031\n",
            "\n",
            "Epoch 00072: saving model to /content/sample_data/checkpoint\n",
            "INFO:tensorflow:Assets written to: /content/sample_data/checkpoint/assets\n",
            "Epoch 73/100\n",
            "157/157 [==============================] - 1s 6ms/step - loss: 2.0455 - categorical_accuracy: 0.2865 - val_loss: 2.1311 - val_categorical_accuracy: 0.2441\n",
            "\n",
            "Epoch 00073: saving model to /content/sample_data/checkpoint\n",
            "INFO:tensorflow:Assets written to: /content/sample_data/checkpoint/assets\n",
            "Epoch 74/100\n",
            "157/157 [==============================] - 1s 6ms/step - loss: 2.0427 - categorical_accuracy: 0.2916 - val_loss: 2.1222 - val_categorical_accuracy: 0.2577\n",
            "\n",
            "Epoch 00074: saving model to /content/sample_data/checkpoint\n",
            "INFO:tensorflow:Assets written to: /content/sample_data/checkpoint/assets\n",
            "Epoch 75/100\n",
            "157/157 [==============================] - 1s 5ms/step - loss: 2.0417 - categorical_accuracy: 0.2931 - val_loss: 2.1285 - val_categorical_accuracy: 0.2558\n",
            "\n",
            "Epoch 00075: saving model to /content/sample_data/checkpoint\n",
            "INFO:tensorflow:Assets written to: /content/sample_data/checkpoint/assets\n",
            "Epoch 76/100\n",
            "157/157 [==============================] - 1s 5ms/step - loss: 2.0409 - categorical_accuracy: 0.2881 - val_loss: 2.1263 - val_categorical_accuracy: 0.1974\n",
            "\n",
            "Epoch 00076: saving model to /content/sample_data/checkpoint\n",
            "INFO:tensorflow:Assets written to: /content/sample_data/checkpoint/assets\n",
            "Epoch 77/100\n",
            "157/157 [==============================] - 1s 5ms/step - loss: 2.0426 - categorical_accuracy: 0.2860 - val_loss: 2.1327 - val_categorical_accuracy: 0.1879\n",
            "\n",
            "Epoch 00077: saving model to /content/sample_data/checkpoint\n",
            "INFO:tensorflow:Assets written to: /content/sample_data/checkpoint/assets\n",
            "Epoch 78/100\n",
            "157/157 [==============================] - 1s 6ms/step - loss: 2.0393 - categorical_accuracy: 0.2852 - val_loss: 2.1271 - val_categorical_accuracy: 0.2071\n",
            "\n",
            "Epoch 00078: saving model to /content/sample_data/checkpoint\n",
            "INFO:tensorflow:Assets written to: /content/sample_data/checkpoint/assets\n",
            "Epoch 79/100\n",
            "157/157 [==============================] - 1s 5ms/step - loss: 2.0358 - categorical_accuracy: 0.2900 - val_loss: 2.1375 - val_categorical_accuracy: 0.2081\n",
            "\n",
            "Epoch 00079: saving model to /content/sample_data/checkpoint\n",
            "INFO:tensorflow:Assets written to: /content/sample_data/checkpoint/assets\n",
            "Epoch 80/100\n",
            "157/157 [==============================] - 1s 5ms/step - loss: 2.0390 - categorical_accuracy: 0.2850 - val_loss: 2.1206 - val_categorical_accuracy: 0.2512\n",
            "\n",
            "Epoch 00080: saving model to /content/sample_data/checkpoint\n",
            "INFO:tensorflow:Assets written to: /content/sample_data/checkpoint/assets\n",
            "Epoch 81/100\n",
            "157/157 [==============================] - 1s 5ms/step - loss: 2.0339 - categorical_accuracy: 0.2913 - val_loss: 2.1255 - val_categorical_accuracy: 0.1776\n",
            "\n",
            "Epoch 00081: saving model to /content/sample_data/checkpoint\n",
            "INFO:tensorflow:Assets written to: /content/sample_data/checkpoint/assets\n",
            "Epoch 82/100\n",
            "157/157 [==============================] - 1s 5ms/step - loss: 2.0358 - categorical_accuracy: 0.2884 - val_loss: 2.1186 - val_categorical_accuracy: 0.2500\n",
            "\n",
            "Epoch 00082: saving model to /content/sample_data/checkpoint\n",
            "INFO:tensorflow:Assets written to: /content/sample_data/checkpoint/assets\n",
            "Epoch 83/100\n",
            "157/157 [==============================] - 1s 5ms/step - loss: 2.0304 - categorical_accuracy: 0.2935 - val_loss: 2.1222 - val_categorical_accuracy: 0.2409\n",
            "\n",
            "Epoch 00083: saving model to /content/sample_data/checkpoint\n",
            "INFO:tensorflow:Assets written to: /content/sample_data/checkpoint/assets\n",
            "Epoch 84/100\n",
            "157/157 [==============================] - 1s 6ms/step - loss: 2.0329 - categorical_accuracy: 0.2928 - val_loss: 2.1197 - val_categorical_accuracy: 0.2560\n",
            "\n",
            "Epoch 00084: saving model to /content/sample_data/checkpoint\n",
            "INFO:tensorflow:Assets written to: /content/sample_data/checkpoint/assets\n",
            "Epoch 85/100\n",
            "157/157 [==============================] - 1s 6ms/step - loss: 2.0283 - categorical_accuracy: 0.2985 - val_loss: 2.1171 - val_categorical_accuracy: 0.2527\n",
            "\n",
            "Epoch 00085: saving model to /content/sample_data/checkpoint\n",
            "INFO:tensorflow:Assets written to: /content/sample_data/checkpoint/assets\n",
            "Epoch 86/100\n",
            "157/157 [==============================] - 1s 6ms/step - loss: 2.0259 - categorical_accuracy: 0.3052 - val_loss: 2.1212 - val_categorical_accuracy: 0.2277\n",
            "\n",
            "Epoch 00086: saving model to /content/sample_data/checkpoint\n",
            "INFO:tensorflow:Assets written to: /content/sample_data/checkpoint/assets\n",
            "Epoch 87/100\n",
            "157/157 [==============================] - 1s 6ms/step - loss: 2.0264 - categorical_accuracy: 0.3000 - val_loss: 2.1229 - val_categorical_accuracy: 0.2723\n",
            "\n",
            "Epoch 00087: saving model to /content/sample_data/checkpoint\n",
            "INFO:tensorflow:Assets written to: /content/sample_data/checkpoint/assets\n",
            "Epoch 88/100\n",
            "157/157 [==============================] - 1s 5ms/step - loss: 2.0204 - categorical_accuracy: 0.3047 - val_loss: 2.1161 - val_categorical_accuracy: 0.2259\n",
            "\n",
            "Epoch 00088: saving model to /content/sample_data/checkpoint\n",
            "INFO:tensorflow:Assets written to: /content/sample_data/checkpoint/assets\n",
            "Epoch 89/100\n",
            "157/157 [==============================] - 1s 6ms/step - loss: 2.0241 - categorical_accuracy: 0.2950 - val_loss: 2.1210 - val_categorical_accuracy: 0.2362\n",
            "\n",
            "Epoch 00089: saving model to /content/sample_data/checkpoint\n",
            "INFO:tensorflow:Assets written to: /content/sample_data/checkpoint/assets\n",
            "Epoch 90/100\n",
            "157/157 [==============================] - 1s 5ms/step - loss: 2.0197 - categorical_accuracy: 0.3104 - val_loss: 2.1202 - val_categorical_accuracy: 0.2075\n",
            "\n",
            "Epoch 00090: saving model to /content/sample_data/checkpoint\n",
            "INFO:tensorflow:Assets written to: /content/sample_data/checkpoint/assets\n",
            "Epoch 91/100\n",
            "157/157 [==============================] - 1s 6ms/step - loss: 2.0188 - categorical_accuracy: 0.2986 - val_loss: 2.1146 - val_categorical_accuracy: 0.2548\n",
            "\n",
            "Epoch 00091: saving model to /content/sample_data/checkpoint\n",
            "INFO:tensorflow:Assets written to: /content/sample_data/checkpoint/assets\n",
            "Epoch 92/100\n",
            "157/157 [==============================] - 1s 6ms/step - loss: 2.0191 - categorical_accuracy: 0.3014 - val_loss: 2.1148 - val_categorical_accuracy: 0.2664\n",
            "\n",
            "Epoch 00092: saving model to /content/sample_data/checkpoint\n",
            "INFO:tensorflow:Assets written to: /content/sample_data/checkpoint/assets\n",
            "Epoch 93/100\n",
            "157/157 [==============================] - 1s 5ms/step - loss: 2.0153 - categorical_accuracy: 0.3033 - val_loss: 2.1071 - val_categorical_accuracy: 0.2453\n",
            "\n",
            "Epoch 00093: saving model to /content/sample_data/checkpoint\n",
            "INFO:tensorflow:Assets written to: /content/sample_data/checkpoint/assets\n",
            "Epoch 94/100\n",
            "157/157 [==============================] - 1s 6ms/step - loss: 2.0141 - categorical_accuracy: 0.3079 - val_loss: 2.1120 - val_categorical_accuracy: 0.2238\n",
            "\n",
            "Epoch 00094: saving model to /content/sample_data/checkpoint\n",
            "INFO:tensorflow:Assets written to: /content/sample_data/checkpoint/assets\n",
            "Epoch 95/100\n",
            "157/157 [==============================] - 1s 6ms/step - loss: 2.0123 - categorical_accuracy: 0.3099 - val_loss: 2.1290 - val_categorical_accuracy: 0.2551\n",
            "\n",
            "Epoch 00095: saving model to /content/sample_data/checkpoint\n",
            "INFO:tensorflow:Assets written to: /content/sample_data/checkpoint/assets\n",
            "Epoch 96/100\n",
            "157/157 [==============================] - 1s 6ms/step - loss: 2.0136 - categorical_accuracy: 0.3106 - val_loss: 2.1100 - val_categorical_accuracy: 0.2458\n",
            "\n",
            "Epoch 00096: saving model to /content/sample_data/checkpoint\n",
            "INFO:tensorflow:Assets written to: /content/sample_data/checkpoint/assets\n",
            "Epoch 97/100\n",
            "157/157 [==============================] - 1s 6ms/step - loss: 2.0117 - categorical_accuracy: 0.3136 - val_loss: 2.1156 - val_categorical_accuracy: 0.2401\n",
            "\n",
            "Epoch 00097: saving model to /content/sample_data/checkpoint\n",
            "INFO:tensorflow:Assets written to: /content/sample_data/checkpoint/assets\n",
            "Epoch 98/100\n",
            "157/157 [==============================] - 1s 5ms/step - loss: 2.0119 - categorical_accuracy: 0.3074 - val_loss: 2.1110 - val_categorical_accuracy: 0.2440\n",
            "\n",
            "Epoch 00098: saving model to /content/sample_data/checkpoint\n",
            "INFO:tensorflow:Assets written to: /content/sample_data/checkpoint/assets\n",
            "Epoch 99/100\n",
            "157/157 [==============================] - 1s 5ms/step - loss: 2.0074 - categorical_accuracy: 0.3098 - val_loss: 2.1061 - val_categorical_accuracy: 0.2522\n",
            "\n",
            "Epoch 00099: saving model to /content/sample_data/checkpoint\n",
            "INFO:tensorflow:Assets written to: /content/sample_data/checkpoint/assets\n",
            "Epoch 100/100\n",
            "157/157 [==============================] - 1s 5ms/step - loss: 2.0084 - categorical_accuracy: 0.3121 - val_loss: 2.1163 - val_categorical_accuracy: 0.2542\n",
            "\n",
            "Epoch 00100: saving model to /content/sample_data/checkpoint\n",
            "INFO:tensorflow:Assets written to: /content/sample_data/checkpoint/assets\n"
          ]
        }
      ]
    },
    {
      "cell_type": "code",
      "metadata": {
        "colab": {
          "base_uri": "https://localhost:8080/"
        },
        "id": "68wR4liJ11Tp",
        "outputId": "9c803fd6-71f1-4ae8-feea-d4118fbeeed8"
      },
      "source": [
        "score = model_1.evaluate(X_test_BW, y_test, verbose=1)\n",
        "print('Test loss:', score[0])\n",
        "print('Test accuracy:', score[1])"
      ],
      "execution_count": 135,
      "outputs": [
        {
          "output_type": "stream",
          "name": "stdout",
          "text": [
            "313/313 [==============================] - 0s 1ms/step - loss: 2.1163 - categorical_accuracy: 0.2542\n",
            "Test loss: 2.1162543296813965\n",
            "Test accuracy: 0.2542000114917755\n"
          ]
        }
      ]
    },
    {
      "cell_type": "code",
      "metadata": {
        "colab": {
          "base_uri": "https://localhost:8080/",
          "height": 204
        },
        "id": "1TiasugxsX44",
        "outputId": "63050f04-6489-4014-c481-2388cf87c4c8"
      },
      "source": [
        "import pandas as pd\n",
        "frame = pd.DataFrame(history.history)\n",
        "frame.head()"
      ],
      "execution_count": 136,
      "outputs": [
        {
          "output_type": "execute_result",
          "data": {
            "text/html": [
              "<div>\n",
              "<style scoped>\n",
              "    .dataframe tbody tr th:only-of-type {\n",
              "        vertical-align: middle;\n",
              "    }\n",
              "\n",
              "    .dataframe tbody tr th {\n",
              "        vertical-align: top;\n",
              "    }\n",
              "\n",
              "    .dataframe thead th {\n",
              "        text-align: right;\n",
              "    }\n",
              "</style>\n",
              "<table border=\"1\" class=\"dataframe\">\n",
              "  <thead>\n",
              "    <tr style=\"text-align: right;\">\n",
              "      <th></th>\n",
              "      <th>loss</th>\n",
              "      <th>categorical_accuracy</th>\n",
              "      <th>val_loss</th>\n",
              "      <th>val_categorical_accuracy</th>\n",
              "    </tr>\n",
              "  </thead>\n",
              "  <tbody>\n",
              "    <tr>\n",
              "      <th>0</th>\n",
              "      <td>2.292455</td>\n",
              "      <td>0.1136</td>\n",
              "      <td>2.278755</td>\n",
              "      <td>0.1068</td>\n",
              "    </tr>\n",
              "    <tr>\n",
              "      <th>1</th>\n",
              "      <td>2.264030</td>\n",
              "      <td>0.1342</td>\n",
              "      <td>2.253145</td>\n",
              "      <td>0.1401</td>\n",
              "    </tr>\n",
              "    <tr>\n",
              "      <th>2</th>\n",
              "      <td>2.245475</td>\n",
              "      <td>0.1398</td>\n",
              "      <td>2.235600</td>\n",
              "      <td>0.1401</td>\n",
              "    </tr>\n",
              "    <tr>\n",
              "      <th>3</th>\n",
              "      <td>2.231248</td>\n",
              "      <td>0.1452</td>\n",
              "      <td>2.226037</td>\n",
              "      <td>0.1546</td>\n",
              "    </tr>\n",
              "    <tr>\n",
              "      <th>4</th>\n",
              "      <td>2.222441</td>\n",
              "      <td>0.1535</td>\n",
              "      <td>2.217110</td>\n",
              "      <td>0.1498</td>\n",
              "    </tr>\n",
              "  </tbody>\n",
              "</table>\n",
              "</div>"
            ],
            "text/plain": [
              "       loss  categorical_accuracy  val_loss  val_categorical_accuracy\n",
              "0  2.292455                0.1136  2.278755                    0.1068\n",
              "1  2.264030                0.1342  2.253145                    0.1401\n",
              "2  2.245475                0.1398  2.235600                    0.1401\n",
              "3  2.231248                0.1452  2.226037                    0.1546\n",
              "4  2.222441                0.1535  2.217110                    0.1498"
            ]
          },
          "metadata": {},
          "execution_count": 136
        }
      ]
    },
    {
      "cell_type": "code",
      "metadata": {
        "colab": {
          "base_uri": "https://localhost:8080/",
          "height": 369
        },
        "id": "YXvgZGAy1Tfy",
        "outputId": "ccdf8559-6d86-4b00-bb0c-2cfee9c633d3"
      },
      "source": [
        "# Plot the learning curves for loss vs epoch and accuracy vs epoch for both training and validation sets.\n",
        "plt.figure(figsize=(10,5))\n",
        "ax1 = plt.subplot(121)\n",
        "plt.plot(history.history['loss'])\n",
        "plt.plot(history.history['val_loss'])\n",
        "plt.title('Loss vs. epochs')\n",
        "plt.ylabel('Loss')\n",
        "plt.xlabel('Epoch')\n",
        "plt.legend(['Training','Validation'],loc='lower left')\n",
        "ax2 = plt.subplot(122)\n",
        "plt.plot(history.history['categorical_accuracy'])\n",
        "plt.plot(history.history['val_categorical_accuracy'])\n",
        "plt.title('Accuracy vs. epochs')\n",
        "plt.ylabel('Accuracy')\n",
        "plt.xlabel('Epoch')\n",
        "plt.legend(['Training','Validation'],loc='lower right')\n",
        "plt.tight_layout()\n",
        "plt.show()"
      ],
      "execution_count": 137,
      "outputs": [
        {
          "output_type": "display_data",
          "data": {
            "image/png": "[encoded data removed]",
            "text/plain": [
              "<Figure size 720x360 with 2 Axes>"
            ]
          },
          "metadata": {
            "needs_background": "light"
          }
        }
      ]
    },
    {
      "cell_type": "code",
      "metadata": {
        "id": "fcVL7Nb_2EU5"
      },
      "source": [
        "y_test_true_tmp = np.argmax(y_test, axis = 1)\n",
        "label_count = np.unique(y_test_true_tmp, return_counts = True)[1]"
      ],
      "execution_count": 141,
      "outputs": []
    },
    {
      "cell_type": "code",
      "metadata": {
        "id": "EQLN_ohH2FJe"
      },
      "source": [
        "# Define functions for evaluating model accuracy by class and overall\n",
        "\n",
        "def eval_model_by_class(model, test_set):\n",
        "  y_test_pred = model.predict(test_set)\n",
        "  y_test_pred_tmp=np.argmax(y_test_pred,axis=1)\n",
        "\n",
        "  y_test_true = [label_Dict[x] for x in y_test_true_tmp]\n",
        "  y_test_pred = [label_Dict[x] for x in y_test_pred_tmp]\n",
        "\n",
        "  pred_df = pd.DataFrame({'y_true': y_test_true, 'y_pred': y_test_pred})\n",
        "  pred_df['accurate_preds'] = pred_df.y_true == pred_df.y_pred\n",
        "  pred_df = pred_df.groupby(['y_true']).sum().reset_index()\n",
        "  pred_df['label_count'] = label_count\n",
        "  pred_df['class_acc'] = pred_df.accurate_preds / pred_df.label_count\n",
        "  pred_df = pred_df.sort_values(by = 'class_acc').reset_index()\n",
        "  pred_df['overall_acc'] = sum(pred_df.accurate_preds) / sum(pred_df.label_count)\n",
        "  pred_df = pred_df.sort_values('y_true').reset_index(drop = True)\n",
        "\n",
        "  return(pred_df)\n",
        "\n",
        "def find_wrong_preds(model, test_set):\n",
        "  y_test_pred = model.predict(test_set)\n",
        "  y_test_pred_tmp=np.argmax(y_test_pred,axis=1)\n",
        "\n",
        "  y_test_true = [label_Dict[x] for x in y_test_true_tmp]\n",
        "  y_test_pred = [label_Dict[x] for x in y_test_pred_tmp]\n",
        "\n",
        "  pred_df = pd.DataFrame({'y_true': y_test_true, 'y_pred': y_test_pred})\n",
        "  pred_df['accurate_preds'] = pred_df.y_true == pred_df.y_pred\n",
        "  # pred_df = pred_df.sort_values('y_true').reset_index(drop = True)\n",
        "  pred_df = pred_df.sort_values('y_true')\n",
        "\n",
        "  return(pred_df)"
      ],
      "execution_count": 144,
      "outputs": []
    },
    {
      "cell_type": "code",
      "metadata": {
        "colab": {
          "base_uri": "https://localhost:8080/",
          "height": 359
        },
        "id": "M7axUfue2IKZ",
        "outputId": "74d006bf-e096-4473-ab77-1e6c69ba3229"
      },
      "source": [
        "M1_pred_df = eval_model_by_class(model_1, X_test_BW)\n",
        "M1_pred_df"
      ],
      "execution_count": 145,
      "outputs": [
        {
          "output_type": "execute_result",
          "data": {
            "text/html": [
              "<div>\n",
              "<style scoped>\n",
              "    .dataframe tbody tr th:only-of-type {\n",
              "        vertical-align: middle;\n",
              "    }\n",
              "\n",
              "    .dataframe tbody tr th {\n",
              "        vertical-align: top;\n",
              "    }\n",
              "\n",
              "    .dataframe thead th {\n",
              "        text-align: right;\n",
              "    }\n",
              "</style>\n",
              "<table border=\"1\" class=\"dataframe\">\n",
              "  <thead>\n",
              "    <tr style=\"text-align: right;\">\n",
              "      <th></th>\n",
              "      <th>index</th>\n",
              "      <th>y_true</th>\n",
              "      <th>accurate_preds</th>\n",
              "      <th>label_count</th>\n",
              "      <th>class_acc</th>\n",
              "      <th>overall_acc</th>\n",
              "    </tr>\n",
              "  </thead>\n",
              "  <tbody>\n",
              "    <tr>\n",
              "      <th>0</th>\n",
              "      <td>0</td>\n",
              "      <td>b'AnnualCrop'</td>\n",
              "      <td>491</td>\n",
              "      <td>1000</td>\n",
              "      <td>0.491</td>\n",
              "      <td>0.2542</td>\n",
              "    </tr>\n",
              "    <tr>\n",
              "      <th>1</th>\n",
              "      <td>1</td>\n",
              "      <td>b'Forest'</td>\n",
              "      <td>677</td>\n",
              "      <td>1000</td>\n",
              "      <td>0.677</td>\n",
              "      <td>0.2542</td>\n",
              "    </tr>\n",
              "    <tr>\n",
              "      <th>2</th>\n",
              "      <td>2</td>\n",
              "      <td>b'HerbaceousVegetation'</td>\n",
              "      <td>17</td>\n",
              "      <td>1000</td>\n",
              "      <td>0.017</td>\n",
              "      <td>0.2542</td>\n",
              "    </tr>\n",
              "    <tr>\n",
              "      <th>3</th>\n",
              "      <td>3</td>\n",
              "      <td>b'Highway'</td>\n",
              "      <td>235</td>\n",
              "      <td>1000</td>\n",
              "      <td>0.235</td>\n",
              "      <td>0.2542</td>\n",
              "    </tr>\n",
              "    <tr>\n",
              "      <th>4</th>\n",
              "      <td>4</td>\n",
              "      <td>b'Industrial'</td>\n",
              "      <td>688</td>\n",
              "      <td>1000</td>\n",
              "      <td>0.688</td>\n",
              "      <td>0.2542</td>\n",
              "    </tr>\n",
              "    <tr>\n",
              "      <th>5</th>\n",
              "      <td>5</td>\n",
              "      <td>b'Pasture'</td>\n",
              "      <td>68</td>\n",
              "      <td>1000</td>\n",
              "      <td>0.068</td>\n",
              "      <td>0.2542</td>\n",
              "    </tr>\n",
              "    <tr>\n",
              "      <th>6</th>\n",
              "      <td>6</td>\n",
              "      <td>b'PermanentCrop'</td>\n",
              "      <td>89</td>\n",
              "      <td>1000</td>\n",
              "      <td>0.089</td>\n",
              "      <td>0.2542</td>\n",
              "    </tr>\n",
              "    <tr>\n",
              "      <th>7</th>\n",
              "      <td>7</td>\n",
              "      <td>b'Residential'</td>\n",
              "      <td>5</td>\n",
              "      <td>1000</td>\n",
              "      <td>0.005</td>\n",
              "      <td>0.2542</td>\n",
              "    </tr>\n",
              "    <tr>\n",
              "      <th>8</th>\n",
              "      <td>8</td>\n",
              "      <td>b'River'</td>\n",
              "      <td>271</td>\n",
              "      <td>1000</td>\n",
              "      <td>0.271</td>\n",
              "      <td>0.2542</td>\n",
              "    </tr>\n",
              "    <tr>\n",
              "      <th>9</th>\n",
              "      <td>9</td>\n",
              "      <td>b'SeaLake'</td>\n",
              "      <td>1</td>\n",
              "      <td>1000</td>\n",
              "      <td>0.001</td>\n",
              "      <td>0.2542</td>\n",
              "    </tr>\n",
              "  </tbody>\n",
              "</table>\n",
              "</div>"
            ],
            "text/plain": [
              "   index                   y_true  ...  class_acc  overall_acc\n",
              "0      0            b'AnnualCrop'  ...      0.491       0.2542\n",
              "1      1                b'Forest'  ...      0.677       0.2542\n",
              "2      2  b'HerbaceousVegetation'  ...      0.017       0.2542\n",
              "3      3               b'Highway'  ...      0.235       0.2542\n",
              "4      4            b'Industrial'  ...      0.688       0.2542\n",
              "5      5               b'Pasture'  ...      0.068       0.2542\n",
              "6      6         b'PermanentCrop'  ...      0.089       0.2542\n",
              "7      7           b'Residential'  ...      0.005       0.2542\n",
              "8      8                 b'River'  ...      0.271       0.2542\n",
              "9      9               b'SeaLake'  ...      0.001       0.2542\n",
              "\n",
              "[10 rows x 6 columns]"
            ]
          },
          "metadata": {},
          "execution_count": 145
        }
      ]
    },
    {
      "cell_type": "code",
      "metadata": {
        "id": "NutzL8rNpONn",
        "outputId": "e68980fa-d02c-48cc-c88c-d6a89109b9aa",
        "colab": {
          "base_uri": "https://localhost:8080/",
          "height": 419
        }
      },
      "source": [
        "M1_pred_wrong = find_wrong_preds(model_1, X_test_BW)\n",
        "M1_pred_wrong"
      ],
      "execution_count": 148,
      "outputs": [
        {
          "output_type": "execute_result",
          "data": {
            "text/html": [
              "<div>\n",
              "<style scoped>\n",
              "    .dataframe tbody tr th:only-of-type {\n",
              "        vertical-align: middle;\n",
              "    }\n",
              "\n",
              "    .dataframe tbody tr th {\n",
              "        vertical-align: top;\n",
              "    }\n",
              "\n",
              "    .dataframe thead th {\n",
              "        text-align: right;\n",
              "    }\n",
              "</style>\n",
              "<table border=\"1\" class=\"dataframe\">\n",
              "  <thead>\n",
              "    <tr style=\"text-align: right;\">\n",
              "      <th></th>\n",
              "      <th>y_true</th>\n",
              "      <th>y_pred</th>\n",
              "      <th>accurate_preds</th>\n",
              "    </tr>\n",
              "  </thead>\n",
              "  <tbody>\n",
              "    <tr>\n",
              "      <th>702</th>\n",
              "      <td>b'AnnualCrop'</td>\n",
              "      <td>b'AnnualCrop'</td>\n",
              "      <td>True</td>\n",
              "    </tr>\n",
              "    <tr>\n",
              "      <th>5448</th>\n",
              "      <td>b'AnnualCrop'</td>\n",
              "      <td>b'AnnualCrop'</td>\n",
              "      <td>True</td>\n",
              "    </tr>\n",
              "    <tr>\n",
              "      <th>9648</th>\n",
              "      <td>b'AnnualCrop'</td>\n",
              "      <td>b'Highway'</td>\n",
              "      <td>False</td>\n",
              "    </tr>\n",
              "    <tr>\n",
              "      <th>5446</th>\n",
              "      <td>b'AnnualCrop'</td>\n",
              "      <td>b'PermanentCrop'</td>\n",
              "      <td>False</td>\n",
              "    </tr>\n",
              "    <tr>\n",
              "      <th>3077</th>\n",
              "      <td>b'AnnualCrop'</td>\n",
              "      <td>b'AnnualCrop'</td>\n",
              "      <td>True</td>\n",
              "    </tr>\n",
              "    <tr>\n",
              "      <th>...</th>\n",
              "      <td>...</td>\n",
              "      <td>...</td>\n",
              "      <td>...</td>\n",
              "    </tr>\n",
              "    <tr>\n",
              "      <th>1810</th>\n",
              "      <td>b'SeaLake'</td>\n",
              "      <td>b'Forest'</td>\n",
              "      <td>False</td>\n",
              "    </tr>\n",
              "    <tr>\n",
              "      <th>5438</th>\n",
              "      <td>b'SeaLake'</td>\n",
              "      <td>b'AnnualCrop'</td>\n",
              "      <td>False</td>\n",
              "    </tr>\n",
              "    <tr>\n",
              "      <th>5450</th>\n",
              "      <td>b'SeaLake'</td>\n",
              "      <td>b'Highway'</td>\n",
              "      <td>False</td>\n",
              "    </tr>\n",
              "    <tr>\n",
              "      <th>3137</th>\n",
              "      <td>b'SeaLake'</td>\n",
              "      <td>b'Forest'</td>\n",
              "      <td>False</td>\n",
              "    </tr>\n",
              "    <tr>\n",
              "      <th>9999</th>\n",
              "      <td>b'SeaLake'</td>\n",
              "      <td>b'Forest'</td>\n",
              "      <td>False</td>\n",
              "    </tr>\n",
              "  </tbody>\n",
              "</table>\n",
              "<p>10000 rows × 3 columns</p>\n",
              "</div>"
            ],
            "text/plain": [
              "             y_true            y_pred  accurate_preds\n",
              "702   b'AnnualCrop'     b'AnnualCrop'            True\n",
              "5448  b'AnnualCrop'     b'AnnualCrop'            True\n",
              "9648  b'AnnualCrop'        b'Highway'           False\n",
              "5446  b'AnnualCrop'  b'PermanentCrop'           False\n",
              "3077  b'AnnualCrop'     b'AnnualCrop'            True\n",
              "...             ...               ...             ...\n",
              "1810     b'SeaLake'         b'Forest'           False\n",
              "5438     b'SeaLake'     b'AnnualCrop'           False\n",
              "5450     b'SeaLake'        b'Highway'           False\n",
              "3137     b'SeaLake'         b'Forest'           False\n",
              "9999     b'SeaLake'         b'Forest'           False\n",
              "\n",
              "[10000 rows x 3 columns]"
            ]
          },
          "metadata": {},
          "execution_count": 148
        }
      ]
    },
    {
      "cell_type": "markdown",
      "metadata": {
        "id": "_OfQeYAP6Q1c"
      },
      "source": [
        "#Second model"
      ]
    },
    {
      "cell_type": "code",
      "metadata": {
        "id": "DBzYqYruvu4D",
        "outputId": "91f8fbf4-13dd-4a29-95f2-a88e8186bd93",
        "colab": {
          "base_uri": "https://localhost:8080/"
        }
      },
      "source": [
        "my_image_train[0].shape"
      ],
      "execution_count": 188,
      "outputs": [
        {
          "output_type": "execute_result",
          "data": {
            "text/plain": [
              "(64, 64, 1)"
            ]
          },
          "metadata": {},
          "execution_count": 188
        }
      ]
    },
    {
      "cell_type": "code",
      "metadata": {
        "id": "P9YXZHsYm3yM"
      },
      "source": [
        "def model_2(input_shape, weight_decay_1, weight_decay_2, drop_rate) :\n",
        "  model_2 = Sequential()\n",
        "  model_2.add (Conv2D (16, (5,5), activation = 'relu', padding = 'same', name = 'conv_1', kernel_initializer='he_uniform',bias_initializer=\"ones\", \n",
        "                             kernel_regularizer=tf.keras.regularizers.l1_l2(l1=weight_decay_1, l2=weight_decay_2), input_shape = input_shape))\n",
        "  model_2.add (BatchNormalization(momentum=0.9, epsilon=0.001))\n",
        "  model_2.add (Conv2D (16, (5,5), activation = 'relu', padding = 'same', name = 'conv_2', kernel_initializer='he_uniform',bias_initializer=\"ones\", \n",
        "                             kernel_regularizer=tf.keras.regularizers.l1_l2(l1=weight_decay_1, l2=weight_decay_2)))\n",
        "  model_2.add (MaxPooling2D ((4,4) , strides=(2,2), name = 'pool_1'))\n",
        "  model_2.add (Conv2D (16, (3,3), activation = 'relu', padding = 'same', name = 'conv_3', kernel_initializer='he_uniform',bias_initializer=\"ones\", \n",
        "                             kernel_regularizer=tf.keras.regularizers.l1_l2(l1=weight_decay_1, l2=weight_decay_2)))\n",
        "  model_2.add (BatchNormalization(momentum=0.9, epsilon=0.001))\n",
        "  model_2.add (Conv2D (16, (3,3), activation = 'relu', padding = 'same', name = 'conv_4', kernel_initializer='he_uniform',bias_initializer=\"ones\", \n",
        "                             kernel_regularizer=tf.keras.regularizers.l1_l2(l1=weight_decay_1, l2=weight_decay_2)))\n",
        "  model_2.add (MaxPooling2D ((4,4) , strides=(2,2),name = 'pool_2'))\n",
        "  model_2.add (Dropout(rate = drop_rate))\n",
        "  model_2.add (Conv2D (16, (3,3), activation = 'relu', padding = 'same', name = 'conv_5', kernel_initializer='he_uniform',bias_initializer=\"ones\", \n",
        "                             kernel_regularizer=tf.keras.regularizers.l1(weight_decay_1)))\n",
        "  model_2.add (BatchNormalization(momentum=0.9, epsilon=0.001))\n",
        "  model_2.add (Conv2D (16, (3,3), activation = 'relu', padding = 'same', name = 'conv_6', kernel_initializer='he_uniform',bias_initializer=\"ones\", \n",
        "                             kernel_regularizer=tf.keras.regularizers.l1(l1=weight_decay_1)))\n",
        "  model_2.add (MaxPooling2D ((4,4) , strides=(2,2),name = 'pool_3'))\n",
        "  model_2.add (Conv2D (16, (3,3), activation = 'relu', padding = 'same', name = 'conv_7', kernel_initializer='he_uniform',bias_initializer=\"ones\", \n",
        "                             kernel_regularizer=tf.keras.regularizers.l1(l1=weight_decay_1)))\n",
        "  model_2.add (Conv2D (16, (3,3), activation = 'relu', padding = 'same', name = 'conv_8', kernel_initializer='he_uniform',bias_initializer=\"ones\", \n",
        "                             kernel_regularizer=tf.keras.regularizers.l1(l1=weight_decay_1)))\n",
        "  model_2.add (MaxPooling2D ((4,4) , strides=(2,2),name = 'pool_4'))\n",
        "  model_2.add (Dropout(rate = drop_rate))\n",
        "  model_2.add (Flatten ())\n",
        "  model_2.add (Dense (num_classes, activation = 'relu', kernel_initializer='he_uniform',bias_initializer=\"ones\", \n",
        "                             kernel_regularizer=tf.keras.regularizers.l1(l1=weight_decay_1) , name = 'dense_1') )\n",
        "  model_2.add (Dropout(rate = drop_rate))\n",
        "  model_2.add (Dense (10, activation = 'softmax', name = 'dense_2') )\n",
        "  \n",
        "  model_2.compile (optimizer = tf.keras.optimizers.Adam(learning_rate=0.0001) ,\n",
        "                 loss = tf.keras.losses.CategoricalCrossentropy(from_logits=True), \n",
        "                 metrics = [tf.keras.metrics.CategoricalAccuracy()])\n",
        "  \n",
        "  return model_2"
      ],
      "execution_count": 199,
      "outputs": []
    },
    {
      "cell_type": "code",
      "metadata": {
        "colab": {
          "base_uri": "https://localhost:8080/"
        },
        "id": "3rDn0MVcnwjo",
        "outputId": "72e2a402-f2b6-4ec2-9584-7db0ad8ae44c"
      },
      "source": [
        "model_2 = model_2(my_image_train[0].shape, 1e-8, 0.0001, 0.05)\n",
        "model_2.summary()"
      ],
      "execution_count": 200,
      "outputs": [
        {
          "output_type": "stream",
          "name": "stdout",
          "text": [
            "Model: \"sequential_31\"\n",
            "_________________________________________________________________\n",
            "Layer (type)                 Output Shape              Param #   \n",
            "=================================================================\n",
            "conv_1 (Conv2D)              (None, 64, 64, 16)        416       \n",
            "_________________________________________________________________\n",
            "batch_normalization_4 (Batch (None, 64, 64, 16)        64        \n",
            "_________________________________________________________________\n",
            "conv_2 (Conv2D)              (None, 64, 64, 16)        6416      \n",
            "_________________________________________________________________\n",
            "pool_1 (MaxPooling2D)        (None, 31, 31, 16)        0         \n",
            "_________________________________________________________________\n",
            "conv_3 (Conv2D)              (None, 31, 31, 16)        2320      \n",
            "_________________________________________________________________\n",
            "batch_normalization_5 (Batch (None, 31, 31, 16)        64        \n",
            "_________________________________________________________________\n",
            "conv_4 (Conv2D)              (None, 31, 31, 16)        2320      \n",
            "_________________________________________________________________\n",
            "pool_2 (MaxPooling2D)        (None, 14, 14, 16)        0         \n",
            "_________________________________________________________________\n",
            "dropout_2 (Dropout)          (None, 14, 14, 16)        0         \n",
            "_________________________________________________________________\n",
            "conv_5 (Conv2D)              (None, 14, 14, 16)        2320      \n",
            "_________________________________________________________________\n",
            "batch_normalization_6 (Batch (None, 14, 14, 16)        64        \n",
            "_________________________________________________________________\n",
            "conv_6 (Conv2D)              (None, 14, 14, 16)        2320      \n",
            "_________________________________________________________________\n",
            "pool_3 (MaxPooling2D)        (None, 6, 6, 16)          0         \n",
            "_________________________________________________________________\n",
            "conv_7 (Conv2D)              (None, 6, 6, 16)          2320      \n",
            "_________________________________________________________________\n",
            "conv_8 (Conv2D)              (None, 6, 6, 16)          2320      \n",
            "_________________________________________________________________\n",
            "pool_4 (MaxPooling2D)        (None, 2, 2, 16)          0         \n",
            "_________________________________________________________________\n",
            "dropout_3 (Dropout)          (None, 2, 2, 16)          0         \n",
            "_________________________________________________________________\n",
            "flatten_15 (Flatten)         (None, 64)                0         \n",
            "_________________________________________________________________\n",
            "dense_1 (Dense)              (None, 10)                650       \n",
            "_________________________________________________________________\n",
            "dropout_4 (Dropout)          (None, 10)                0         \n",
            "_________________________________________________________________\n",
            "dense_2 (Dense)              (None, 10)                110       \n",
            "=================================================================\n",
            "Total params: 21,704\n",
            "Trainable params: 21,608\n",
            "Non-trainable params: 96\n",
            "_________________________________________________________________\n"
          ]
        }
      ]
    },
    {
      "cell_type": "code",
      "metadata": {
        "id": "kqJyNDpwz82V"
      },
      "source": [
        "from tensorflow.keras.callbacks import EarlyStopping\n",
        "\n",
        "checkpoint = ModelCheckpoint (filepath = '/content/sample_data/checkpoint/checkpoint', monitor = 'val_loss',\n",
        "                              save_weights_only = True,save_beat_only = True, save_freq = 'epoch', verbose = 1)\n",
        "\n",
        "early = EarlyStopping(monitor = 'val_loss', patience = 10, mode = 'max', min_delta = 5, verbose = 1 )\n",
        "\n",
        "call = [checkpoint, early]"
      ],
      "execution_count": 204,
      "outputs": []
    },
    {
      "cell_type": "code",
      "metadata": {
        "colab": {
          "base_uri": "https://localhost:8080/"
        },
        "id": "e1Ru6mSz-6bO",
        "outputId": "906f12af-f2a0-42d4-a10e-16dcfe2f1045"
      },
      "source": [
        "history_2 = model_2.fit(my_image_train,my_train_labels, validation_data= (my_image_test, my_test_labels) , batch_size=64, epochs=100, callbacks=call, verbose=1)"
      ],
      "execution_count": 205,
      "outputs": [
        {
          "output_type": "stream",
          "name": "stdout",
          "text": [
            "Epoch 1/100\n"
          ]
        },
        {
          "output_type": "stream",
          "name": "stderr",
          "text": [
            "/usr/local/lib/python3.7/dist-packages/keras/backend.py:4847: UserWarning: \"`categorical_crossentropy` received `from_logits=True`, but the `output` argument was produced by a sigmoid or softmax activation and thus does not represent logits. Was this intended?\"\n",
            "  '\"`categorical_crossentropy` received `from_logits=True`, but '\n"
          ]
        },
        {
          "output_type": "stream",
          "name": "stdout",
          "text": [
            "157/157 [==============================] - 181s 1s/step - loss: 3.4710 - categorical_accuracy: 0.1438 - val_loss: 2.0272 - val_categorical_accuracy: 0.2581\n",
            "\n",
            "Epoch 00001: saving model to /content/sample_data/checkpoint/checkpoint\n",
            "Epoch 2/100\n",
            "157/157 [==============================] - 178s 1s/step - loss: 2.1207 - categorical_accuracy: 0.2053 - val_loss: 1.9655 - val_categorical_accuracy: 0.2800\n",
            "\n",
            "Epoch 00002: saving model to /content/sample_data/checkpoint/checkpoint\n",
            "Epoch 3/100\n",
            "157/157 [==============================] - 178s 1s/step - loss: 2.0405 - categorical_accuracy: 0.2491 - val_loss: 1.8618 - val_categorical_accuracy: 0.2997\n",
            "\n",
            "Epoch 00003: saving model to /content/sample_data/checkpoint/checkpoint\n",
            "Epoch 4/100\n",
            "157/157 [==============================] - 177s 1s/step - loss: 1.9626 - categorical_accuracy: 0.2837 - val_loss: 1.7775 - val_categorical_accuracy: 0.3344\n",
            "\n",
            "Epoch 00004: saving model to /content/sample_data/checkpoint/checkpoint\n",
            "Epoch 5/100\n",
            "157/157 [==============================] - 177s 1s/step - loss: 1.8914 - categorical_accuracy: 0.3133 - val_loss: 1.7035 - val_categorical_accuracy: 0.3718\n",
            "\n",
            "Epoch 00005: saving model to /content/sample_data/checkpoint/checkpoint\n",
            "Epoch 6/100\n",
            "157/157 [==============================] - 178s 1s/step - loss: 1.8211 - categorical_accuracy: 0.3491 - val_loss: 1.6370 - val_categorical_accuracy: 0.3882\n",
            "\n",
            "Epoch 00006: saving model to /content/sample_data/checkpoint/checkpoint\n",
            "Epoch 7/100\n",
            "157/157 [==============================] - 178s 1s/step - loss: 1.7230 - categorical_accuracy: 0.4022 - val_loss: 1.5120 - val_categorical_accuracy: 0.4985\n",
            "\n",
            "Epoch 00007: saving model to /content/sample_data/checkpoint/checkpoint\n",
            "Epoch 8/100\n",
            "157/157 [==============================] - 179s 1s/step - loss: 1.6292 - categorical_accuracy: 0.4281 - val_loss: 1.4284 - val_categorical_accuracy: 0.4944\n",
            "\n",
            "Epoch 00008: saving model to /content/sample_data/checkpoint/checkpoint\n",
            "Epoch 9/100\n",
            "157/157 [==============================] - 179s 1s/step - loss: 1.5403 - categorical_accuracy: 0.4561 - val_loss: 1.3916 - val_categorical_accuracy: 0.5141\n",
            "\n",
            "Epoch 00009: saving model to /content/sample_data/checkpoint/checkpoint\n",
            "Epoch 10/100\n",
            "157/157 [==============================] - 180s 1s/step - loss: 1.4923 - categorical_accuracy: 0.4794 - val_loss: 1.3290 - val_categorical_accuracy: 0.5340\n",
            "\n",
            "Epoch 00010: saving model to /content/sample_data/checkpoint/checkpoint\n",
            "Epoch 11/100\n",
            "157/157 [==============================] - 179s 1s/step - loss: 1.4388 - categorical_accuracy: 0.5029 - val_loss: 1.2716 - val_categorical_accuracy: 0.5470\n",
            "\n",
            "Epoch 00011: saving model to /content/sample_data/checkpoint/checkpoint\n",
            "Epoch 00011: early stopping\n"
          ]
        }
      ]
    },
    {
      "cell_type": "code",
      "metadata": {
        "colab": {
          "base_uri": "https://localhost:8080/"
        },
        "id": "xGTnTiJlGU_t",
        "outputId": "c05ac182-4d98-4c43-ea6d-6736c760549f"
      },
      "source": [
        "score = model_2.evaluate(my_image_test, my_test_labels, verbose=1)\n",
        "print('Test loss:', score[0])\n",
        "print('Test accuracy:', score[1])"
      ],
      "execution_count": 206,
      "outputs": [
        {
          "output_type": "stream",
          "name": "stdout",
          "text": [
            "313/313 [==============================] - 33s 106ms/step - loss: 1.2716 - categorical_accuracy: 0.5470\n",
            "Test loss: 1.2716354131698608\n",
            "Test accuracy: 0.546999990940094\n"
          ]
        }
      ]
    },
    {
      "cell_type": "code",
      "metadata": {
        "colab": {
          "base_uri": "https://localhost:8080/",
          "height": 204
        },
        "id": "O6lasoE6GiAi",
        "outputId": "20891266-ffb0-4cc7-a447-a623381243d1"
      },
      "source": [
        "import pandas as pd\n",
        "frame_2 = pd.DataFrame(history_2.history)\n",
        "frame_2.head()"
      ],
      "execution_count": 207,
      "outputs": [
        {
          "output_type": "execute_result",
          "data": {
            "text/html": [
              "<div>\n",
              "<style scoped>\n",
              "    .dataframe tbody tr th:only-of-type {\n",
              "        vertical-align: middle;\n",
              "    }\n",
              "\n",
              "    .dataframe tbody tr th {\n",
              "        vertical-align: top;\n",
              "    }\n",
              "\n",
              "    .dataframe thead th {\n",
              "        text-align: right;\n",
              "    }\n",
              "</style>\n",
              "<table border=\"1\" class=\"dataframe\">\n",
              "  <thead>\n",
              "    <tr style=\"text-align: right;\">\n",
              "      <th></th>\n",
              "      <th>loss</th>\n",
              "      <th>categorical_accuracy</th>\n",
              "      <th>val_loss</th>\n",
              "      <th>val_categorical_accuracy</th>\n",
              "    </tr>\n",
              "  </thead>\n",
              "  <tbody>\n",
              "    <tr>\n",
              "      <th>0</th>\n",
              "      <td>3.470984</td>\n",
              "      <td>0.1438</td>\n",
              "      <td>2.027192</td>\n",
              "      <td>0.2581</td>\n",
              "    </tr>\n",
              "    <tr>\n",
              "      <th>1</th>\n",
              "      <td>2.120742</td>\n",
              "      <td>0.2053</td>\n",
              "      <td>1.965509</td>\n",
              "      <td>0.2800</td>\n",
              "    </tr>\n",
              "    <tr>\n",
              "      <th>2</th>\n",
              "      <td>2.040466</td>\n",
              "      <td>0.2491</td>\n",
              "      <td>1.861799</td>\n",
              "      <td>0.2997</td>\n",
              "    </tr>\n",
              "    <tr>\n",
              "      <th>3</th>\n",
              "      <td>1.962565</td>\n",
              "      <td>0.2837</td>\n",
              "      <td>1.777497</td>\n",
              "      <td>0.3344</td>\n",
              "    </tr>\n",
              "    <tr>\n",
              "      <th>4</th>\n",
              "      <td>1.891421</td>\n",
              "      <td>0.3133</td>\n",
              "      <td>1.703489</td>\n",
              "      <td>0.3718</td>\n",
              "    </tr>\n",
              "  </tbody>\n",
              "</table>\n",
              "</div>"
            ],
            "text/plain": [
              "       loss  categorical_accuracy  val_loss  val_categorical_accuracy\n",
              "0  3.470984                0.1438  2.027192                    0.2581\n",
              "1  2.120742                0.2053  1.965509                    0.2800\n",
              "2  2.040466                0.2491  1.861799                    0.2997\n",
              "3  1.962565                0.2837  1.777497                    0.3344\n",
              "4  1.891421                0.3133  1.703489                    0.3718"
            ]
          },
          "metadata": {},
          "execution_count": 207
        }
      ]
    },
    {
      "cell_type": "code",
      "metadata": {
        "colab": {
          "base_uri": "https://localhost:8080/",
          "height": 369
        },
        "id": "qWC8cFSSGrxp",
        "outputId": "a66b2e30-105c-427e-eb43-12f59149e071"
      },
      "source": [
        "# Plot the learning curves for loss vs epoch and accuracy vs epoch for both training and validation sets.\n",
        "plt.figure(figsize=(10,5))\n",
        "ax1 = plt.subplot(121)\n",
        "plt.plot(history_2.history['loss'])\n",
        "plt.plot(history_2.history['val_loss'])\n",
        "plt.title('Loss vs. epochs')\n",
        "plt.ylabel('Loss')\n",
        "plt.xlabel('Epoch')\n",
        "plt.legend(['Training','Validation'],loc='lower left')\n",
        "ax2 = plt.subplot(122)\n",
        "plt.plot(history_2.history['categorical_accuracy'])\n",
        "plt.plot(history_2.history['val_categorical_accuracy'])\n",
        "plt.title('Accuracy vs. epochs')\n",
        "plt.ylabel('Accuracy')\n",
        "plt.xlabel('Epoch')\n",
        "plt.legend(['Training','Validation'],loc='lower right')\n",
        "plt.tight_layout()\n",
        "plt.show()"
      ],
      "execution_count": 208,
      "outputs": [
        {
          "output_type": "display_data",
          "data": {
            "image/png": "[encoded data removed]",
            "text/plain": [
              "<Figure size 720x360 with 2 Axes>"
            ]
          },
          "metadata": {
            "needs_background": "light"
          }
        }
      ]
    },
    {
      "cell_type": "code",
      "metadata": {
        "colab": {
          "base_uri": "https://localhost:8080/",
          "height": 359
        },
        "id": "NBwJg2ghG1q-",
        "outputId": "9f65ec54-e1c5-4ca8-d18c-cb45bdea8abf"
      },
      "source": [
        "M2_pred_df_2 = eval_model_by_class(model_2, my_image_test)\n",
        "M2_pred_df_2"
      ],
      "execution_count": 209,
      "outputs": [
        {
          "output_type": "execute_result",
          "data": {
            "text/html": [
              "<div>\n",
              "<style scoped>\n",
              "    .dataframe tbody tr th:only-of-type {\n",
              "        vertical-align: middle;\n",
              "    }\n",
              "\n",
              "    .dataframe tbody tr th {\n",
              "        vertical-align: top;\n",
              "    }\n",
              "\n",
              "    .dataframe thead th {\n",
              "        text-align: right;\n",
              "    }\n",
              "</style>\n",
              "<table border=\"1\" class=\"dataframe\">\n",
              "  <thead>\n",
              "    <tr style=\"text-align: right;\">\n",
              "      <th></th>\n",
              "      <th>index</th>\n",
              "      <th>y_true</th>\n",
              "      <th>accurate_preds</th>\n",
              "      <th>label_count</th>\n",
              "      <th>class_acc</th>\n",
              "      <th>overall_acc</th>\n",
              "    </tr>\n",
              "  </thead>\n",
              "  <tbody>\n",
              "    <tr>\n",
              "      <th>0</th>\n",
              "      <td>0</td>\n",
              "      <td>b'AnnualCrop'</td>\n",
              "      <td>796</td>\n",
              "      <td>1000</td>\n",
              "      <td>0.796</td>\n",
              "      <td>0.547</td>\n",
              "    </tr>\n",
              "    <tr>\n",
              "      <th>1</th>\n",
              "      <td>1</td>\n",
              "      <td>b'Forest'</td>\n",
              "      <td>895</td>\n",
              "      <td>1000</td>\n",
              "      <td>0.895</td>\n",
              "      <td>0.547</td>\n",
              "    </tr>\n",
              "    <tr>\n",
              "      <th>2</th>\n",
              "      <td>2</td>\n",
              "      <td>b'HerbaceousVegetation'</td>\n",
              "      <td>109</td>\n",
              "      <td>1000</td>\n",
              "      <td>0.109</td>\n",
              "      <td>0.547</td>\n",
              "    </tr>\n",
              "    <tr>\n",
              "      <th>3</th>\n",
              "      <td>3</td>\n",
              "      <td>b'Highway'</td>\n",
              "      <td>340</td>\n",
              "      <td>1000</td>\n",
              "      <td>0.340</td>\n",
              "      <td>0.547</td>\n",
              "    </tr>\n",
              "    <tr>\n",
              "      <th>4</th>\n",
              "      <td>4</td>\n",
              "      <td>b'Industrial'</td>\n",
              "      <td>925</td>\n",
              "      <td>1000</td>\n",
              "      <td>0.925</td>\n",
              "      <td>0.547</td>\n",
              "    </tr>\n",
              "    <tr>\n",
              "      <th>5</th>\n",
              "      <td>5</td>\n",
              "      <td>b'Pasture'</td>\n",
              "      <td>13</td>\n",
              "      <td>1000</td>\n",
              "      <td>0.013</td>\n",
              "      <td>0.547</td>\n",
              "    </tr>\n",
              "    <tr>\n",
              "      <th>6</th>\n",
              "      <td>6</td>\n",
              "      <td>b'PermanentCrop'</td>\n",
              "      <td>501</td>\n",
              "      <td>1000</td>\n",
              "      <td>0.501</td>\n",
              "      <td>0.547</td>\n",
              "    </tr>\n",
              "    <tr>\n",
              "      <th>7</th>\n",
              "      <td>7</td>\n",
              "      <td>b'Residential'</td>\n",
              "      <td>944</td>\n",
              "      <td>1000</td>\n",
              "      <td>0.944</td>\n",
              "      <td>0.547</td>\n",
              "    </tr>\n",
              "    <tr>\n",
              "      <th>8</th>\n",
              "      <td>8</td>\n",
              "      <td>b'River'</td>\n",
              "      <td>4</td>\n",
              "      <td>1000</td>\n",
              "      <td>0.004</td>\n",
              "      <td>0.547</td>\n",
              "    </tr>\n",
              "    <tr>\n",
              "      <th>9</th>\n",
              "      <td>9</td>\n",
              "      <td>b'SeaLake'</td>\n",
              "      <td>943</td>\n",
              "      <td>1000</td>\n",
              "      <td>0.943</td>\n",
              "      <td>0.547</td>\n",
              "    </tr>\n",
              "  </tbody>\n",
              "</table>\n",
              "</div>"
            ],
            "text/plain": [
              "   index                   y_true  ...  class_acc  overall_acc\n",
              "0      0            b'AnnualCrop'  ...      0.796        0.547\n",
              "1      1                b'Forest'  ...      0.895        0.547\n",
              "2      2  b'HerbaceousVegetation'  ...      0.109        0.547\n",
              "3      3               b'Highway'  ...      0.340        0.547\n",
              "4      4            b'Industrial'  ...      0.925        0.547\n",
              "5      5               b'Pasture'  ...      0.013        0.547\n",
              "6      6         b'PermanentCrop'  ...      0.501        0.547\n",
              "7      7           b'Residential'  ...      0.944        0.547\n",
              "8      8                 b'River'  ...      0.004        0.547\n",
              "9      9               b'SeaLake'  ...      0.943        0.547\n",
              "\n",
              "[10 rows x 6 columns]"
            ]
          },
          "metadata": {},
          "execution_count": 209
        }
      ]
    },
    {
      "cell_type": "code",
      "metadata": {
        "id": "5MHNEokfHG2R",
        "outputId": "79f0f24f-5db5-4cac-f012-e9f59d35579b",
        "colab": {
          "base_uri": "https://localhost:8080/",
          "height": 419
        }
      },
      "source": [
        "M2_pred_wrong = find_wrong_preds(model_2, my_image_test)\n",
        "M2_pred_wrong"
      ],
      "execution_count": 210,
      "outputs": [
        {
          "output_type": "execute_result",
          "data": {
            "text/html": [
              "<div>\n",
              "<style scoped>\n",
              "    .dataframe tbody tr th:only-of-type {\n",
              "        vertical-align: middle;\n",
              "    }\n",
              "\n",
              "    .dataframe tbody tr th {\n",
              "        vertical-align: top;\n",
              "    }\n",
              "\n",
              "    .dataframe thead th {\n",
              "        text-align: right;\n",
              "    }\n",
              "</style>\n",
              "<table border=\"1\" class=\"dataframe\">\n",
              "  <thead>\n",
              "    <tr style=\"text-align: right;\">\n",
              "      <th></th>\n",
              "      <th>y_true</th>\n",
              "      <th>y_pred</th>\n",
              "      <th>accurate_preds</th>\n",
              "    </tr>\n",
              "  </thead>\n",
              "  <tbody>\n",
              "    <tr>\n",
              "      <th>702</th>\n",
              "      <td>b'AnnualCrop'</td>\n",
              "      <td>b'AnnualCrop'</td>\n",
              "      <td>True</td>\n",
              "    </tr>\n",
              "    <tr>\n",
              "      <th>5448</th>\n",
              "      <td>b'AnnualCrop'</td>\n",
              "      <td>b'Highway'</td>\n",
              "      <td>False</td>\n",
              "    </tr>\n",
              "    <tr>\n",
              "      <th>9648</th>\n",
              "      <td>b'AnnualCrop'</td>\n",
              "      <td>b'Forest'</td>\n",
              "      <td>False</td>\n",
              "    </tr>\n",
              "    <tr>\n",
              "      <th>5446</th>\n",
              "      <td>b'AnnualCrop'</td>\n",
              "      <td>b'AnnualCrop'</td>\n",
              "      <td>True</td>\n",
              "    </tr>\n",
              "    <tr>\n",
              "      <th>3077</th>\n",
              "      <td>b'AnnualCrop'</td>\n",
              "      <td>b'AnnualCrop'</td>\n",
              "      <td>True</td>\n",
              "    </tr>\n",
              "    <tr>\n",
              "      <th>...</th>\n",
              "      <td>...</td>\n",
              "      <td>...</td>\n",
              "      <td>...</td>\n",
              "    </tr>\n",
              "    <tr>\n",
              "      <th>1810</th>\n",
              "      <td>b'SeaLake'</td>\n",
              "      <td>b'SeaLake'</td>\n",
              "      <td>True</td>\n",
              "    </tr>\n",
              "    <tr>\n",
              "      <th>5438</th>\n",
              "      <td>b'SeaLake'</td>\n",
              "      <td>b'SeaLake'</td>\n",
              "      <td>True</td>\n",
              "    </tr>\n",
              "    <tr>\n",
              "      <th>5450</th>\n",
              "      <td>b'SeaLake'</td>\n",
              "      <td>b'Forest'</td>\n",
              "      <td>False</td>\n",
              "    </tr>\n",
              "    <tr>\n",
              "      <th>3137</th>\n",
              "      <td>b'SeaLake'</td>\n",
              "      <td>b'SeaLake'</td>\n",
              "      <td>True</td>\n",
              "    </tr>\n",
              "    <tr>\n",
              "      <th>9999</th>\n",
              "      <td>b'SeaLake'</td>\n",
              "      <td>b'SeaLake'</td>\n",
              "      <td>True</td>\n",
              "    </tr>\n",
              "  </tbody>\n",
              "</table>\n",
              "<p>10000 rows × 3 columns</p>\n",
              "</div>"
            ],
            "text/plain": [
              "             y_true         y_pred  accurate_preds\n",
              "702   b'AnnualCrop'  b'AnnualCrop'            True\n",
              "5448  b'AnnualCrop'     b'Highway'           False\n",
              "9648  b'AnnualCrop'      b'Forest'           False\n",
              "5446  b'AnnualCrop'  b'AnnualCrop'            True\n",
              "3077  b'AnnualCrop'  b'AnnualCrop'            True\n",
              "...             ...            ...             ...\n",
              "1810     b'SeaLake'     b'SeaLake'            True\n",
              "5438     b'SeaLake'     b'SeaLake'            True\n",
              "5450     b'SeaLake'      b'Forest'           False\n",
              "3137     b'SeaLake'     b'SeaLake'            True\n",
              "9999     b'SeaLake'     b'SeaLake'            True\n",
              "\n",
              "[10000 rows x 3 columns]"
            ]
          },
          "metadata": {},
          "execution_count": 210
        }
      ]
    },
    {
      "cell_type": "code",
      "metadata": {
        "id": "f4nbKMQk-iQy"
      },
      "source": [
        "def model_3(input_shape, drop_rate) :\n",
        "  model_3 = Sequential() \n",
        "  model_3.add( Conv2D(16, (3, 3), padding='same', activation='relu', input_shape=(input_shape)) )\n",
        "  model_3.add(BatchNormalization())\n",
        "  model_3.add( Conv2D(32, (3, 3), padding='same', activation='relu') )\n",
        "  model_3.add( MaxPooling2D((2, 2)) )\n",
        "  model_3.add( Dropout(drop_rate) )\n",
        "  model_3.add( Conv2D(64, (3, 3), padding='same', activation='relu') )\n",
        "  model_3.add( BatchNormalization())\n",
        "  model_3.add( Conv2D(64, (3, 3), padding='same', activation='relu') )\n",
        "  model_3.add( MaxPooling2D((2, 2)) )\n",
        "  model_3.add( Dropout(drop_rate) )\n",
        "  model_3.add( Conv2D(128, (3, 3), padding='same', activation='relu') )\n",
        "  model_3.add( BatchNormalization() )\n",
        "  model_3.add( Conv2D(128, (3, 3), padding='same', activation='relu') )\n",
        "  model_3.add( MaxPooling2D((2, 2)) )\n",
        "  model_3.add( Dropout(drop_rate) )\n",
        "  model_3.add( Flatten() )\n",
        "  model_3.add( Dense(128, activation='relu') )\n",
        "  model_3.add( Dropout(drop_rate) )    \n",
        "  model_3.add( Dense(10,  activation='softmax') )\n",
        "  \n",
        "  model_3.compile(optimizer=tf.keras.optimizers.Adam(learning_rate=0.0001, beta_1=0.9),\n",
        "                  loss=tf.keras.losses.CategoricalCrossentropy(),\n",
        "                  metrics=[tf.keras.metrics.CategoricalAccuracy()])\n",
        "  \n",
        "  return model_3 "
      ],
      "execution_count": 215,
      "outputs": []
    },
    {
      "cell_type": "code",
      "metadata": {
        "id": "Mmnxhk6jBAPf",
        "outputId": "42f19f68-66db-4485-b31b-5fa1119c40b3",
        "colab": {
          "base_uri": "https://localhost:8080/"
        }
      },
      "source": [
        "model_3 = model_3(my_image_train[0].shape, 0.3)\n",
        "model_3.summary()"
      ],
      "execution_count": 216,
      "outputs": [
        {
          "output_type": "stream",
          "name": "stdout",
          "text": [
            "Model: \"sequential_33\"\n",
            "_________________________________________________________________\n",
            "Layer (type)                 Output Shape              Param #   \n",
            "=================================================================\n",
            "conv2d_6 (Conv2D)            (None, 64, 64, 16)        160       \n",
            "_________________________________________________________________\n",
            "batch_normalization_10 (Batc (None, 64, 64, 16)        64        \n",
            "_________________________________________________________________\n",
            "conv2d_7 (Conv2D)            (None, 64, 64, 32)        4640      \n",
            "_________________________________________________________________\n",
            "max_pooling2d_3 (MaxPooling2 (None, 32, 32, 32)        0         \n",
            "_________________________________________________________________\n",
            "dropout_9 (Dropout)          (None, 32, 32, 32)        0         \n",
            "_________________________________________________________________\n",
            "conv2d_8 (Conv2D)            (None, 32, 32, 64)        18496     \n",
            "_________________________________________________________________\n",
            "batch_normalization_11 (Batc (None, 32, 32, 64)        256       \n",
            "_________________________________________________________________\n",
            "conv2d_9 (Conv2D)            (None, 32, 32, 64)        36928     \n",
            "_________________________________________________________________\n",
            "max_pooling2d_4 (MaxPooling2 (None, 16, 16, 64)        0         \n",
            "_________________________________________________________________\n",
            "dropout_10 (Dropout)         (None, 16, 16, 64)        0         \n",
            "_________________________________________________________________\n",
            "conv2d_10 (Conv2D)           (None, 16, 16, 128)       73856     \n",
            "_________________________________________________________________\n",
            "batch_normalization_12 (Batc (None, 16, 16, 128)       512       \n",
            "_________________________________________________________________\n",
            "conv2d_11 (Conv2D)           (None, 16, 16, 128)       147584    \n",
            "_________________________________________________________________\n",
            "max_pooling2d_5 (MaxPooling2 (None, 8, 8, 128)         0         \n",
            "_________________________________________________________________\n",
            "dropout_11 (Dropout)         (None, 8, 8, 128)         0         \n",
            "_________________________________________________________________\n",
            "flatten_17 (Flatten)         (None, 8192)              0         \n",
            "_________________________________________________________________\n",
            "dense_15 (Dense)             (None, 128)               1048704   \n",
            "_________________________________________________________________\n",
            "dropout_12 (Dropout)         (None, 128)               0         \n",
            "_________________________________________________________________\n",
            "dense_16 (Dense)             (None, 10)                1290      \n",
            "=================================================================\n",
            "Total params: 1,332,490\n",
            "Trainable params: 1,332,074\n",
            "Non-trainable params: 416\n",
            "_________________________________________________________________\n"
          ]
        }
      ]
    },
    {
      "cell_type": "code",
      "metadata": {
        "id": "tMVFp-WwBYoh",
        "outputId": "4ea22647-d519-436a-de72-8479a7445453",
        "colab": {
          "base_uri": "https://localhost:8080/"
        }
      },
      "source": [
        "history_3 = model_3.fit(my_image_train, my_train_labels, validation_data=(my_image_test, my_test_labels), \n",
        "                        epochs=100, batch_size=64,callbacks=call, verbose=1)"
      ],
      "execution_count": 217,
      "outputs": [
        {
          "output_type": "stream",
          "name": "stdout",
          "text": [
            "Epoch 1/100\n",
            "157/157 [==============================] - 307s 2s/step - loss: 1.9291 - categorical_accuracy: 0.2997 - val_loss: 2.5994 - val_categorical_accuracy: 0.0792\n",
            "\n",
            "Epoch 00001: saving model to /content/sample_data/checkpoint/checkpoint\n",
            "Epoch 2/100\n",
            "157/157 [==============================] - 307s 2s/step - loss: 1.5263 - categorical_accuracy: 0.4283 - val_loss: 2.9738 - val_categorical_accuracy: 0.1280\n",
            "\n",
            "Epoch 00002: saving model to /content/sample_data/checkpoint/checkpoint\n",
            "Epoch 3/100\n",
            "157/157 [==============================] - 305s 2s/step - loss: 1.3552 - categorical_accuracy: 0.5003 - val_loss: 2.8256 - val_categorical_accuracy: 0.1729\n",
            "\n",
            "Epoch 00003: saving model to /content/sample_data/checkpoint/checkpoint\n",
            "Epoch 4/100\n",
            "157/157 [==============================] - 305s 2s/step - loss: 1.2059 - categorical_accuracy: 0.5705 - val_loss: 1.7561 - val_categorical_accuracy: 0.3964\n",
            "\n",
            "Epoch 00004: saving model to /content/sample_data/checkpoint/checkpoint\n",
            "Epoch 5/100\n",
            "157/157 [==============================] - 305s 2s/step - loss: 1.0569 - categorical_accuracy: 0.6247 - val_loss: 1.4310 - val_categorical_accuracy: 0.5128\n",
            "\n",
            "Epoch 00005: saving model to /content/sample_data/checkpoint/checkpoint\n",
            "Epoch 6/100\n",
            "157/157 [==============================] - 305s 2s/step - loss: 0.9992 - categorical_accuracy: 0.6435 - val_loss: 1.2896 - val_categorical_accuracy: 0.5475\n",
            "\n",
            "Epoch 00006: saving model to /content/sample_data/checkpoint/checkpoint\n",
            "Epoch 7/100\n",
            "157/157 [==============================] - 306s 2s/step - loss: 0.9448 - categorical_accuracy: 0.6676 - val_loss: 1.4198 - val_categorical_accuracy: 0.5093\n",
            "\n",
            "Epoch 00007: saving model to /content/sample_data/checkpoint/checkpoint\n",
            "Epoch 8/100\n",
            "157/157 [==============================] - 306s 2s/step - loss: 0.8798 - categorical_accuracy: 0.6864 - val_loss: 1.3128 - val_categorical_accuracy: 0.5580\n",
            "\n",
            "Epoch 00008: saving model to /content/sample_data/checkpoint/checkpoint\n",
            "Epoch 9/100\n",
            "157/157 [==============================] - 306s 2s/step - loss: 0.8780 - categorical_accuracy: 0.6919 - val_loss: 1.4523 - val_categorical_accuracy: 0.5031\n",
            "\n",
            "Epoch 00009: saving model to /content/sample_data/checkpoint/checkpoint\n",
            "Epoch 10/100\n",
            "157/157 [==============================] - 307s 2s/step - loss: 0.8181 - categorical_accuracy: 0.7090 - val_loss: 1.1549 - val_categorical_accuracy: 0.6018\n",
            "\n",
            "Epoch 00010: saving model to /content/sample_data/checkpoint/checkpoint\n",
            "Epoch 11/100\n",
            "157/157 [==============================] - 307s 2s/step - loss: 0.7888 - categorical_accuracy: 0.7191 - val_loss: 1.1205 - val_categorical_accuracy: 0.6057\n",
            "\n",
            "Epoch 00011: saving model to /content/sample_data/checkpoint/checkpoint\n",
            "Epoch 00011: early stopping\n"
          ]
        }
      ]
    },
    {
      "cell_type": "code",
      "metadata": {
        "id": "EqV1WdlxOt7E",
        "outputId": "53be0b9f-6de7-4407-9673-094f73e06241",
        "colab": {
          "base_uri": "https://localhost:8080/"
        }
      },
      "source": [
        "score = model_3.evaluate(my_image_test, my_test_labels, verbose=1)\n",
        "print('Test loss:', score[0])\n",
        "print('Test accuracy:', score[1])"
      ],
      "execution_count": 218,
      "outputs": [
        {
          "output_type": "stream",
          "name": "stdout",
          "text": [
            "313/313 [==============================] - 62s 198ms/step - loss: 1.1205 - categorical_accuracy: 0.6057\n",
            "Test loss: 1.1205109357833862\n",
            "Test accuracy: 0.6057000160217285\n"
          ]
        }
      ]
    },
    {
      "cell_type": "code",
      "metadata": {
        "id": "FnlkDPkYO1cc",
        "outputId": "daeb4f7c-04f4-41e2-b5e9-26c17ec744e8",
        "colab": {
          "base_uri": "https://localhost:8080/",
          "height": 204
        }
      },
      "source": [
        "\n",
        "frame_3 = pd.DataFrame(history_3.history)\n",
        "frame_3.head()"
      ],
      "execution_count": 219,
      "outputs": [
        {
          "output_type": "execute_result",
          "data": {
            "text/html": [
              "<div>\n",
              "<style scoped>\n",
              "    .dataframe tbody tr th:only-of-type {\n",
              "        vertical-align: middle;\n",
              "    }\n",
              "\n",
              "    .dataframe tbody tr th {\n",
              "        vertical-align: top;\n",
              "    }\n",
              "\n",
              "    .dataframe thead th {\n",
              "        text-align: right;\n",
              "    }\n",
              "</style>\n",
              "<table border=\"1\" class=\"dataframe\">\n",
              "  <thead>\n",
              "    <tr style=\"text-align: right;\">\n",
              "      <th></th>\n",
              "      <th>loss</th>\n",
              "      <th>categorical_accuracy</th>\n",
              "      <th>val_loss</th>\n",
              "      <th>val_categorical_accuracy</th>\n",
              "    </tr>\n",
              "  </thead>\n",
              "  <tbody>\n",
              "    <tr>\n",
              "      <th>0</th>\n",
              "      <td>1.929145</td>\n",
              "      <td>0.2997</td>\n",
              "      <td>2.599350</td>\n",
              "      <td>0.0792</td>\n",
              "    </tr>\n",
              "    <tr>\n",
              "      <th>1</th>\n",
              "      <td>1.526254</td>\n",
              "      <td>0.4283</td>\n",
              "      <td>2.973849</td>\n",
              "      <td>0.1280</td>\n",
              "    </tr>\n",
              "    <tr>\n",
              "      <th>2</th>\n",
              "      <td>1.355216</td>\n",
              "      <td>0.5003</td>\n",
              "      <td>2.825645</td>\n",
              "      <td>0.1729</td>\n",
              "    </tr>\n",
              "    <tr>\n",
              "      <th>3</th>\n",
              "      <td>1.205942</td>\n",
              "      <td>0.5705</td>\n",
              "      <td>1.756075</td>\n",
              "      <td>0.3964</td>\n",
              "    </tr>\n",
              "    <tr>\n",
              "      <th>4</th>\n",
              "      <td>1.056901</td>\n",
              "      <td>0.6247</td>\n",
              "      <td>1.431003</td>\n",
              "      <td>0.5128</td>\n",
              "    </tr>\n",
              "  </tbody>\n",
              "</table>\n",
              "</div>"
            ],
            "text/plain": [
              "       loss  categorical_accuracy  val_loss  val_categorical_accuracy\n",
              "0  1.929145                0.2997  2.599350                    0.0792\n",
              "1  1.526254                0.4283  2.973849                    0.1280\n",
              "2  1.355216                0.5003  2.825645                    0.1729\n",
              "3  1.205942                0.5705  1.756075                    0.3964\n",
              "4  1.056901                0.6247  1.431003                    0.5128"
            ]
          },
          "metadata": {},
          "execution_count": 219
        }
      ]
    },
    {
      "cell_type": "code",
      "metadata": {
        "id": "z-1c9Uh8O9KY",
        "outputId": "c68b6a56-b257-430c-eb95-7d52dbb50ea1",
        "colab": {
          "base_uri": "https://localhost:8080/",
          "height": 369
        }
      },
      "source": [
        "# Plot the learning curves for loss vs epoch and accuracy vs epoch for both training and validation sets.\n",
        "plt.figure(figsize=(10,5))\n",
        "ax1 = plt.subplot(121)\n",
        "plt.plot(history_3.history['loss'])\n",
        "plt.plot(history_3.history['val_loss'])\n",
        "plt.title('Loss vs. epochs')\n",
        "plt.ylabel('Loss')\n",
        "plt.xlabel('Epoch')\n",
        "plt.legend(['Training','Validation'],loc='lower left')\n",
        "ax2 = plt.subplot(122)\n",
        "plt.plot(history_3.history['categorical_accuracy'])\n",
        "plt.plot(history_3.history['val_categorical_accuracy'])\n",
        "plt.title('Accuracy vs. epochs')\n",
        "plt.ylabel('Accuracy')\n",
        "plt.xlabel('Epoch')\n",
        "plt.legend(['Training','Validation'],loc='lower right')\n",
        "plt.tight_layout()\n",
        "plt.show()"
      ],
      "execution_count": 220,
      "outputs": [
        {
          "output_type": "display_data",
          "data": {
            "image/png": "[encoded data removed]",
            "text/plain": [
              "<Figure size 720x360 with 2 Axes>"
            ]
          },
          "metadata": {
            "needs_background": "light"
          }
        }
      ]
    },
    {
      "cell_type": "code",
      "metadata": {
        "id": "ei5TPF3wPrAZ",
        "outputId": "7d369298-1281-45e7-d366-d2cf06b4f1e6",
        "colab": {
          "base_uri": "https://localhost:8080/",
          "height": 359
        }
      },
      "source": [
        "M2_pred_df_3 = eval_model_by_class(model_3, my_image_test)\n",
        "M2_pred_df_3"
      ],
      "execution_count": 221,
      "outputs": [
        {
          "output_type": "execute_result",
          "data": {
            "text/html": [
              "<div>\n",
              "<style scoped>\n",
              "    .dataframe tbody tr th:only-of-type {\n",
              "        vertical-align: middle;\n",
              "    }\n",
              "\n",
              "    .dataframe tbody tr th {\n",
              "        vertical-align: top;\n",
              "    }\n",
              "\n",
              "    .dataframe thead th {\n",
              "        text-align: right;\n",
              "    }\n",
              "</style>\n",
              "<table border=\"1\" class=\"dataframe\">\n",
              "  <thead>\n",
              "    <tr style=\"text-align: right;\">\n",
              "      <th></th>\n",
              "      <th>index</th>\n",
              "      <th>y_true</th>\n",
              "      <th>accurate_preds</th>\n",
              "      <th>label_count</th>\n",
              "      <th>class_acc</th>\n",
              "      <th>overall_acc</th>\n",
              "    </tr>\n",
              "  </thead>\n",
              "  <tbody>\n",
              "    <tr>\n",
              "      <th>0</th>\n",
              "      <td>0</td>\n",
              "      <td>b'AnnualCrop'</td>\n",
              "      <td>611</td>\n",
              "      <td>1000</td>\n",
              "      <td>0.611</td>\n",
              "      <td>0.6057</td>\n",
              "    </tr>\n",
              "    <tr>\n",
              "      <th>1</th>\n",
              "      <td>1</td>\n",
              "      <td>b'Forest'</td>\n",
              "      <td>977</td>\n",
              "      <td>1000</td>\n",
              "      <td>0.977</td>\n",
              "      <td>0.6057</td>\n",
              "    </tr>\n",
              "    <tr>\n",
              "      <th>2</th>\n",
              "      <td>2</td>\n",
              "      <td>b'HerbaceousVegetation'</td>\n",
              "      <td>801</td>\n",
              "      <td>1000</td>\n",
              "      <td>0.801</td>\n",
              "      <td>0.6057</td>\n",
              "    </tr>\n",
              "    <tr>\n",
              "      <th>3</th>\n",
              "      <td>3</td>\n",
              "      <td>b'Highway'</td>\n",
              "      <td>270</td>\n",
              "      <td>1000</td>\n",
              "      <td>0.270</td>\n",
              "      <td>0.6057</td>\n",
              "    </tr>\n",
              "    <tr>\n",
              "      <th>4</th>\n",
              "      <td>4</td>\n",
              "      <td>b'Industrial'</td>\n",
              "      <td>249</td>\n",
              "      <td>1000</td>\n",
              "      <td>0.249</td>\n",
              "      <td>0.6057</td>\n",
              "    </tr>\n",
              "    <tr>\n",
              "      <th>5</th>\n",
              "      <td>5</td>\n",
              "      <td>b'Pasture'</td>\n",
              "      <td>344</td>\n",
              "      <td>1000</td>\n",
              "      <td>0.344</td>\n",
              "      <td>0.6057</td>\n",
              "    </tr>\n",
              "    <tr>\n",
              "      <th>6</th>\n",
              "      <td>6</td>\n",
              "      <td>b'PermanentCrop'</td>\n",
              "      <td>470</td>\n",
              "      <td>1000</td>\n",
              "      <td>0.470</td>\n",
              "      <td>0.6057</td>\n",
              "    </tr>\n",
              "    <tr>\n",
              "      <th>7</th>\n",
              "      <td>7</td>\n",
              "      <td>b'Residential'</td>\n",
              "      <td>979</td>\n",
              "      <td>1000</td>\n",
              "      <td>0.979</td>\n",
              "      <td>0.6057</td>\n",
              "    </tr>\n",
              "    <tr>\n",
              "      <th>8</th>\n",
              "      <td>8</td>\n",
              "      <td>b'River'</td>\n",
              "      <td>378</td>\n",
              "      <td>1000</td>\n",
              "      <td>0.378</td>\n",
              "      <td>0.6057</td>\n",
              "    </tr>\n",
              "    <tr>\n",
              "      <th>9</th>\n",
              "      <td>9</td>\n",
              "      <td>b'SeaLake'</td>\n",
              "      <td>978</td>\n",
              "      <td>1000</td>\n",
              "      <td>0.978</td>\n",
              "      <td>0.6057</td>\n",
              "    </tr>\n",
              "  </tbody>\n",
              "</table>\n",
              "</div>"
            ],
            "text/plain": [
              "   index                   y_true  ...  class_acc  overall_acc\n",
              "0      0            b'AnnualCrop'  ...      0.611       0.6057\n",
              "1      1                b'Forest'  ...      0.977       0.6057\n",
              "2      2  b'HerbaceousVegetation'  ...      0.801       0.6057\n",
              "3      3               b'Highway'  ...      0.270       0.6057\n",
              "4      4            b'Industrial'  ...      0.249       0.6057\n",
              "5      5               b'Pasture'  ...      0.344       0.6057\n",
              "6      6         b'PermanentCrop'  ...      0.470       0.6057\n",
              "7      7           b'Residential'  ...      0.979       0.6057\n",
              "8      8                 b'River'  ...      0.378       0.6057\n",
              "9      9               b'SeaLake'  ...      0.978       0.6057\n",
              "\n",
              "[10 rows x 6 columns]"
            ]
          },
          "metadata": {},
          "execution_count": 221
        }
      ]
    },
    {
      "cell_type": "code",
      "metadata": {
        "id": "scoHSIadPuOL",
        "outputId": "2c87d3dc-71fc-411b-d556-35f1cd811fdd",
        "colab": {
          "base_uri": "https://localhost:8080/",
          "height": 419
        }
      },
      "source": [
        "M3_pred_wrong = find_wrong_preds(model_3, my_image_test)\n",
        "M3_pred_wrong"
      ],
      "execution_count": 222,
      "outputs": [
        {
          "output_type": "execute_result",
          "data": {
            "text/html": [
              "<div>\n",
              "<style scoped>\n",
              "    .dataframe tbody tr th:only-of-type {\n",
              "        vertical-align: middle;\n",
              "    }\n",
              "\n",
              "    .dataframe tbody tr th {\n",
              "        vertical-align: top;\n",
              "    }\n",
              "\n",
              "    .dataframe thead th {\n",
              "        text-align: right;\n",
              "    }\n",
              "</style>\n",
              "<table border=\"1\" class=\"dataframe\">\n",
              "  <thead>\n",
              "    <tr style=\"text-align: right;\">\n",
              "      <th></th>\n",
              "      <th>y_true</th>\n",
              "      <th>y_pred</th>\n",
              "      <th>accurate_preds</th>\n",
              "    </tr>\n",
              "  </thead>\n",
              "  <tbody>\n",
              "    <tr>\n",
              "      <th>702</th>\n",
              "      <td>b'AnnualCrop'</td>\n",
              "      <td>b'AnnualCrop'</td>\n",
              "      <td>True</td>\n",
              "    </tr>\n",
              "    <tr>\n",
              "      <th>5448</th>\n",
              "      <td>b'AnnualCrop'</td>\n",
              "      <td>b'PermanentCrop'</td>\n",
              "      <td>False</td>\n",
              "    </tr>\n",
              "    <tr>\n",
              "      <th>9648</th>\n",
              "      <td>b'AnnualCrop'</td>\n",
              "      <td>b'Pasture'</td>\n",
              "      <td>False</td>\n",
              "    </tr>\n",
              "    <tr>\n",
              "      <th>5446</th>\n",
              "      <td>b'AnnualCrop'</td>\n",
              "      <td>b'AnnualCrop'</td>\n",
              "      <td>True</td>\n",
              "    </tr>\n",
              "    <tr>\n",
              "      <th>3077</th>\n",
              "      <td>b'AnnualCrop'</td>\n",
              "      <td>b'HerbaceousVegetation'</td>\n",
              "      <td>False</td>\n",
              "    </tr>\n",
              "    <tr>\n",
              "      <th>...</th>\n",
              "      <td>...</td>\n",
              "      <td>...</td>\n",
              "      <td>...</td>\n",
              "    </tr>\n",
              "    <tr>\n",
              "      <th>1810</th>\n",
              "      <td>b'SeaLake'</td>\n",
              "      <td>b'SeaLake'</td>\n",
              "      <td>True</td>\n",
              "    </tr>\n",
              "    <tr>\n",
              "      <th>5438</th>\n",
              "      <td>b'SeaLake'</td>\n",
              "      <td>b'SeaLake'</td>\n",
              "      <td>True</td>\n",
              "    </tr>\n",
              "    <tr>\n",
              "      <th>5450</th>\n",
              "      <td>b'SeaLake'</td>\n",
              "      <td>b'SeaLake'</td>\n",
              "      <td>True</td>\n",
              "    </tr>\n",
              "    <tr>\n",
              "      <th>3137</th>\n",
              "      <td>b'SeaLake'</td>\n",
              "      <td>b'SeaLake'</td>\n",
              "      <td>True</td>\n",
              "    </tr>\n",
              "    <tr>\n",
              "      <th>9999</th>\n",
              "      <td>b'SeaLake'</td>\n",
              "      <td>b'SeaLake'</td>\n",
              "      <td>True</td>\n",
              "    </tr>\n",
              "  </tbody>\n",
              "</table>\n",
              "<p>10000 rows × 3 columns</p>\n",
              "</div>"
            ],
            "text/plain": [
              "             y_true                   y_pred  accurate_preds\n",
              "702   b'AnnualCrop'            b'AnnualCrop'            True\n",
              "5448  b'AnnualCrop'         b'PermanentCrop'           False\n",
              "9648  b'AnnualCrop'               b'Pasture'           False\n",
              "5446  b'AnnualCrop'            b'AnnualCrop'            True\n",
              "3077  b'AnnualCrop'  b'HerbaceousVegetation'           False\n",
              "...             ...                      ...             ...\n",
              "1810     b'SeaLake'               b'SeaLake'            True\n",
              "5438     b'SeaLake'               b'SeaLake'            True\n",
              "5450     b'SeaLake'               b'SeaLake'            True\n",
              "3137     b'SeaLake'               b'SeaLake'            True\n",
              "9999     b'SeaLake'               b'SeaLake'            True\n",
              "\n",
              "[10000 rows x 3 columns]"
            ]
          },
          "metadata": {},
          "execution_count": 222
        }
      ]
    },
    {
      "cell_type": "markdown",
      "metadata": {
        "id": "FKx_WpagRWfv"
      },
      "source": [
        "#Fourth model"
      ]
    },
    {
      "cell_type": "code",
      "metadata": {
        "id": "HmW-YqqGRS_5"
      },
      "source": [
        "def model_4 (input_shape) :\n",
        "  model_4 = Sequential ()\n",
        "  model_4.add(Conv2D(32, kernel_size=(3, 3), activation='relu', input_shape=input_shape))\n",
        "  model_4.add(MaxPooling2D(pool_size=(2, 2)))\n",
        "  model_4.add(Conv2D(64, (3, 3), activation='relu'))\n",
        "  model_4.add(MaxPooling2D(pool_size=(2, 2)))\n",
        "  model_4.add(Conv2D(128, (3, 3), activation='relu'))\n",
        "  model_4.add(MaxPooling2D(pool_size=(2, 2)))\n",
        "  model_4.add(Conv2D(256, (3, 3), activation='relu'))\n",
        "  model_4.add(MaxPooling2D(pool_size=(2, 2)))\n",
        "  model_4.add(Flatten())\n",
        "  model_4.add(Dropout(0.5))\n",
        "  model_4.add(Dense(512, activation='relu'))\n",
        "  model_4.add(Dense(num_classes, activation='softmax'))\n",
        "\n",
        "  model_4.compile(optimizer=tf.keras.optimizers.Adam(learning_rate=0.0001, beta_1=0.9),\n",
        "                  loss=tf.keras.losses.CategoricalCrossentropy(),\n",
        "                  metrics=[tf.keras.metrics.CategoricalAccuracy()])\n",
        "  \n",
        "  return model_4 "
      ],
      "execution_count": 223,
      "outputs": []
    },
    {
      "cell_type": "code",
      "metadata": {
        "id": "vEXWhastRTCQ",
        "outputId": "c03565c7-05ed-47db-8bc6-1cdf3365988c",
        "colab": {
          "base_uri": "https://localhost:8080/"
        }
      },
      "source": [
        "model_4 = model_4(my_image_train[0].shape)\n",
        "model_4.summary()"
      ],
      "execution_count": 225,
      "outputs": [
        {
          "output_type": "stream",
          "name": "stdout",
          "text": [
            "Model: \"sequential_34\"\n",
            "_________________________________________________________________\n",
            "Layer (type)                 Output Shape              Param #   \n",
            "=================================================================\n",
            "conv2d_12 (Conv2D)           (None, 62, 62, 32)        320       \n",
            "_________________________________________________________________\n",
            "max_pooling2d_6 (MaxPooling2 (None, 31, 31, 32)        0         \n",
            "_________________________________________________________________\n",
            "conv2d_13 (Conv2D)           (None, 29, 29, 64)        18496     \n",
            "_________________________________________________________________\n",
            "max_pooling2d_7 (MaxPooling2 (None, 14, 14, 64)        0         \n",
            "_________________________________________________________________\n",
            "conv2d_14 (Conv2D)           (None, 12, 12, 128)       73856     \n",
            "_________________________________________________________________\n",
            "max_pooling2d_8 (MaxPooling2 (None, 6, 6, 128)         0         \n",
            "_________________________________________________________________\n",
            "conv2d_15 (Conv2D)           (None, 4, 4, 256)         295168    \n",
            "_________________________________________________________________\n",
            "max_pooling2d_9 (MaxPooling2 (None, 2, 2, 256)         0         \n",
            "_________________________________________________________________\n",
            "flatten_18 (Flatten)         (None, 1024)              0         \n",
            "_________________________________________________________________\n",
            "dropout_13 (Dropout)         (None, 1024)              0         \n",
            "_________________________________________________________________\n",
            "dense_17 (Dense)             (None, 512)               524800    \n",
            "_________________________________________________________________\n",
            "dense_18 (Dense)             (None, 10)                5130      \n",
            "=================================================================\n",
            "Total params: 917,770\n",
            "Trainable params: 917,770\n",
            "Non-trainable params: 0\n",
            "_________________________________________________________________\n"
          ]
        }
      ]
    },
    {
      "cell_type": "code",
      "metadata": {
        "id": "7A9629uASbAi",
        "outputId": "f4c9b80c-3c70-41d4-cf8c-1576bb90b39f",
        "colab": {
          "base_uri": "https://localhost:8080/"
        }
      },
      "source": [
        "history_4 = model_4.fit(my_image_train,my_train_labels, validation_data= (my_image_test, my_test_labels) , \n",
        "                        batch_size=64, epochs=100, callbacks=call, verbose=1)"
      ],
      "execution_count": 226,
      "outputs": [
        {
          "output_type": "stream",
          "name": "stdout",
          "text": [
            "Epoch 1/100\n",
            "157/157 [==============================] - 91s 577ms/step - loss: 2.1348 - categorical_accuracy: 0.1559 - val_loss: 1.7794 - val_categorical_accuracy: 0.3118\n",
            "\n",
            "Epoch 00001: saving model to /content/sample_data/checkpoint/checkpoint\n",
            "Epoch 2/100\n",
            "157/157 [==============================] - 91s 580ms/step - loss: 1.6146 - categorical_accuracy: 0.3451 - val_loss: 1.4487 - val_categorical_accuracy: 0.4032\n",
            "\n",
            "Epoch 00002: saving model to /content/sample_data/checkpoint/checkpoint\n",
            "Epoch 3/100\n",
            "157/157 [==============================] - 91s 580ms/step - loss: 1.4521 - categorical_accuracy: 0.4129 - val_loss: 1.3538 - val_categorical_accuracy: 0.4464\n",
            "\n",
            "Epoch 00003: saving model to /content/sample_data/checkpoint/checkpoint\n",
            "Epoch 4/100\n",
            "157/157 [==============================] - 91s 578ms/step - loss: 1.3425 - categorical_accuracy: 0.4928 - val_loss: 1.2393 - val_categorical_accuracy: 0.5514\n",
            "\n",
            "Epoch 00004: saving model to /content/sample_data/checkpoint/checkpoint\n",
            "Epoch 5/100\n",
            "157/157 [==============================] - 91s 578ms/step - loss: 1.2249 - categorical_accuracy: 0.5559 - val_loss: 1.0876 - val_categorical_accuracy: 0.6258\n",
            "\n",
            "Epoch 00005: saving model to /content/sample_data/checkpoint/checkpoint\n",
            "Epoch 6/100\n",
            "157/157 [==============================] - 91s 578ms/step - loss: 1.1260 - categorical_accuracy: 0.5925 - val_loss: 1.0937 - val_categorical_accuracy: 0.5891\n",
            "\n",
            "Epoch 00006: saving model to /content/sample_data/checkpoint/checkpoint\n",
            "Epoch 7/100\n",
            "157/157 [==============================] - 91s 578ms/step - loss: 1.0538 - categorical_accuracy: 0.6126 - val_loss: 0.9581 - val_categorical_accuracy: 0.6577\n",
            "\n",
            "Epoch 00007: saving model to /content/sample_data/checkpoint/checkpoint\n",
            "Epoch 8/100\n",
            "157/157 [==============================] - 91s 577ms/step - loss: 1.0281 - categorical_accuracy: 0.6229 - val_loss: 0.9249 - val_categorical_accuracy: 0.6690\n",
            "\n",
            "Epoch 00008: saving model to /content/sample_data/checkpoint/checkpoint\n",
            "Epoch 9/100\n",
            "157/157 [==============================] - 91s 578ms/step - loss: 0.9911 - categorical_accuracy: 0.6412 - val_loss: 0.9273 - val_categorical_accuracy: 0.6622\n",
            "\n",
            "Epoch 00009: saving model to /content/sample_data/checkpoint/checkpoint\n",
            "Epoch 10/100\n",
            "157/157 [==============================] - 91s 580ms/step - loss: 0.9692 - categorical_accuracy: 0.6432 - val_loss: 0.9046 - val_categorical_accuracy: 0.6673\n",
            "\n",
            "Epoch 00010: saving model to /content/sample_data/checkpoint/checkpoint\n",
            "Epoch 11/100\n",
            "157/157 [==============================] - 91s 581ms/step - loss: 0.9404 - categorical_accuracy: 0.6525 - val_loss: 0.8799 - val_categorical_accuracy: 0.6808\n",
            "\n",
            "Epoch 00011: saving model to /content/sample_data/checkpoint/checkpoint\n",
            "Epoch 00011: early stopping\n"
          ]
        }
      ]
    },
    {
      "cell_type": "code",
      "metadata": {
        "id": "Hszzc_AfWh5D",
        "outputId": "9332bbfb-ac5d-484a-dc1f-24236612f17a",
        "colab": {
          "base_uri": "https://localhost:8080/"
        }
      },
      "source": [
        "score = model_4.evaluate(my_image_test, my_test_labels, verbose=1)\n",
        "print('Test loss:', score[0])\n",
        "print('Test accuracy:', score[1])"
      ],
      "execution_count": 227,
      "outputs": [
        {
          "output_type": "stream",
          "name": "stdout",
          "text": [
            "313/313 [==============================] - 19s 61ms/step - loss: 0.8799 - categorical_accuracy: 0.6808\n",
            "Test loss: 0.8799192309379578\n",
            "Test accuracy: 0.6808000206947327\n"
          ]
        }
      ]
    },
    {
      "cell_type": "code",
      "metadata": {
        "id": "JrLHHAHHWovx",
        "outputId": "2d55a717-dedc-4752-c265-3a26054e7dec",
        "colab": {
          "base_uri": "https://localhost:8080/",
          "height": 204
        }
      },
      "source": [
        "frame_4 = pd.DataFrame(history_4.history)\n",
        "frame_4.head()"
      ],
      "execution_count": 228,
      "outputs": [
        {
          "output_type": "execute_result",
          "data": {
            "text/html": [
              "<div>\n",
              "<style scoped>\n",
              "    .dataframe tbody tr th:only-of-type {\n",
              "        vertical-align: middle;\n",
              "    }\n",
              "\n",
              "    .dataframe tbody tr th {\n",
              "        vertical-align: top;\n",
              "    }\n",
              "\n",
              "    .dataframe thead th {\n",
              "        text-align: right;\n",
              "    }\n",
              "</style>\n",
              "<table border=\"1\" class=\"dataframe\">\n",
              "  <thead>\n",
              "    <tr style=\"text-align: right;\">\n",
              "      <th></th>\n",
              "      <th>loss</th>\n",
              "      <th>categorical_accuracy</th>\n",
              "      <th>val_loss</th>\n",
              "      <th>val_categorical_accuracy</th>\n",
              "    </tr>\n",
              "  </thead>\n",
              "  <tbody>\n",
              "    <tr>\n",
              "      <th>0</th>\n",
              "      <td>2.134832</td>\n",
              "      <td>0.1559</td>\n",
              "      <td>1.779397</td>\n",
              "      <td>0.3118</td>\n",
              "    </tr>\n",
              "    <tr>\n",
              "      <th>1</th>\n",
              "      <td>1.614592</td>\n",
              "      <td>0.3451</td>\n",
              "      <td>1.448684</td>\n",
              "      <td>0.4032</td>\n",
              "    </tr>\n",
              "    <tr>\n",
              "      <th>2</th>\n",
              "      <td>1.452126</td>\n",
              "      <td>0.4129</td>\n",
              "      <td>1.353849</td>\n",
              "      <td>0.4464</td>\n",
              "    </tr>\n",
              "    <tr>\n",
              "      <th>3</th>\n",
              "      <td>1.342467</td>\n",
              "      <td>0.4928</td>\n",
              "      <td>1.239306</td>\n",
              "      <td>0.5514</td>\n",
              "    </tr>\n",
              "    <tr>\n",
              "      <th>4</th>\n",
              "      <td>1.224889</td>\n",
              "      <td>0.5559</td>\n",
              "      <td>1.087591</td>\n",
              "      <td>0.6258</td>\n",
              "    </tr>\n",
              "  </tbody>\n",
              "</table>\n",
              "</div>"
            ],
            "text/plain": [
              "       loss  categorical_accuracy  val_loss  val_categorical_accuracy\n",
              "0  2.134832                0.1559  1.779397                    0.3118\n",
              "1  1.614592                0.3451  1.448684                    0.4032\n",
              "2  1.452126                0.4129  1.353849                    0.4464\n",
              "3  1.342467                0.4928  1.239306                    0.5514\n",
              "4  1.224889                0.5559  1.087591                    0.6258"
            ]
          },
          "metadata": {},
          "execution_count": 228
        }
      ]
    },
    {
      "cell_type": "code",
      "metadata": {
        "id": "1tXuV5txW_fA",
        "outputId": "649af291-db7a-43b2-d07c-d780e7f042e2",
        "colab": {
          "base_uri": "https://localhost:8080/",
          "height": 369
        }
      },
      "source": [
        "# Plot the learning curves for loss vs epoch and accuracy vs epoch for both training and validation sets.\n",
        "plt.figure(figsize=(10,5))\n",
        "ax1 = plt.subplot(121)\n",
        "plt.plot(history_4.history['loss'])\n",
        "plt.plot(history_4.history['val_loss'])\n",
        "plt.title('Loss vs. epochs')\n",
        "plt.ylabel('Loss')\n",
        "plt.xlabel('Epoch')\n",
        "plt.legend(['Training','Validation'],loc='lower left')\n",
        "ax2 = plt.subplot(122)\n",
        "plt.plot(history_4.history['categorical_accuracy'])\n",
        "plt.plot(history_4.history['val_categorical_accuracy'])\n",
        "plt.title('Accuracy vs. epochs')\n",
        "plt.ylabel('Accuracy')\n",
        "plt.xlabel('Epoch')\n",
        "plt.legend(['Training','Validation'],loc='lower right')\n",
        "plt.tight_layout()\n",
        "plt.show()"
      ],
      "execution_count": 229,
      "outputs": [
        {
          "output_type": "display_data",
          "data": {
            "image/png": "[encoded data removed]",
            "text/plain": [
              "<Figure size 720x360 with 2 Axes>"
            ]
          },
          "metadata": {
            "needs_background": "light"
          }
        }
      ]
    },
    {
      "cell_type": "code",
      "metadata": {
        "id": "fL98XFh8XG6o",
        "outputId": "fe58b5bb-bdc4-4d52-9ce1-d8c71cfaa1db",
        "colab": {
          "base_uri": "https://localhost:8080/",
          "height": 359
        }
      },
      "source": [
        "M2_pred_df_4 = eval_model_by_class(model_4, my_image_test)\n",
        "M2_pred_df_4"
      ],
      "execution_count": 230,
      "outputs": [
        {
          "output_type": "execute_result",
          "data": {
            "text/html": [
              "<div>\n",
              "<style scoped>\n",
              "    .dataframe tbody tr th:only-of-type {\n",
              "        vertical-align: middle;\n",
              "    }\n",
              "\n",
              "    .dataframe tbody tr th {\n",
              "        vertical-align: top;\n",
              "    }\n",
              "\n",
              "    .dataframe thead th {\n",
              "        text-align: right;\n",
              "    }\n",
              "</style>\n",
              "<table border=\"1\" class=\"dataframe\">\n",
              "  <thead>\n",
              "    <tr style=\"text-align: right;\">\n",
              "      <th></th>\n",
              "      <th>index</th>\n",
              "      <th>y_true</th>\n",
              "      <th>accurate_preds</th>\n",
              "      <th>label_count</th>\n",
              "      <th>class_acc</th>\n",
              "      <th>overall_acc</th>\n",
              "    </tr>\n",
              "  </thead>\n",
              "  <tbody>\n",
              "    <tr>\n",
              "      <th>0</th>\n",
              "      <td>0</td>\n",
              "      <td>b'AnnualCrop'</td>\n",
              "      <td>732</td>\n",
              "      <td>1000</td>\n",
              "      <td>0.732</td>\n",
              "      <td>0.6808</td>\n",
              "    </tr>\n",
              "    <tr>\n",
              "      <th>1</th>\n",
              "      <td>1</td>\n",
              "      <td>b'Forest'</td>\n",
              "      <td>918</td>\n",
              "      <td>1000</td>\n",
              "      <td>0.918</td>\n",
              "      <td>0.6808</td>\n",
              "    </tr>\n",
              "    <tr>\n",
              "      <th>2</th>\n",
              "      <td>2</td>\n",
              "      <td>b'HerbaceousVegetation'</td>\n",
              "      <td>180</td>\n",
              "      <td>1000</td>\n",
              "      <td>0.180</td>\n",
              "      <td>0.6808</td>\n",
              "    </tr>\n",
              "    <tr>\n",
              "      <th>3</th>\n",
              "      <td>3</td>\n",
              "      <td>b'Highway'</td>\n",
              "      <td>422</td>\n",
              "      <td>1000</td>\n",
              "      <td>0.422</td>\n",
              "      <td>0.6808</td>\n",
              "    </tr>\n",
              "    <tr>\n",
              "      <th>4</th>\n",
              "      <td>4</td>\n",
              "      <td>b'Industrial'</td>\n",
              "      <td>911</td>\n",
              "      <td>1000</td>\n",
              "      <td>0.911</td>\n",
              "      <td>0.6808</td>\n",
              "    </tr>\n",
              "    <tr>\n",
              "      <th>5</th>\n",
              "      <td>5</td>\n",
              "      <td>b'Pasture'</td>\n",
              "      <td>698</td>\n",
              "      <td>1000</td>\n",
              "      <td>0.698</td>\n",
              "      <td>0.6808</td>\n",
              "    </tr>\n",
              "    <tr>\n",
              "      <th>6</th>\n",
              "      <td>6</td>\n",
              "      <td>b'PermanentCrop'</td>\n",
              "      <td>678</td>\n",
              "      <td>1000</td>\n",
              "      <td>0.678</td>\n",
              "      <td>0.6808</td>\n",
              "    </tr>\n",
              "    <tr>\n",
              "      <th>7</th>\n",
              "      <td>7</td>\n",
              "      <td>b'Residential'</td>\n",
              "      <td>932</td>\n",
              "      <td>1000</td>\n",
              "      <td>0.932</td>\n",
              "      <td>0.6808</td>\n",
              "    </tr>\n",
              "    <tr>\n",
              "      <th>8</th>\n",
              "      <td>8</td>\n",
              "      <td>b'River'</td>\n",
              "      <td>395</td>\n",
              "      <td>1000</td>\n",
              "      <td>0.395</td>\n",
              "      <td>0.6808</td>\n",
              "    </tr>\n",
              "    <tr>\n",
              "      <th>9</th>\n",
              "      <td>9</td>\n",
              "      <td>b'SeaLake'</td>\n",
              "      <td>942</td>\n",
              "      <td>1000</td>\n",
              "      <td>0.942</td>\n",
              "      <td>0.6808</td>\n",
              "    </tr>\n",
              "  </tbody>\n",
              "</table>\n",
              "</div>"
            ],
            "text/plain": [
              "   index                   y_true  ...  class_acc  overall_acc\n",
              "0      0            b'AnnualCrop'  ...      0.732       0.6808\n",
              "1      1                b'Forest'  ...      0.918       0.6808\n",
              "2      2  b'HerbaceousVegetation'  ...      0.180       0.6808\n",
              "3      3               b'Highway'  ...      0.422       0.6808\n",
              "4      4            b'Industrial'  ...      0.911       0.6808\n",
              "5      5               b'Pasture'  ...      0.698       0.6808\n",
              "6      6         b'PermanentCrop'  ...      0.678       0.6808\n",
              "7      7           b'Residential'  ...      0.932       0.6808\n",
              "8      8                 b'River'  ...      0.395       0.6808\n",
              "9      9               b'SeaLake'  ...      0.942       0.6808\n",
              "\n",
              "[10 rows x 6 columns]"
            ]
          },
          "metadata": {},
          "execution_count": 230
        }
      ]
    },
    {
      "cell_type": "code",
      "metadata": {
        "id": "GTfrArx1XRHb"
      },
      "source": [
        ""
      ],
      "execution_count": null,
      "outputs": []
    },
    {
      "cell_type": "code",
      "metadata": {
        "id": "2xoNR3RrQJFC"
      },
      "source": [
        "from keras.utils import plot_model\n",
        "plot_convolutional_filters(img)"
      ],
      "execution_count": null,
      "outputs": []
    },
    {
      "cell_type": "code",
      "metadata": {
        "id": "Z-bNH_LlzExM"
      },
      "source": [
        "import tensorflow_datasets.public_api as tfds\n",
        "\n",
        "tfds.list_builders()"
      ],
      "execution_count": null,
      "outputs": []
    }
  ]
}