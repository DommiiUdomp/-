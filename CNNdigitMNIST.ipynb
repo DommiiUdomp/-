{
  "nbformat": 4,
  "nbformat_minor": 0,
  "metadata": {
    "colab": {
      "name": "CNNdigitMNIST.ipynb",
      "provenance": [],
      "authorship_tag": "ABX9TyM5zutgPPPg+45UVrmVBWCO",
      "include_colab_link": true
    },
    "kernelspec": {
      "name": "python3",
      "display_name": "Python 3"
    },
    "language_info": {
      "name": "python"
    },
    "widgets": {
      "application/vnd.jupyter.widget-state+json": {
        "62894933f5e746b1ae64b55e4d201cfc": {
          "model_module": "@jupyter-widgets/controls",
          "model_name": "HBoxModel",
          "model_module_version": "1.5.0",
          "state": {
            "_view_name": "HBoxView",
            "_dom_classes": [],
            "_model_name": "HBoxModel",
            "_view_module": "@jupyter-widgets/controls",
            "_model_module_version": "1.5.0",
            "_view_count": null,
            "_view_module_version": "1.5.0",
            "box_style": "",
            "layout": "IPY_MODEL_a8f7cb41bbb04058a954cb9cf6f30774",
            "_model_module": "@jupyter-widgets/controls",
            "children": [
              "IPY_MODEL_27b54f1c5d324e908ad07b42c47e370e",
              "IPY_MODEL_1d703dd29a294f84a5f78b72051327ac",
              "IPY_MODEL_3f4903f6fe494de2af59ea8e50ba1a8f"
            ]
          }
        },
        "a8f7cb41bbb04058a954cb9cf6f30774": {
          "model_module": "@jupyter-widgets/base",
          "model_name": "LayoutModel",
          "model_module_version": "1.2.0",
          "state": {
            "_view_name": "LayoutView",
            "grid_template_rows": null,
            "right": null,
            "justify_content": null,
            "_view_module": "@jupyter-widgets/base",
            "overflow": null,
            "_model_module_version": "1.2.0",
            "_view_count": null,
            "flex_flow": null,
            "width": null,
            "min_width": null,
            "border": null,
            "align_items": null,
            "bottom": null,
            "_model_module": "@jupyter-widgets/base",
            "top": null,
            "grid_column": null,
            "overflow_y": null,
            "overflow_x": null,
            "grid_auto_flow": null,
            "grid_area": null,
            "grid_template_columns": null,
            "flex": null,
            "_model_name": "LayoutModel",
            "justify_items": null,
            "grid_row": null,
            "max_height": null,
            "align_content": null,
            "visibility": null,
            "align_self": null,
            "height": null,
            "min_height": null,
            "padding": null,
            "grid_auto_rows": null,
            "grid_gap": null,
            "max_width": null,
            "order": null,
            "_view_module_version": "1.2.0",
            "grid_template_areas": null,
            "object_position": null,
            "object_fit": null,
            "grid_auto_columns": null,
            "margin": null,
            "display": null,
            "left": null
          }
        },
        "27b54f1c5d324e908ad07b42c47e370e": {
          "model_module": "@jupyter-widgets/controls",
          "model_name": "HTMLModel",
          "model_module_version": "1.5.0",
          "state": {
            "_view_name": "HTMLView",
            "style": "IPY_MODEL_5e970e0486cd45699a19655ab580dd02",
            "_dom_classes": [],
            "description": "",
            "_model_name": "HTMLModel",
            "placeholder": "​",
            "_view_module": "@jupyter-widgets/controls",
            "_model_module_version": "1.5.0",
            "value": "Dl Completed...: 100%",
            "_view_count": null,
            "_view_module_version": "1.5.0",
            "description_tooltip": null,
            "_model_module": "@jupyter-widgets/controls",
            "layout": "IPY_MODEL_6ac706da3f4f4fbf95078cb4e453efd1"
          }
        },
        "1d703dd29a294f84a5f78b72051327ac": {
          "model_module": "@jupyter-widgets/controls",
          "model_name": "FloatProgressModel",
          "model_module_version": "1.5.0",
          "state": {
            "_view_name": "ProgressView",
            "style": "IPY_MODEL_9d913546f9f341f38bfa17f635f800bb",
            "_dom_classes": [],
            "description": "",
            "_model_name": "FloatProgressModel",
            "bar_style": "success",
            "max": 4,
            "_view_module": "@jupyter-widgets/controls",
            "_model_module_version": "1.5.0",
            "value": 4,
            "_view_count": null,
            "_view_module_version": "1.5.0",
            "orientation": "horizontal",
            "min": 0,
            "description_tooltip": null,
            "_model_module": "@jupyter-widgets/controls",
            "layout": "IPY_MODEL_305bb281d831428f8b3dc9782747a2db"
          }
        },
        "3f4903f6fe494de2af59ea8e50ba1a8f": {
          "model_module": "@jupyter-widgets/controls",
          "model_name": "HTMLModel",
          "model_module_version": "1.5.0",
          "state": {
            "_view_name": "HTMLView",
            "style": "IPY_MODEL_81d1cabb92df41a8962acf289fa57984",
            "_dom_classes": [],
            "description": "",
            "_model_name": "HTMLModel",
            "placeholder": "​",
            "_view_module": "@jupyter-widgets/controls",
            "_model_module_version": "1.5.0",
            "value": " 4/4 [00:00&lt;00:00,  7.53 file/s]",
            "_view_count": null,
            "_view_module_version": "1.5.0",
            "description_tooltip": null,
            "_model_module": "@jupyter-widgets/controls",
            "layout": "IPY_MODEL_f43b0421695741738c53008ff003d598"
          }
        },
        "5e970e0486cd45699a19655ab580dd02": {
          "model_module": "@jupyter-widgets/controls",
          "model_name": "DescriptionStyleModel",
          "model_module_version": "1.5.0",
          "state": {
            "_view_name": "StyleView",
            "_model_name": "DescriptionStyleModel",
            "description_width": "",
            "_view_module": "@jupyter-widgets/base",
            "_model_module_version": "1.5.0",
            "_view_count": null,
            "_view_module_version": "1.2.0",
            "_model_module": "@jupyter-widgets/controls"
          }
        },
        "6ac706da3f4f4fbf95078cb4e453efd1": {
          "model_module": "@jupyter-widgets/base",
          "model_name": "LayoutModel",
          "model_module_version": "1.2.0",
          "state": {
            "_view_name": "LayoutView",
            "grid_template_rows": null,
            "right": null,
            "justify_content": null,
            "_view_module": "@jupyter-widgets/base",
            "overflow": null,
            "_model_module_version": "1.2.0",
            "_view_count": null,
            "flex_flow": null,
            "width": null,
            "min_width": null,
            "border": null,
            "align_items": null,
            "bottom": null,
            "_model_module": "@jupyter-widgets/base",
            "top": null,
            "grid_column": null,
            "overflow_y": null,
            "overflow_x": null,
            "grid_auto_flow": null,
            "grid_area": null,
            "grid_template_columns": null,
            "flex": null,
            "_model_name": "LayoutModel",
            "justify_items": null,
            "grid_row": null,
            "max_height": null,
            "align_content": null,
            "visibility": null,
            "align_self": null,
            "height": null,
            "min_height": null,
            "padding": null,
            "grid_auto_rows": null,
            "grid_gap": null,
            "max_width": null,
            "order": null,
            "_view_module_version": "1.2.0",
            "grid_template_areas": null,
            "object_position": null,
            "object_fit": null,
            "grid_auto_columns": null,
            "margin": null,
            "display": null,
            "left": null
          }
        },
        "9d913546f9f341f38bfa17f635f800bb": {
          "model_module": "@jupyter-widgets/controls",
          "model_name": "ProgressStyleModel",
          "model_module_version": "1.5.0",
          "state": {
            "_view_name": "StyleView",
            "_model_name": "ProgressStyleModel",
            "description_width": "",
            "_view_module": "@jupyter-widgets/base",
            "_model_module_version": "1.5.0",
            "_view_count": null,
            "_view_module_version": "1.2.0",
            "bar_color": null,
            "_model_module": "@jupyter-widgets/controls"
          }
        },
        "305bb281d831428f8b3dc9782747a2db": {
          "model_module": "@jupyter-widgets/base",
          "model_name": "LayoutModel",
          "model_module_version": "1.2.0",
          "state": {
            "_view_name": "LayoutView",
            "grid_template_rows": null,
            "right": null,
            "justify_content": null,
            "_view_module": "@jupyter-widgets/base",
            "overflow": null,
            "_model_module_version": "1.2.0",
            "_view_count": null,
            "flex_flow": null,
            "width": null,
            "min_width": null,
            "border": null,
            "align_items": null,
            "bottom": null,
            "_model_module": "@jupyter-widgets/base",
            "top": null,
            "grid_column": null,
            "overflow_y": null,
            "overflow_x": null,
            "grid_auto_flow": null,
            "grid_area": null,
            "grid_template_columns": null,
            "flex": null,
            "_model_name": "LayoutModel",
            "justify_items": null,
            "grid_row": null,
            "max_height": null,
            "align_content": null,
            "visibility": null,
            "align_self": null,
            "height": null,
            "min_height": null,
            "padding": null,
            "grid_auto_rows": null,
            "grid_gap": null,
            "max_width": null,
            "order": null,
            "_view_module_version": "1.2.0",
            "grid_template_areas": null,
            "object_position": null,
            "object_fit": null,
            "grid_auto_columns": null,
            "margin": null,
            "display": null,
            "left": null
          }
        },
        "81d1cabb92df41a8962acf289fa57984": {
          "model_module": "@jupyter-widgets/controls",
          "model_name": "DescriptionStyleModel",
          "model_module_version": "1.5.0",
          "state": {
            "_view_name": "StyleView",
            "_model_name": "DescriptionStyleModel",
            "description_width": "",
            "_view_module": "@jupyter-widgets/base",
            "_model_module_version": "1.5.0",
            "_view_count": null,
            "_view_module_version": "1.2.0",
            "_model_module": "@jupyter-widgets/controls"
          }
        },
        "f43b0421695741738c53008ff003d598": {
          "model_module": "@jupyter-widgets/base",
          "model_name": "LayoutModel",
          "model_module_version": "1.2.0",
          "state": {
            "_view_name": "LayoutView",
            "grid_template_rows": null,
            "right": null,
            "justify_content": null,
            "_view_module": "@jupyter-widgets/base",
            "overflow": null,
            "_model_module_version": "1.2.0",
            "_view_count": null,
            "flex_flow": null,
            "width": null,
            "min_width": null,
            "border": null,
            "align_items": null,
            "bottom": null,
            "_model_module": "@jupyter-widgets/base",
            "top": null,
            "grid_column": null,
            "overflow_y": null,
            "overflow_x": null,
            "grid_auto_flow": null,
            "grid_area": null,
            "grid_template_columns": null,
            "flex": null,
            "_model_name": "LayoutModel",
            "justify_items": null,
            "grid_row": null,
            "max_height": null,
            "align_content": null,
            "visibility": null,
            "align_self": null,
            "height": null,
            "min_height": null,
            "padding": null,
            "grid_auto_rows": null,
            "grid_gap": null,
            "max_width": null,
            "order": null,
            "_view_module_version": "1.2.0",
            "grid_template_areas": null,
            "object_position": null,
            "object_fit": null,
            "grid_auto_columns": null,
            "margin": null,
            "display": null,
            "left": null
          }
        }
      }
    }
  },
  "cells": [
    {
      "cell_type": "markdown",
      "metadata": {
        "id": "view-in-github",
        "colab_type": "text"
      },
      "source": [
        "<a href=\"https://colab.research.google.com/github/DommiiUdomp/CNN/blob/main/CNNdigitMNIST.ipynb\" target=\"_parent\"><img src=\"https://colab.research.google.com/assets/colab-badge.svg\" alt=\"Open In Colab\"/></a>"
      ]
    },
    {
      "cell_type": "code",
      "execution_count": 2,
      "metadata": {
        "id": "1wEtzHy6Ou4M"
      },
      "outputs": [],
      "source": [
        "import numpy as np\n",
        "import pandas as pd\n",
        "import tensorflow as tf\n",
        "import tensorflow_datasets as tfds"
      ]
    },
    {
      "cell_type": "code",
      "source": [
        "(img_train, label_train), (img_test, label_test) = tfds.as_numpy(tfds.load(\n",
        "    'mnist',\n",
        "    split=['train', 'test'],\n",
        "    batch_size=-1,\n",
        "    as_supervised=True,\n",
        "))"
      ],
      "metadata": {
        "id": "TPa4ZXHsWfFd",
        "colab": {
          "base_uri": "https://localhost:8080/",
          "height": 312,
          "referenced_widgets": [
            "62894933f5e746b1ae64b55e4d201cfc",
            "a8f7cb41bbb04058a954cb9cf6f30774",
            "27b54f1c5d324e908ad07b42c47e370e",
            "1d703dd29a294f84a5f78b72051327ac",
            "3f4903f6fe494de2af59ea8e50ba1a8f",
            "5e970e0486cd45699a19655ab580dd02",
            "6ac706da3f4f4fbf95078cb4e453efd1",
            "9d913546f9f341f38bfa17f635f800bb",
            "305bb281d831428f8b3dc9782747a2db",
            "81d1cabb92df41a8962acf289fa57984",
            "f43b0421695741738c53008ff003d598"
          ]
        },
        "outputId": "e977b8f5-7b9c-4db1-9bbb-6bf63a405f21"
      },
      "execution_count": 3,
      "outputs": [
        {
          "output_type": "stream",
          "name": "stdout",
          "text": [
            "\u001b[1mDownloading and preparing dataset mnist/3.0.1 (download: 11.06 MiB, generated: 21.00 MiB, total: 32.06 MiB) to /root/tensorflow_datasets/mnist/3.0.1...\u001b[0m\n"
          ]
        },
        {
          "output_type": "stream",
          "name": "stderr",
          "text": [
            "WARNING:absl:Dataset mnist is hosted on GCS. It will automatically be downloaded to your\n",
            "local data directory. If you'd instead prefer to read directly from our public\n",
            "GCS bucket (recommended if you're running on GCP), you can instead pass\n",
            "`try_gcs=True` to `tfds.load` or set `data_dir=gs://tfds-data/datasets`.\n",
            "\n"
          ]
        },
        {
          "output_type": "display_data",
          "data": {
            "application/vnd.jupyter.widget-view+json": {
              "model_id": "62894933f5e746b1ae64b55e4d201cfc",
              "version_minor": 0,
              "version_major": 2
            },
            "text/plain": [
              "Dl Completed...:   0%|          | 0/4 [00:00<?, ? file/s]"
            ]
          },
          "metadata": {}
        },
        {
          "output_type": "stream",
          "name": "stdout",
          "text": [
            "\n",
            "\u001b[1mDataset mnist downloaded and prepared to /root/tensorflow_datasets/mnist/3.0.1. Subsequent calls will reuse this data.\u001b[0m\n",
            "WARNING:tensorflow:From /usr/local/lib/python3.7/dist-packages/tensorflow_datasets/core/dataset_builder.py:598: get_single_element (from tensorflow.python.data.experimental.ops.get_single_element) is deprecated and will be removed in a future version.\n",
            "Instructions for updating:\n",
            "Use `tf.data.Dataset.get_single_element()`.\n"
          ]
        },
        {
          "output_type": "stream",
          "name": "stderr",
          "text": [
            "WARNING:tensorflow:From /usr/local/lib/python3.7/dist-packages/tensorflow_datasets/core/dataset_builder.py:598: get_single_element (from tensorflow.python.data.experimental.ops.get_single_element) is deprecated and will be removed in a future version.\n",
            "Instructions for updating:\n",
            "Use `tf.data.Dataset.get_single_element()`.\n"
          ]
        }
      ]
    },
    {
      "cell_type": "code",
      "source": [
        "ds, info = tfds.load('MNIST', split=['train', 'test'], with_info=True)\n",
        "X_train_image, y_train_label = tfds.as_numpy(tfds.load('MNIST', split='train', batch_size=-1, as_supervised=True))\n",
        "X_test_image, ytest_label = tfds.as_numpy(tfds.load('MNIST', split='test', batch_size=-1, as_supervised=True))\n",
        "print(type(X_train_image), X_train_image.shape)"
      ],
      "metadata": {
        "colab": {
          "base_uri": "https://localhost:8080/"
        },
        "id": "yXj7CcdOO1Px",
        "outputId": "02e48914-82a5-4df5-aebd-b0ea8fa8cae5"
      },
      "execution_count": 4,
      "outputs": [
        {
          "output_type": "stream",
          "name": "stdout",
          "text": [
            "<class 'numpy.ndarray'> (60000, 28, 28, 1)\n"
          ]
        }
      ]
    },
    {
      "cell_type": "code",
      "source": [
        "import matplotlib.pyplot as plt\n",
        "\n",
        "fig, axs = plt.subplots(nrows=10, ncols=10, figsize=(6, 6))\n",
        "for idx, ax in enumerate(axs.ravel()):\n",
        "    ax.imshow(X_train_image[idx].reshape((28, 28)), cmap=plt.cm.binary)\n",
        "    ax.axis(\"off\")\n",
        "_ = fig.suptitle(\"A selection from the MNIST digits dataset\", fontsize=16)"
      ],
      "metadata": {
        "colab": {
          "base_uri": "https://localhost:8080/",
          "height": 400
        },
        "id": "T0eaotQ9WHrr",
        "outputId": "e99e6b2a-9d5a-412a-d23c-9a3a3408339e"
      },
      "execution_count": 5,
      "outputs": [
        {
          "output_type": "display_data",
          "data": {
            "image/png": "[encoded data removed]",
            "text/plain": [
              "<Figure size 432x432 with 100 Axes>"
            ]
          },
          "metadata": {
            "needs_background": "light"
          }
        }
      ]
    },
    {
      "cell_type": "code",
      "source": [
        "label_names, label_y = np.unique(y_train_label, return_inverse=True)\n",
        "label_names"
      ],
      "metadata": {
        "colab": {
          "base_uri": "https://localhost:8080/"
        },
        "id": "Ij-SVkAFYfH8",
        "outputId": "284d05cd-7a61-40ad-8017-82c53c3bfa89"
      },
      "execution_count": 6,
      "outputs": [
        {
          "output_type": "execute_result",
          "data": {
            "text/plain": [
              "array([0, 1, 2, 3, 4, 5, 6, 7, 8, 9])"
            ]
          },
          "metadata": {},
          "execution_count": 6
        }
      ]
    },
    {
      "cell_type": "code",
      "source": [
        "aa = np.array(np.unique(label_y, return_counts=True)).T\n",
        "aa"
      ],
      "metadata": {
        "colab": {
          "base_uri": "https://localhost:8080/"
        },
        "id": "honSVq2CcKgc",
        "outputId": "b07537ed-648e-4f9e-e4c6-2acefdcc19b6"
      },
      "execution_count": 7,
      "outputs": [
        {
          "output_type": "execute_result",
          "data": {
            "text/plain": [
              "array([[   0, 5923],\n",
              "       [   1, 6742],\n",
              "       [   2, 5958],\n",
              "       [   3, 6131],\n",
              "       [   4, 5842],\n",
              "       [   5, 5421],\n",
              "       [   6, 5918],\n",
              "       [   7, 6265],\n",
              "       [   8, 5851],\n",
              "       [   9, 5949]])"
            ]
          },
          "metadata": {},
          "execution_count": 7
        }
      ]
    },
    {
      "cell_type": "code",
      "source": [
        "fig = plt.plot(figsize = (10,5))\n",
        "for i in range(len(label_names)) :\n",
        "  \n",
        "  plt.bar(label_names[i], aa[i, 1], align='center')\n",
        "  plt.xticks(label_names, fontsize=12, rotation=0)\n",
        "  plt.yticks(np.arange(0, 7500, step=500))\n",
        "  plt.title('MNIST Class Distribution', fontsize=15);\n",
        "\n",
        "plt.show()"
      ],
      "metadata": {
        "colab": {
          "base_uri": "https://localhost:8080/",
          "height": 286
        },
        "id": "G7b86B9EYot8",
        "outputId": "faff9129-688c-4d5a-c878-e6e7ac7c7583"
      },
      "execution_count": 8,
      "outputs": [
        {
          "output_type": "display_data",
          "data": {
            "image/png": "[encoded data removed]",
            "text/plain": [
              "<Figure size 432x288 with 1 Axes>"
            ]
          },
          "metadata": {
            "needs_background": "light"
          }
        }
      ]
    },
    {
      "cell_type": "code",
      "source": [
        "from tensorflow.keras.utils import to_categorical\n",
        "\n",
        "X_train = X_train_image.astype('float64') # Convert train and test images into 'float64' type\n",
        "X_test = X_test_image.astype('float64')\n",
        "#Normalize the images data #minimum and maximum values equal to 0 and 1 respectively.\n",
        "X_train_scaled = X_train / 255\n",
        "X_test_scaled = X_test / 255\n",
        "\n",
        "y_train = y_train_label.astype('int64') # Convert train and test labels into 'int64' type\n",
        "y_test = ytest_label.astype('int64')\n",
        "\n",
        "# convert class vectors to binary class matrices\n",
        "num_classes = len(np.array(np.unique(y_train_label)))\n",
        "y_train_class = to_categorical(y_train, num_classes)\n",
        "y_test_class = to_categorical(y_test, num_classes)\n",
        "\n",
        "print(f'Min: {X_train.min()}, Max: {X_train.max()}')\n",
        "print(f'New_Min: {X_train_scaled.min()}, New_Max: {X_train_scaled.max()}')"
      ],
      "metadata": {
        "colab": {
          "base_uri": "https://localhost:8080/"
        },
        "id": "MSdSvqN1qfKR",
        "outputId": "16c73d6c-5941-4d7d-d0c8-0cb3050c63d5"
      },
      "execution_count": 9,
      "outputs": [
        {
          "output_type": "stream",
          "name": "stdout",
          "text": [
            "Min: 0.0, Max: 255.0\n",
            "New_Min: 0.0, New_Max: 1.0\n"
          ]
        }
      ]
    },
    {
      "cell_type": "code",
      "source": [
        "X_grey_train = np.average(X_train_scaled, axis=-1)\n",
        "X_grey_test = np.average(X_test_scaled, axis=-1)\n",
        "print(X_grey_train.shape)"
      ],
      "metadata": {
        "colab": {
          "base_uri": "https://localhost:8080/"
        },
        "id": "Gr86k0VJp018",
        "outputId": "ffa0f737-a9a3-48f0-8716-37f6ce3d5299"
      },
      "execution_count": 10,
      "outputs": [
        {
          "output_type": "stream",
          "name": "stdout",
          "text": [
            "(60000, 28, 28)\n"
          ]
        }
      ]
    },
    {
      "cell_type": "code",
      "source": [
        "l_names = label_names.astype('int')"
      ],
      "metadata": {
        "id": "bB-9jLsQtYpz"
      },
      "execution_count": 11,
      "outputs": []
    },
    {
      "cell_type": "code",
      "source": [
        "#Plot prepared Data\n",
        "def random_plot(X,y):\n",
        "  num_test_images = X_train_image.shape[0]\n",
        "  random_inx = np.random.choice(num_test_images, 32)\n",
        "  random_test_images = X_grey_train[random_inx, ...]\n",
        "  random_test_labels = y_train_label[random_inx, ...]\n",
        "  \n",
        "  plt.figure(figsize=(20, 8))\n",
        "  for i in range(32):\n",
        "    plt.subplot(4, 8, i+1, xticks=[], yticks=[])\n",
        "    plt.imshow(random_test_images[i], cmap = plt.cm.gray)\n",
        "    plt.title(l_names[random_test_labels[i]])\n",
        "\n",
        "  plt.show()\n",
        "\n",
        "random_plot(X_test_image,y_train_label)"
      ],
      "metadata": {
        "colab": {
          "base_uri": "https://localhost:8080/",
          "height": 415
        },
        "id": "ePFqIV6YdGlZ",
        "outputId": "d5c1837b-32fb-41e8-d50b-0eafb51637b2"
      },
      "execution_count": 12,
      "outputs": [
        {
          "output_type": "display_data",
          "data": {
            "image/png": "[encoded data removed]",
            "text/plain": [
              "<Figure size 1440x576 with 32 Axes>"
            ]
          },
          "metadata": {}
        }
      ]
    },
    {
      "cell_type": "code",
      "source": [
        "from sklearn.utils import shuffle\n",
        "\n",
        "smallest_class = np.argmin(np.bincount(y_train_label)) # find the smallest class\n",
        "print(f' the smallest class: {smallest_class}')\n",
        "\n",
        "num_classes = len(np.array(np.unique(y_train_label))) # number of classes\n",
        "print(f' the number of classes: {num_classes}')\n",
        "\n",
        "smallest_class_obs = np.where(y_train_label == smallest_class)[0] # observations in smallest class\n",
        "print(f' observations in smallest class:{smallest_class_obs.shape}')\n",
        "\n",
        "# Get 2000 observations from each class\n",
        "indBal = np.empty(0, dtype=int)\n",
        "for i in range(num_classes):\n",
        "  indTemp = shuffle(np.where(y_train_label == i)[0], random_state=42)[0:smallest_class_obs.shape[0]]\n",
        "  indBal = np.concatenate([indBal, indTemp])\n",
        "\n",
        "# shuffle the balanced index\n",
        "indBal = shuffle(indBal, random_state = 101)"
      ],
      "metadata": {
        "colab": {
          "base_uri": "https://localhost:8080/"
        },
        "id": "IFXvuxZWurJi",
        "outputId": "47766b49-cfde-438a-eb61-8c61587422cd"
      },
      "execution_count": 13,
      "outputs": [
        {
          "output_type": "stream",
          "name": "stdout",
          "text": [
            " the smallest class: 5\n",
            " the number of classes: 10\n",
            " observations in smallest class:(5421,)\n"
          ]
        }
      ]
    },
    {
      "cell_type": "code",
      "source": [
        "#Make training dataset balance\n",
        "y_trainclass_bal = y_train_class[indBal]\n",
        "y_train_bal = y_train_label[indBal]\n",
        "X_train_bal = X_train_scaled[indBal]\n",
        "print(y_trainclass_bal.shape)\n",
        "print(y_train_bal.shape)\n",
        "print(X_train_bal.shape)"
      ],
      "metadata": {
        "colab": {
          "base_uri": "https://localhost:8080/"
        },
        "id": "ls1MjZsVvGZC",
        "outputId": "a12b9e2f-0f2f-4ea8-e6c9-46a3ee1e41d4"
      },
      "execution_count": 14,
      "outputs": [
        {
          "output_type": "stream",
          "name": "stdout",
          "text": [
            "(54210, 10)\n",
            "(54210,)\n",
            "(54210, 28, 28, 1)\n"
          ]
        }
      ]
    },
    {
      "cell_type": "code",
      "source": [
        "# One-hot encoding of train and test labels\n",
        "\n",
        "# Convert the training and test images to grayscale by taking the average across all colour channels for each pixel. \n",
        "# Hint: retain the channel dimension, which will now have size 1.\n",
        "from sklearn.preprocessing import LabelBinarizer\n",
        "\n",
        "lb = LabelBinarizer()\n",
        "y_train_balbi = lb.fit_transform(y_trainclass_bal)\n",
        "y_test_classbi = lb.fit_transform(y_test_class)\n",
        "print(y_train_balbi.shape)\n",
        "print(y_test_classbi.shape)"
      ],
      "metadata": {
        "colab": {
          "base_uri": "https://localhost:8080/"
        },
        "id": "o0FasFbo0isy",
        "outputId": "76043c0d-4e74-4ee1-f4ac-02d7b3565fbb"
      },
      "execution_count": 15,
      "outputs": [
        {
          "output_type": "stream",
          "name": "stdout",
          "text": [
            "(54210, 10)\n",
            "(10000, 10)\n"
          ]
        }
      ]
    },
    {
      "cell_type": "code",
      "source": [
        "from tensorflow.keras.models import Sequential\n",
        "from tensorflow.keras.layers import Dense, Flatten\n",
        "\n",
        "model = Sequential ( [\n",
        "                      Flatten (input_shape = X_train_bal[0].shape),\n",
        "                      Dense (100, activation = 'relu', kernel_initializer='he_uniform',bias_initializer=\"ones\", \n",
        "                             kernel_regularizer=tf.keras.regularizers.l1(1e-8) ),\n",
        "                      Dense (100, activation = 'relu', kernel_initializer='he_uniform',bias_initializer=\"ones\", \n",
        "                             kernel_regularizer=tf.keras.regularizers.l1(1e-8)),\n",
        "                      Dense (100, activation = 'relu', kernel_initializer='he_uniform',bias_initializer=\"ones\", \n",
        "                             kernel_regularizer=tf.keras.regularizers.l1(1e-8)),\n",
        "                      Dense (10, activation = 'softmax'),])\n",
        "\n",
        "model.compile ( optimizer = tf.keras.optimizers.Adam(learning_rate=1e-5),\n",
        "               loss = tf.keras.losses.CategoricalCrossentropy() ,\n",
        "               metrics = [ tf.keras.metrics.CategoricalAccuracy() ])\n",
        "\n",
        "model.summary()"
      ],
      "metadata": {
        "colab": {
          "base_uri": "https://localhost:8080/"
        },
        "id": "2954waDkxOVb",
        "outputId": "f80cdf53-2ff0-4a31-bef1-a40e2b895821"
      },
      "execution_count": 16,
      "outputs": [
        {
          "output_type": "stream",
          "name": "stdout",
          "text": [
            "Model: \"sequential\"\n",
            "_________________________________________________________________\n",
            " Layer (type)                Output Shape              Param #   \n",
            "=================================================================\n",
            " flatten (Flatten)           (None, 784)               0         \n",
            "                                                                 \n",
            " dense (Dense)               (None, 100)               78500     \n",
            "                                                                 \n",
            " dense_1 (Dense)             (None, 100)               10100     \n",
            "                                                                 \n",
            " dense_2 (Dense)             (None, 100)               10100     \n",
            "                                                                 \n",
            " dense_3 (Dense)             (None, 10)                1010      \n",
            "                                                                 \n",
            "=================================================================\n",
            "Total params: 99,710\n",
            "Trainable params: 99,710\n",
            "Non-trainable params: 0\n",
            "_________________________________________________________________\n"
          ]
        }
      ]
    },
    {
      "cell_type": "code",
      "source": [
        "tf.config.run_functions_eagerly(True)"
      ],
      "metadata": {
        "id": "QFEZsGzoz3WS"
      },
      "execution_count": 17,
      "outputs": []
    },
    {
      "cell_type": "code",
      "source": [
        "history = model.fit(X_train_bal,y_train_balbi, validation_split= 0.15 , batch_size=28, epochs=100, verbose=1)"
      ],
      "metadata": {
        "colab": {
          "base_uri": "https://localhost:8080/"
        },
        "id": "Yuc-40YWzDwE",
        "outputId": "65453d44-39a6-4caf-a777-8724a182f43a"
      },
      "execution_count": 18,
      "outputs": [
        {
          "output_type": "stream",
          "name": "stdout",
          "text": [
            "Epoch 1/100\n"
          ]
        },
        {
          "output_type": "stream",
          "name": "stderr",
          "text": [
            "/usr/local/lib/python3.7/dist-packages/tensorflow/python/data/ops/dataset_ops.py:4527: UserWarning: Even though the `tf.config.experimental_run_functions_eagerly` option is set, this option does not apply to tf.data functions. To force eager execution of tf.data functions, please use `tf.data.experimental.enable_debug_mode()`.\n",
            "  \"Even though the `tf.config.experimental_run_functions_eagerly` \"\n"
          ]
        },
        {
          "output_type": "stream",
          "name": "stdout",
          "text": [
            "1646/1646 [==============================] - 37s 22ms/step - loss: 2.2829 - categorical_accuracy: 0.4492 - val_loss: 1.1370 - val_categorical_accuracy: 0.7111\n",
            "Epoch 2/100\n",
            "1646/1646 [==============================] - 37s 22ms/step - loss: 0.8777 - categorical_accuracy: 0.7822 - val_loss: 0.7066 - val_categorical_accuracy: 0.8239\n",
            "Epoch 3/100\n",
            "1646/1646 [==============================] - 37s 22ms/step - loss: 0.5992 - categorical_accuracy: 0.8469 - val_loss: 0.5287 - val_categorical_accuracy: 0.8618\n",
            "Epoch 4/100\n",
            "1646/1646 [==============================] - 36s 22ms/step - loss: 0.4783 - categorical_accuracy: 0.8719 - val_loss: 0.4454 - val_categorical_accuracy: 0.8792\n",
            "Epoch 5/100\n",
            "1646/1646 [==============================] - 39s 24ms/step - loss: 0.4154 - categorical_accuracy: 0.8863 - val_loss: 0.3970 - val_categorical_accuracy: 0.8881\n",
            "Epoch 6/100\n",
            "1646/1646 [==============================] - 40s 25ms/step - loss: 0.3769 - categorical_accuracy: 0.8956 - val_loss: 0.3664 - val_categorical_accuracy: 0.8963\n",
            "Epoch 7/100\n",
            "1646/1646 [==============================] - 42s 25ms/step - loss: 0.3504 - categorical_accuracy: 0.9012 - val_loss: 0.3438 - val_categorical_accuracy: 0.9030\n",
            "Epoch 8/100\n",
            "1646/1646 [==============================] - 37s 23ms/step - loss: 0.3303 - categorical_accuracy: 0.9067 - val_loss: 0.3266 - val_categorical_accuracy: 0.9074\n",
            "Epoch 9/100\n",
            "1646/1646 [==============================] - 40s 24ms/step - loss: 0.3140 - categorical_accuracy: 0.9111 - val_loss: 0.3122 - val_categorical_accuracy: 0.9099\n",
            "Epoch 10/100\n",
            "1646/1646 [==============================] - 37s 22ms/step - loss: 0.3005 - categorical_accuracy: 0.9136 - val_loss: 0.3015 - val_categorical_accuracy: 0.9148\n",
            "Epoch 11/100\n",
            "1646/1646 [==============================] - 37s 23ms/step - loss: 0.2893 - categorical_accuracy: 0.9174 - val_loss: 0.2928 - val_categorical_accuracy: 0.9156\n",
            "Epoch 12/100\n",
            "1646/1646 [==============================] - 40s 24ms/step - loss: 0.2794 - categorical_accuracy: 0.9204 - val_loss: 0.2831 - val_categorical_accuracy: 0.9192\n",
            "Epoch 13/100\n",
            "1646/1646 [==============================] - 39s 24ms/step - loss: 0.2703 - categorical_accuracy: 0.9224 - val_loss: 0.2760 - val_categorical_accuracy: 0.9218\n",
            "Epoch 14/100\n",
            "1646/1646 [==============================] - 39s 24ms/step - loss: 0.2621 - categorical_accuracy: 0.9250 - val_loss: 0.2695 - val_categorical_accuracy: 0.9251\n",
            "Epoch 15/100\n",
            "1646/1646 [==============================] - 39s 24ms/step - loss: 0.2549 - categorical_accuracy: 0.9265 - val_loss: 0.2619 - val_categorical_accuracy: 0.9277\n",
            "Epoch 16/100\n",
            "1646/1646 [==============================] - 37s 22ms/step - loss: 0.2479 - categorical_accuracy: 0.9286 - val_loss: 0.2568 - val_categorical_accuracy: 0.9287\n",
            "Epoch 17/100\n",
            "1646/1646 [==============================] - 40s 24ms/step - loss: 0.2414 - categorical_accuracy: 0.9304 - val_loss: 0.2513 - val_categorical_accuracy: 0.9311\n",
            "Epoch 18/100\n",
            "1646/1646 [==============================] - 37s 23ms/step - loss: 0.2352 - categorical_accuracy: 0.9321 - val_loss: 0.2462 - val_categorical_accuracy: 0.9324\n",
            "Epoch 19/100\n",
            "1646/1646 [==============================] - 36s 22ms/step - loss: 0.2295 - categorical_accuracy: 0.9334 - val_loss: 0.2410 - val_categorical_accuracy: 0.9327\n",
            "Epoch 20/100\n",
            "1646/1646 [==============================] - 36s 22ms/step - loss: 0.2239 - categorical_accuracy: 0.9356 - val_loss: 0.2361 - val_categorical_accuracy: 0.9340\n",
            "Epoch 21/100\n",
            "1646/1646 [==============================] - 38s 23ms/step - loss: 0.2187 - categorical_accuracy: 0.9364 - val_loss: 0.2327 - val_categorical_accuracy: 0.9348\n",
            "Epoch 22/100\n",
            "1646/1646 [==============================] - 37s 22ms/step - loss: 0.2141 - categorical_accuracy: 0.9385 - val_loss: 0.2271 - val_categorical_accuracy: 0.9359\n",
            "Epoch 23/100\n",
            "1646/1646 [==============================] - 40s 24ms/step - loss: 0.2094 - categorical_accuracy: 0.9390 - val_loss: 0.2232 - val_categorical_accuracy: 0.9377\n",
            "Epoch 24/100\n",
            "1646/1646 [==============================] - 40s 24ms/step - loss: 0.2050 - categorical_accuracy: 0.9408 - val_loss: 0.2210 - val_categorical_accuracy: 0.9389\n",
            "Epoch 25/100\n",
            "1646/1646 [==============================] - 40s 24ms/step - loss: 0.2011 - categorical_accuracy: 0.9413 - val_loss: 0.2160 - val_categorical_accuracy: 0.9394\n",
            "Epoch 26/100\n",
            "1646/1646 [==============================] - 39s 24ms/step - loss: 0.1971 - categorical_accuracy: 0.9421 - val_loss: 0.2128 - val_categorical_accuracy: 0.9415\n",
            "Epoch 27/100\n",
            "1646/1646 [==============================] - 37s 23ms/step - loss: 0.1933 - categorical_accuracy: 0.9435 - val_loss: 0.2099 - val_categorical_accuracy: 0.9421\n",
            "Epoch 28/100\n",
            "1646/1646 [==============================] - 39s 24ms/step - loss: 0.1898 - categorical_accuracy: 0.9444 - val_loss: 0.2064 - val_categorical_accuracy: 0.9431\n",
            "Epoch 29/100\n",
            "1646/1646 [==============================] - 37s 22ms/step - loss: 0.1862 - categorical_accuracy: 0.9459 - val_loss: 0.2039 - val_categorical_accuracy: 0.9445\n",
            "Epoch 30/100\n",
            "1646/1646 [==============================] - 37s 22ms/step - loss: 0.1829 - categorical_accuracy: 0.9465 - val_loss: 0.2007 - val_categorical_accuracy: 0.9447\n",
            "Epoch 31/100\n",
            "1646/1646 [==============================] - 39s 24ms/step - loss: 0.1795 - categorical_accuracy: 0.9477 - val_loss: 0.1989 - val_categorical_accuracy: 0.9450\n",
            "Epoch 32/100\n",
            "1646/1646 [==============================] - 36s 22ms/step - loss: 0.1764 - categorical_accuracy: 0.9484 - val_loss: 0.1966 - val_categorical_accuracy: 0.9448\n",
            "Epoch 33/100\n",
            "1646/1646 [==============================] - 37s 22ms/step - loss: 0.1735 - categorical_accuracy: 0.9493 - val_loss: 0.1933 - val_categorical_accuracy: 0.9472\n",
            "Epoch 34/100\n",
            "1646/1646 [==============================] - 39s 24ms/step - loss: 0.1705 - categorical_accuracy: 0.9497 - val_loss: 0.1910 - val_categorical_accuracy: 0.9480\n",
            "Epoch 35/100\n",
            "1646/1646 [==============================] - 37s 22ms/step - loss: 0.1678 - categorical_accuracy: 0.9508 - val_loss: 0.1889 - val_categorical_accuracy: 0.9493\n",
            "Epoch 36/100\n",
            "1646/1646 [==============================] - 37s 22ms/step - loss: 0.1651 - categorical_accuracy: 0.9514 - val_loss: 0.1871 - val_categorical_accuracy: 0.9493\n",
            "Epoch 37/100\n",
            "1646/1646 [==============================] - 37s 22ms/step - loss: 0.1624 - categorical_accuracy: 0.9522 - val_loss: 0.1835 - val_categorical_accuracy: 0.9511\n",
            "Epoch 38/100\n",
            "1646/1646 [==============================] - 37s 22ms/step - loss: 0.1598 - categorical_accuracy: 0.9527 - val_loss: 0.1819 - val_categorical_accuracy: 0.9507\n",
            "Epoch 39/100\n",
            "1646/1646 [==============================] - 36s 22ms/step - loss: 0.1573 - categorical_accuracy: 0.9538 - val_loss: 0.1803 - val_categorical_accuracy: 0.9507\n",
            "Epoch 40/100\n",
            "1646/1646 [==============================] - 36s 22ms/step - loss: 0.1548 - categorical_accuracy: 0.9547 - val_loss: 0.1780 - val_categorical_accuracy: 0.9517\n",
            "Epoch 41/100\n",
            "1646/1646 [==============================] - 36s 22ms/step - loss: 0.1526 - categorical_accuracy: 0.9555 - val_loss: 0.1752 - val_categorical_accuracy: 0.9524\n",
            "Epoch 42/100\n",
            "1646/1646 [==============================] - 37s 22ms/step - loss: 0.1502 - categorical_accuracy: 0.9562 - val_loss: 0.1747 - val_categorical_accuracy: 0.9525\n",
            "Epoch 43/100\n",
            "1646/1646 [==============================] - 36s 22ms/step - loss: 0.1481 - categorical_accuracy: 0.9564 - val_loss: 0.1723 - val_categorical_accuracy: 0.9528\n",
            "Epoch 44/100\n",
            "1646/1646 [==============================] - 36s 22ms/step - loss: 0.1458 - categorical_accuracy: 0.9572 - val_loss: 0.1706 - val_categorical_accuracy: 0.9543\n",
            "Epoch 45/100\n",
            "1646/1646 [==============================] - 37s 22ms/step - loss: 0.1438 - categorical_accuracy: 0.9578 - val_loss: 0.1694 - val_categorical_accuracy: 0.9535\n",
            "Epoch 46/100\n",
            "1646/1646 [==============================] - 37s 22ms/step - loss: 0.1418 - categorical_accuracy: 0.9585 - val_loss: 0.1674 - val_categorical_accuracy: 0.9543\n",
            "Epoch 47/100\n",
            "1646/1646 [==============================] - 37s 22ms/step - loss: 0.1398 - categorical_accuracy: 0.9591 - val_loss: 0.1665 - val_categorical_accuracy: 0.9541\n",
            "Epoch 48/100\n",
            "1646/1646 [==============================] - 36s 22ms/step - loss: 0.1378 - categorical_accuracy: 0.9596 - val_loss: 0.1647 - val_categorical_accuracy: 0.9549\n",
            "Epoch 49/100\n",
            "1646/1646 [==============================] - 36s 22ms/step - loss: 0.1360 - categorical_accuracy: 0.9603 - val_loss: 0.1629 - val_categorical_accuracy: 0.9552\n",
            "Epoch 50/100\n",
            "1646/1646 [==============================] - 36s 22ms/step - loss: 0.1339 - categorical_accuracy: 0.9612 - val_loss: 0.1617 - val_categorical_accuracy: 0.9557\n",
            "Epoch 51/100\n",
            "1646/1646 [==============================] - 39s 24ms/step - loss: 0.1321 - categorical_accuracy: 0.9615 - val_loss: 0.1602 - val_categorical_accuracy: 0.9566\n",
            "Epoch 52/100\n",
            "1646/1646 [==============================] - 36s 22ms/step - loss: 0.1304 - categorical_accuracy: 0.9620 - val_loss: 0.1594 - val_categorical_accuracy: 0.9559\n",
            "Epoch 53/100\n",
            "1646/1646 [==============================] - 39s 24ms/step - loss: 0.1287 - categorical_accuracy: 0.9623 - val_loss: 0.1571 - val_categorical_accuracy: 0.9563\n",
            "Epoch 54/100\n",
            "1646/1646 [==============================] - 36s 22ms/step - loss: 0.1270 - categorical_accuracy: 0.9628 - val_loss: 0.1575 - val_categorical_accuracy: 0.9557\n",
            "Epoch 55/100\n",
            "1646/1646 [==============================] - 36s 22ms/step - loss: 0.1255 - categorical_accuracy: 0.9635 - val_loss: 0.1550 - val_categorical_accuracy: 0.9573\n",
            "Epoch 56/100\n",
            "1646/1646 [==============================] - 36s 22ms/step - loss: 0.1237 - categorical_accuracy: 0.9640 - val_loss: 0.1539 - val_categorical_accuracy: 0.9568\n",
            "Epoch 57/100\n",
            "1646/1646 [==============================] - 36s 22ms/step - loss: 0.1222 - categorical_accuracy: 0.9644 - val_loss: 0.1528 - val_categorical_accuracy: 0.9578\n",
            "Epoch 58/100\n",
            "1646/1646 [==============================] - 36s 22ms/step - loss: 0.1206 - categorical_accuracy: 0.9657 - val_loss: 0.1515 - val_categorical_accuracy: 0.9575\n",
            "Epoch 59/100\n",
            "1646/1646 [==============================] - 40s 24ms/step - loss: 0.1189 - categorical_accuracy: 0.9657 - val_loss: 0.1507 - val_categorical_accuracy: 0.9587\n",
            "Epoch 60/100\n",
            "1646/1646 [==============================] - 37s 22ms/step - loss: 0.1176 - categorical_accuracy: 0.9659 - val_loss: 0.1494 - val_categorical_accuracy: 0.9587\n",
            "Epoch 61/100\n",
            "1646/1646 [==============================] - 42s 26ms/step - loss: 0.1160 - categorical_accuracy: 0.9665 - val_loss: 0.1489 - val_categorical_accuracy: 0.9592\n",
            "Epoch 62/100\n",
            "1646/1646 [==============================] - 39s 24ms/step - loss: 0.1145 - categorical_accuracy: 0.9668 - val_loss: 0.1477 - val_categorical_accuracy: 0.9582\n",
            "Epoch 63/100\n",
            "1646/1646 [==============================] - 39s 24ms/step - loss: 0.1131 - categorical_accuracy: 0.9674 - val_loss: 0.1460 - val_categorical_accuracy: 0.9593\n",
            "Epoch 64/100\n",
            "1646/1646 [==============================] - 41s 25ms/step - loss: 0.1116 - categorical_accuracy: 0.9678 - val_loss: 0.1452 - val_categorical_accuracy: 0.9593\n",
            "Epoch 65/100\n",
            "1646/1646 [==============================] - 39s 23ms/step - loss: 0.1103 - categorical_accuracy: 0.9683 - val_loss: 0.1446 - val_categorical_accuracy: 0.9597\n",
            "Epoch 66/100\n",
            "1646/1646 [==============================] - 39s 24ms/step - loss: 0.1091 - categorical_accuracy: 0.9685 - val_loss: 0.1435 - val_categorical_accuracy: 0.9597\n",
            "Epoch 67/100\n",
            "1646/1646 [==============================] - 39s 24ms/step - loss: 0.1077 - categorical_accuracy: 0.9692 - val_loss: 0.1425 - val_categorical_accuracy: 0.9587\n",
            "Epoch 68/100\n",
            "1646/1646 [==============================] - 39s 24ms/step - loss: 0.1062 - categorical_accuracy: 0.9697 - val_loss: 0.1420 - val_categorical_accuracy: 0.9598\n",
            "Epoch 69/100\n",
            "1646/1646 [==============================] - 40s 24ms/step - loss: 0.1049 - categorical_accuracy: 0.9698 - val_loss: 0.1417 - val_categorical_accuracy: 0.9592\n",
            "Epoch 70/100\n",
            "1646/1646 [==============================] - 39s 24ms/step - loss: 0.1038 - categorical_accuracy: 0.9702 - val_loss: 0.1392 - val_categorical_accuracy: 0.9603\n",
            "Epoch 71/100\n",
            "1646/1646 [==============================] - 39s 23ms/step - loss: 0.1025 - categorical_accuracy: 0.9709 - val_loss: 0.1401 - val_categorical_accuracy: 0.9599\n",
            "Epoch 72/100\n",
            "1646/1646 [==============================] - 39s 24ms/step - loss: 0.1012 - categorical_accuracy: 0.9711 - val_loss: 0.1387 - val_categorical_accuracy: 0.9597\n",
            "Epoch 73/100\n",
            "1646/1646 [==============================] - 39s 23ms/step - loss: 0.1001 - categorical_accuracy: 0.9714 - val_loss: 0.1372 - val_categorical_accuracy: 0.9608\n",
            "Epoch 74/100\n",
            "1646/1646 [==============================] - 38s 23ms/step - loss: 0.0989 - categorical_accuracy: 0.9720 - val_loss: 0.1363 - val_categorical_accuracy: 0.9606\n",
            "Epoch 75/100\n",
            "1646/1646 [==============================] - 41s 25ms/step - loss: 0.0977 - categorical_accuracy: 0.9718 - val_loss: 0.1353 - val_categorical_accuracy: 0.9611\n",
            "Epoch 76/100\n",
            "1646/1646 [==============================] - 39s 24ms/step - loss: 0.0965 - categorical_accuracy: 0.9723 - val_loss: 0.1353 - val_categorical_accuracy: 0.9611\n",
            "Epoch 77/100\n",
            "1646/1646 [==============================] - 39s 24ms/step - loss: 0.0955 - categorical_accuracy: 0.9730 - val_loss: 0.1349 - val_categorical_accuracy: 0.9610\n",
            "Epoch 78/100\n",
            "1646/1646 [==============================] - 41s 25ms/step - loss: 0.0943 - categorical_accuracy: 0.9733 - val_loss: 0.1343 - val_categorical_accuracy: 0.9611\n",
            "Epoch 79/100\n",
            "1646/1646 [==============================] - 41s 25ms/step - loss: 0.0932 - categorical_accuracy: 0.9737 - val_loss: 0.1336 - val_categorical_accuracy: 0.9608\n",
            "Epoch 80/100\n",
            "1646/1646 [==============================] - 41s 25ms/step - loss: 0.0921 - categorical_accuracy: 0.9736 - val_loss: 0.1320 - val_categorical_accuracy: 0.9619\n",
            "Epoch 81/100\n",
            "1646/1646 [==============================] - 38s 23ms/step - loss: 0.0911 - categorical_accuracy: 0.9740 - val_loss: 0.1320 - val_categorical_accuracy: 0.9613\n",
            "Epoch 82/100\n",
            "1646/1646 [==============================] - 41s 25ms/step - loss: 0.0900 - categorical_accuracy: 0.9744 - val_loss: 0.1300 - val_categorical_accuracy: 0.9629\n",
            "Epoch 83/100\n",
            "1646/1646 [==============================] - 39s 23ms/step - loss: 0.0889 - categorical_accuracy: 0.9748 - val_loss: 0.1317 - val_categorical_accuracy: 0.9605\n",
            "Epoch 84/100\n",
            "1646/1646 [==============================] - 41s 25ms/step - loss: 0.0880 - categorical_accuracy: 0.9749 - val_loss: 0.1294 - val_categorical_accuracy: 0.9619\n",
            "Epoch 85/100\n",
            "1646/1646 [==============================] - 41s 25ms/step - loss: 0.0869 - categorical_accuracy: 0.9756 - val_loss: 0.1290 - val_categorical_accuracy: 0.9620\n",
            "Epoch 86/100\n",
            "1646/1646 [==============================] - 42s 25ms/step - loss: 0.0860 - categorical_accuracy: 0.9754 - val_loss: 0.1282 - val_categorical_accuracy: 0.9629\n",
            "Epoch 87/100\n",
            "1646/1646 [==============================] - 43s 26ms/step - loss: 0.0848 - categorical_accuracy: 0.9760 - val_loss: 0.1285 - val_categorical_accuracy: 0.9625\n",
            "Epoch 88/100\n",
            "1646/1646 [==============================] - 42s 25ms/step - loss: 0.0840 - categorical_accuracy: 0.9762 - val_loss: 0.1271 - val_categorical_accuracy: 0.9632\n",
            "Epoch 89/100\n",
            "1646/1646 [==============================] - 42s 25ms/step - loss: 0.0831 - categorical_accuracy: 0.9764 - val_loss: 0.1268 - val_categorical_accuracy: 0.9632\n",
            "Epoch 90/100\n",
            "1646/1646 [==============================] - 42s 25ms/step - loss: 0.0822 - categorical_accuracy: 0.9766 - val_loss: 0.1261 - val_categorical_accuracy: 0.9620\n",
            "Epoch 91/100\n",
            "1646/1646 [==============================] - 40s 24ms/step - loss: 0.0812 - categorical_accuracy: 0.9769 - val_loss: 0.1262 - val_categorical_accuracy: 0.9627\n",
            "Epoch 92/100\n",
            "1646/1646 [==============================] - 41s 25ms/step - loss: 0.0803 - categorical_accuracy: 0.9773 - val_loss: 0.1250 - val_categorical_accuracy: 0.9635\n",
            "Epoch 93/100\n",
            "1646/1646 [==============================] - 41s 25ms/step - loss: 0.0795 - categorical_accuracy: 0.9775 - val_loss: 0.1247 - val_categorical_accuracy: 0.9626\n",
            "Epoch 94/100\n",
            "1646/1646 [==============================] - 41s 25ms/step - loss: 0.0785 - categorical_accuracy: 0.9780 - val_loss: 0.1237 - val_categorical_accuracy: 0.9635\n",
            "Epoch 95/100\n",
            "1646/1646 [==============================] - 41s 25ms/step - loss: 0.0776 - categorical_accuracy: 0.9781 - val_loss: 0.1237 - val_categorical_accuracy: 0.9631\n",
            "Epoch 96/100\n",
            "1646/1646 [==============================] - 39s 24ms/step - loss: 0.0768 - categorical_accuracy: 0.9783 - val_loss: 0.1227 - val_categorical_accuracy: 0.9638\n",
            "Epoch 97/100\n",
            "1646/1646 [==============================] - 39s 24ms/step - loss: 0.0759 - categorical_accuracy: 0.9786 - val_loss: 0.1228 - val_categorical_accuracy: 0.9638\n",
            "Epoch 98/100\n",
            "1646/1646 [==============================] - 40s 25ms/step - loss: 0.0750 - categorical_accuracy: 0.9787 - val_loss: 0.1216 - val_categorical_accuracy: 0.9645\n",
            "Epoch 99/100\n",
            "1646/1646 [==============================] - 40s 24ms/step - loss: 0.0741 - categorical_accuracy: 0.9790 - val_loss: 0.1218 - val_categorical_accuracy: 0.9641\n",
            "Epoch 100/100\n",
            "1646/1646 [==============================] - 38s 23ms/step - loss: 0.0735 - categorical_accuracy: 0.9793 - val_loss: 0.1207 - val_categorical_accuracy: 0.9648\n"
          ]
        }
      ]
    },
    {
      "cell_type": "code",
      "source": [
        "score = model.evaluate(X_train_bal, y_train_balbi, verbose=1)\n",
        "print('Test loss:', score[0])\n",
        "print('Test accuracy:', score[1])"
      ],
      "metadata": {
        "id": "OKLUjZ9dwLSa",
        "outputId": "9f1d76fa-c5f7-4819-8f4a-e13f11c80d3d",
        "colab": {
          "base_uri": "https://localhost:8080/"
        }
      },
      "execution_count": 19,
      "outputs": [
        {
          "output_type": "stream",
          "name": "stdout",
          "text": [
            "  12/1695 [..............................] - ETA: 16s - loss: 0.0636 - categorical_accuracy: 0.9818"
          ]
        },
        {
          "output_type": "stream",
          "name": "stderr",
          "text": [
            "/usr/local/lib/python3.7/dist-packages/tensorflow/python/data/ops/dataset_ops.py:4527: UserWarning: Even though the `tf.config.experimental_run_functions_eagerly` option is set, this option does not apply to tf.data functions. To force eager execution of tf.data functions, please use `tf.data.experimental.enable_debug_mode()`.\n",
            "  \"Even though the `tf.config.experimental_run_functions_eagerly` \"\n"
          ]
        },
        {
          "output_type": "stream",
          "name": "stdout",
          "text": [
            "1695/1695 [==============================] - 17s 10ms/step - loss: 0.0792 - categorical_accuracy: 0.9778\n",
            "Test loss: 0.07922615855932236\n",
            "Test accuracy: 0.9777900576591492\n"
          ]
        }
      ]
    },
    {
      "cell_type": "code",
      "source": [
        "def plot_history(model, history) :\n",
        "  plt.figure(figsize=(10,5))\n",
        "  ax1 = plt.subplot(121)\n",
        "  plt.plot(history.history['loss'])\n",
        "  plt.plot(history.history['val_loss'])\n",
        "  plt.title('Loss vs. epochs')\n",
        "  plt.ylabel('Loss')\n",
        "  plt.xlabel('Epoch')\n",
        "  plt.legend(['Training','Validation'],loc='lower left')\n",
        "  ax2 = plt.subplot(122)\n",
        "  plt.plot(history.history['categorical_accuracy'])\n",
        "  plt.plot(history.history['val_categorical_accuracy'])\n",
        "  plt.title('Accuracy vs. epochs')\n",
        "  plt.ylabel('Accuracy')\n",
        "  plt.xlabel('Epoch')\n",
        "  plt.legend(['Training','Validation'],loc='lower right')\n",
        "  plt.tight_layout()\n",
        "  plt.show()"
      ],
      "metadata": {
        "id": "8AwTYX5awhvv"
      },
      "execution_count": 20,
      "outputs": []
    },
    {
      "cell_type": "code",
      "source": [
        "plot_history(model, history)"
      ],
      "metadata": {
        "id": "3zpZqtDswv8B",
        "outputId": "5fc18ef9-ef52-4443-b668-7caf596d3501",
        "colab": {
          "base_uri": "https://localhost:8080/",
          "height": 369
        }
      },
      "execution_count": 21,
      "outputs": [
        {
          "output_type": "display_data",
          "data": {
            "image/png": "[encoded data removed]",
            "text/plain": [
              "<Figure size 720x360 with 2 Axes>"
            ]
          },
          "metadata": {
            "needs_background": "light"
          }
        }
      ]
    },
    {
      "cell_type": "code",
      "source": [
        "def eval_model_by_class(model, X_test_set, y_test_set):\n",
        "  y_test_pred = model.predict(X_test_set)\n",
        "  y_test_pred_tmp=np.argmax(y_test_pred,axis=1)\n",
        "\n",
        "  y_test_true_tmp = np.argmax(y_test_set, axis = 1)\n",
        "  label_count = np.unique(y_test_true_tmp, return_counts = True)[1]\n",
        "\n",
        "  y_test_true = [label_names[x] for x in y_test_true_tmp]\n",
        "  y_test_pred = [label_names[x] for x in y_test_pred_tmp]\n",
        "\n",
        "  pred_df = pd.DataFrame({'y_true': y_test_true, 'y_pred': y_test_pred})\n",
        "  pred_df['accurate_preds'] = pred_df.y_true == pred_df.y_pred\n",
        "  pred_df = pred_df.groupby(['y_true']).sum().reset_index()\n",
        "  pred_df['label_count'] = label_count\n",
        "  pred_df['class_acc'] = pred_df.accurate_preds / pred_df.label_count\n",
        "  pred_df = pred_df.sort_values(by = 'class_acc').reset_index()\n",
        "  pred_df['overall_acc'] = sum(pred_df.accurate_preds) / sum(pred_df.label_count)\n",
        "  pred_df = pred_df.sort_values('y_true').reset_index(drop = True)\n",
        "\n",
        "  return(pred_df)\n",
        "\n",
        "def find_wrong_preds(model, test_set, y_test_set):\n",
        "  y_test_pred = model.predict(test_set)\n",
        "  y_test_pred_tmp=np.argmax(y_test_pred,axis=1)\n",
        "\n",
        "  y_test_true_tmp = np.argmax(y_test_set, axis = 1)\n",
        "  label_count = np.unique(y_test_true_tmp, return_counts = True)[1]\n",
        "\n",
        "  y_test_true = [label_names[x] for x in y_test_true_tmp]\n",
        "  y_test_pred = [label_names[x] for x in y_test_pred_tmp]\n",
        "\n",
        "  pred_df = pd.DataFrame({'y_true': y_test_true, 'y_pred': y_test_pred})\n",
        "  pred_df['accurate_preds'] = pred_df.y_true == pred_df.y_pred\n",
        "  # pred_df = pred_df.sort_values('y_true').reset_index(drop = True)\n",
        "  pred_df = pred_df.sort_values('y_true')\n",
        "\n",
        "  return(pred_df)"
      ],
      "metadata": {
        "id": "s2Rl1Qmow-J_"
      },
      "execution_count": 30,
      "outputs": []
    },
    {
      "cell_type": "code",
      "source": [
        "eval_model_by_class(model, X_test_scaled, y_test_classbi)"
      ],
      "metadata": {
        "id": "xIhhJIGfw_tn",
        "outputId": "84ee2242-5725-4666-9573-9a17757637db",
        "colab": {
          "base_uri": "https://localhost:8080/",
          "height": 418
        }
      },
      "execution_count": 26,
      "outputs": [
        {
          "output_type": "stream",
          "name": "stderr",
          "text": [
            "/usr/local/lib/python3.7/dist-packages/tensorflow/python/data/ops/dataset_ops.py:4527: UserWarning: Even though the `tf.config.experimental_run_functions_eagerly` option is set, this option does not apply to tf.data functions. To force eager execution of tf.data functions, please use `tf.data.experimental.enable_debug_mode()`.\n",
            "  \"Even though the `tf.config.experimental_run_functions_eagerly` \"\n"
          ]
        },
        {
          "output_type": "execute_result",
          "data": {
            "text/html": [
              "\n",
              "  <div id=\"df-6560545c-b279-44c2-84d7-af7b5d399291\">\n",
              "    <div class=\"colab-df-container\">\n",
              "      <div>\n",
              "<style scoped>\n",
              "    .dataframe tbody tr th:only-of-type {\n",
              "        vertical-align: middle;\n",
              "    }\n",
              "\n",
              "    .dataframe tbody tr th {\n",
              "        vertical-align: top;\n",
              "    }\n",
              "\n",
              "    .dataframe thead th {\n",
              "        text-align: right;\n",
              "    }\n",
              "</style>\n",
              "<table border=\"1\" class=\"dataframe\">\n",
              "  <thead>\n",
              "    <tr style=\"text-align: right;\">\n",
              "      <th></th>\n",
              "      <th>index</th>\n",
              "      <th>y_true</th>\n",
              "      <th>y_pred</th>\n",
              "      <th>accurate_preds</th>\n",
              "      <th>label_count</th>\n",
              "      <th>class_acc</th>\n",
              "      <th>overall_acc</th>\n",
              "    </tr>\n",
              "  </thead>\n",
              "  <tbody>\n",
              "    <tr>\n",
              "      <th>0</th>\n",
              "      <td>0</td>\n",
              "      <td>0</td>\n",
              "      <td>88</td>\n",
              "      <td>964</td>\n",
              "      <td>980</td>\n",
              "      <td>0.983673</td>\n",
              "      <td>0.9659</td>\n",
              "    </tr>\n",
              "    <tr>\n",
              "      <th>1</th>\n",
              "      <td>1</td>\n",
              "      <td>1</td>\n",
              "      <td>1215</td>\n",
              "      <td>1118</td>\n",
              "      <td>1135</td>\n",
              "      <td>0.985022</td>\n",
              "      <td>0.9659</td>\n",
              "    </tr>\n",
              "    <tr>\n",
              "      <th>2</th>\n",
              "      <td>2</td>\n",
              "      <td>2</td>\n",
              "      <td>2182</td>\n",
              "      <td>995</td>\n",
              "      <td>1032</td>\n",
              "      <td>0.964147</td>\n",
              "      <td>0.9659</td>\n",
              "    </tr>\n",
              "    <tr>\n",
              "      <th>3</th>\n",
              "      <td>3</td>\n",
              "      <td>3</td>\n",
              "      <td>3131</td>\n",
              "      <td>973</td>\n",
              "      <td>1010</td>\n",
              "      <td>0.963366</td>\n",
              "      <td>0.9659</td>\n",
              "    </tr>\n",
              "    <tr>\n",
              "      <th>4</th>\n",
              "      <td>4</td>\n",
              "      <td>4</td>\n",
              "      <td>3996</td>\n",
              "      <td>952</td>\n",
              "      <td>982</td>\n",
              "      <td>0.969450</td>\n",
              "      <td>0.9659</td>\n",
              "    </tr>\n",
              "    <tr>\n",
              "      <th>5</th>\n",
              "      <td>5</td>\n",
              "      <td>5</td>\n",
              "      <td>4453</td>\n",
              "      <td>850</td>\n",
              "      <td>892</td>\n",
              "      <td>0.952915</td>\n",
              "      <td>0.9659</td>\n",
              "    </tr>\n",
              "    <tr>\n",
              "      <th>6</th>\n",
              "      <td>6</td>\n",
              "      <td>6</td>\n",
              "      <td>5664</td>\n",
              "      <td>926</td>\n",
              "      <td>958</td>\n",
              "      <td>0.966597</td>\n",
              "      <td>0.9659</td>\n",
              "    </tr>\n",
              "    <tr>\n",
              "      <th>7</th>\n",
              "      <td>7</td>\n",
              "      <td>7</td>\n",
              "      <td>7075</td>\n",
              "      <td>988</td>\n",
              "      <td>1028</td>\n",
              "      <td>0.961089</td>\n",
              "      <td>0.9659</td>\n",
              "    </tr>\n",
              "    <tr>\n",
              "      <th>8</th>\n",
              "      <td>8</td>\n",
              "      <td>8</td>\n",
              "      <td>7640</td>\n",
              "      <td>936</td>\n",
              "      <td>974</td>\n",
              "      <td>0.960986</td>\n",
              "      <td>0.9659</td>\n",
              "    </tr>\n",
              "    <tr>\n",
              "      <th>9</th>\n",
              "      <td>9</td>\n",
              "      <td>9</td>\n",
              "      <td>8834</td>\n",
              "      <td>957</td>\n",
              "      <td>1009</td>\n",
              "      <td>0.948464</td>\n",
              "      <td>0.9659</td>\n",
              "    </tr>\n",
              "  </tbody>\n",
              "</table>\n",
              "</div>\n",
              "      <button class=\"colab-df-convert\" onclick=\"convertToInteractive('df-6560545c-b279-44c2-84d7-af7b5d399291')\"\n",
              "              title=\"Convert this dataframe to an interactive table.\"\n",
              "              style=\"display:none;\">\n",
              "        \n",
              "  <svg xmlns=\"http://www.w3.org/2000/svg\" height=\"24px\"viewBox=\"0 0 24 24\"\n",
              "       width=\"24px\">\n",
              "    <path d=\"M0 0h24v24H0V0z\" fill=\"none\"/>\n",
              "    <path d=\"M18.56 5.44l.94 2.06.94-2.06 2.06-.94-2.06-.94-.94-2.06-.94 2.06-2.06.94zm-11 1L8.5 8.5l.94-2.06 2.06-.94-2.06-.94L8.5 2.5l-.94 2.06-2.06.94zm10 10l.94 2.06.94-2.06 2.06-.94-2.06-.94-.94-2.06-.94 2.06-2.06.94z\"/><path d=\"M17.41 7.96l-1.37-1.37c-.4-.4-.92-.59-1.43-.59-.52 0-1.04.2-1.43.59L10.3 9.45l-7.72 7.72c-.78.78-.78 2.05 0 2.83L4 21.41c.39.39.9.59 1.41.59.51 0 1.02-.2 1.41-.59l7.78-7.78 2.81-2.81c.8-.78.8-2.07 0-2.86zM5.41 20L4 18.59l7.72-7.72 1.47 1.35L5.41 20z\"/>\n",
              "  </svg>\n",
              "      </button>\n",
              "      \n",
              "  <style>\n",
              "    .colab-df-container {\n",
              "      display:flex;\n",
              "      flex-wrap:wrap;\n",
              "      gap: 12px;\n",
              "    }\n",
              "\n",
              "    .colab-df-convert {\n",
              "      background-color: #E8F0FE;\n",
              "      border: none;\n",
              "      border-radius: 50%;\n",
              "      cursor: pointer;\n",
              "      display: none;\n",
              "      fill: #1967D2;\n",
              "      height: 32px;\n",
              "      padding: 0 0 0 0;\n",
              "      width: 32px;\n",
              "    }\n",
              "\n",
              "    .colab-df-convert:hover {\n",
              "      background-color: #E2EBFA;\n",
              "      box-shadow: 0px 1px 2px rgba(60, 64, 67, 0.3), 0px 1px 3px 1px rgba(60, 64, 67, 0.15);\n",
              "      fill: #174EA6;\n",
              "    }\n",
              "\n",
              "    [theme=dark] .colab-df-convert {\n",
              "      background-color: #3B4455;\n",
              "      fill: #D2E3FC;\n",
              "    }\n",
              "\n",
              "    [theme=dark] .colab-df-convert:hover {\n",
              "      background-color: #434B5C;\n",
              "      box-shadow: 0px 1px 3px 1px rgba(0, 0, 0, 0.15);\n",
              "      filter: drop-shadow(0px 1px 2px rgba(0, 0, 0, 0.3));\n",
              "      fill: #FFFFFF;\n",
              "    }\n",
              "  </style>\n",
              "\n",
              "      <script>\n",
              "        const buttonEl =\n",
              "          document.querySelector('#df-6560545c-b279-44c2-84d7-af7b5d399291 button.colab-df-convert');\n",
              "        buttonEl.style.display =\n",
              "          google.colab.kernel.accessAllowed ? 'block' : 'none';\n",
              "\n",
              "        async function convertToInteractive(key) {\n",
              "          const element = document.querySelector('#df-6560545c-b279-44c2-84d7-af7b5d399291');\n",
              "          const dataTable =\n",
              "            await google.colab.kernel.invokeFunction('convertToInteractive',\n",
              "                                                     [key], {});\n",
              "          if (!dataTable) return;\n",
              "\n",
              "          const docLinkHtml = 'Like what you see? Visit the ' +\n",
              "            '<a target=\"_blank\" href=https://colab.research.google.com/notebooks/data_table.ipynb>data table notebook</a>'\n",
              "            + ' to learn more about interactive tables.';\n",
              "          element.innerHTML = '';\n",
              "          dataTable['output_type'] = 'display_data';\n",
              "          await google.colab.output.renderOutput(dataTable, element);\n",
              "          const docLink = document.createElement('div');\n",
              "          docLink.innerHTML = docLinkHtml;\n",
              "          element.appendChild(docLink);\n",
              "        }\n",
              "      </script>\n",
              "    </div>\n",
              "  </div>\n",
              "  "
            ],
            "text/plain": [
              "   index  y_true  y_pred  accurate_preds  label_count  class_acc  overall_acc\n",
              "0      0       0      88             964          980   0.983673       0.9659\n",
              "1      1       1    1215            1118         1135   0.985022       0.9659\n",
              "2      2       2    2182             995         1032   0.964147       0.9659\n",
              "3      3       3    3131             973         1010   0.963366       0.9659\n",
              "4      4       4    3996             952          982   0.969450       0.9659\n",
              "5      5       5    4453             850          892   0.952915       0.9659\n",
              "6      6       6    5664             926          958   0.966597       0.9659\n",
              "7      7       7    7075             988         1028   0.961089       0.9659\n",
              "8      8       8    7640             936          974   0.960986       0.9659\n",
              "9      9       9    8834             957         1009   0.948464       0.9659"
            ]
          },
          "metadata": {},
          "execution_count": 26
        }
      ]
    },
    {
      "cell_type": "code",
      "source": [
        "find_wrong_preds(model, X_test_scaled, y_test_classbi)"
      ],
      "metadata": {
        "id": "a2JlOPb_xep4",
        "outputId": "34c01f7b-ae29-46f9-f6aa-08badf964003",
        "colab": {
          "base_uri": "https://localhost:8080/",
          "height": 478
        }
      },
      "execution_count": 31,
      "outputs": [
        {
          "output_type": "stream",
          "name": "stderr",
          "text": [
            "/usr/local/lib/python3.7/dist-packages/tensorflow/python/data/ops/dataset_ops.py:4527: UserWarning: Even though the `tf.config.experimental_run_functions_eagerly` option is set, this option does not apply to tf.data functions. To force eager execution of tf.data functions, please use `tf.data.experimental.enable_debug_mode()`.\n",
            "  \"Even though the `tf.config.experimental_run_functions_eagerly` \"\n"
          ]
        },
        {
          "output_type": "execute_result",
          "data": {
            "text/html": [
              "\n",
              "  <div id=\"df-70d9161c-5135-424a-8e8c-b71895937bff\">\n",
              "    <div class=\"colab-df-container\">\n",
              "      <div>\n",
              "<style scoped>\n",
              "    .dataframe tbody tr th:only-of-type {\n",
              "        vertical-align: middle;\n",
              "    }\n",
              "\n",
              "    .dataframe tbody tr th {\n",
              "        vertical-align: top;\n",
              "    }\n",
              "\n",
              "    .dataframe thead th {\n",
              "        text-align: right;\n",
              "    }\n",
              "</style>\n",
              "<table border=\"1\" class=\"dataframe\">\n",
              "  <thead>\n",
              "    <tr style=\"text-align: right;\">\n",
              "      <th></th>\n",
              "      <th>y_true</th>\n",
              "      <th>y_pred</th>\n",
              "      <th>accurate_preds</th>\n",
              "    </tr>\n",
              "  </thead>\n",
              "  <tbody>\n",
              "    <tr>\n",
              "      <th>1289</th>\n",
              "      <td>0</td>\n",
              "      <td>0</td>\n",
              "      <td>True</td>\n",
              "    </tr>\n",
              "    <tr>\n",
              "      <th>5276</th>\n",
              "      <td>0</td>\n",
              "      <td>0</td>\n",
              "      <td>True</td>\n",
              "    </tr>\n",
              "    <tr>\n",
              "      <th>7630</th>\n",
              "      <td>0</td>\n",
              "      <td>0</td>\n",
              "      <td>True</td>\n",
              "    </tr>\n",
              "    <tr>\n",
              "      <th>9172</th>\n",
              "      <td>0</td>\n",
              "      <td>0</td>\n",
              "      <td>True</td>\n",
              "    </tr>\n",
              "    <tr>\n",
              "      <th>1243</th>\n",
              "      <td>0</td>\n",
              "      <td>0</td>\n",
              "      <td>True</td>\n",
              "    </tr>\n",
              "    <tr>\n",
              "      <th>...</th>\n",
              "      <td>...</td>\n",
              "      <td>...</td>\n",
              "      <td>...</td>\n",
              "    </tr>\n",
              "    <tr>\n",
              "      <th>2020</th>\n",
              "      <td>9</td>\n",
              "      <td>9</td>\n",
              "      <td>True</td>\n",
              "    </tr>\n",
              "    <tr>\n",
              "      <th>2026</th>\n",
              "      <td>9</td>\n",
              "      <td>1</td>\n",
              "      <td>False</td>\n",
              "    </tr>\n",
              "    <tr>\n",
              "      <th>7662</th>\n",
              "      <td>9</td>\n",
              "      <td>9</td>\n",
              "      <td>True</td>\n",
              "    </tr>\n",
              "    <tr>\n",
              "      <th>7643</th>\n",
              "      <td>9</td>\n",
              "      <td>9</td>\n",
              "      <td>True</td>\n",
              "    </tr>\n",
              "    <tr>\n",
              "      <th>2306</th>\n",
              "      <td>9</td>\n",
              "      <td>9</td>\n",
              "      <td>True</td>\n",
              "    </tr>\n",
              "  </tbody>\n",
              "</table>\n",
              "<p>10000 rows × 3 columns</p>\n",
              "</div>\n",
              "      <button class=\"colab-df-convert\" onclick=\"convertToInteractive('df-70d9161c-5135-424a-8e8c-b71895937bff')\"\n",
              "              title=\"Convert this dataframe to an interactive table.\"\n",
              "              style=\"display:none;\">\n",
              "        \n",
              "  <svg xmlns=\"http://www.w3.org/2000/svg\" height=\"24px\"viewBox=\"0 0 24 24\"\n",
              "       width=\"24px\">\n",
              "    <path d=\"M0 0h24v24H0V0z\" fill=\"none\"/>\n",
              "    <path d=\"M18.56 5.44l.94 2.06.94-2.06 2.06-.94-2.06-.94-.94-2.06-.94 2.06-2.06.94zm-11 1L8.5 8.5l.94-2.06 2.06-.94-2.06-.94L8.5 2.5l-.94 2.06-2.06.94zm10 10l.94 2.06.94-2.06 2.06-.94-2.06-.94-.94-2.06-.94 2.06-2.06.94z\"/><path d=\"M17.41 7.96l-1.37-1.37c-.4-.4-.92-.59-1.43-.59-.52 0-1.04.2-1.43.59L10.3 9.45l-7.72 7.72c-.78.78-.78 2.05 0 2.83L4 21.41c.39.39.9.59 1.41.59.51 0 1.02-.2 1.41-.59l7.78-7.78 2.81-2.81c.8-.78.8-2.07 0-2.86zM5.41 20L4 18.59l7.72-7.72 1.47 1.35L5.41 20z\"/>\n",
              "  </svg>\n",
              "      </button>\n",
              "      \n",
              "  <style>\n",
              "    .colab-df-container {\n",
              "      display:flex;\n",
              "      flex-wrap:wrap;\n",
              "      gap: 12px;\n",
              "    }\n",
              "\n",
              "    .colab-df-convert {\n",
              "      background-color: #E8F0FE;\n",
              "      border: none;\n",
              "      border-radius: 50%;\n",
              "      cursor: pointer;\n",
              "      display: none;\n",
              "      fill: #1967D2;\n",
              "      height: 32px;\n",
              "      padding: 0 0 0 0;\n",
              "      width: 32px;\n",
              "    }\n",
              "\n",
              "    .colab-df-convert:hover {\n",
              "      background-color: #E2EBFA;\n",
              "      box-shadow: 0px 1px 2px rgba(60, 64, 67, 0.3), 0px 1px 3px 1px rgba(60, 64, 67, 0.15);\n",
              "      fill: #174EA6;\n",
              "    }\n",
              "\n",
              "    [theme=dark] .colab-df-convert {\n",
              "      background-color: #3B4455;\n",
              "      fill: #D2E3FC;\n",
              "    }\n",
              "\n",
              "    [theme=dark] .colab-df-convert:hover {\n",
              "      background-color: #434B5C;\n",
              "      box-shadow: 0px 1px 3px 1px rgba(0, 0, 0, 0.15);\n",
              "      filter: drop-shadow(0px 1px 2px rgba(0, 0, 0, 0.3));\n",
              "      fill: #FFFFFF;\n",
              "    }\n",
              "  </style>\n",
              "\n",
              "      <script>\n",
              "        const buttonEl =\n",
              "          document.querySelector('#df-70d9161c-5135-424a-8e8c-b71895937bff button.colab-df-convert');\n",
              "        buttonEl.style.display =\n",
              "          google.colab.kernel.accessAllowed ? 'block' : 'none';\n",
              "\n",
              "        async function convertToInteractive(key) {\n",
              "          const element = document.querySelector('#df-70d9161c-5135-424a-8e8c-b71895937bff');\n",
              "          const dataTable =\n",
              "            await google.colab.kernel.invokeFunction('convertToInteractive',\n",
              "                                                     [key], {});\n",
              "          if (!dataTable) return;\n",
              "\n",
              "          const docLinkHtml = 'Like what you see? Visit the ' +\n",
              "            '<a target=\"_blank\" href=https://colab.research.google.com/notebooks/data_table.ipynb>data table notebook</a>'\n",
              "            + ' to learn more about interactive tables.';\n",
              "          element.innerHTML = '';\n",
              "          dataTable['output_type'] = 'display_data';\n",
              "          await google.colab.output.renderOutput(dataTable, element);\n",
              "          const docLink = document.createElement('div');\n",
              "          docLink.innerHTML = docLinkHtml;\n",
              "          element.appendChild(docLink);\n",
              "        }\n",
              "      </script>\n",
              "    </div>\n",
              "  </div>\n",
              "  "
            ],
            "text/plain": [
              "      y_true  y_pred  accurate_preds\n",
              "1289       0       0            True\n",
              "5276       0       0            True\n",
              "7630       0       0            True\n",
              "9172       0       0            True\n",
              "1243       0       0            True\n",
              "...      ...     ...             ...\n",
              "2020       9       9            True\n",
              "2026       9       1           False\n",
              "7662       9       9            True\n",
              "7643       9       9            True\n",
              "2306       9       9            True\n",
              "\n",
              "[10000 rows x 3 columns]"
            ]
          },
          "metadata": {},
          "execution_count": 31
        }
      ]
    },
    {
      "cell_type": "code",
      "source": [
        "# Alongside the image and label, show each model’s predictive distribution as a bar chart, \n",
        "num_test_images = X_grey_test.shape[0]\n",
        "random_inx = np.random.choice(num_test_images, 5)\n",
        "random_test_images = X_grey_test[random_inx, ...]\n",
        "random_test_labels = ytest_label[random_inx, ...]\n",
        "16\n",
        "predictions = model.predict(random_test_images)\n",
        "# predictions_cnn = model_cnn.predict(random_test_images)\n",
        "\n",
        "fig, axes = plt.subplots(5, 2, figsize=(16, 12))\n",
        "fig.subplots_adjust(hspace=0.4, wspace=-0.2)\n",
        "for i, (prediction, image, label) in enumerate(zip(predictions, random_test_images, random_test_labels)):\n",
        "  axes[i, 0].imshow(np.squeeze(image), cmap = plt.cm.gist_gray)\n",
        "  axes[i, 0].get_xaxis().set_visible(False)\n",
        "  axes[i, 0].get_yaxis().set_visible(False)\n",
        "  axes[i, 0].text(10., -1.5, f'Digit {label}')\n",
        "  axes[i, 1].bar(np.arange(len(prediction)), prediction)\n",
        "  axes[i, 1].set_xticks(np.arange(len(prediction)))\n",
        "  axes[i, 1].set_title(f\"Categorical distribution. Model prediction: {np.argmax(prediction)}\")"
      ],
      "metadata": {
        "id": "10HGdqaL0Ie3",
        "outputId": "e93b261a-b843-4b68-d01f-5f7d2a7ad4a8",
        "colab": {
          "base_uri": "https://localhost:8080/",
          "height": 771
        }
      },
      "execution_count": 38,
      "outputs": [
        {
          "output_type": "stream",
          "name": "stderr",
          "text": [
            "/usr/local/lib/python3.7/dist-packages/tensorflow/python/data/ops/dataset_ops.py:4527: UserWarning: Even though the `tf.config.experimental_run_functions_eagerly` option is set, this option does not apply to tf.data functions. To force eager execution of tf.data functions, please use `tf.data.experimental.enable_debug_mode()`.\n",
            "  \"Even though the `tf.config.experimental_run_functions_eagerly` \"\n"
          ]
        },
        {
          "output_type": "display_data",
          "data": {
            "image/png": "[encoded data removed]",
            "text/plain": [
              "<Figure size 1152x864 with 10 Axes>"
            ]
          },
          "metadata": {
            "needs_background": "light"
          }
        }
      ]
    },
    {
      "cell_type": "code",
      "source": [
        "# Alongside the image and label, show each model’s predictive distribution as a bar chart, \n",
        "num_test_images = X_test_image.shape[0]\n",
        "random_inx = np.random.choice(num_test_images, 5)\n",
        "random_test_images = X_test_image[random_inx, ...]\n",
        "random_test_labels = ytest_label[random_inx, ...]\n",
        "16\n",
        "predictions = model.predict(random_test_images)\n",
        "# predictions_cnn = model_cnn.predict(random_test_images)\n",
        "\n",
        "fig, axes = plt.subplots(5, 2, figsize=(16, 12))\n",
        "fig.subplots_adjust(hspace=0.4, wspace=-0.2)\n",
        "for i, (prediction, image, label) in enumerate(zip(predictions, random_test_images, random_test_labels)):\n",
        "  axes[i, 0].imshow(np.squeeze(image), cmap = plt.cm.gist_gray)\n",
        "  axes[i, 0].get_xaxis().set_visible(False)\n",
        "  axes[i, 0].get_yaxis().set_visible(False)\n",
        "  axes[i, 0].text(10., -1.5, f'Digit {label}')\n",
        "  axes[i, 1].bar(np.arange(len(prediction)), prediction)\n",
        "  axes[i, 1].set_xticks(np.arange(len(prediction)))\n",
        "  axes[i, 1].set_title(f\"Categorical distribution. Model prediction: {np.argmax(prediction)}\")"
      ],
      "metadata": {
        "id": "iJ_B5ekx35d2",
        "outputId": "a609e881-de3e-403b-fb35-83d3715dce3e",
        "colab": {
          "base_uri": "https://localhost:8080/",
          "height": 771
        }
      },
      "execution_count": 39,
      "outputs": [
        {
          "output_type": "stream",
          "name": "stderr",
          "text": [
            "/usr/local/lib/python3.7/dist-packages/tensorflow/python/data/ops/dataset_ops.py:4527: UserWarning: Even though the `tf.config.experimental_run_functions_eagerly` option is set, this option does not apply to tf.data functions. To force eager execution of tf.data functions, please use `tf.data.experimental.enable_debug_mode()`.\n",
            "  \"Even though the `tf.config.experimental_run_functions_eagerly` \"\n"
          ]
        },
        {
          "output_type": "display_data",
          "data": {
            "image/png": "[encoded data removed]",
            "text/plain": [
              "<Figure size 1152x864 with 10 Axes>"
            ]
          },
          "metadata": {
            "needs_background": "light"
          }
        }
      ]
    },
    {
      "cell_type": "code",
      "source": [
        "model.save_weights(\"/content/sample_data\")"
      ],
      "metadata": {
        "id": "168KUer-4F8p"
      },
      "execution_count": 40,
      "outputs": []
    },
    {
      "cell_type": "code",
      "source": [
        "!ls"
      ],
      "metadata": {
        "id": "-mCGy2MH5yu2",
        "outputId": "7c1cb9ba-e679-4804-a014-29e3b1fb13fe",
        "colab": {
          "base_uri": "https://localhost:8080/"
        }
      },
      "execution_count": 41,
      "outputs": [
        {
          "output_type": "stream",
          "name": "stdout",
          "text": [
            "checkpoint  sample_data  sample_data.data-00000-of-00001  sample_data.index\n"
          ]
        }
      ]
    }
  ]
}