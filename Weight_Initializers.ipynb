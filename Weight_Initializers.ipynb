{
  "nbformat": 4,
  "nbformat_minor": 0,
  "metadata": {
    "colab": {
      "name": "Weight Initializers.ipynb",
      "provenance": [],
      "authorship_tag": "ABX9TyOzbg4+AgJxVW+DPjy5W3CA",
      "include_colab_link": true
    },
    "kernelspec": {
      "name": "python3",
      "display_name": "Python 3"
    },
    "language_info": {
      "name": "python"
    }
  },
  "cells": [
    {
      "cell_type": "markdown",
      "metadata": {
        "id": "view-in-github",
        "colab_type": "text"
      },
      "source": [
        "<a href=\"https://colab.research.google.com/github/DommiiUdomp/-/blob/main/Weight_Initializers.ipynb\" target=\"_parent\"><img src=\"https://colab.research.google.com/assets/colab-badge.svg\" alt=\"Open In Colab\"/></a>"
      ]
    },
    {
      "cell_type": "markdown",
      "metadata": {
        "id": "BjNsNu3REcU4"
      },
      "source": [
        "# **Weight and bias initialisers**\n",
        "\n",
        "\n"
      ]
    },
    {
      "cell_type": "markdown",
      "metadata": {
        "id": "nYsRGke7ErBg"
      },
      "source": [
        "*In this reading we investigate different ways to initialise weights and biases in the layers of neural networks.*"
      ]
    },
    {
      "cell_type": "code",
      "metadata": {
        "id": "25-Fcr7TEuwW"
      },
      "source": [
        "%matplotlib inline\n",
        "import tensorflow as tf\n",
        "import pandas as pd"
      ],
      "execution_count": null,
      "outputs": []
    },
    {
      "cell_type": "markdown",
      "metadata": {
        "id": "hLeDwBW_E5Lf"
      },
      "source": [
        "*The different initialisations available in Keras.*"
      ]
    },
    {
      "cell_type": "code",
      "metadata": {
        "id": "bacSYjAkE8Lu"
      },
      "source": [
        "from tensorflow.keras.models import Sequential\n",
        "from tensorflow.keras.layers import Flatten, Dense, Conv1D, MaxPooling1D"
      ],
      "execution_count": null,
      "outputs": []
    },
    {
      "cell_type": "code",
      "metadata": {
        "id": "TovhBOsEF5UI"
      },
      "source": [
        "model = Sequential ( [ \n",
        "                      Conv1D ( filters = 1 , kernel_size = 3, input_shape = (128, 64) , kernel_initializer= 'random_uniform' , bias_initializer= 'zeros' ,\n",
        "                              activation = 'relu') ,\n",
        "                      MaxPooling1D ( pool_size= 4) ,\n",
        "                      Flatten () , \n",
        "                      Dense (64, kernel_initializer= 'he_uniform' , bias_initializer = 'ones' , activation = 'relu')\n",
        "])"
      ],
      "execution_count": null,
      "outputs": []
    },
    {
      "cell_type": "code",
      "metadata": {
        "id": "hL76gRS3G3bi"
      },
      "source": [
        "#add some layers to the model\n",
        "\n",
        "model.add ( Dense ( 64, kernel_initializer= tf.keras.initializers.RandomNormal (mean = 0.0 , stddev= 0.05) , \n",
        "                   bias_initializer = tf.keras.initializers.Constant (value = 0.4) ,\n",
        "                   activation = 'relu' )  )\n",
        "model.add ( Dense (8 , kernel_initializer= tf.keras.initializers.Orthogonal (gain = 1.0 , seed = None) , \n",
        "                   bias_initializer = tf.keras.initializers.Constant (value = 0.4) ,\n",
        "                   activation = 'relu' )  )"
      ],
      "execution_count": null,
      "outputs": []
    },
    {
      "cell_type": "markdown",
      "metadata": {
        "id": "dSw3tFEJIEf3"
      },
      "source": [
        "*Custom weight and bias initialisers*"
      ]
    },
    {
      "cell_type": "code",
      "metadata": {
        "id": "SQiS5hfKIR8X"
      },
      "source": [
        "import tensorflow.keras.backend as K"
      ],
      "execution_count": null,
      "outputs": []
    },
    {
      "cell_type": "code",
      "metadata": {
        "id": "ZseUaiVYIUva"
      },
      "source": [
        "# Define a custom initializer\n",
        "\n",
        "def my_init(shape, dtype=None):\n",
        "    return K.random_normal(shape, dtype=dtype)\n",
        "\n",
        "model.add(Dense(64, kernel_initializer=my_init))"
      ],
      "execution_count": null,
      "outputs": []
    },
    {
      "cell_type": "code",
      "metadata": {
        "colab": {
          "base_uri": "https://localhost:8080/"
        },
        "id": "KL87Jy2eEn67",
        "outputId": "5be718d6-534e-466e-b07b-44d9a2536e91"
      },
      "source": [
        "model.summary()"
      ],
      "execution_count": null,
      "outputs": [
        {
          "output_type": "stream",
          "name": "stdout",
          "text": [
            "Model: \"sequential\"\n",
            "_________________________________________________________________\n",
            "Layer (type)                 Output Shape              Param #   \n",
            "=================================================================\n",
            "conv1d (Conv1D)              (None, 126, 1)            193       \n",
            "_________________________________________________________________\n",
            "max_pooling1d (MaxPooling1D) (None, 31, 1)             0         \n",
            "_________________________________________________________________\n",
            "flatten (Flatten)            (None, 31)                0         \n",
            "_________________________________________________________________\n",
            "dense (Dense)                (None, 64)                2048      \n",
            "_________________________________________________________________\n",
            "dense_1 (Dense)              (None, 64)                4160      \n",
            "_________________________________________________________________\n",
            "dense_2 (Dense)              (None, 8)                 520       \n",
            "_________________________________________________________________\n",
            "dense_3 (Dense)              (None, 64)                576       \n",
            "=================================================================\n",
            "Total params: 7,497\n",
            "Trainable params: 7,497\n",
            "Non-trainable params: 0\n",
            "_________________________________________________________________\n"
          ]
        }
      ]
    },
    {
      "cell_type": "code",
      "metadata": {
        "id": "VlbWOCwDIigx"
      },
      "source": [
        "import matplotlib.pyplot as plt\n"
      ],
      "execution_count": null,
      "outputs": []
    },
    {
      "cell_type": "code",
      "metadata": {
        "colab": {
          "base_uri": "https://localhost:8080/",
          "height": 934
        },
        "id": "pG92V8yGI0oB",
        "outputId": "948a24c2-2106-4778-af66-754112d186ac"
      },
      "source": [
        "#plot histogram of weight and bias values\n",
        "\n",
        "fig, axes = plt.subplots ( 5, 2 , figsize = (12, 16))\n",
        "fig.subplots_adjust (hspace = 0.5 , wspace = 0.5)\n",
        "\n",
        "# Filter out the pooling and flatten layers, that don't have any weights\n",
        "weight_layers = [layer for layer in model.layers if len(layer.weights) > 0]\n",
        "\n",
        "for i, layer in enumerate(weight_layers) :\n",
        "  for j in [0,1] :\n",
        "    axes [i,j].hist( layer.weights [j].numpy().flatten() , align = 'left')\n",
        "    axes [i,j].set_title( layer.weights[j].name)"
      ],
      "execution_count": null,
      "outputs": [
        {
          "output_type": "display_data",
          "data": {
            "image/png": "[encoded data removed]",
            "text/plain": [
              "<Figure size 864x1152 with 10 Axes>"
            ]
          },
          "metadata": {
            "needs_background": "light"
          }
        }
      ]
    },
    {
      "cell_type": "markdown",
      "metadata": {
        "id": "8GPy5qaHKMUn"
      },
      "source": [
        "Arguments\n",
        "\n",
        "**RandomNormal class**\n",
        "\n",
        "***mean***: a python scalar or a scalar tensor. Mean of the random values to generate.\n",
        "\n",
        "***stddev***: a python scalar or a scalar tensor. Standard deviation of the random values to generate.\n",
        "\n",
        "***seed***: A Python integer. An initializer created with a given seed will always produce the same random tensor for a given shape and dtype.\n",
        "\n",
        "**RandomUniform class**\n",
        "\n",
        "***minval***: A python scalar or a scalar tensor. Lower bound of the range of random values to generate (inclusive).\n",
        "\n",
        "***maxval***: A python scalar or a scalar tensor. Upper bound of the range of random values to generate (exclusive).\n",
        "\n",
        "***seed***\n",
        "\n",
        "**TruncatedNormal class**\n",
        "\n",
        "mean: \n",
        "stddev: \n",
        "seed: \n",
        "\n",
        "Zeros class // Ones class // GlorotNormal class // GlorotUniform class // HeNormal class // HeUniform class // Identity class // Orthogonal class // Constant class // VarianceScaling class // \n"
      ]
    },
    {
      "cell_type": "code",
      "metadata": {
        "id": "5ZP1a4DY0NiJ"
      },
      "source": [
        ""
      ],
      "execution_count": null,
      "outputs": []
    },
    {
      "cell_type": "code",
      "metadata": {
        "id": "788Pqpq6zyWG"
      },
      "source": [
        ""
      ],
      "execution_count": null,
      "outputs": []
    },
    {
      "cell_type": "code",
      "metadata": {
        "id": "bn6fvucHyniw"
      },
      "source": [
        ""
      ],
      "execution_count": null,
      "outputs": []
    }
  ]
}